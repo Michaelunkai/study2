{
 "cells": [
  {
   "cell_type": "code",
   "execution_count": null,
   "id": "git-clone",
   "metadata": {
    "colab": {
     "base_uri": "https://localhost:8080/"
    },
    "id": "git-clone",
    "outputId": "b9280b5b-c98e-4c4d-a510-3dedd68e6b4b"
   },
   "outputs": [],
   "source": [
    "!git clone https://github.com/MycroftAI/mycroft-core.git"
   ]
  },
  {
   "cell_type": "code",
   "execution_count": null,
   "id": "change-directory",
   "metadata": {
    "colab": {
     "base_uri": "https://localhost:8080/"
    },
    "id": "change-directory",
    "outputId": "cae69351-c5b1-4fc4-98ee-754034c75a6b"
   },
   "outputs": [],
   "source": [
    "%cd mycroft-core"
   ]
  },
  {
   "cell_type": "code",
   "execution_count": null,
   "id": "apt-get-update",
   "metadata": {
    "colab": {
     "base_uri": "https://localhost:8080/"
    },
    "id": "apt-get-update",
    "outputId": "6668e35a-9ca6-4ca2-a991-42f96f8945b9"
   },
   "outputs": [],
   "source": [
    "!apt-get update"
   ]
  },
  {
   "cell_type": "code",
   "execution_count": null,
   "id": "apt-get-install",
   "metadata": {
    "colab": {
     "base_uri": "https://localhost:8080/"
    },
    "id": "apt-get-install",
    "outputId": "5b7a7301-e874-4c62-92f2-b38aae974737"
   },
   "outputs": [],
   "source": [
    "!apt-get install git python3 python3-pip libfann-dev build-essential swig portaudio19-dev libssl-dev -y"
   ]
  },
  {
   "cell_type": "code",
   "execution_count": null,
   "id": "upgrade-pip",
   "metadata": {
    "colab": {
     "base_uri": "https://localhost:8080/"
    },
    "id": "upgrade-pip",
    "outputId": "fa4fb182-9c4c-462a-cd09-4645d9dc9e5a"
   },
   "outputs": [],
   "source": [
    "!pip install --upgrade pip"
   ]
  },
  {
   "cell_type": "code",
   "execution_count": null,
   "id": "run-dev-setup",
   "metadata": {
    "colab": {
     "base_uri": "https://localhost:8080/"
    },
    "id": "run-dev-setup",
    "outputId": "2f31edc8-9e7c-4740-dfec-3021a4a082b2"
   },
   "outputs": [],
   "source": [
    "!yes | ./dev_setup.sh --allow-root"
   ]
  },
  {
   "cell_type": "code",
   "execution_count": null,
   "id": "joY81kzUWxg4",
   "metadata": {
    "colab": {
     "base_uri": "https://localhost:8080/"
    },
    "id": "joY81kzUWxg4",
    "outputId": "35f3e0fd-509a-4e62-f0b8-a4dbe6ee474b"
   },
   "outputs": [],
   "source": [
    "!./start-mycroft.sh"
   ]
  }
 ],
 "metadata": {
  "colab": {
   "provenance": []
  },
  "kernelspec": {
   "display_name": "Python 3",
   "language": "python",
   "name": "python3"
  },
  "language_info": {
   "name": "python"
  }
 },
 "nbformat": 4,
 "nbformat_minor": 5
}
