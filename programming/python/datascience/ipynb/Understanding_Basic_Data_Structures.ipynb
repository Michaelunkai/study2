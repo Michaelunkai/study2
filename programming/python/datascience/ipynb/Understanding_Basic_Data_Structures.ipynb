{
 "cells": [
  {
   "cell_type": "code",
   "execution_count": null,
   "id": "6fa58136-fab4-446b-a046-c6d126ae2201",
   "metadata": {},
   "outputs": [],
   "source": [
    "# 1. Lists\n",
    "print(\"=== Lists ===\")\n",
    "# Create a list\n",
    "fruits = ['apple', 'banana', 'cherry']\n",
    "print(\"Initial list:\", fruits)"
   ]
  },
  {
   "cell_type": "code",
   "execution_count": null,
   "id": "9f582eef-484b-4ee9-a2c3-f17a3bbba98b",
   "metadata": {},
   "outputs": [],
   "source": [
    "# Adding elements\n",
    "fruits.append('orange')\n",
    "print(\"After appending 'orange':\", fruits)  # Output: ['apple', 'banana', 'cherry', 'orange']\n",
    "\n",
    "# Accessing elements\n",
    "print(\"Element at index 1:\", fruits[1])  # Output: 'banana'\n",
    "\n",
    "# Removing elements\n",
    "fruits.remove('banana')\n",
    "print(\"After removing 'banana':\", fruits)  # Output: ['apple', 'cherry', 'orange']\n"
   ]
  },
  {
   "cell_type": "code",
   "execution_count": null,
   "id": "d9508be6-8d93-466d-b782-a72f10acd39c",
   "metadata": {},
   "outputs": [],
   "source": [
    "# 2. Tuples\n",
    "print(\"\\\\n=== Tuples ===\")\n",
    "# Create a tuple\n",
    "numbers = (1, 2, 3, 4, 5)\n",
    "print(\"Tuple:\", numbers)\n",
    "\n",
    "# Accessing elements\n",
    "print(\"Element at index 2:\", numbers[2])"
   ]
  },
  {
   "cell_type": "code",
   "execution_count": null,
   "id": "d066027a-9308-4c0a-8e2a-2c1c096cc08e",
   "metadata": {},
   "outputs": [],
   "source": [
    "# 3. Dictionaries\n",
    "print(\"\\\\n=== Dictionaries ===\")\n",
    "# Create a dictionary\n",
    "student = {'name': 'John', 'age': 25, 'courses': ['Math', 'Science']}\n",
    "print(\"Initial dictionary:\", student)\n",
    "\n",
    "# Accessing elements\n",
    "print(\"Student's name:\", student['name'])  # Output: 'John'\n",
    "\n",
    "# Adding elements\n",
    "student['grade'] = 'A'\n",
    "print(\"After adding grade:\", student)\n",
    "\n",
    "# Removing elements\n",
    "del student['age']\n",
    "print(\"After removing age:\", student)"
   ]
  },
  {
   "cell_type": "code",
   "execution_count": null,
   "id": "160a41bd-b806-4e6d-ae2c-350f47fbcf8b",
   "metadata": {},
   "outputs": [],
   "source": [
    "# 4. Sets\n",
    "print(\"\\\\n=== Sets ===\")\n",
    "# Create a set\n",
    "colors = {'red', 'green', 'blue'}\n",
    "print(\"Initial set:\", colors)\n",
    "\n",
    "# Adding elements\n",
    "colors.add('yellow')\n",
    "print(\"After adding 'yellow':\", colors)\n",
    "\n",
    "# Removing elements\n",
    "colors.remove('red')\n",
    "print(\"After removing 'red':\", colors)\n",
    "\n",
    "# Set operations (union, intersection)\n",
    "set1 = {'a', 'b', 'c'}\n",
    "set2 = {'b', 'c', 'd'}\n",
    "\n",
    "# Union\n",
    "print(\"Union of set1 and set2:\", set1 | set2)  # Output: {'a', 'b', 'c', 'd'}\n",
    "\n",
    "# Intersection\n",
    "print(\"Intersection of set1 and set2:\", set1 & set2)  # Output: {'b', 'c'}\n",
    "\"\"\"\n",
    "\n",
    "# Write the code to a .py file\n",
    "file_path = \"/mnt/data/basic_data_structures.py\"\n",
    "with open(file_path, \"w\") as file:\n",
    "    file.write(code)\n",
    "\n",
    "file_path"
   ]
  }
 ],
 "metadata": {
  "kernelspec": {
   "display_name": "Python 3 (ipykernel)",
   "language": "python",
   "name": "python3"
  },
  "language_info": {
   "codemirror_mode": {
    "name": "ipython",
    "version": 3
   },
   "file_extension": ".py",
   "mimetype": "text/x-python",
   "name": "python",
   "nbconvert_exporter": "python",
   "pygments_lexer": "ipython3",
   "version": "3.11.7"
  }
 },
 "nbformat": 4,
 "nbformat_minor": 5
}
