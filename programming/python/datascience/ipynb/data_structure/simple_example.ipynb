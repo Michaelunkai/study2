# List example
fruits = ['apple', 'banana', 'cherry']
fruits.append('orange')
print("Fruits:", fruits)

# Tuple example
coordinates = (10.0, 20.0)
print("Coordinates:", coordinates)

# Dictionary example
student = {'name': 'John', 'age': 20, 'courses': ['Math', 'CompSci']}
student['age'] = 21
print("Student:", student)

# Set example
numbers = {1, 2, 3, 4, 5}
numbers.add(6)
numbers.remove(4)
print("Numbers:", numbers)
