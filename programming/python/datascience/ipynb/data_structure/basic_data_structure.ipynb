{
 "cells": [
  {
   "cell_type": "code",
   "execution_count": null,
   "id": "202d845d-99a3-4b2c-bae9-3e3b560b81e6",
   "metadata": {},
   "outputs": [],
   "source": [
    "my_list = [1, 2, 3, 4, 5]\n",
    "print(my_list)\n"
   ]
  },
  {
   "cell_type": "code",
   "execution_count": null,
   "id": "cbcd4fbe-e851-4a27-9ab0-9ca07bf2c493",
   "metadata": {},
   "outputs": [],
   "source": [
    "print(my_list[0])  # Outputs: 1\n",
    "print(my_list[-1]) # Outputs: 5 (last element)"
   ]
  },
  {
   "cell_type": "code",
   "execution_count": null,
   "id": "857807c8-8bda-46c8-a6c6-5061af095213",
   "metadata": {},
   "outputs": [],
   "source": [
    "my_list.append(6)  # Adds 6 to the end\n",
    "print(my_list)\n",
    "my_list[0] = 0     # Changes the first element to 0\n",
    "print(my_list)"
   ]
  },
  {
   "cell_type": "code",
   "execution_count": null,
   "id": "a64d094b-8e28-4da4-b72e-bcbec2e27ab2",
   "metadata": {},
   "outputs": [],
   "source": [
    "my_list.remove(3)  # Removes the first occurrence of 3\n",
    "print(my_list)"
   ]
  },
  {
   "cell_type": "code",
   "execution_count": null,
   "id": "f5534e40-3f99-4fbc-be84-cc6409a96fd0",
   "metadata": {},
   "outputs": [],
   "source": [
    "my_tuple = (1, 2, 3, 4, 5)\n",
    "print(my_tuple)"
   ]
  },
  {
   "cell_type": "code",
   "execution_count": null,
   "id": "85927705-acdf-48b6-b24b-58f3ec6e67a0",
   "metadata": {},
   "outputs": [],
   "source": [
    "print(my_tuple[1])  # Outputs: 2"
   ]
  },
  {
   "cell_type": "code",
   "execution_count": null,
   "id": "62fb902a-5b93-4bfb-b5a2-3ec9b6dd7b68",
   "metadata": {},
   "outputs": [],
   "source": [
    "my_dict = {'name': 'Alice', 'age': 25, 'city': 'New York'}\n",
    "print(my_dict)\n"
   ]
  },
  {
   "cell_type": "code",
   "execution_count": null,
   "id": "1f65772b-fd87-4846-b658-296f12483ece",
   "metadata": {},
   "outputs": [],
   "source": [
    "print(my_dict['name'])  # Outputs: Alice\n"
   ]
  },
  {
   "cell_type": "code",
   "execution_count": null,
   "id": "c063a345-f37d-4b22-944a-b20dffcebe37",
   "metadata": {},
   "outputs": [],
   "source": [
    "my_dict['age'] = 26     # Updates the value of 'age'\n",
    "print(my_dict)"
   ]
  },
  {
   "cell_type": "code",
   "execution_count": null,
   "id": "f33e957f-5834-4546-9b47-913a572b5210",
   "metadata": {},
   "outputs": [],
   "source": [
    "my_dict['email'] = 'alice@example.com'\n",
    "print(my_dict)"
   ]
  },
  {
   "cell_type": "code",
   "execution_count": null,
   "id": "bb391b44-76e3-47f5-9a47-17b94fb48b79",
   "metadata": {},
   "outputs": [],
   "source": [
    "my_dict.pop('city')     # Removes the key 'city'\n",
    "print(my_dict)"
   ]
  },
  {
   "cell_type": "code",
   "execution_count": null,
   "id": "3b1599e7-3818-4d74-a297-89c668159531",
   "metadata": {},
   "outputs": [],
   "source": [
    "my_set = {1, 2, 3, 4, 5}\n",
    "print(my_set)\n"
   ]
  },
  {
   "cell_type": "code",
   "execution_count": null,
   "id": "d0f67c54-0860-4320-bae0-d414d05889d3",
   "metadata": {},
   "outputs": [],
   "source": [
    "my_set.add(6)\n",
    "print(my_set)"
   ]
  },
  {
   "cell_type": "code",
   "execution_count": null,
   "id": "af4e7afd-ded0-4aa1-8f22-cce35269d9ea",
   "metadata": {},
   "outputs": [],
   "source": [
    "my_set.remove(3)\n",
    "print(my_set)\n"
   ]
  },
  {
   "cell_type": "code",
   "execution_count": null,
   "id": "0bcc0716-602f-4120-8f99-c1e6e36a8848",
   "metadata": {},
   "outputs": [],
   "source": []
  }
 ],
 "metadata": {
  "kernelspec": {
   "display_name": "Python 3 (ipykernel)",
   "language": "python",
   "name": "python3"
  },
  "language_info": {
   "codemirror_mode": {
    "name": "ipython",
    "version": 3
   },
   "file_extension": ".py",
   "mimetype": "text/x-python",
   "name": "python",
   "nbconvert_exporter": "python",
   "pygments_lexer": "ipython3",
   "version": "3.11.7"
  }
 },
 "nbformat": 4,
 "nbformat_minor": 5
}
