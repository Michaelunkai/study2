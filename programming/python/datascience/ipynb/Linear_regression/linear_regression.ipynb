{
 "cells": [
  {
   "cell_type": "code",
   "execution_count": null,
   "id": "7f74f9b8",
   "metadata": {},
   "outputs": [],
   "source": [
    "# Importing necessary libraries\n",
    "import numpy as np\n",
    "import matplotlib.pyplot as plt"
   ]
  },
  {
   "cell_type": "code",
   "execution_count": null,
   "id": "c153b644",
   "metadata": {},
   "outputs": [],
   "source": [
    "# Example data\n",
    "x = np.array([1, 2, 3, 4, 5])\n",
    "y = np.array([2, 4, 5, 4, 5])"
   ]
  },
  {
   "cell_type": "code",
   "execution_count": null,
   "id": "3e0de1d6",
   "metadata": {},
   "outputs": [],
   "source": [
    "# Step 3: Plotting the Data\n",
    "plt.scatter(x, y, label='Data points')\n",
    "plt.title('Scatter Plot of Example Data')\n",
    "plt.xlabel('Independent Variable (x)')\n",
    "plt.ylabel('Dependent Variable (y)')\n",
    "plt.legend()\n",
    "plt.show()\n"
   ]
  },
  {
   "cell_type": "code",
   "execution_count": null,
   "id": "a500c735",
   "metadata": {},
   "outputs": [],
   "source": [
    "# Step 4: Fitting the Linear Model\n",
    "A = np.vstack([x, np.ones(len(x))]).T\n",
    "m, b = np.linalg.lstsq(A, y, rcond=None)[0]\n",
    "\n",
    "print(f\"Slope (m): {m}\")\n",
    "print(f\"Intercept (b): {b}\")\n",
    "\n",
    "# Plotting the data and the fitted line\n",
    "plt.scatter(x, y, label='Data points')\n",
    "plt.plot(x, m*x + b, 'r', label='Fitted line')\n",
    "plt.title('Linear Regression Fit')\n",
    "plt.xlabel('Independent Variable (x)')\n",
    "plt.ylabel('Dependent Variable (y)')\n",
    "plt.legend()\n",
    "plt.show()"
   ]
  },
  {
   "cell_type": "code",
   "execution_count": null,
   "id": "be7bfc46",
   "metadata": {},
   "outputs": [],
   "source": [
    "y_pred = m * x + b\n",
    "residuals = y - y_pred\n",
    "\n",
    "SS_res = np.sum(residuals**2)\n",
    "SS_tot = np.sum((y - np.mean(y))**2)\n",
    "R_squared = 1 - (SS_res / SS_tot)\n",
    "\n",
    "print(f\"R-squared: {R_squared}\")"
   ]
  }
 ],
 "metadata": {
  "kernelspec": {
   "display_name": "Python 3 (ipykernel)",
   "language": "python",
   "name": "python3"
  },
  "language_info": {
   "codemirror_mode": {
    "name": "ipython",
    "version": 3
   },
   "file_extension": ".py",
   "mimetype": "text/x-python",
   "name": "python",
   "nbconvert_exporter": "python",
   "pygments_lexer": "ipython3",
   "version": "3.12.3"
  }
 },
 "nbformat": 4,
 "nbformat_minor": 5
}
