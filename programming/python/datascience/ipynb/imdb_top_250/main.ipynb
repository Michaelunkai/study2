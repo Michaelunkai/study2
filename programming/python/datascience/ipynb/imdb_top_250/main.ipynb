{
 "cells": [
  {
   "cell_type": "code",
   "execution_count": null,
   "id": "0e600d6c",
   "metadata": {},
   "outputs": [],
   "source": [
    "%pip install pandas six chardet"
   ]
  },
  {
   "cell_type": "code",
   "execution_count": null,
   "id": "0677da7e-6a07-4d7d-a8e0-fa61c82a5a91",
   "metadata": {},
   "outputs": [],
   "source": [
    "import six\n",
    "import pandas as pd\n",
    "import chardet"
   ]
  },
  {
   "cell_type": "code",
   "execution_count": null,
   "id": "4c75752c-30e2-4c2f-a2e3-04b9705cf185",
   "metadata": {},
   "outputs": [],
   "source": [
    "with open('imdb_top_250.csv', 'rb') as file:\n",
    "    result = chardet.detect(file.read(10000))\n"
   ]
  },
  {
   "cell_type": "code",
   "execution_count": null,
   "id": "6fff0520-9460-4a81-8bea-d2c10fc46566",
   "metadata": {},
   "outputs": [],
   "source": [
    "df = pd.read_csv('imdb_top_250.csv', encoding=result['encoding'])\n"
   ]
  },
  {
   "cell_type": "code",
   "execution_count": null,
   "id": "6f5a04f8-e0ed-44f0-a150-5dec633d52d5",
   "metadata": {},
   "outputs": [],
   "source": [
    "df.head()\n"
   ]
  }
 ],
 "metadata": {
  "kernelspec": {
   "display_name": "Python 3 (ipykernel)",
   "language": "python",
   "name": "python3"
  },
  "language_info": {
   "codemirror_mode": {
    "name": "ipython",
    "version": 3
   },
   "file_extension": ".py",
   "mimetype": "text/x-python",
   "name": "python",
   "nbconvert_exporter": "python",
   "pygments_lexer": "ipython3",
   "version": "3.12.3"
  }
 },
 "nbformat": 4,
 "nbformat_minor": 5
}
