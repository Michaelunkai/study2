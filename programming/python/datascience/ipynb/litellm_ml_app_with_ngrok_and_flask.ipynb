{
 "cells": [
  {
   "cell_type": "markdown",
   "id": "3d7c20c7",
   "metadata": {},
   "source": [
    "# Step 1: Set up your environment"
   ]
  },
  {
   "cell_type": "code",
   "execution_count": null,
   "id": "11a20078",
   "metadata": {},
   "outputs": [],
   "source": [
    "# Install necessary libraries\n",
    "!pip install litellm flask pandas scikit-learn pyngrok\n"
   ]
  },
  {
   "cell_type": "markdown",
   "id": "ed80a5bd",
   "metadata": {},
   "source": [
    "# Step 2: Create the app structure"
   ]
  },
  {
   "cell_type": "code",
   "execution_count": null,
   "id": "4505d2a6",
   "metadata": {},
   "outputs": [],
   "source": [
    "import os\n",
    "\n",
    "# Create directories for your project\n",
    "os.makedirs('litellm_ml_app/app/static', exist_ok=True)\n",
    "os.makedirs('litellm_ml_app/app/templates', exist_ok=True)\n",
    "\n",
    "# Create necessary Python files\n",
    "open('litellm_ml_app/app/__init__.py', 'w').close()\n",
    "open('litellm_ml_app/app/routes.py', 'w').close()\n",
    "open('litellm_ml_app/app/model.py', 'w').close()\n",
    "open('litellm_ml_app/app/utils.py', 'w').close()\n",
    "\n",
    "print(\"App structure created successfully.\")\n"
   ]
  },
  {
   "cell_type": "markdown",
   "id": "175534b0",
   "metadata": {},
   "source": [
    "# Step 3: Develop the machine learning model"
   ]
  },
  {
   "cell_type": "code",
   "execution_count": null,
   "id": "5eaa0868",
   "metadata": {},
   "outputs": [],
   "source": [
    "model_code = '''\n",
    "import pandas as pd\n",
    "from sklearn.model_selection import train_test_split\n",
    "from sklearn.metrics import accuracy_score\n",
    "import litellm\n",
    "\n",
    "def load_data(file_path):\n",
    "    data = pd.read_csv(file_path)\n",
    "    return data\n",
    "\n",
    "def preprocess_data(data):\n",
    "    # Implement your preprocessing steps here\n",
    "    X = data.drop('target', axis=1)\n",
    "    y = data['target']\n",
    "    return X, y\n",
    "\n",
    "def train_model(X, y):\n",
    "    X_train, X_test, y_train, y_test = train_test_split(X, y, test_size=0.2, random_state=42)\n",
    "    model = litellm.LLModel()  # Initialize the LiteLLM model\n",
    "    model.fit(X_train, y_train)\n",
    "    predictions = model.predict(X_test)\n",
    "    accuracy = accuracy_score(y_test, predictions)\n",
    "    return model, accuracy\n",
    "\n",
    "def save_model(model, file_path):\n",
    "    model.save(file_path)\n",
    "'''\n",
    "\n",
    "with open('litellm_ml_app/app/model.py', 'w') as f:\n",
    "    f.write(model_code)\n",
    "\n",
    "print(\"Model code created successfully.\")\n"
   ]
  },
  {
   "cell_type": "markdown",
   "id": "dce586d9",
   "metadata": {},
   "source": [
    "# Step 4: Create a simple user interface"
   ]
  },
  {
   "cell_type": "code",
   "execution_count": null,
   "id": "cbbd7f3d",
   "metadata": {},
   "outputs": [],
   "source": [
    "routes_code = '''\n",
    "from flask import Flask, request, render_template, redirect, url_for\n",
    "import os\n",
    "from .model import load_data, preprocess_data, train_model, save_model\n",
    "\n",
    "app = Flask(__name__)\n",
    "app.config['UPLOAD_FOLDER'] = 'uploads'\n",
    "\n",
    "@app.route('/')\n",
    "def home():\n",
    "    return render_template('index.html')\n",
    "\n",
    "@app.route('/train', methods=['POST'])\n",
    "def train():\n",
    "    if 'datafile' not in request.files:\n",
    "        return redirect(url_for('home'))\n",
    "    \n",
    "    file = request.files['datafile']\n",
    "    if file.filename == '':\n",
    "        return redirect(url_for('home'))\n",
    "    \n",
    "    if file:\n",
    "        file_path = os.path.join(app.config['UPLOAD_FOLDER'], file.filename)\n",
    "        file.save(file_path)\n",
    "        data = load_data(file_path)\n",
    "        X, y = preprocess_data(data)\n",
    "        model, accuracy = train_model(X, y)\n",
    "        save_model(model, 'model.pkl')\n",
    "        return render_template('result.html', accuracy=accuracy)\n",
    "\n",
    "if __name__ == '__main__':\n",
    "    app.run(host='0.0.0.0', port=5000)\n",
    "'''\n",
    "\n",
    "with open('litellm_ml_app/app/routes.py', 'w') as f:\n",
    "    f.write(routes_code)\n",
    "\n",
    "index_html = '''\n",
    "<!DOCTYPE html>\n",
    "<html lang=\"en\">\n",
    "<head>\n",
    "    <meta charset=\"UTF-8\">\n",
    "    <title>LiteLLM ML App</title>\n",
    "</head>\n",
    "<body>\n",
    "    <h1>Upload Dataset to Train Model</h1>\n",
    "    <form action=\"/train\" method=\"post\" enctype=\"multipart/form-data\">\n",
    "        <input type=\"file\" name=\"datafile\">\n",
    "        <input type=\"submit\" value=\"Train Model\">\n",
    "    </form>\n",
    "</body>\n",
    "</html>\n",
    "'''\n",
    "\n",
    "result_html = '''\n",
    "<!DOCTYPE html>\n",
    "<html lang=\"en\">\n",
    "<head>\n",
    "    <meta charset=\"UTF-8\">\n",
    "    <title>Training Result</title>\n",
    "</head>\n",
    "<body>\n",
    "    <h1>Model Training Complete</h1>\n",
    "    <p>Model Accuracy: {{ accuracy }}</p>\n",
    "    <a href=\"/\">Go back</a>\n",
    "</body>\n",
    "</html>\n",
    "'''\n",
    "\n",
    "with open('litellm_ml_app/app/templates/index.html', 'w') as f:\n",
    "    f.write(index_html)\n",
    "\n",
    "with open('litellm_ml_app/app/templates/result.html', 'w') as f:\n",
    "    f.write(result_html)\n",
    "\n",
    "print(\"User interface created successfully.\")\n"
   ]
  },
  {
   "cell_type": "markdown",
   "id": "9c92ccf6",
   "metadata": {},
   "source": [
    "# Step 5: Run the Flask app and connect ngrok after Flask starts"
   ]
  },
  {
   "cell_type": "code",
   "execution_count": null,
   "id": "656768d1",
   "metadata": {},
   "outputs": [],
   "source": [
    "from pyngrok import ngrok\n",
    "import threading\n",
    "import os\n",
    "\n",
    "# Function to run Flask app\n",
    "def run_flask():\n",
    "    os.system('flask run --no-reload')\n",
    "\n",
    "# Authenticate with your ngrok authtoken\n",
    "!ngrok config add-authtoken 2e5YpXo7VVuueVwjFmmiM9706tv_6MfqxYhAH2EpUNuAWrLVR\n",
    "\n",
    "# Set the FLASK_APP environment variable\n",
    "os.environ['FLASK_APP'] = 'litellm_ml_app/app/routes.py'\n",
    "\n",
    "# Start Flask app in a separate thread\n",
    "thread = threading.Thread(target=run_flask)\n",
    "thread.start()\n",
    "\n",
    "# Wait for Flask to start and then connect ngrok\n",
    "import time\n",
    "time.sleep(2)  # Give Flask time to start\n",
    "\n",
    "# Connect ngrok and print the public URL\n",
    "public_url = ngrok.connect(port='5000')\n",
    "print(f\" * Running on {public_url}\")\n"
   ]
  },
  {
   "cell_type": "code",
   "execution_count": null,
   "id": "fd2ee42f-dd3c-4268-b254-5eded0f8c895",
   "metadata": {},
   "outputs": [],
   "source": []
  },
  {
   "cell_type": "code",
   "execution_count": null,
   "id": "15dc2815-d33b-42b2-a6e9-2cc04950c850",
   "metadata": {},
   "outputs": [],
   "source": []
  },
  {
   "cell_type": "code",
   "execution_count": null,
   "id": "3208617c-a890-4afb-aa70-136512b54c87",
   "metadata": {},
   "outputs": [],
   "source": []
  }
 ],
 "metadata": {
  "kernelspec": {
   "display_name": "Python 3 (ipykernel)",
   "language": "python",
   "name": "python3"
  },
  "language_info": {
   "codemirror_mode": {
    "name": "ipython",
    "version": 3
   },
   "file_extension": ".py",
   "mimetype": "text/x-python",
   "name": "python",
   "nbconvert_exporter": "python",
   "pygments_lexer": "ipython3",
   "version": "3.10.12"
  }
 },
 "nbformat": 4,
 "nbformat_minor": 5
}
