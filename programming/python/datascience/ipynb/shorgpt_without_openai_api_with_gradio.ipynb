{
 "cells": [
  {
   "cell_type": "code",
   "execution_count": null,
   "metadata": {
    "colab": {
     "base_uri": "https://localhost:8080/"
    },
    "id": "CerIa5UvMy7G",
    "outputId": "d6422a08-2014-4046-ecdb-fff30d8704a2"
   },
   "outputs": [],
   "source": [
    "# 📦 Install ImageMagick and ffmpeg\n",
    "!sudo apt-get install imagemagick\n",
    "!sudo apt-get install ffmpeg\n",
    "\n",
    "# 📝 Fix Imagemagick policy.xml bug in linux using MoviePy\n",
    "!sed -i '/<policy domain=\"path\" rights=\"none\" pattern=\"@\\*\"/d' /etc/ImageMagick-6/policy.xml\n",
    "\n",
    "import os\n",
    "\n",
    "if not os.path.exists('/content/ShortGPT'):\n",
    "  # 📂 Clone the ShortGPT repository\n",
    "  !git clone https://github.com/amirreza1307/ShortGPT.git\n",
    "  %cd /content/ShortGPT/\n",
    "else:\n",
    "  %cd /content/ShortGPT/\n",
    "  # If the directory already exists, just pull the latest version\n",
    "  !git pull\n",
    "# 🚀 Change directory to ShortGPT\n",
    "\n",
    "# 🛠️ Install required Python packages\n",
    "!pip install -r requirements.txt\n",
    "!python runShortGPTColab.py"
   ]
  }
 ],
 "metadata": {
  "colab": {
   "provenance": []
  },
  "kernelspec": {
   "display_name": "Python 3",
   "name": "python3"
  },
  "language_info": {
   "name": "python"
  }
 },
 "nbformat": 4,
 "nbformat_minor": 0
}
