{
 "cells": [
  {
   "cell_type": "markdown",
   "metadata": {},
   "source": [
    "# Folder Usage Analysis\n",
    "\n",
    "This Jupyter Notebook performs a comprehensive analysis of the folders and subfolders located in `C:\\study` (for Windows) or `/mnt/c/study` (for WSL/Linux). The analysis includes:\n",
    "\n",
    "- Ranking folders and subfolders from most used to least used based on their size.\n",
    "- Displaying useful details such as total size, number of files, and last modified date.\n",
    "- Visualizing the top folders using bar charts."
  ]
  },
  {
   "cell_type": "markdown",
   "metadata": {},
   "source": [
    "### Instructions to Use:\n",
    "\n",
    "1. **Run Each Cell in Order**: Execute each cell sequentially to perform the analysis.\n",
    "2. **Ensure Correct Path**: Verify that the path `C:\\study` (Windows) or `/mnt/c/study` (WSL/Linux) exists on your system."
  ]
  },
  {
   "cell_type": "markdown",
   "metadata": {},
   "source": [
    "## Importing Necessary Libraries"
  ]
  },
  {
   "cell_type": "code",
   "execution_count": null,
   "metadata": {},
   "outputs": [],
   "source": [
    "import os\n",
    "import pandas as pd\n",
    "import matplotlib.pyplot as plt\n",
    "from datetime import datetime\n",
    "from pathlib import Path\n",
    "import sys"
  ]
  },
  {
   "cell_type": "markdown",
   "metadata": {},
   "source": [
    "## Define the Path to Analyze"
  ]
  },
  {
   "cell_type": "code",
   "execution_count": null,
   "metadata": {},
   "outputs": [],
   "source": [
    "def get_study_path():\n",
    "    if os.name == 'nt':  # For Windows\n",
    "        return Path('C:/study')\n",
    "    else:  # For Unix/Linux (e.g., WSL)\n",
    "        return Path('/mnt/c/study')\n",
    "\n",
    "study_path = get_study_path()\n",
    "\n",
    "if not study_path.exists():\n",
    "    print(f\"The path {study_path} does not exist. Please check the path and try again.\")\n",
    "    sys.exit(1)\n",
    "\n",
    "print(f\"Analyzing folders in: {study_path}\")"
  ]
  },
  {
   "cell_type": "markdown",
   "metadata": {},
   "source": [
    "## Function to Get Folder Statistics"
  ]
  },
  {
   "cell_type": "code",
   "execution_count": null,
   "metadata": {},
   "outputs": [],
   "source": [
    "def get_folder_stats(path):\n",
    "    total_size = 0\n",
    "    total_files = 0\n",
    "    last_modified = None\n",
    "    try:\n",
    "        for root, dirs, files in os.walk(path):\n",
    "            for f in files:\n",
    "                fp = os.path.join(root, f)\n",
    "                try:\n",
    "                    total_size += os.path.getsize(fp)\n",
    "                    total_files += 1\n",
    "                    mtime = os.path.getmtime(fp)\n",
    "                    if last_modified is None or mtime > last_modified:\n",
    "                        last_modified = mtime\n",
    "                except Exception as e:\n",
    "                    print(f\"Error accessing file {fp}: {e}\")\n",
    "    except Exception as e:\n",
    "        print(f\"Error walking through {path}: {e}\")\n",
    "\n",
    "    return {\n",
    "        'path': str(path),\n",
    "        'size_bytes': total_size,\n",
    "        'num_files': total_files,\n",
    "        'last_modified': datetime.fromtimestamp(last_modified) if last_modified else None\n",
    "    }"
  ]
  },
  {
   "cell_type": "markdown",
   "metadata": {},
   "source": [
    "## Traverse Directories and Collect Data"
  ]
  },
  {
   "cell_type": "code",
   "execution_count": null,
   "metadata": {},
   "outputs": [],
   "source": [
    "# List to store folder statistics\n",
    "folder_stats = []\n",
    "\n",
    "# Iterate through all folders and subfolders\n",
    "for root, dirs, files in os.walk(study_path):\n",
    "    for d in dirs:\n",
    "        folder_path = Path(root) / d\n",
    "        stats = get_folder_stats(folder_path)\n",
    "        folder_stats.append(stats)\n",
    "\n",
    "# Also include the root study_path itself\n",
    "root_stats = get_folder_stats(study_path)\n",
    "folder_stats.append(root_stats)"
  ]
  },
  {
   "cell_type": "markdown",
   "metadata": {},
   "source": [
    "## Create a Pandas DataFrame from the Collected Data"
  ]
  },
  {
   "cell_type": "code",
   "execution_count": null,
   "metadata": {},
   "outputs": [],
   "source": [
    "df = pd.DataFrame(folder_stats)\n",
    "\n",
    "# Convert size from bytes to a more readable format (e.g., MB)\n",
    "df['size_MB'] = df['size_bytes'] / (1024 * 1024)\n",
    "\n",
    "# Sort the DataFrame by size in descending order\n",
    "df_sorted = df.sort_values(by='size_MB', ascending=False).reset_index(drop=True)\n",
    "\n",
    "df_sorted"
  ]
  },
  {
   "cell_type": "markdown",
   "metadata": {},
   "source": [
    "## Display Top 20 Largest Folders"
  ]
  },
  {
   "cell_type": "code",
   "execution_count": null,
   "metadata": {},
   "outputs": [],
   "source": [
    "top_n = 20\n",
    "df_top = df_sorted.head(top_n)\n",
    "\n",
    "df_top_display = df_top[['path', 'size_MB', 'num_files', 'last_modified']]\n",
    "df_top_display.columns = ['Folder Path', 'Size (MB)', 'Number of Files', 'Last Modified']\n",
    "\n",
    "df_top_display"
  ]
  },
  {
   "cell_type": "markdown",
   "metadata": {},
   "source": [
    "## Visualize the Top 20 Largest Folders"
  ]
  },
  {
   "cell_type": "code",
   "execution_count": null,
   "metadata": {},
   "outputs": [],
   "source": [
    "plt.figure(figsize=(12, 8))\n",
    "plt.barh(df_top_display['Folder Path'][::-1], df_top_display['Size (MB)'][::-1], color='skyblue')\n",
    "plt.xlabel('Size (MB)')\n",
    "plt.title('Top 20 Largest Folders in Study Directory')\n",
    "plt.tight_layout()\n",
    "plt.show()"
  ]
  },
  {
   "cell_type": "markdown",
   "metadata": {},
   "source": [
    "## Additional Analysis (Optional)"
  ]
  },
  {
   "cell_type": "markdown",
   "metadata": {},
   "source": [
    "You can extend this notebook to include additional analyses such as:\n",
    "\n",
    "- **File Type Distribution**: Analyze the types of files present in each folder.\n",
    "- **Access Patterns**: Determine which folders are accessed most frequently based on `last_modified` dates.\n",
    "- **Growth Over Time**: Track how the size of each folder has changed over time (requires historical data).\n",
    "- **Duplicate Files**: Identify and handle duplicate files within folders.\n"
  ]
  },
  {
   "cell_type": "markdown",
   "metadata": {},
   "source": [
    "## Conclusion"
  ]
  },
  {
   "cell_type": "markdown",
   "metadata": {},
   "source": [
    "This notebook provides a foundational framework for analyzing folder usage within a specified directory. By customizing and extending the provided code, you can gain deeper insights into your data storage patterns and optimize your file organization accordingly."
  ]
  }
 ],
 "metadata": {
  "kernelspec": {
   "display_name": "Python 3",
   "language": "python",
   "name": "python3"
  },
  "language_info": {
   "name": "python",
   "version": "3.8.5",
   "mimetype": "text/x-python",
   "codemirror_mode": {
    "name": "ipython",
    "version": 3
   },
   "pygments_lexer": "ipython3",
   "nbconvert_exporter": "python",
   "file_extension": ".py"
  }
 },
 "nbformat": 4,
 "nbformat_minor": 5
}
