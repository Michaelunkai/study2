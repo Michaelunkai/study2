{
 "cells": [
  {
   "cell_type": "code",
   "execution_count": null,
   "id": "8611a720-c516-4f35-bd55-a4035b8fd146",
   "metadata": {},
   "outputs": [],
   "source": [
    "pip install jupyter pandas matplotlib seaborn"
   ]
  },
  {
   "cell_type": "code",
   "execution_count": null,
   "id": "af18171e-0205-49bf-8b96-c996a93c6758",
   "metadata": {},
   "outputs": [],
   "source": [
    "import pandas as pd\n",
    "import matplotlib.pyplot as plt\n",
    "import seaborn as sns\n",
    "\n",
    "# To make plots appear in the notebook\n",
    "%matplotlib inline\n"
   ]
  },
  {
   "cell_type": "code",
   "execution_count": null,
   "id": "18e6eb2e-d511-45ab-96be-68a5eb7e65ae",
   "metadata": {},
   "outputs": [],
   "source": [
    "# Load the Iris dataset from seaborn's built-in datasets\n",
    "iris = sns.load_dataset('iris')\n",
    "\n",
    "# Display the first few rows of the dataset\n",
    "iris.head()\n"
   ]
  },
  {
   "cell_type": "code",
   "execution_count": null,
   "id": "022e056d-9c7e-436a-8fd1-a65327431739",
   "metadata": {},
   "outputs": [],
   "source": [
    "iris.shape\n"
   ]
  },
  {
   "cell_type": "code",
   "execution_count": null,
   "id": "c13d6250-228d-4bd8-ba21-4697ca9ef6cc",
   "metadata": {},
   "outputs": [],
   "source": [
    "iris.columns\n"
   ]
  },
  {
   "cell_type": "code",
   "execution_count": null,
   "id": "85cf9930-636a-4fea-8339-58179cc1dff9",
   "metadata": {},
   "outputs": [],
   "source": [
    "iris.describe()\n"
   ]
  },
  {
   "cell_type": "code",
   "execution_count": null,
   "id": "230ef58f-065c-4589-ac40-9f1d9a87b52c",
   "metadata": {},
   "outputs": [],
   "source": [
    "iris.isnull().sum()\n"
   ]
  },
  {
   "cell_type": "code",
   "execution_count": null,
   "id": "4be458a5-279c-42a9-b2f5-2bd65418a1dd",
   "metadata": {},
   "outputs": [],
   "source": [
    "iris['sepal_length'].hist(bins=20)\n",
    "plt.xlabel('Sepal Length')\n",
    "plt.ylabel('Frequency')\n",
    "plt.title('Distribution of Sepal Length')\n",
    "plt.show()\n"
   ]
  },
  {
   "cell_type": "code",
   "execution_count": null,
   "id": "a3346cc1-80c3-4efc-886e-c23ccf7ebc78",
   "metadata": {},
   "outputs": [],
   "source": [
    "sns.scatterplot(x='sepal_length', y='sepal_width', data=iris, hue='species')\n",
    "plt.title('Sepal Length vs Sepal Width')\n",
    "plt.show()\n"
   ]
  },
  {
   "cell_type": "code",
   "execution_count": null,
   "id": "96513f13-ea58-45d8-b98d-90bd688d07c2",
   "metadata": {},
   "outputs": [],
   "source": [
    "sns.pairplot(iris, hue='species')\n",
    "plt.show()\n"
   ]
  },
  {
   "cell_type": "code",
   "execution_count": null,
   "id": "111b6679-3b9f-4cf2-9a40-224b82da22c2",
   "metadata": {},
   "outputs": [],
   "source": []
  },
  {
   "cell_type": "code",
   "execution_count": null,
   "id": "0be4578a-306b-4ed2-bec8-9e97e8a5ebeb",
   "metadata": {},
   "outputs": [],
   "source": []
  },
  {
   "cell_type": "code",
   "execution_count": null,
   "id": "9fb0aa9d-4957-4662-b8e7-221e094db6b3",
   "metadata": {},
   "outputs": [],
   "source": []
  }
 ],
 "metadata": {
  "kernelspec": {
   "display_name": "Python 3 (ipykernel)",
   "language": "python",
   "name": "python3"
  },
  "language_info": {
   "codemirror_mode": {
    "name": "ipython",
    "version": 3
   },
   "file_extension": ".py",
   "mimetype": "text/x-python",
   "name": "python",
   "nbconvert_exporter": "python",
   "pygments_lexer": "ipython3",
   "version": "3.11.6"
  }
 },
 "nbformat": 4,
 "nbformat_minor": 5
}
