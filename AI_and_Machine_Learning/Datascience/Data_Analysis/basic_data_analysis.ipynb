{
 "cells": [
  {
   "cell_type": " ",
   "metadata": {},
   "source": [
    "# Basic Data Analysis with Pandas\n",
    "In this notebook, we will:\n",
    "1. Load a sample dataset.\n",
    "2. Inspect the data.\n",
    "3. Perform basic data manipulation.\n"
   ]
  },
  {
   "cell_type": "code",
   "execution_count": null,
   "metadata": {},
   "outputs": [],
   "source": [
    "# Importing necessary libraries\n",
    "import pandas as pd\n",
    "import numpy as np"
   ]
  },
  {
   "cell_type": " ",
   "metadata": {},
   "source": [
    "## 1. Load a sample dataset\n",
    "We'll use the famous Titanic dataset for this example."
   ]
  },
  {
   "cell_type": "code",
   "execution_count": null,
   "metadata": {},
   "outputs": [],
   "source": [
    "# Load the Titanic dataset from a URL\n",
    "url = 'https://raw.githubusercontent.com/datasciencedojo/datasets/master/titanic. '\n",
    "titanic_df = pd.read_ (url)\n",
    "\n",
    "# Display the first 5 rows of the dataframe\n",
    "titanic_df.head()"
   ]
  },
  {
   "cell_type": " ",
   "metadata": {},
   "source": [
    "## 2. Inspect the data\n",
    "Let's check the basic information about the dataset."
   ]
  },
  {
   "cell_type": "code",
   "execution_count": null,
   "metadata": {},
   "outputs": [],
   "source": [
    "# Display basic information about the dataframe\n",
    "titanic_df.info()"
   ]
  },
  {
   "cell_type": "code",
   "execution_count": null,
   "metadata": {},
   "outputs": [],
   "source": [
    "# Display summary statistics of the dataframe\n",
    "titanic_df.describe()"
   ]
  },
  {
   "cell_type": " ",
   "metadata": {},
   "source": [
    "## 3. Perform basic data manipulation\n",
    "Let's perform some basic data manipulation tasks such as handling missing values and adding new columns."
   ]
  },
  {
   "cell_type": "code",
   "execution_count": null,
   "metadata": {},
   "outputs": [],
   "source": [
    "# Check for missing values\n",
    "titanic_df.isnull().sum()"
   ]
  },
  {
   "cell_type": "code",
   "execution_count": null,
   "metadata": {},
   "outputs": [],
   "source": [
    "# Fill missing values in 'Age' with the mean age\n",
    "titanic_df['Age'] = titanic_df['Age'].fillna(titanic_df['Age'].mean())\n",
    "\n",
    "# Fill missing values in 'Embarked' with the mode\n",
    "titanic_df['Embarked'] = titanic_df['Embarked'].fillna(titanic_df['Embarked'].mode()[0])"
   ]
  },
  {
   "cell_type": "code",
   "execution_count": null,
   "metadata": {},
   "outputs": [],
   "source": [
    "# Verify missing values have been filled\n",
    "titanic_df.isnull().sum()"
   ]
  },
  {
   "cell_type": "code",
   "execution_count": null,
   "metadata": {},
   "outputs": [],
   "source": [
    "# Add a new column 'FamilySize' which is the sum of 'SibSp' and 'Parch' columns\n",
    "titanic_df['FamilySize'] = titanic_df['SibSp'] + titanic_df['Parch']\n",
    "titanic_df.head()"
   ]
  }
 ],
 "metadata": {
  "kernelspec": {
   "display_name": "Python 3 (ipykernel)",
   "language": " ",
   "name": " 3"
  },
  "language_info": {
   "codemirror_mode": {
    "name": "i ",
    "version": 3
   },
   "file_extension": ".py",
   "mimetype": "text/x- ",
   "name": " ",
   "nbconvert_exporter": " ",
   "pygments_lexer": "i 3",
   "version": "3.11.7"
  }
 },
 "nbformat": 4,
 "nbformat_minor": 4
}
