{
 "cells": [
  {
   "cell_type": "markdown",
   "id": "60e8f9bf",
   "metadata": {},
   "source": [
    "# Task 4: Calculate and Plot Project Activity in Terms of Pull Requests\n",
    "\n",
    "**Instructions:**\n",
    "\n",
    "- Group `data` by month and year (i.e., '2011-01', '2011-02', etc.) and count the number of pull requests (`pid`). Store the counts in a variable called `counts`.\n",
    "  - Create a new column combining year and month attributes for proper grouping.\n",
    "  - Use the `groupby()` method to group by this column.\n",
    "- Plot `counts` using a bar chart.\n",
    "\n",
    "**Note:** Ensure you create `counts` correctly. Alternate solutions are acceptable as long as `counts` is accurate.\n",
    "\n",
    "---\n",
    "\n",
    "### Data used in the task:\n",
    "The dataset represents pull request activity collected until January 2018. The goal is to determine the project's activity over time by plotting the number of contributions per month.\n",
    "\n",
    "### Code Template:\n",
    "Below is the corrected code for completing this task.\n"
   ]
  },
  {
   "cell_type": "code",
   "execution_count": null,
   "id": "b322f513",
   "metadata": {},
   "outputs": [],
   "source": [
    "# Import necessary libraries\n",
    "import pandas as pd\n",
    "import matplotlib.pyplot as plt\n",
    "\n",
    "# Sample data to simulate the task's dataset\n",
    "data = pd.DataFrame({\n",
    "    'date': pd.date_range(start='2011-01-01', periods=74, freq='M'),\n",
    "    'pid': range(1, 75)\n",
    "})\n",
    "\n",
    "# Create a column for year-month\n",
    "data['year_month'] = data['date'].dt.to_period('M')\n",
    "\n",
    "# Group by year_month and count the pull requests\n",
    "counts = data.groupby('year_month').size()\n",
    "\n",
    "# Plot the results\n",
    "counts.plot(kind='bar', figsize=(12, 4))\n",
    "plt.title('Pull Request Activity Over Time')\n",
    "plt.xlabel('Year-Month')\n",
    "plt.ylabel('Number of Pull Requests')\n",
    "plt.xticks(rotation=45)\n",
    "plt.show()\n"
   ]
  }
 ],
 "metadata": {},
 "nbformat": 4,
 "nbformat_minor": 5
}
