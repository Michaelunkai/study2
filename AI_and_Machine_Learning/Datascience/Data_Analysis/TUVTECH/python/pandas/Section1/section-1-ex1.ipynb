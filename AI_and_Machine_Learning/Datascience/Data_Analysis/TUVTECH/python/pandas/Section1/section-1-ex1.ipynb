{
 "cells": [
  {
   "cell_type": "markdown",
   "id": "cdb4ad3e",
   "metadata": {
    "papermill": {
     "duration": 0.006719,
     "end_time": "2024-05-19T07:59:37.906696",
     "exception": false,
     "start_time": "2024-05-19T07:59:37.899977",
     "status": "completed"
    },
    "tags": []
   },
   "source": [
    "# Exercise 1"
   ]
  },
  {
   "cell_type": "markdown",
   "id": "e0b921ab",
   "metadata": {
    "papermill": {
     "duration": 0.005987,
     "end_time": "2024-05-19T07:59:37.919996",
     "exception": false,
     "start_time": "2024-05-19T07:59:37.914009",
     "status": "completed"
    },
    "tags": []
   },
   "source": [
    "### Step 0. Import the necessary libraries"
   ]
  },
  {
   "cell_type": "code",
   "execution_count": 1,
   "id": "f0e7b9bd",
   "metadata": {
    "execution": {
     "iopub.execute_input": "2024-05-19T07:59:37.934818Z",
     "iopub.status.busy": "2024-05-19T07:59:37.933846Z",
     "iopub.status.idle": "2024-05-19T07:59:38.958503Z",
     "shell.execute_reply": "2024-05-19T07:59:38.956931Z"
    },
    "papermill": {
     "duration": 1.034959,
     "end_time": "2024-05-19T07:59:38.961232",
     "exception": false,
     "start_time": "2024-05-19T07:59:37.926273",
     "status": "completed"
    },
    "tags": []
   },
   "outputs": [],
   "source": [
    "import pandas as pd"
   ]
  },
  {
   "cell_type": "markdown",
   "id": "dc0ac03d",
   "metadata": {
    "papermill": {
     "duration": 0.006047,
     "end_time": "2024-05-19T07:59:38.973768",
     "exception": false,
     "start_time": "2024-05-19T07:59:38.967721",
     "status": "completed"
    },
    "tags": []
   },
   "source": [
    "### Step 1. Use the tsv file and assign it to a dataframe called food"
   ]
  },
  {
   "cell_type": "code",
   "execution_count": 2,
   "id": "dffc59d1",
   "metadata": {
    "execution": {
     "iopub.execute_input": "2024-05-19T07:59:38.988304Z",
     "iopub.status.busy": "2024-05-19T07:59:38.987741Z",
     "iopub.status.idle": "2024-05-19T08:00:13.778431Z",
     "shell.execute_reply": "2024-05-19T08:00:13.776847Z"
    },
    "papermill": {
     "duration": 34.801421,
     "end_time": "2024-05-19T08:00:13.781515",
     "exception": false,
     "start_time": "2024-05-19T07:59:38.980094",
     "status": "completed"
    },
    "tags": []
   },
   "outputs": [],
   "source": [
    "file_path = '/kaggle/input/world-food-facts/en.openfoodfacts.org.products.tsv'\n",
    "food = pd.read_csv(file_path, sep='\\t', low_memory=False)"
   ]
  },
  {
   "cell_type": "markdown",
   "id": "5d1f83b9",
   "metadata": {
    "papermill": {
     "duration": 0.006452,
     "end_time": "2024-05-19T08:00:13.794742",
     "exception": false,
     "start_time": "2024-05-19T08:00:13.788290",
     "status": "completed"
    },
    "tags": []
   },
   "source": [
    "### Step 2. See the first 5 entries"
   ]
  },
  {
   "cell_type": "code",
   "execution_count": null,
   "id": "7c5a8995",
   "metadata": {
    "execution": {
     "iopub.execute_input": "2024-05-15T09:33:51.691865Z",
     "iopub.status.busy": "2024-05-15T09:33:51.691399Z",
     "iopub.status.idle": "2024-05-15T09:33:51.740981Z",
     "shell.execute_reply": "2024-05-15T09:33:51.739600Z",
     "shell.execute_reply.started": "2024-05-15T09:33:51.691822Z"
    },
    "papermill": {
     "duration": 0.005981,
     "end_time": "2024-05-19T08:00:13.807098",
     "exception": false,
     "start_time": "2024-05-19T08:00:13.801117",
     "status": "completed"
    },
    "tags": []
   },
   "outputs": [],
   "source": []
  },
  {
   "cell_type": "markdown",
   "id": "9e3abac2",
   "metadata": {
    "papermill": {
     "duration": 0.007021,
     "end_time": "2024-05-19T08:00:13.820547",
     "exception": false,
     "start_time": "2024-05-19T08:00:13.813526",
     "status": "completed"
    },
    "tags": []
   },
   "source": [
    "### Step 3. What is the number of observations in the dataset?"
   ]
  },
  {
   "cell_type": "code",
   "execution_count": null,
   "id": "c51df5ab",
   "metadata": {
    "papermill": {
     "duration": 0.006034,
     "end_time": "2024-05-19T08:00:13.833125",
     "exception": false,
     "start_time": "2024-05-19T08:00:13.827091",
     "status": "completed"
    },
    "tags": []
   },
   "outputs": [],
   "source": []
  },
  {
   "cell_type": "markdown",
   "id": "b5d6612f",
   "metadata": {
    "papermill": {
     "duration": 0.006252,
     "end_time": "2024-05-19T08:00:13.845693",
     "exception": false,
     "start_time": "2024-05-19T08:00:13.839441",
     "status": "completed"
    },
    "tags": []
   },
   "source": [
    "### Step 4. What is the number of columns in the dataset?"
   ]
  },
  {
   "cell_type": "code",
   "execution_count": null,
   "id": "b9972831",
   "metadata": {
    "collapsed": true,
    "jupyter": {
     "outputs_hidden": true
    },
    "papermill": {
     "duration": 0.005987,
     "end_time": "2024-05-19T08:00:13.858365",
     "exception": false,
     "start_time": "2024-05-19T08:00:13.852378",
     "status": "completed"
    },
    "tags": []
   },
   "outputs": [],
   "source": []
  },
  {
   "cell_type": "markdown",
   "id": "0aa4e35b",
   "metadata": {
    "papermill": {
     "duration": 0.0071,
     "end_time": "2024-05-19T08:00:13.872112",
     "exception": false,
     "start_time": "2024-05-19T08:00:13.865012",
     "status": "completed"
    },
    "tags": []
   },
   "source": [
    "### Step 5. Print the name of all the columns."
   ]
  },
  {
   "cell_type": "code",
   "execution_count": null,
   "id": "c870cb28",
   "metadata": {
    "collapsed": true,
    "jupyter": {
     "outputs_hidden": true
    },
    "papermill": {
     "duration": 0.005948,
     "end_time": "2024-05-19T08:00:13.884330",
     "exception": false,
     "start_time": "2024-05-19T08:00:13.878382",
     "status": "completed"
    },
    "tags": []
   },
   "outputs": [],
   "source": []
  },
  {
   "cell_type": "markdown",
   "id": "70be6a97",
   "metadata": {
    "papermill": {
     "duration": 0.006733,
     "end_time": "2024-05-19T08:00:13.897605",
     "exception": false,
     "start_time": "2024-05-19T08:00:13.890872",
     "status": "completed"
    },
    "tags": []
   },
   "source": [
    "### Step 6. What is the name of 105th column?"
   ]
  },
  {
   "cell_type": "code",
   "execution_count": null,
   "id": "5b04e7a7",
   "metadata": {
    "collapsed": true,
    "jupyter": {
     "outputs_hidden": true
    },
    "papermill": {
     "duration": 0.006127,
     "end_time": "2024-05-19T08:00:13.910405",
     "exception": false,
     "start_time": "2024-05-19T08:00:13.904278",
     "status": "completed"
    },
    "tags": []
   },
   "outputs": [],
   "source": []
  },
  {
   "cell_type": "markdown",
   "id": "070b281e",
   "metadata": {
    "papermill": {
     "duration": 0.006749,
     "end_time": "2024-05-19T08:00:13.923629",
     "exception": false,
     "start_time": "2024-05-19T08:00:13.916880",
     "status": "completed"
    },
    "tags": []
   },
   "source": [
    "### Step 7. What is the type of the observations of the 105th column?"
   ]
  },
  {
   "cell_type": "code",
   "execution_count": null,
   "id": "84253234",
   "metadata": {
    "collapsed": true,
    "jupyter": {
     "outputs_hidden": true
    },
    "papermill": {
     "duration": 0.006247,
     "end_time": "2024-05-19T08:00:13.936540",
     "exception": false,
     "start_time": "2024-05-19T08:00:13.930293",
     "status": "completed"
    },
    "tags": []
   },
   "outputs": [],
   "source": []
  },
  {
   "cell_type": "markdown",
   "id": "6c28b384",
   "metadata": {
    "papermill": {
     "duration": 0.005904,
     "end_time": "2024-05-19T08:00:13.948873",
     "exception": false,
     "start_time": "2024-05-19T08:00:13.942969",
     "status": "completed"
    },
    "tags": []
   },
   "source": [
    "### Step 8. How is the dataset indexed?"
   ]
  },
  {
   "cell_type": "code",
   "execution_count": null,
   "id": "40e2b07c",
   "metadata": {
    "collapsed": true,
    "jupyter": {
     "outputs_hidden": true
    },
    "papermill": {
     "duration": 0.005874,
     "end_time": "2024-05-19T08:00:13.960910",
     "exception": false,
     "start_time": "2024-05-19T08:00:13.955036",
     "status": "completed"
    },
    "tags": []
   },
   "outputs": [],
   "source": []
  },
  {
   "cell_type": "markdown",
   "id": "93e07397",
   "metadata": {
    "papermill": {
     "duration": 0.00593,
     "end_time": "2024-05-19T08:00:13.973101",
     "exception": false,
     "start_time": "2024-05-19T08:00:13.967171",
     "status": "completed"
    },
    "tags": []
   },
   "source": [
    "### Step 9. What is the product name of the 19th observation?"
   ]
  },
  {
   "cell_type": "code",
   "execution_count": null,
   "id": "0bed70a2",
   "metadata": {
    "collapsed": true,
    "jupyter": {
     "outputs_hidden": true
    },
    "papermill": {
     "duration": 0.005899,
     "end_time": "2024-05-19T08:00:13.985432",
     "exception": false,
     "start_time": "2024-05-19T08:00:13.979533",
     "status": "completed"
    },
    "tags": []
   },
   "outputs": [],
   "source": []
  }
 ],
 "metadata": {
  "anaconda-cloud": {},
  "kaggle": {
   "accelerator": "none",
   "dataSources": [
    {
     "datasetId": 20,
     "sourceId": 4275,
     "sourceType": "datasetVersion"
    },
    {
     "datasetId": 5011184,
     "sourceId": 8418200,
     "sourceType": "datasetVersion"
    }
   ],
   "dockerImageVersionId": 30698,
   "isGpuEnabled": false,
   "isInternetEnabled": true,
   "language": "python",
   "sourceType": "notebook"
  },
  "kernelspec": {
   "display_name": "Python 3",
   "language": "python",
   "name": "python3"
  },
  "language_info": {
   "codemirror_mode": {
    "name": "ipython",
    "version": 3
   },
   "file_extension": ".py",
   "mimetype": "text/x-python",
   "name": "python",
   "nbconvert_exporter": "python",
   "pygments_lexer": "ipython3",
   "version": "3.10.13"
  },
  "papermill": {
   "default_parameters": {},
   "duration": 40.109191,
   "end_time": "2024-05-19T08:00:14.815313",
   "environment_variables": {},
   "exception": null,
   "input_path": "__notebook__.ipynb",
   "output_path": "__notebook__.ipynb",
   "parameters": {},
   "start_time": "2024-05-19T07:59:34.706122",
   "version": "2.5.0"
  }
 },
 "nbformat": 4,
 "nbformat_minor": 5
}
