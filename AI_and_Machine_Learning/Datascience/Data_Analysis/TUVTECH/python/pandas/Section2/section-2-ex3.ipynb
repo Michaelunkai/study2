{
 "cells": [
  {
   "cell_type": "markdown",
   "id": "ee71b932",
   "metadata": {
    "papermill": {
     "duration": 0.007205,
     "end_time": "2024-05-15T09:20:12.980613",
     "exception": false,
     "start_time": "2024-05-15T09:20:12.973408",
     "status": "completed"
    },
    "tags": []
   },
   "source": [
    "# Fictional Army - Filtering and Sorting"
   ]
  },
  {
   "cell_type": "markdown",
   "id": "3b8b1cb1",
   "metadata": {
    "papermill": {
     "duration": 0.006225,
     "end_time": "2024-05-15T09:20:12.993427",
     "exception": false,
     "start_time": "2024-05-15T09:20:12.987202",
     "status": "completed"
    },
    "tags": []
   },
   "source": [
    "### Introduction:\n",
    "\n",
    "This exercise was inspired by this [page](http://chrisalbon.com/python/)\n",
    "\n",
    "Special thanks to: https://github.com/chrisalbon for sharing the dataset and materials.\n",
    "\n",
    "### Step 1. Import the necessary libraries"
   ]
  },
  {
   "cell_type": "code",
   "execution_count": 1,
   "id": "1c47730a",
   "metadata": {
    "execution": {
     "iopub.execute_input": "2024-05-15T09:20:13.008953Z",
     "iopub.status.busy": "2024-05-15T09:20:13.007960Z",
     "iopub.status.idle": "2024-05-15T09:20:13.973240Z",
     "shell.execute_reply": "2024-05-15T09:20:13.972077Z"
    },
    "papermill": {
     "duration": 0.976366,
     "end_time": "2024-05-15T09:20:13.976165",
     "exception": false,
     "start_time": "2024-05-15T09:20:12.999799",
     "status": "completed"
    },
    "tags": []
   },
   "outputs": [],
   "source": [
    "import pandas as pd"
   ]
  },
  {
   "cell_type": "markdown",
   "id": "8a038fbb",
   "metadata": {
    "papermill": {
     "duration": 0.006308,
     "end_time": "2024-05-15T09:20:13.989426",
     "exception": false,
     "start_time": "2024-05-15T09:20:13.983118",
     "status": "completed"
    },
    "tags": []
   },
   "source": [
    "### Step 2. This is the data given as a dictionary"
   ]
  },
  {
   "cell_type": "code",
   "execution_count": 2,
   "id": "4795c79c",
   "metadata": {
    "collapsed": true,
    "execution": {
     "iopub.execute_input": "2024-05-15T09:20:14.004501Z",
     "iopub.status.busy": "2024-05-15T09:20:14.004004Z",
     "iopub.status.idle": "2024-05-15T09:20:14.014296Z",
     "shell.execute_reply": "2024-05-15T09:20:14.012619Z"
    },
    "jupyter": {
     "outputs_hidden": true
    },
    "papermill": {
     "duration": 0.021165,
     "end_time": "2024-05-15T09:20:14.017100",
     "exception": false,
     "start_time": "2024-05-15T09:20:13.995935",
     "status": "completed"
    },
    "tags": []
   },
   "outputs": [],
   "source": [
    "# Create an example dataframe about a fictional army\n",
    "raw_data = {'regiment': ['Nighthawks', 'Nighthawks', 'Nighthawks', 'Nighthawks', 'Dragoons', 'Dragoons', 'Dragoons', 'Dragoons', 'Scouts', 'Scouts', 'Scouts', 'Scouts'],\n",
    "            'company': ['1st', '1st', '2nd', '2nd', '1st', '1st', '2nd', '2nd','1st', '1st', '2nd', '2nd'],\n",
    "            'deaths': [523, 52, 25, 616, 43, 234, 523, 62, 62, 73, 37, 35],\n",
    "            'battles': [5, 42, 2, 2, 4, 7, 8, 3, 4, 7, 8, 9],\n",
    "            'size': [1045, 957, 1099, 1400, 1592, 1006, 987, 849, 973, 1005, 1099, 1523],\n",
    "            'veterans': [1, 5, 62, 26, 73, 37, 949, 48, 48, 435, 63, 345],\n",
    "            'readiness': [1, 2, 3, 3, 2, 1, 2, 3, 2, 1, 2, 3],\n",
    "            'armored': [1, 0, 1, 1, 0, 1, 0, 1, 0, 0, 1, 1],\n",
    "            'deserters': [4, 24, 31, 2, 3, 4, 24, 31, 2, 3, 2, 3],\n",
    "            'origin': ['Arizona', 'California', 'Texas', 'Florida', 'Maine', 'Iowa', 'Alaska', 'Washington', 'Oregon', 'Wyoming', 'Louisana', 'Georgia']}"
   ]
  },
  {
   "cell_type": "markdown",
   "id": "d1fedde9",
   "metadata": {
    "papermill": {
     "duration": 0.00664,
     "end_time": "2024-05-15T09:20:14.030339",
     "exception": false,
     "start_time": "2024-05-15T09:20:14.023699",
     "status": "completed"
    },
    "tags": []
   },
   "source": [
    "### Step 3. Create a dataframe and assign it to a variable called army. \n",
    "\n",
    "#### Don't forget to include the columns names in the order presented in the dictionary ('regiment', 'company', 'deaths'...) so that the column index order is consistent with the solutions. If omitted, pandas will order the columns alphabetically."
   ]
  },
  {
   "cell_type": "code",
   "execution_count": null,
   "id": "69b70cda",
   "metadata": {
    "papermill": {
     "duration": 0.007187,
     "end_time": "2024-05-15T09:20:14.044119",
     "exception": false,
     "start_time": "2024-05-15T09:20:14.036932",
     "status": "completed"
    },
    "tags": []
   },
   "outputs": [],
   "source": []
  },
  {
   "cell_type": "markdown",
   "id": "d4e847b6",
   "metadata": {
    "papermill": {
     "duration": 0.006667,
     "end_time": "2024-05-15T09:20:14.057184",
     "exception": false,
     "start_time": "2024-05-15T09:20:14.050517",
     "status": "completed"
    },
    "tags": []
   },
   "source": [
    "### Step 4. Set the 'origin' colum as the index of the dataframe"
   ]
  },
  {
   "cell_type": "code",
   "execution_count": null,
   "id": "84ee0147",
   "metadata": {
    "papermill": {
     "duration": 0.006821,
     "end_time": "2024-05-15T09:20:14.071844",
     "exception": false,
     "start_time": "2024-05-15T09:20:14.065023",
     "status": "completed"
    },
    "tags": []
   },
   "outputs": [],
   "source": []
  },
  {
   "cell_type": "markdown",
   "id": "fe5b89cc",
   "metadata": {
    "papermill": {
     "duration": 0.006407,
     "end_time": "2024-05-15T09:20:14.087189",
     "exception": false,
     "start_time": "2024-05-15T09:20:14.080782",
     "status": "completed"
    },
    "tags": []
   },
   "source": [
    "### Step 5. Print only the column veterans"
   ]
  },
  {
   "cell_type": "code",
   "execution_count": null,
   "id": "9c402747",
   "metadata": {
    "papermill": {
     "duration": 0.006397,
     "end_time": "2024-05-15T09:20:14.100602",
     "exception": false,
     "start_time": "2024-05-15T09:20:14.094205",
     "status": "completed"
    },
    "tags": []
   },
   "outputs": [],
   "source": []
  },
  {
   "cell_type": "markdown",
   "id": "5d19eef0",
   "metadata": {
    "papermill": {
     "duration": 0.00618,
     "end_time": "2024-05-15T09:20:14.113335",
     "exception": false,
     "start_time": "2024-05-15T09:20:14.107155",
     "status": "completed"
    },
    "tags": []
   },
   "source": [
    "### Step 6. Print the columns 'veterans' and 'deaths'"
   ]
  },
  {
   "cell_type": "code",
   "execution_count": null,
   "id": "4eb66926",
   "metadata": {
    "papermill": {
     "duration": 0.006995,
     "end_time": "2024-05-15T09:20:14.127388",
     "exception": false,
     "start_time": "2024-05-15T09:20:14.120393",
     "status": "completed"
    },
    "tags": []
   },
   "outputs": [],
   "source": []
  },
  {
   "cell_type": "markdown",
   "id": "e9600657",
   "metadata": {
    "papermill": {
     "duration": 0.00625,
     "end_time": "2024-05-15T09:20:14.140206",
     "exception": false,
     "start_time": "2024-05-15T09:20:14.133956",
     "status": "completed"
    },
    "tags": []
   },
   "source": [
    "### Step 7. Print the name of all the columns."
   ]
  },
  {
   "cell_type": "code",
   "execution_count": null,
   "id": "839ad53b",
   "metadata": {
    "papermill": {
     "duration": 0.006136,
     "end_time": "2024-05-15T09:20:14.153192",
     "exception": false,
     "start_time": "2024-05-15T09:20:14.147056",
     "status": "completed"
    },
    "tags": []
   },
   "outputs": [],
   "source": []
  },
  {
   "cell_type": "markdown",
   "id": "a8b2ccb5",
   "metadata": {
    "papermill": {
     "duration": 0.007145,
     "end_time": "2024-05-15T09:20:14.167687",
     "exception": false,
     "start_time": "2024-05-15T09:20:14.160542",
     "status": "completed"
    },
    "tags": []
   },
   "source": [
    "### Step 8. Select the 'deaths', 'size' and 'deserters' columns from Maine and Alaska"
   ]
  },
  {
   "cell_type": "code",
   "execution_count": null,
   "id": "88b2d858",
   "metadata": {
    "papermill": {
     "duration": 0.007069,
     "end_time": "2024-05-15T09:20:14.181407",
     "exception": false,
     "start_time": "2024-05-15T09:20:14.174338",
     "status": "completed"
    },
    "tags": []
   },
   "outputs": [],
   "source": []
  },
  {
   "cell_type": "markdown",
   "id": "f8b3d806",
   "metadata": {
    "papermill": {
     "duration": 0.006741,
     "end_time": "2024-05-15T09:20:14.194786",
     "exception": false,
     "start_time": "2024-05-15T09:20:14.188045",
     "status": "completed"
    },
    "tags": []
   },
   "source": [
    "### Step 9. Select the rows 3 to 7 and the columns 3 to 6"
   ]
  },
  {
   "cell_type": "code",
   "execution_count": null,
   "id": "01cb5043",
   "metadata": {
    "papermill": {
     "duration": 0.006332,
     "end_time": "2024-05-15T09:20:14.208605",
     "exception": false,
     "start_time": "2024-05-15T09:20:14.202273",
     "status": "completed"
    },
    "tags": []
   },
   "outputs": [],
   "source": []
  },
  {
   "cell_type": "markdown",
   "id": "31ceeebd",
   "metadata": {
    "papermill": {
     "duration": 0.006401,
     "end_time": "2024-05-15T09:20:14.221995",
     "exception": false,
     "start_time": "2024-05-15T09:20:14.215594",
     "status": "completed"
    },
    "tags": []
   },
   "source": [
    "### Step 10. Select every row after the fourth row and all columns"
   ]
  },
  {
   "cell_type": "code",
   "execution_count": null,
   "id": "7b92f3f6",
   "metadata": {
    "papermill": {
     "duration": 0.006124,
     "end_time": "2024-05-15T09:20:14.234634",
     "exception": false,
     "start_time": "2024-05-15T09:20:14.228510",
     "status": "completed"
    },
    "tags": []
   },
   "outputs": [],
   "source": []
  },
  {
   "cell_type": "markdown",
   "id": "99a418bc",
   "metadata": {
    "papermill": {
     "duration": 0.006254,
     "end_time": "2024-05-15T09:20:14.248362",
     "exception": false,
     "start_time": "2024-05-15T09:20:14.242108",
     "status": "completed"
    },
    "tags": []
   },
   "source": [
    "### Step 11. Select every row up to the 4th row and all columns"
   ]
  },
  {
   "cell_type": "code",
   "execution_count": null,
   "id": "674d0470",
   "metadata": {
    "papermill": {
     "duration": 0.00691,
     "end_time": "2024-05-15T09:20:14.262922",
     "exception": false,
     "start_time": "2024-05-15T09:20:14.256012",
     "status": "completed"
    },
    "tags": []
   },
   "outputs": [],
   "source": []
  },
  {
   "cell_type": "markdown",
   "id": "d43c51a5",
   "metadata": {
    "papermill": {
     "duration": 0.006284,
     "end_time": "2024-05-15T09:20:14.276374",
     "exception": false,
     "start_time": "2024-05-15T09:20:14.270090",
     "status": "completed"
    },
    "tags": []
   },
   "source": [
    "### Step 12. Select the 3rd column up to the 7th column"
   ]
  },
  {
   "cell_type": "code",
   "execution_count": null,
   "id": "6efd6e6c",
   "metadata": {
    "papermill": {
     "duration": 0.006668,
     "end_time": "2024-05-15T09:20:14.290042",
     "exception": false,
     "start_time": "2024-05-15T09:20:14.283374",
     "status": "completed"
    },
    "tags": []
   },
   "outputs": [],
   "source": []
  },
  {
   "cell_type": "markdown",
   "id": "bc3f43a3",
   "metadata": {
    "papermill": {
     "duration": 0.006449,
     "end_time": "2024-05-15T09:20:14.303059",
     "exception": false,
     "start_time": "2024-05-15T09:20:14.296610",
     "status": "completed"
    },
    "tags": []
   },
   "source": [
    "### Step 13. Select rows where df.deaths is greater than 50"
   ]
  },
  {
   "cell_type": "code",
   "execution_count": null,
   "id": "0a71ed8b",
   "metadata": {
    "papermill": {
     "duration": 0.007044,
     "end_time": "2024-05-15T09:20:14.316553",
     "exception": false,
     "start_time": "2024-05-15T09:20:14.309509",
     "status": "completed"
    },
    "tags": []
   },
   "outputs": [],
   "source": []
  },
  {
   "cell_type": "markdown",
   "id": "9c299bb5",
   "metadata": {
    "papermill": {
     "duration": 0.006676,
     "end_time": "2024-05-15T09:20:14.331333",
     "exception": false,
     "start_time": "2024-05-15T09:20:14.324657",
     "status": "completed"
    },
    "tags": []
   },
   "source": [
    "### Step 14. Select rows where df.deaths is greater than 500 or less than 50"
   ]
  },
  {
   "cell_type": "code",
   "execution_count": null,
   "id": "903b0f36",
   "metadata": {
    "papermill": {
     "duration": 0.007042,
     "end_time": "2024-05-15T09:20:14.345659",
     "exception": false,
     "start_time": "2024-05-15T09:20:14.338617",
     "status": "completed"
    },
    "tags": []
   },
   "outputs": [],
   "source": []
  },
  {
   "cell_type": "markdown",
   "id": "98f4cf32",
   "metadata": {
    "papermill": {
     "duration": 0.006662,
     "end_time": "2024-05-15T09:20:14.359001",
     "exception": false,
     "start_time": "2024-05-15T09:20:14.352339",
     "status": "completed"
    },
    "tags": []
   },
   "source": [
    "### Step 15. Select all the regiments not named \"Dragoons\""
   ]
  },
  {
   "cell_type": "code",
   "execution_count": null,
   "id": "668412d2",
   "metadata": {
    "papermill": {
     "duration": 0.006909,
     "end_time": "2024-05-15T09:20:14.372988",
     "exception": false,
     "start_time": "2024-05-15T09:20:14.366079",
     "status": "completed"
    },
    "tags": []
   },
   "outputs": [],
   "source": []
  },
  {
   "cell_type": "markdown",
   "id": "7b193394",
   "metadata": {
    "papermill": {
     "duration": 0.006282,
     "end_time": "2024-05-15T09:20:14.386276",
     "exception": false,
     "start_time": "2024-05-15T09:20:14.379994",
     "status": "completed"
    },
    "tags": []
   },
   "source": [
    "### Step 16. Select the rows called Texas and Arizona"
   ]
  },
  {
   "cell_type": "code",
   "execution_count": null,
   "id": "8e97d9f4",
   "metadata": {
    "papermill": {
     "duration": 0.006921,
     "end_time": "2024-05-15T09:20:14.400632",
     "exception": false,
     "start_time": "2024-05-15T09:20:14.393711",
     "status": "completed"
    },
    "tags": []
   },
   "outputs": [],
   "source": []
  },
  {
   "cell_type": "markdown",
   "id": "85c2bc5d",
   "metadata": {
    "papermill": {
     "duration": 0.007151,
     "end_time": "2024-05-15T09:20:14.414632",
     "exception": false,
     "start_time": "2024-05-15T09:20:14.407481",
     "status": "completed"
    },
    "tags": []
   },
   "source": [
    "### Step 17. Select the third cell in the row named Arizona"
   ]
  },
  {
   "cell_type": "code",
   "execution_count": null,
   "id": "c2b0ed7b",
   "metadata": {
    "papermill": {
     "duration": 0.006346,
     "end_time": "2024-05-15T09:20:14.427599",
     "exception": false,
     "start_time": "2024-05-15T09:20:14.421253",
     "status": "completed"
    },
    "tags": []
   },
   "outputs": [],
   "source": []
  },
  {
   "cell_type": "markdown",
   "id": "49af588f",
   "metadata": {
    "papermill": {
     "duration": 0.006155,
     "end_time": "2024-05-15T09:20:14.440290",
     "exception": false,
     "start_time": "2024-05-15T09:20:14.434135",
     "status": "completed"
    },
    "tags": []
   },
   "source": [
    "### Step 18. Select the third cell down in the column named deaths"
   ]
  },
  {
   "cell_type": "code",
   "execution_count": null,
   "id": "3fef2381",
   "metadata": {
    "papermill": {
     "duration": 0.006314,
     "end_time": "2024-05-15T09:20:14.453683",
     "exception": false,
     "start_time": "2024-05-15T09:20:14.447369",
     "status": "completed"
    },
    "tags": []
   },
   "outputs": [],
   "source": []
  }
 ],
 "metadata": {
  "kaggle": {
   "accelerator": "none",
   "dataSources": [
    {
     "datasetId": 5011184,
     "sourceId": 8418200,
     "sourceType": "datasetVersion"
    }
   ],
   "isGpuEnabled": false,
   "isInternetEnabled": true,
   "language": "python",
   "sourceType": "notebook"
  },
  "kernelspec": {
   "display_name": "Python 3",
   "language": "python",
   "name": "python3"
  },
  "language_info": {
   "codemirror_mode": {
    "name": "ipython",
    "version": 3
   },
   "file_extension": ".py",
   "mimetype": "text/x-python",
   "name": "python",
   "nbconvert_exporter": "python",
   "pygments_lexer": "ipython3",
   "version": "3.10.13"
  },
  "papermill": {
   "default_parameters": {},
   "duration": 7.100214,
   "end_time": "2024-05-15T09:20:17.149653",
   "environment_variables": {},
   "exception": null,
   "input_path": "__notebook__.ipynb",
   "output_path": "__notebook__.ipynb",
   "parameters": {},
   "start_time": "2024-05-15T09:20:10.049439",
   "version": "2.5.0"
  }
 },
 "nbformat": 4,
 "nbformat_minor": 5
}
