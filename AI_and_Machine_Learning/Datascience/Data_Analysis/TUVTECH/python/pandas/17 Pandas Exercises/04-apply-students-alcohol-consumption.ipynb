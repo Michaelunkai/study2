{
 "cells": [
  {
   "cell_type": "markdown",
   "id": "44d7b1da",
   "metadata": {
    "papermill": {
     "duration": 0.006472,
     "end_time": "2024-05-19T08:05:17.234166",
     "exception": false,
     "start_time": "2024-05-19T08:05:17.227694",
     "status": "completed"
    },
    "tags": []
   },
   "source": [
    "# Student Alcohol Consumption"
   ]
  },
  {
   "cell_type": "markdown",
   "id": "d9619768",
   "metadata": {
    "papermill": {
     "duration": 0.006061,
     "end_time": "2024-05-19T08:05:17.246726",
     "exception": false,
     "start_time": "2024-05-19T08:05:17.240665",
     "status": "completed"
    },
    "tags": []
   },
   "source": [
    "### Introduction:\n",
    "\n",
    "This time you will import a dataset from the UCI.\n",
    "\n",
    "### Step 1. Import the necessary libraries"
   ]
  },
  {
   "cell_type": "code",
   "execution_count": null,
   "id": "a24bf755",
   "metadata": {
    "collapsed": false,
    "jupyter": {
     "outputs_hidden": false
    },
    "papermill": {
     "duration": 0.006184,
     "end_time": "2024-05-19T08:05:17.259664",
     "exception": false,
     "start_time": "2024-05-19T08:05:17.253480",
     "status": "completed"
    },
    "tags": []
   },
   "outputs": [],
   "source": []
  },
  {
   "cell_type": "markdown",
   "id": "139a0b56",
   "metadata": {
    "papermill": {
     "duration": 0.005703,
     "end_time": "2024-05-19T08:05:17.271468",
     "exception": false,
     "start_time": "2024-05-19T08:05:17.265765",
     "status": "completed"
    },
    "tags": []
   },
   "source": [
    "### Step 2. Import the dataset from this [address](https://raw.githubusercontent.com/guipsamora/pandas_exercises/master/04_Apply/Students_Alcohol_Consumption/student-mat.csv)."
   ]
  },
  {
   "cell_type": "code",
   "execution_count": null,
   "id": "be3a9e86",
   "metadata": {
    "papermill": {
     "duration": 0.005822,
     "end_time": "2024-05-19T08:05:17.283318",
     "exception": false,
     "start_time": "2024-05-19T08:05:17.277496",
     "status": "completed"
    },
    "tags": []
   },
   "outputs": [],
   "source": []
  },
  {
   "cell_type": "markdown",
   "id": "64699af1",
   "metadata": {
    "papermill": {
     "duration": 0.005899,
     "end_time": "2024-05-19T08:05:17.295944",
     "exception": false,
     "start_time": "2024-05-19T08:05:17.290045",
     "status": "completed"
    },
    "tags": []
   },
   "source": [
    "### Step 3. Assign it to a variable called df."
   ]
  },
  {
   "cell_type": "code",
   "execution_count": null,
   "id": "666f97b6",
   "metadata": {
    "collapsed": false,
    "jupyter": {
     "outputs_hidden": false
    },
    "papermill": {
     "duration": 0.005865,
     "end_time": "2024-05-19T08:05:17.307912",
     "exception": false,
     "start_time": "2024-05-19T08:05:17.302047",
     "status": "completed"
    },
    "tags": []
   },
   "outputs": [],
   "source": []
  },
  {
   "cell_type": "markdown",
   "id": "feb25f0c",
   "metadata": {
    "papermill": {
     "duration": 0.005786,
     "end_time": "2024-05-19T08:05:17.319800",
     "exception": false,
     "start_time": "2024-05-19T08:05:17.314014",
     "status": "completed"
    },
    "tags": []
   },
   "source": [
    "### Step 4. For the purpose of this exercise slice the dataframe from 'school' until the 'guardian' column"
   ]
  },
  {
   "cell_type": "code",
   "execution_count": null,
   "id": "ce6f78e5",
   "metadata": {
    "collapsed": false,
    "jupyter": {
     "outputs_hidden": false
    },
    "papermill": {
     "duration": 0.005824,
     "end_time": "2024-05-19T08:05:17.331671",
     "exception": false,
     "start_time": "2024-05-19T08:05:17.325847",
     "status": "completed"
    },
    "tags": []
   },
   "outputs": [],
   "source": []
  },
  {
   "cell_type": "markdown",
   "id": "8a93f7eb",
   "metadata": {
    "papermill": {
     "duration": 0.005671,
     "end_time": "2024-05-19T08:05:17.343457",
     "exception": false,
     "start_time": "2024-05-19T08:05:17.337786",
     "status": "completed"
    },
    "tags": []
   },
   "source": [
    "### Step 5. Create a lambda function that will capitalize strings."
   ]
  },
  {
   "cell_type": "code",
   "execution_count": null,
   "id": "8c0d215b",
   "metadata": {
    "collapsed": false,
    "jupyter": {
     "outputs_hidden": false
    },
    "papermill": {
     "duration": 0.005833,
     "end_time": "2024-05-19T08:05:17.355597",
     "exception": false,
     "start_time": "2024-05-19T08:05:17.349764",
     "status": "completed"
    },
    "tags": []
   },
   "outputs": [],
   "source": []
  },
  {
   "cell_type": "markdown",
   "id": "302dd20a",
   "metadata": {
    "papermill": {
     "duration": 0.005801,
     "end_time": "2024-05-19T08:05:17.367728",
     "exception": false,
     "start_time": "2024-05-19T08:05:17.361927",
     "status": "completed"
    },
    "tags": []
   },
   "source": [
    "### Step 6. Capitalize both Mjob and Fjob"
   ]
  },
  {
   "cell_type": "code",
   "execution_count": null,
   "id": "4061b1bd",
   "metadata": {
    "collapsed": false,
    "jupyter": {
     "outputs_hidden": false
    },
    "papermill": {
     "duration": 0.007118,
     "end_time": "2024-05-19T08:05:17.381254",
     "exception": false,
     "start_time": "2024-05-19T08:05:17.374136",
     "status": "completed"
    },
    "tags": []
   },
   "outputs": [],
   "source": []
  },
  {
   "cell_type": "markdown",
   "id": "54306780",
   "metadata": {
    "papermill": {
     "duration": 0.00582,
     "end_time": "2024-05-19T08:05:17.393212",
     "exception": false,
     "start_time": "2024-05-19T08:05:17.387392",
     "status": "completed"
    },
    "tags": []
   },
   "source": [
    "### Step 7. Print the last elements of the data set."
   ]
  },
  {
   "cell_type": "code",
   "execution_count": null,
   "id": "fc4d8b0a",
   "metadata": {
    "collapsed": false,
    "jupyter": {
     "outputs_hidden": false
    },
    "papermill": {
     "duration": 0.005762,
     "end_time": "2024-05-19T08:05:17.405007",
     "exception": false,
     "start_time": "2024-05-19T08:05:17.399245",
     "status": "completed"
    },
    "tags": []
   },
   "outputs": [],
   "source": []
  },
  {
   "cell_type": "markdown",
   "id": "9c86419c",
   "metadata": {
    "papermill": {
     "duration": 0.005898,
     "end_time": "2024-05-19T08:05:17.416924",
     "exception": false,
     "start_time": "2024-05-19T08:05:17.411026",
     "status": "completed"
    },
    "tags": []
   },
   "source": [
    "### Step 8. Did you notice the original dataframe is still lowercase? Why is that? Fix it and capitalize Mjob and Fjob."
   ]
  },
  {
   "cell_type": "code",
   "execution_count": null,
   "id": "3b2f71e9",
   "metadata": {
    "collapsed": false,
    "jupyter": {
     "outputs_hidden": false
    },
    "papermill": {
     "duration": 0.005975,
     "end_time": "2024-05-19T08:05:17.429331",
     "exception": false,
     "start_time": "2024-05-19T08:05:17.423356",
     "status": "completed"
    },
    "tags": []
   },
   "outputs": [],
   "source": []
  },
  {
   "cell_type": "markdown",
   "id": "834897be",
   "metadata": {
    "papermill": {
     "duration": 0.00582,
     "end_time": "2024-05-19T08:05:17.441430",
     "exception": false,
     "start_time": "2024-05-19T08:05:17.435610",
     "status": "completed"
    },
    "tags": []
   },
   "source": [
    "### Step 9. Create a function called majority that returns a boolean value to a new column called legal_drinker (Consider majority as older than 17 years old)"
   ]
  },
  {
   "cell_type": "code",
   "execution_count": null,
   "id": "99f60979",
   "metadata": {
    "collapsed": false,
    "jupyter": {
     "outputs_hidden": false
    },
    "papermill": {
     "duration": 0.006017,
     "end_time": "2024-05-19T08:05:17.453644",
     "exception": false,
     "start_time": "2024-05-19T08:05:17.447627",
     "status": "completed"
    },
    "tags": []
   },
   "outputs": [],
   "source": []
  },
  {
   "cell_type": "markdown",
   "id": "733f4ea7",
   "metadata": {
    "papermill": {
     "duration": 0.005859,
     "end_time": "2024-05-19T08:05:17.465752",
     "exception": false,
     "start_time": "2024-05-19T08:05:17.459893",
     "status": "completed"
    },
    "tags": []
   },
   "source": [
    "### Step 10. Multiply every number of the dataset by 10. \n",
    "##### I know this makes no sense, don't forget it is just an exercise"
   ]
  },
  {
   "cell_type": "code",
   "execution_count": null,
   "id": "76e1d639",
   "metadata": {
    "collapsed": false,
    "jupyter": {
     "outputs_hidden": false
    },
    "papermill": {
     "duration": 0.006266,
     "end_time": "2024-05-19T08:05:17.478229",
     "exception": false,
     "start_time": "2024-05-19T08:05:17.471963",
     "status": "completed"
    },
    "tags": []
   },
   "outputs": [],
   "source": []
  }
 ],
 "metadata": {
  "anaconda-cloud": {},
  "kaggle": {
   "accelerator": "none",
   "dataSources": [
    {
     "datasetId": 5011184,
     "sourceId": 8418200,
     "sourceType": "datasetVersion"
    }
   ],
   "dockerImageVersionId": 30698,
   "isGpuEnabled": false,
   "isInternetEnabled": true,
   "language": "python",
   "sourceType": "notebook"
  },
  "kernelspec": {
   "display_name": "Python 3",
   "language": "python",
   "name": "python3"
  },
  "language_info": {
   "codemirror_mode": {
    "name": "ipython",
    "version": 3
   },
   "file_extension": ".py",
   "mimetype": "text/x-python",
   "name": "python",
   "nbconvert_exporter": "python",
   "pygments_lexer": "ipython3",
   "version": "3.10.13"
  },
  "papermill": {
   "default_parameters": {},
   "duration": 3.847738,
   "end_time": "2024-05-19T08:05:17.904606",
   "environment_variables": {},
   "exception": null,
   "input_path": "__notebook__.ipynb",
   "output_path": "__notebook__.ipynb",
   "parameters": {},
   "start_time": "2024-05-19T08:05:14.056868",
   "version": "2.5.0"
  }
 },
 "nbformat": 4,
 "nbformat_minor": 5
}
