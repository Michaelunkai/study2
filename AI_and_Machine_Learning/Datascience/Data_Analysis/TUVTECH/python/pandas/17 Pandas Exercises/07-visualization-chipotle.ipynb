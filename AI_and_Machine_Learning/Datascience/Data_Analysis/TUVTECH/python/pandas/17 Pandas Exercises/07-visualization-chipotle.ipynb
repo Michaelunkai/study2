{
 "cells": [
  {
   "cell_type": "markdown",
   "id": "40a74959",
   "metadata": {
    "papermill": {
     "duration": 0.004037,
     "end_time": "2024-05-19T09:01:00.192670",
     "exception": false,
     "start_time": "2024-05-19T09:01:00.188633",
     "status": "completed"
    },
    "tags": []
   },
   "source": [
    "# Visualizing Chipotle's Data"
   ]
  },
  {
   "cell_type": "markdown",
   "id": "4d1e5819",
   "metadata": {
    "papermill": {
     "duration": 0.003127,
     "end_time": "2024-05-19T09:01:00.199620",
     "exception": false,
     "start_time": "2024-05-19T09:01:00.196493",
     "status": "completed"
    },
    "tags": []
   },
   "source": [
    "This time we are going to pull data directly from the internet.\n",
    "Special thanks to: https://github.com/justmarkham for sharing the dataset and materials.\n",
    "\n",
    "### Step 1. Import the necessary libraries"
   ]
  },
  {
   "cell_type": "code",
   "execution_count": 1,
   "id": "adafd3eb",
   "metadata": {
    "execution": {
     "iopub.execute_input": "2024-05-19T09:01:00.209640Z",
     "iopub.status.busy": "2024-05-19T09:01:00.208624Z",
     "iopub.status.idle": "2024-05-19T09:01:01.189249Z",
     "shell.execute_reply": "2024-05-19T09:01:01.187993Z"
    },
    "papermill": {
     "duration": 0.989098,
     "end_time": "2024-05-19T09:01:01.192254",
     "exception": false,
     "start_time": "2024-05-19T09:01:00.203156",
     "status": "completed"
    },
    "tags": []
   },
   "outputs": [],
   "source": [
    "import pandas as pd\n",
    "import matplotlib.pyplot as plt\n",
    "from collections import Counter\n",
    "\n",
    "# set this so the graphs open internally\n",
    "%matplotlib inline"
   ]
  },
  {
   "cell_type": "markdown",
   "id": "14c4ba33",
   "metadata": {
    "papermill": {
     "duration": 0.0037,
     "end_time": "2024-05-19T09:01:01.199515",
     "exception": false,
     "start_time": "2024-05-19T09:01:01.195815",
     "status": "completed"
    },
    "tags": []
   },
   "source": [
    "### Step 2. Import the dataset from this [address](https://raw.githubusercontent.com/justmarkham/DAT8/master/data/chipotle.tsv). "
   ]
  },
  {
   "cell_type": "code",
   "execution_count": null,
   "id": "f26d9543",
   "metadata": {
    "papermill": {
     "duration": 0.003126,
     "end_time": "2024-05-19T09:01:01.206193",
     "exception": false,
     "start_time": "2024-05-19T09:01:01.203067",
     "status": "completed"
    },
    "tags": []
   },
   "outputs": [],
   "source": []
  },
  {
   "cell_type": "markdown",
   "id": "8e115355",
   "metadata": {
    "papermill": {
     "duration": 0.003032,
     "end_time": "2024-05-19T09:01:01.212589",
     "exception": false,
     "start_time": "2024-05-19T09:01:01.209557",
     "status": "completed"
    },
    "tags": []
   },
   "source": [
    "### Step 3. Assign it to a variable called chipo."
   ]
  },
  {
   "cell_type": "code",
   "execution_count": null,
   "id": "b8594623",
   "metadata": {
    "papermill": {
     "duration": 0.003392,
     "end_time": "2024-05-19T09:01:01.219724",
     "exception": false,
     "start_time": "2024-05-19T09:01:01.216332",
     "status": "completed"
    },
    "tags": []
   },
   "outputs": [],
   "source": []
  },
  {
   "cell_type": "markdown",
   "id": "6be281ae",
   "metadata": {
    "papermill": {
     "duration": 0.003073,
     "end_time": "2024-05-19T09:01:01.226241",
     "exception": false,
     "start_time": "2024-05-19T09:01:01.223168",
     "status": "completed"
    },
    "tags": []
   },
   "source": [
    "### Step 4. See the first 10 entries"
   ]
  },
  {
   "cell_type": "code",
   "execution_count": null,
   "id": "74c18dca",
   "metadata": {
    "papermill": {
     "duration": 0.003463,
     "end_time": "2024-05-19T09:01:01.233024",
     "exception": false,
     "start_time": "2024-05-19T09:01:01.229561",
     "status": "completed"
    },
    "tags": []
   },
   "outputs": [],
   "source": []
  },
  {
   "cell_type": "markdown",
   "id": "69541b25",
   "metadata": {
    "papermill": {
     "duration": 0.003152,
     "end_time": "2024-05-19T09:01:01.239891",
     "exception": false,
     "start_time": "2024-05-19T09:01:01.236739",
     "status": "completed"
    },
    "tags": []
   },
   "source": [
    "### Step 5. Create a histogram of the top 5 items bought"
   ]
  },
  {
   "cell_type": "code",
   "execution_count": null,
   "id": "f741ef51",
   "metadata": {
    "papermill": {
     "duration": 0.003007,
     "end_time": "2024-05-19T09:01:01.246246",
     "exception": false,
     "start_time": "2024-05-19T09:01:01.243239",
     "status": "completed"
    },
    "tags": []
   },
   "outputs": [],
   "source": []
  },
  {
   "cell_type": "markdown",
   "id": "84416dd0",
   "metadata": {
    "papermill": {
     "duration": 0.003183,
     "end_time": "2024-05-19T09:01:01.253013",
     "exception": false,
     "start_time": "2024-05-19T09:01:01.249830",
     "status": "completed"
    },
    "tags": []
   },
   "source": [
    "### Step 6. Create a scatterplot with the number of items orderered per order price\n",
    "#### Hint: Price should be in the X-axis and Items ordered in the Y-axis"
   ]
  },
  {
   "cell_type": "code",
   "execution_count": null,
   "id": "c261c9ef",
   "metadata": {
    "papermill": {
     "duration": 0.003304,
     "end_time": "2024-05-19T09:01:01.259700",
     "exception": false,
     "start_time": "2024-05-19T09:01:01.256396",
     "status": "completed"
    },
    "tags": []
   },
   "outputs": [],
   "source": []
  },
  {
   "cell_type": "markdown",
   "id": "8ee6e9f3",
   "metadata": {
    "papermill": {
     "duration": 0.003245,
     "end_time": "2024-05-19T09:01:01.266499",
     "exception": false,
     "start_time": "2024-05-19T09:01:01.263254",
     "status": "completed"
    },
    "tags": []
   },
   "source": [
    "### Step 7. BONUS: Create a question and a graph to answer your own question."
   ]
  },
  {
   "cell_type": "code",
   "execution_count": null,
   "id": "348405d3",
   "metadata": {
    "papermill": {
     "duration": 0.003088,
     "end_time": "2024-05-19T09:01:01.273020",
     "exception": false,
     "start_time": "2024-05-19T09:01:01.269932",
     "status": "completed"
    },
    "tags": []
   },
   "outputs": [],
   "source": []
  }
 ],
 "metadata": {
  "kaggle": {
   "accelerator": "none",
   "dataSources": [
    {
     "datasetId": 5011184,
     "sourceId": 8418200,
     "sourceType": "datasetVersion"
    }
   ],
   "isGpuEnabled": false,
   "isInternetEnabled": true,
   "language": "python",
   "sourceType": "notebook"
  },
  "kernelspec": {
   "display_name": "Python 3",
   "language": "python",
   "name": "python3"
  },
  "language_info": {
   "codemirror_mode": {
    "name": "ipython",
    "version": 3
   },
   "file_extension": ".py",
   "mimetype": "text/x-python",
   "name": "python",
   "nbconvert_exporter": "python",
   "pygments_lexer": "ipython3",
   "version": "3.10.13"
  },
  "papermill": {
   "default_parameters": {},
   "duration": 4.70961,
   "end_time": "2024-05-19T09:01:01.899154",
   "environment_variables": {},
   "exception": null,
   "input_path": "__notebook__.ipynb",
   "output_path": "__notebook__.ipynb",
   "parameters": {},
   "start_time": "2024-05-19T09:00:57.189544",
   "version": "2.5.0"
  }
 },
 "nbformat": 4,
 "nbformat_minor": 5
}
