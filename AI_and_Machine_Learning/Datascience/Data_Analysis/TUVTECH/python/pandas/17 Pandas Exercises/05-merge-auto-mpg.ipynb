{
 "cells": [
  {
   "cell_type": "markdown",
   "id": "dd6b9bd7",
   "metadata": {
    "papermill": {
     "duration": 0.005817,
     "end_time": "2024-05-19T08:25:53.897601",
     "exception": false,
     "start_time": "2024-05-19T08:25:53.891784",
     "status": "completed"
    },
    "tags": []
   },
   "source": [
    "# MPG Cars"
   ]
  },
  {
   "cell_type": "markdown",
   "id": "e6056024",
   "metadata": {
    "papermill": {
     "duration": 0.004991,
     "end_time": "2024-05-19T08:25:53.908592",
     "exception": false,
     "start_time": "2024-05-19T08:25:53.903601",
     "status": "completed"
    },
    "tags": []
   },
   "source": [
    "### Introduction:\n",
    "\n",
    "The following exercise utilizes data from [UC Irvine Machine Learning Repository](https://archive.ics.uci.edu/ml/datasets/Auto+MPG)\n",
    "\n",
    "### Step 1. Import the necessary libraries"
   ]
  },
  {
   "cell_type": "code",
   "execution_count": null,
   "id": "cfd9c9c3",
   "metadata": {
    "collapsed": false,
    "jupyter": {
     "outputs_hidden": false
    },
    "papermill": {
     "duration": 0.005014,
     "end_time": "2024-05-19T08:25:53.919401",
     "exception": false,
     "start_time": "2024-05-19T08:25:53.914387",
     "status": "completed"
    },
    "tags": []
   },
   "outputs": [],
   "source": []
  },
  {
   "cell_type": "markdown",
   "id": "2c0222c2",
   "metadata": {
    "papermill": {
     "duration": 0.005381,
     "end_time": "2024-05-19T08:25:53.930165",
     "exception": false,
     "start_time": "2024-05-19T08:25:53.924784",
     "status": "completed"
    },
    "tags": []
   },
   "source": [
    "### Step 2. Import [cars1](https://raw.githubusercontent.com/guipsamora/pandas_exercises/master/05_Merge/Auto_MPG/cars1.csv) and [cars2](https://raw.githubusercontent.com/guipsamora/pandas_exercises/master/05_Merge/Auto_MPG/cars2.csv).  "
   ]
  },
  {
   "cell_type": "code",
   "execution_count": null,
   "id": "0b64566d",
   "metadata": {
    "papermill": {
     "duration": 0.004931,
     "end_time": "2024-05-19T08:25:53.940440",
     "exception": false,
     "start_time": "2024-05-19T08:25:53.935509",
     "status": "completed"
    },
    "tags": []
   },
   "outputs": [],
   "source": []
  },
  {
   "cell_type": "markdown",
   "id": "da42ef97",
   "metadata": {
    "papermill": {
     "duration": 0.005385,
     "end_time": "2024-05-19T08:25:53.951037",
     "exception": false,
     "start_time": "2024-05-19T08:25:53.945652",
     "status": "completed"
    },
    "tags": []
   },
   "source": [
    "   ### Step 3. Assign each to a variable called cars1 and cars2"
   ]
  },
  {
   "cell_type": "code",
   "execution_count": null,
   "id": "baa2f8da",
   "metadata": {
    "collapsed": false,
    "jupyter": {
     "outputs_hidden": false
    },
    "papermill": {
     "duration": 0.005146,
     "end_time": "2024-05-19T08:25:53.962822",
     "exception": false,
     "start_time": "2024-05-19T08:25:53.957676",
     "status": "completed"
    },
    "tags": []
   },
   "outputs": [],
   "source": []
  },
  {
   "cell_type": "markdown",
   "id": "cfd065ea",
   "metadata": {
    "papermill": {
     "duration": 0.004994,
     "end_time": "2024-05-19T08:25:53.973163",
     "exception": false,
     "start_time": "2024-05-19T08:25:53.968169",
     "status": "completed"
    },
    "tags": []
   },
   "source": [
    "### Step 4. Oops, it seems our first dataset has some unnamed blank columns, fix cars1"
   ]
  },
  {
   "cell_type": "code",
   "execution_count": null,
   "id": "85c13f38",
   "metadata": {
    "collapsed": false,
    "jupyter": {
     "outputs_hidden": false
    },
    "papermill": {
     "duration": 0.005589,
     "end_time": "2024-05-19T08:25:53.986024",
     "exception": false,
     "start_time": "2024-05-19T08:25:53.980435",
     "status": "completed"
    },
    "tags": []
   },
   "outputs": [],
   "source": []
  },
  {
   "cell_type": "markdown",
   "id": "baf8fd13",
   "metadata": {
    "papermill": {
     "duration": 0.005507,
     "end_time": "2024-05-19T08:25:53.997235",
     "exception": false,
     "start_time": "2024-05-19T08:25:53.991728",
     "status": "completed"
    },
    "tags": []
   },
   "source": [
    "### Step 5. What is the number of observations in each dataset?"
   ]
  },
  {
   "cell_type": "code",
   "execution_count": null,
   "id": "903c776c",
   "metadata": {
    "collapsed": false,
    "jupyter": {
     "outputs_hidden": false
    },
    "papermill": {
     "duration": 0.005435,
     "end_time": "2024-05-19T08:25:54.008197",
     "exception": false,
     "start_time": "2024-05-19T08:25:54.002762",
     "status": "completed"
    },
    "tags": []
   },
   "outputs": [],
   "source": []
  },
  {
   "cell_type": "markdown",
   "id": "1161350f",
   "metadata": {
    "papermill": {
     "duration": 0.004908,
     "end_time": "2024-05-19T08:25:54.018434",
     "exception": false,
     "start_time": "2024-05-19T08:25:54.013526",
     "status": "completed"
    },
    "tags": []
   },
   "source": [
    "### Step 6. Join cars1 and cars2 into a single DataFrame called cars"
   ]
  },
  {
   "cell_type": "code",
   "execution_count": null,
   "id": "4cb6d761",
   "metadata": {
    "collapsed": false,
    "jupyter": {
     "outputs_hidden": false
    },
    "papermill": {
     "duration": 0.004897,
     "end_time": "2024-05-19T08:25:54.028586",
     "exception": false,
     "start_time": "2024-05-19T08:25:54.023689",
     "status": "completed"
    },
    "tags": []
   },
   "outputs": [],
   "source": []
  },
  {
   "cell_type": "markdown",
   "id": "deeffd06",
   "metadata": {
    "papermill": {
     "duration": 0.004942,
     "end_time": "2024-05-19T08:25:54.038945",
     "exception": false,
     "start_time": "2024-05-19T08:25:54.034003",
     "status": "completed"
    },
    "tags": []
   },
   "source": [
    "### Step 7. Oops, there is a column missing, called owners. Create a random number Series from 15,000 to 73,000."
   ]
  },
  {
   "cell_type": "code",
   "execution_count": null,
   "id": "389f3349",
   "metadata": {
    "collapsed": false,
    "jupyter": {
     "outputs_hidden": false
    },
    "papermill": {
     "duration": 0.005495,
     "end_time": "2024-05-19T08:25:54.050629",
     "exception": false,
     "start_time": "2024-05-19T08:25:54.045134",
     "status": "completed"
    },
    "tags": []
   },
   "outputs": [],
   "source": []
  },
  {
   "cell_type": "markdown",
   "id": "0de3b316",
   "metadata": {
    "papermill": {
     "duration": 0.006423,
     "end_time": "2024-05-19T08:25:54.062716",
     "exception": false,
     "start_time": "2024-05-19T08:25:54.056293",
     "status": "completed"
    },
    "tags": []
   },
   "source": [
    "### Step 8. Add the column owners to cars"
   ]
  },
  {
   "cell_type": "code",
   "execution_count": null,
   "id": "a368ea1f",
   "metadata": {
    "collapsed": false,
    "jupyter": {
     "outputs_hidden": false
    },
    "papermill": {
     "duration": 0.004934,
     "end_time": "2024-05-19T08:25:54.073094",
     "exception": false,
     "start_time": "2024-05-19T08:25:54.068160",
     "status": "completed"
    },
    "tags": []
   },
   "outputs": [],
   "source": []
  }
 ],
 "metadata": {
  "anaconda-cloud": {},
  "kaggle": {
   "accelerator": "none",
   "dataSources": [
    {
     "datasetId": 5011184,
     "sourceId": 8418200,
     "sourceType": "datasetVersion"
    }
   ],
   "dockerImageVersionId": 30698,
   "isGpuEnabled": false,
   "isInternetEnabled": true,
   "language": "python",
   "sourceType": "notebook"
  },
  "kernelspec": {
   "display_name": "Python 3",
   "language": "python",
   "name": "python3"
  },
  "language_info": {
   "codemirror_mode": {
    "name": "ipython",
    "version": 3
   },
   "file_extension": ".py",
   "mimetype": "text/x-python",
   "name": "python",
   "nbconvert_exporter": "python",
   "pygments_lexer": "ipython3",
   "version": "3.10.13"
  },
  "papermill": {
   "default_parameters": {},
   "duration": 3.899049,
   "end_time": "2024-05-19T08:25:54.500065",
   "environment_variables": {},
   "exception": null,
   "input_path": "__notebook__.ipynb",
   "output_path": "__notebook__.ipynb",
   "parameters": {},
   "start_time": "2024-05-19T08:25:50.601016",
   "version": "2.5.0"
  }
 },
 "nbformat": 4,
 "nbformat_minor": 5
}
