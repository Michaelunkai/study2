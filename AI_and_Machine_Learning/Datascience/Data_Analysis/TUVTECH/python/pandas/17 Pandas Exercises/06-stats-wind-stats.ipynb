{
 "cells": [
  {
   "cell_type": "markdown",
   "id": "de038fb0",
   "metadata": {
    "papermill": {
     "duration": 0.009523,
     "end_time": "2024-05-19T08:45:09.178557",
     "exception": false,
     "start_time": "2024-05-19T08:45:09.169034",
     "status": "completed"
    },
    "tags": []
   },
   "source": [
    "# Wind Statistics"
   ]
  },
  {
   "cell_type": "markdown",
   "id": "0fdcf51e",
   "metadata": {
    "papermill": {
     "duration": 0.009701,
     "end_time": "2024-05-19T08:45:09.197330",
     "exception": false,
     "start_time": "2024-05-19T08:45:09.187629",
     "status": "completed"
    },
    "tags": []
   },
   "source": [
    "### Introduction:\n",
    "\n",
    "The data have been modified to contain some missing values, identified by NaN.  \n",
    "Using pandas should make this exercise\n",
    "easier, in particular for the bonus question.\n",
    "\n",
    "You should be able to perform all of these operations without using\n",
    "a for loop or other looping construct.\n",
    "\n",
    "\n",
    "1. The data in 'wind.data' has the following format:"
   ]
  },
  {
   "cell_type": "code",
   "execution_count": 1,
   "id": "783e0816",
   "metadata": {
    "collapsed": false,
    "execution": {
     "iopub.execute_input": "2024-05-19T08:45:09.218789Z",
     "iopub.status.busy": "2024-05-19T08:45:09.218306Z",
     "iopub.status.idle": "2024-05-19T08:45:09.236463Z",
     "shell.execute_reply": "2024-05-19T08:45:09.235332Z"
    },
    "jupyter": {
     "outputs_hidden": false
    },
    "papermill": {
     "duration": 0.032732,
     "end_time": "2024-05-19T08:45:09.239286",
     "exception": false,
     "start_time": "2024-05-19T08:45:09.206554",
     "status": "completed"
    },
    "tags": []
   },
   "outputs": [
    {
     "data": {
      "text/plain": [
       "'\\nYr Mo Dy   RPT   VAL   ROS   KIL   SHA   BIR   DUB   CLA   MUL   CLO   BEL   MAL\\n61  1  1 15.04 14.96 13.17  9.29   NaN  9.87 13.67 10.25 10.83 12.58 18.50 15.04\\n61  1  2 14.71   NaN 10.83  6.50 12.62  7.67 11.50 10.04  9.79  9.67 17.54 13.83\\n61  1  3 18.50 16.88 12.33 10.13 11.17  6.17 11.25   NaN  8.50  7.67 12.75 12.71\\n'"
      ]
     },
     "execution_count": 1,
     "metadata": {},
     "output_type": "execute_result"
    }
   ],
   "source": [
    "\"\"\"\n",
    "Yr Mo Dy   RPT   VAL   ROS   KIL   SHA   BIR   DUB   CLA   MUL   CLO   BEL   MAL\n",
    "61  1  1 15.04 14.96 13.17  9.29   NaN  9.87 13.67 10.25 10.83 12.58 18.50 15.04\n",
    "61  1  2 14.71   NaN 10.83  6.50 12.62  7.67 11.50 10.04  9.79  9.67 17.54 13.83\n",
    "61  1  3 18.50 16.88 12.33 10.13 11.17  6.17 11.25   NaN  8.50  7.67 12.75 12.71\n",
    "\"\"\""
   ]
  },
  {
   "cell_type": "markdown",
   "id": "d917a459",
   "metadata": {
    "papermill": {
     "duration": 0.008948,
     "end_time": "2024-05-19T08:45:09.257508",
     "exception": false,
     "start_time": "2024-05-19T08:45:09.248560",
     "status": "completed"
    },
    "tags": []
   },
   "source": [
    "   The first three columns are year, month and day.  The\n",
    "   remaining 12 columns are average windspeeds in knots at 12\n",
    "   locations in Ireland on that day.   \n",
    "\n",
    "   More information about the dataset go [here](wind.desc)."
   ]
  },
  {
   "cell_type": "markdown",
   "id": "fbba70f5",
   "metadata": {
    "papermill": {
     "duration": 0.00959,
     "end_time": "2024-05-19T08:45:09.276640",
     "exception": false,
     "start_time": "2024-05-19T08:45:09.267050",
     "status": "completed"
    },
    "tags": []
   },
   "source": [
    "### Step 1. Import the necessary libraries"
   ]
  },
  {
   "cell_type": "code",
   "execution_count": null,
   "id": "6d19475f",
   "metadata": {
    "collapsed": false,
    "jupyter": {
     "outputs_hidden": false
    },
    "papermill": {
     "duration": 0.008954,
     "end_time": "2024-05-19T08:45:09.294975",
     "exception": false,
     "start_time": "2024-05-19T08:45:09.286021",
     "status": "completed"
    },
    "tags": []
   },
   "outputs": [],
   "source": []
  },
  {
   "cell_type": "markdown",
   "id": "e85abcdf",
   "metadata": {
    "papermill": {
     "duration": 0.009926,
     "end_time": "2024-05-19T08:45:09.314150",
     "exception": false,
     "start_time": "2024-05-19T08:45:09.304224",
     "status": "completed"
    },
    "tags": []
   },
   "source": [
    "### Step 2. Import the dataset from this [address](https://raw.githubusercontent.com/guipsamora/pandas_exercises/master/06_Stats/Wind_Stats/wind.data)"
   ]
  },
  {
   "cell_type": "code",
   "execution_count": null,
   "id": "683185ec",
   "metadata": {
    "papermill": {
     "duration": 0.009009,
     "end_time": "2024-05-19T08:45:09.332402",
     "exception": false,
     "start_time": "2024-05-19T08:45:09.323393",
     "status": "completed"
    },
    "tags": []
   },
   "outputs": [],
   "source": []
  },
  {
   "cell_type": "markdown",
   "id": "a6e8d35a",
   "metadata": {
    "papermill": {
     "duration": 0.008808,
     "end_time": "2024-05-19T08:45:09.350431",
     "exception": false,
     "start_time": "2024-05-19T08:45:09.341623",
     "status": "completed"
    },
    "tags": []
   },
   "source": [
    "### Step 3. Assign it to a variable called data and replace the first 3 columns by a proper datetime index."
   ]
  },
  {
   "cell_type": "code",
   "execution_count": null,
   "id": "09ee79dd",
   "metadata": {
    "collapsed": false,
    "jupyter": {
     "outputs_hidden": false
    },
    "papermill": {
     "duration": 0.008876,
     "end_time": "2024-05-19T08:45:09.368558",
     "exception": false,
     "start_time": "2024-05-19T08:45:09.359682",
     "status": "completed"
    },
    "tags": []
   },
   "outputs": [],
   "source": []
  },
  {
   "cell_type": "markdown",
   "id": "53ac6122",
   "metadata": {
    "papermill": {
     "duration": 0.011527,
     "end_time": "2024-05-19T08:45:09.389330",
     "exception": false,
     "start_time": "2024-05-19T08:45:09.377803",
     "status": "completed"
    },
    "tags": []
   },
   "source": [
    "### Step 4. Year 2061? Do we really have data from this year? Create a function to fix it and apply it."
   ]
  },
  {
   "cell_type": "code",
   "execution_count": null,
   "id": "0309616c",
   "metadata": {
    "collapsed": false,
    "jupyter": {
     "outputs_hidden": false
    },
    "papermill": {
     "duration": 0.008974,
     "end_time": "2024-05-19T08:45:09.407936",
     "exception": false,
     "start_time": "2024-05-19T08:45:09.398962",
     "status": "completed"
    },
    "tags": []
   },
   "outputs": [],
   "source": []
  },
  {
   "cell_type": "markdown",
   "id": "31398532",
   "metadata": {
    "papermill": {
     "duration": 0.008898,
     "end_time": "2024-05-19T08:45:09.426232",
     "exception": false,
     "start_time": "2024-05-19T08:45:09.417334",
     "status": "completed"
    },
    "tags": []
   },
   "source": [
    "### Step 5. Set the right dates as the index. Pay attention at the data type, it should be datetime64[ns]."
   ]
  },
  {
   "cell_type": "code",
   "execution_count": null,
   "id": "cd01c0c9",
   "metadata": {
    "collapsed": false,
    "jupyter": {
     "outputs_hidden": false
    },
    "papermill": {
     "duration": 0.009131,
     "end_time": "2024-05-19T08:45:09.444572",
     "exception": false,
     "start_time": "2024-05-19T08:45:09.435441",
     "status": "completed"
    },
    "tags": []
   },
   "outputs": [],
   "source": []
  },
  {
   "cell_type": "markdown",
   "id": "719ff552",
   "metadata": {
    "papermill": {
     "duration": 0.00903,
     "end_time": "2024-05-19T08:45:09.462977",
     "exception": false,
     "start_time": "2024-05-19T08:45:09.453947",
     "status": "completed"
    },
    "tags": []
   },
   "source": [
    "### Step 6. Compute how many values are missing for each location over the entire record.  \n",
    "#### They should be ignored in all calculations below. "
   ]
  },
  {
   "cell_type": "code",
   "execution_count": null,
   "id": "f22c0080",
   "metadata": {
    "collapsed": false,
    "jupyter": {
     "outputs_hidden": false
    },
    "papermill": {
     "duration": 0.009089,
     "end_time": "2024-05-19T08:45:09.481497",
     "exception": false,
     "start_time": "2024-05-19T08:45:09.472408",
     "status": "completed"
    },
    "tags": []
   },
   "outputs": [],
   "source": []
  },
  {
   "cell_type": "markdown",
   "id": "5611ecd8",
   "metadata": {
    "papermill": {
     "duration": 0.009009,
     "end_time": "2024-05-19T08:45:09.499799",
     "exception": false,
     "start_time": "2024-05-19T08:45:09.490790",
     "status": "completed"
    },
    "tags": []
   },
   "source": [
    "### Step 7. Compute how many non-missing values there are in total."
   ]
  },
  {
   "cell_type": "code",
   "execution_count": null,
   "id": "f0c62f76",
   "metadata": {
    "collapsed": false,
    "jupyter": {
     "outputs_hidden": false
    },
    "papermill": {
     "duration": 0.008919,
     "end_time": "2024-05-19T08:45:09.518025",
     "exception": false,
     "start_time": "2024-05-19T08:45:09.509106",
     "status": "completed"
    },
    "scrolled": true,
    "tags": []
   },
   "outputs": [],
   "source": []
  },
  {
   "cell_type": "markdown",
   "id": "59517e53",
   "metadata": {
    "papermill": {
     "duration": 0.00887,
     "end_time": "2024-05-19T08:45:09.536212",
     "exception": false,
     "start_time": "2024-05-19T08:45:09.527342",
     "status": "completed"
    },
    "tags": []
   },
   "source": [
    "### Step 8. Calculate the mean windspeeds of the windspeeds over all the locations and all the times.\n",
    "#### A single number for the entire dataset."
   ]
  },
  {
   "cell_type": "code",
   "execution_count": null,
   "id": "17343881",
   "metadata": {
    "collapsed": false,
    "jupyter": {
     "outputs_hidden": false
    },
    "papermill": {
     "duration": 0.00926,
     "end_time": "2024-05-19T08:45:09.555023",
     "exception": false,
     "start_time": "2024-05-19T08:45:09.545763",
     "status": "completed"
    },
    "tags": []
   },
   "outputs": [],
   "source": []
  },
  {
   "cell_type": "markdown",
   "id": "f9f96b9c",
   "metadata": {
    "papermill": {
     "duration": 0.00887,
     "end_time": "2024-05-19T08:45:09.573296",
     "exception": false,
     "start_time": "2024-05-19T08:45:09.564426",
     "status": "completed"
    },
    "tags": []
   },
   "source": [
    "### Step 9. Create a DataFrame called loc_stats and calculate the min, max and mean windspeeds and standard deviations of the windspeeds at each location over all the days \n",
    "\n",
    "#### A different set of numbers for each location."
   ]
  },
  {
   "cell_type": "code",
   "execution_count": null,
   "id": "5cc610a9",
   "metadata": {
    "collapsed": false,
    "jupyter": {
     "outputs_hidden": false
    },
    "papermill": {
     "duration": 0.00888,
     "end_time": "2024-05-19T08:45:09.591514",
     "exception": false,
     "start_time": "2024-05-19T08:45:09.582634",
     "status": "completed"
    },
    "tags": []
   },
   "outputs": [],
   "source": []
  },
  {
   "cell_type": "markdown",
   "id": "982b6187",
   "metadata": {
    "papermill": {
     "duration": 0.008889,
     "end_time": "2024-05-19T08:45:09.609635",
     "exception": false,
     "start_time": "2024-05-19T08:45:09.600746",
     "status": "completed"
    },
    "tags": []
   },
   "source": [
    "### Step 10. Create a DataFrame called day_stats and calculate the min, max and mean windspeed and standard deviations of the windspeeds across all the locations at each day.\n",
    "\n",
    "#### A different set of numbers for each day."
   ]
  },
  {
   "cell_type": "code",
   "execution_count": null,
   "id": "c1a06221",
   "metadata": {
    "collapsed": false,
    "jupyter": {
     "outputs_hidden": false
    },
    "papermill": {
     "duration": 0.008822,
     "end_time": "2024-05-19T08:45:09.627680",
     "exception": false,
     "start_time": "2024-05-19T08:45:09.618858",
     "status": "completed"
    },
    "tags": []
   },
   "outputs": [],
   "source": []
  },
  {
   "cell_type": "markdown",
   "id": "dfe51454",
   "metadata": {
    "papermill": {
     "duration": 0.009313,
     "end_time": "2024-05-19T08:45:09.646327",
     "exception": false,
     "start_time": "2024-05-19T08:45:09.637014",
     "status": "completed"
    },
    "tags": []
   },
   "source": [
    "### Step 11. Find the average windspeed in January for each location.  \n",
    "#### Treat January 1961 and January 1962 both as January."
   ]
  },
  {
   "cell_type": "code",
   "execution_count": null,
   "id": "2eb5bd50",
   "metadata": {
    "collapsed": false,
    "jupyter": {
     "outputs_hidden": false
    },
    "papermill": {
     "duration": 0.009178,
     "end_time": "2024-05-19T08:45:09.665474",
     "exception": false,
     "start_time": "2024-05-19T08:45:09.656296",
     "status": "completed"
    },
    "tags": []
   },
   "outputs": [],
   "source": []
  },
  {
   "cell_type": "markdown",
   "id": "c48a7d63",
   "metadata": {
    "papermill": {
     "duration": 0.008908,
     "end_time": "2024-05-19T08:45:09.683717",
     "exception": false,
     "start_time": "2024-05-19T08:45:09.674809",
     "status": "completed"
    },
    "tags": []
   },
   "source": [
    "### Step 12. Downsample the record to a yearly frequency for each location."
   ]
  },
  {
   "cell_type": "code",
   "execution_count": null,
   "id": "d2f45569",
   "metadata": {
    "collapsed": false,
    "jupyter": {
     "outputs_hidden": false
    },
    "papermill": {
     "duration": 0.009044,
     "end_time": "2024-05-19T08:45:09.702561",
     "exception": false,
     "start_time": "2024-05-19T08:45:09.693517",
     "status": "completed"
    },
    "tags": []
   },
   "outputs": [],
   "source": []
  },
  {
   "cell_type": "markdown",
   "id": "cfc84d88",
   "metadata": {
    "papermill": {
     "duration": 0.009426,
     "end_time": "2024-05-19T08:45:09.721290",
     "exception": false,
     "start_time": "2024-05-19T08:45:09.711864",
     "status": "completed"
    },
    "tags": []
   },
   "source": [
    "### Step 13. Downsample the record to a monthly frequency for each location."
   ]
  },
  {
   "cell_type": "code",
   "execution_count": null,
   "id": "7ec3ceeb",
   "metadata": {
    "collapsed": false,
    "jupyter": {
     "outputs_hidden": false
    },
    "papermill": {
     "duration": 0.00904,
     "end_time": "2024-05-19T08:45:09.739675",
     "exception": false,
     "start_time": "2024-05-19T08:45:09.730635",
     "status": "completed"
    },
    "tags": []
   },
   "outputs": [],
   "source": []
  },
  {
   "cell_type": "markdown",
   "id": "03b49d4f",
   "metadata": {
    "papermill": {
     "duration": 0.008971,
     "end_time": "2024-05-19T08:45:09.758319",
     "exception": false,
     "start_time": "2024-05-19T08:45:09.749348",
     "status": "completed"
    },
    "tags": []
   },
   "source": [
    "### Step 14. Downsample the record to a weekly frequency for each location."
   ]
  },
  {
   "cell_type": "code",
   "execution_count": null,
   "id": "8261642e",
   "metadata": {
    "collapsed": false,
    "jupyter": {
     "outputs_hidden": false
    },
    "papermill": {
     "duration": 0.008992,
     "end_time": "2024-05-19T08:45:09.776626",
     "exception": false,
     "start_time": "2024-05-19T08:45:09.767634",
     "status": "completed"
    },
    "tags": []
   },
   "outputs": [],
   "source": []
  },
  {
   "cell_type": "markdown",
   "id": "affd583c",
   "metadata": {
    "papermill": {
     "duration": 0.00903,
     "end_time": "2024-05-19T08:45:09.794962",
     "exception": false,
     "start_time": "2024-05-19T08:45:09.785932",
     "status": "completed"
    },
    "tags": []
   },
   "source": [
    "### Step 15. Calculate the min, max and mean windspeeds and standard deviations of the windspeeds across all locations for each week (assume that the first week starts on January 2 1961) for the first 52 weeks."
   ]
  },
  {
   "cell_type": "code",
   "execution_count": null,
   "id": "0743488c",
   "metadata": {
    "collapsed": false,
    "jupyter": {
     "outputs_hidden": false
    },
    "papermill": {
     "duration": 0.008924,
     "end_time": "2024-05-19T08:45:09.813643",
     "exception": false,
     "start_time": "2024-05-19T08:45:09.804719",
     "status": "completed"
    },
    "tags": []
   },
   "outputs": [],
   "source": []
  }
 ],
 "metadata": {
  "kaggle": {
   "accelerator": "none",
   "dataSources": [
    {
     "datasetId": 5011184,
     "sourceId": 8418200,
     "sourceType": "datasetVersion"
    }
   ],
   "isGpuEnabled": false,
   "isInternetEnabled": true,
   "language": "python",
   "sourceType": "notebook"
  },
  "kernelspec": {
   "display_name": "Python 3",
   "language": "python",
   "name": "python3"
  },
  "language_info": {
   "codemirror_mode": {
    "name": "ipython",
    "version": 3
   },
   "file_extension": ".py",
   "mimetype": "text/x-python",
   "name": "python",
   "nbconvert_exporter": "python",
   "pygments_lexer": "ipython3",
   "version": "3.10.13"
  },
  "papermill": {
   "default_parameters": {},
   "duration": 4.250529,
   "end_time": "2024-05-19T08:45:10.244305",
   "environment_variables": {},
   "exception": null,
   "input_path": "__notebook__.ipynb",
   "output_path": "__notebook__.ipynb",
   "parameters": {},
   "start_time": "2024-05-19T08:45:05.993776",
   "version": "2.5.0"
  }
 },
 "nbformat": 4,
 "nbformat_minor": 5
}
