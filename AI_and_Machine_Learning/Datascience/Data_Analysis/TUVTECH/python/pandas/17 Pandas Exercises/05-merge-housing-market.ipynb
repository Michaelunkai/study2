{
 "cells": [
  {
   "cell_type": "markdown",
   "id": "79dbe8c1",
   "metadata": {
    "papermill": {
     "duration": 0.005203,
     "end_time": "2024-05-19T08:29:38.947968",
     "exception": false,
     "start_time": "2024-05-19T08:29:38.942765",
     "status": "completed"
    },
    "tags": []
   },
   "source": [
    "# Housing Market"
   ]
  },
  {
   "cell_type": "markdown",
   "id": "14c14baf",
   "metadata": {
    "papermill": {
     "duration": 0.004848,
     "end_time": "2024-05-19T08:29:38.957972",
     "exception": false,
     "start_time": "2024-05-19T08:29:38.953124",
     "status": "completed"
    },
    "tags": []
   },
   "source": [
    "### Introduction:\n",
    "\n",
    "This time we will create our own dataset with fictional numbers to describe a house market. As we are going to create random data don't try to reason of the numbers.\n",
    "\n",
    "### Step 1. Import the necessary libraries"
   ]
  },
  {
   "cell_type": "code",
   "execution_count": null,
   "id": "5ac8510b",
   "metadata": {
    "collapsed": false,
    "jupyter": {
     "outputs_hidden": false
    },
    "papermill": {
     "duration": 0.004582,
     "end_time": "2024-05-19T08:29:38.967699",
     "exception": false,
     "start_time": "2024-05-19T08:29:38.963117",
     "status": "completed"
    },
    "tags": []
   },
   "outputs": [],
   "source": []
  },
  {
   "cell_type": "markdown",
   "id": "66e96e13",
   "metadata": {
    "papermill": {
     "duration": 0.004632,
     "end_time": "2024-05-19T08:29:38.977179",
     "exception": false,
     "start_time": "2024-05-19T08:29:38.972547",
     "status": "completed"
    },
    "tags": []
   },
   "source": [
    "### Step 2. Create 3 differents Series, each of length 100, as follows: \n",
    "1. The first a random number from 1 to 4 \n",
    "2. The second a random number from 1 to 3\n",
    "3. The third a random number from 10,000 to 30,000"
   ]
  },
  {
   "cell_type": "code",
   "execution_count": null,
   "id": "f0815711",
   "metadata": {
    "collapsed": false,
    "jupyter": {
     "outputs_hidden": false
    },
    "papermill": {
     "duration": 0.004655,
     "end_time": "2024-05-19T08:29:38.987149",
     "exception": false,
     "start_time": "2024-05-19T08:29:38.982494",
     "status": "completed"
    },
    "tags": []
   },
   "outputs": [],
   "source": []
  },
  {
   "cell_type": "markdown",
   "id": "333bb02b",
   "metadata": {
    "papermill": {
     "duration": 0.004472,
     "end_time": "2024-05-19T08:29:38.996438",
     "exception": false,
     "start_time": "2024-05-19T08:29:38.991966",
     "status": "completed"
    },
    "tags": []
   },
   "source": [
    "### Step 3. Let's create a DataFrame by joinning the Series by column"
   ]
  },
  {
   "cell_type": "code",
   "execution_count": null,
   "id": "32db447d",
   "metadata": {
    "collapsed": false,
    "jupyter": {
     "outputs_hidden": false
    },
    "papermill": {
     "duration": 0.004482,
     "end_time": "2024-05-19T08:29:39.005770",
     "exception": false,
     "start_time": "2024-05-19T08:29:39.001288",
     "status": "completed"
    },
    "tags": []
   },
   "outputs": [],
   "source": []
  },
  {
   "cell_type": "markdown",
   "id": "95d6198e",
   "metadata": {
    "papermill": {
     "duration": 0.004464,
     "end_time": "2024-05-19T08:29:39.015048",
     "exception": false,
     "start_time": "2024-05-19T08:29:39.010584",
     "status": "completed"
    },
    "tags": []
   },
   "source": [
    "### Step 4. Change the name of the columns to bedrs, bathrs, price_sqr_meter"
   ]
  },
  {
   "cell_type": "code",
   "execution_count": null,
   "id": "2ac78d34",
   "metadata": {
    "collapsed": false,
    "jupyter": {
     "outputs_hidden": false
    },
    "papermill": {
     "duration": 0.004572,
     "end_time": "2024-05-19T08:29:39.024413",
     "exception": false,
     "start_time": "2024-05-19T08:29:39.019841",
     "status": "completed"
    },
    "tags": []
   },
   "outputs": [],
   "source": []
  },
  {
   "cell_type": "markdown",
   "id": "3014703f",
   "metadata": {
    "papermill": {
     "duration": 0.004497,
     "end_time": "2024-05-19T08:29:39.033718",
     "exception": false,
     "start_time": "2024-05-19T08:29:39.029221",
     "status": "completed"
    },
    "tags": []
   },
   "source": [
    "### Step 5. Create a one column DataFrame with the values of the 3 Series and assign it to 'bigcolumn'"
   ]
  },
  {
   "cell_type": "code",
   "execution_count": null,
   "id": "6d25ade0",
   "metadata": {
    "collapsed": false,
    "jupyter": {
     "outputs_hidden": false
    },
    "papermill": {
     "duration": 0.004439,
     "end_time": "2024-05-19T08:29:39.042912",
     "exception": false,
     "start_time": "2024-05-19T08:29:39.038473",
     "status": "completed"
    },
    "tags": []
   },
   "outputs": [],
   "source": []
  },
  {
   "cell_type": "markdown",
   "id": "b16f2c59",
   "metadata": {
    "papermill": {
     "duration": 0.004513,
     "end_time": "2024-05-19T08:29:39.052258",
     "exception": false,
     "start_time": "2024-05-19T08:29:39.047745",
     "status": "completed"
    },
    "tags": []
   },
   "source": [
    "### Step 6. Oops, it seems it is going only until index 99. Is it true?"
   ]
  },
  {
   "cell_type": "code",
   "execution_count": null,
   "id": "e938a405",
   "metadata": {
    "collapsed": false,
    "jupyter": {
     "outputs_hidden": false
    },
    "papermill": {
     "duration": 0.004487,
     "end_time": "2024-05-19T08:29:39.061485",
     "exception": false,
     "start_time": "2024-05-19T08:29:39.056998",
     "status": "completed"
    },
    "tags": []
   },
   "outputs": [],
   "source": []
  },
  {
   "cell_type": "markdown",
   "id": "c0fe3850",
   "metadata": {
    "papermill": {
     "duration": 0.004554,
     "end_time": "2024-05-19T08:29:39.070855",
     "exception": false,
     "start_time": "2024-05-19T08:29:39.066301",
     "status": "completed"
    },
    "tags": []
   },
   "source": [
    "### Step 7. Reindex the DataFrame so it goes from 0 to 299"
   ]
  },
  {
   "cell_type": "code",
   "execution_count": null,
   "id": "85c4be28",
   "metadata": {
    "collapsed": false,
    "jupyter": {
     "outputs_hidden": false
    },
    "papermill": {
     "duration": 0.004519,
     "end_time": "2024-05-19T08:29:39.080252",
     "exception": false,
     "start_time": "2024-05-19T08:29:39.075733",
     "status": "completed"
    },
    "tags": []
   },
   "outputs": [],
   "source": []
  }
 ],
 "metadata": {
  "kaggle": {
   "accelerator": "none",
   "dataSources": [
    {
     "datasetId": 5011184,
     "sourceId": 8418200,
     "sourceType": "datasetVersion"
    }
   ],
   "isGpuEnabled": false,
   "isInternetEnabled": true,
   "language": "python",
   "sourceType": "notebook"
  },
  "kernelspec": {
   "display_name": "Python 3",
   "language": "python",
   "name": "python3"
  },
  "language_info": {
   "codemirror_mode": {
    "name": "ipython",
    "version": 3
   },
   "file_extension": ".py",
   "mimetype": "text/x-python",
   "name": "python",
   "nbconvert_exporter": "python",
   "pygments_lexer": "ipython3",
   "version": "3.10.13"
  },
  "papermill": {
   "default_parameters": {},
   "duration": 3.785104,
   "end_time": "2024-05-19T08:29:39.507387",
   "environment_variables": {},
   "exception": null,
   "input_path": "__notebook__.ipynb",
   "output_path": "__notebook__.ipynb",
   "parameters": {},
   "start_time": "2024-05-19T08:29:35.722283",
   "version": "2.5.0"
  }
 },
 "nbformat": 4,
 "nbformat_minor": 5
}
