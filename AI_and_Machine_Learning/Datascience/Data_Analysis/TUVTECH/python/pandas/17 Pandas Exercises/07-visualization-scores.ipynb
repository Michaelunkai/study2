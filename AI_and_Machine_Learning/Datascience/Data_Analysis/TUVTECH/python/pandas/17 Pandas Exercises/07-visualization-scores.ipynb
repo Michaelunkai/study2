{
 "cells": [
  {
   "cell_type": "markdown",
   "id": "6d1a0802",
   "metadata": {
    "papermill": {
     "duration": 0.00448,
     "end_time": "2024-05-19T09:03:56.434350",
     "exception": false,
     "start_time": "2024-05-19T09:03:56.429870",
     "status": "completed"
    },
    "tags": []
   },
   "source": [
    "# Scores"
   ]
  },
  {
   "cell_type": "markdown",
   "id": "9ad79df9",
   "metadata": {
    "papermill": {
     "duration": 0.003641,
     "end_time": "2024-05-19T09:03:56.442255",
     "exception": false,
     "start_time": "2024-05-19T09:03:56.438614",
     "status": "completed"
    },
    "tags": []
   },
   "source": [
    "### Introduction:\n",
    "\n",
    "This time you will create the data.\n",
    "\n",
    "***Exercise based on [Chris Albon](http://chrisalbon.com/) work, the credits belong to him.***\n",
    "\n",
    "### Step 1. Import the necessary libraries"
   ]
  },
  {
   "cell_type": "code",
   "execution_count": null,
   "id": "38eb6851",
   "metadata": {
    "collapsed": false,
    "jupyter": {
     "outputs_hidden": false
    },
    "papermill": {
     "duration": 0.003557,
     "end_time": "2024-05-19T09:03:56.449716",
     "exception": false,
     "start_time": "2024-05-19T09:03:56.446159",
     "status": "completed"
    },
    "tags": []
   },
   "outputs": [],
   "source": []
  },
  {
   "cell_type": "markdown",
   "id": "70e78c67",
   "metadata": {
    "papermill": {
     "duration": 0.003528,
     "end_time": "2024-05-19T09:03:56.457093",
     "exception": false,
     "start_time": "2024-05-19T09:03:56.453565",
     "status": "completed"
    },
    "tags": []
   },
   "source": [
    "### Step 2. Create the DataFrame that should look like the one below."
   ]
  },
  {
   "cell_type": "code",
   "execution_count": null,
   "id": "7ec44275",
   "metadata": {
    "collapsed": false,
    "jupyter": {
     "outputs_hidden": false
    },
    "papermill": {
     "duration": 0.00362,
     "end_time": "2024-05-19T09:03:56.464993",
     "exception": false,
     "start_time": "2024-05-19T09:03:56.461373",
     "status": "completed"
    },
    "tags": []
   },
   "outputs": [],
   "source": []
  },
  {
   "cell_type": "markdown",
   "id": "1ac2f715",
   "metadata": {
    "papermill": {
     "duration": 0.003567,
     "end_time": "2024-05-19T09:03:56.472501",
     "exception": false,
     "start_time": "2024-05-19T09:03:56.468934",
     "status": "completed"
    },
    "tags": []
   },
   "source": [
    "### Step 3. Create a Scatterplot of preTestScore and postTestScore, with the size of each point determined by age\n",
    "#### Hint: Don't forget to place the labels"
   ]
  },
  {
   "cell_type": "code",
   "execution_count": null,
   "id": "b6ba0df0",
   "metadata": {
    "collapsed": false,
    "jupyter": {
     "outputs_hidden": false
    },
    "papermill": {
     "duration": 0.003537,
     "end_time": "2024-05-19T09:03:56.479877",
     "exception": false,
     "start_time": "2024-05-19T09:03:56.476340",
     "status": "completed"
    },
    "tags": []
   },
   "outputs": [],
   "source": []
  },
  {
   "cell_type": "markdown",
   "id": "9e194c66",
   "metadata": {
    "papermill": {
     "duration": 0.003567,
     "end_time": "2024-05-19T09:03:56.487395",
     "exception": false,
     "start_time": "2024-05-19T09:03:56.483828",
     "status": "completed"
    },
    "tags": []
   },
   "source": [
    "### Step 4. Create a Scatterplot of preTestScore and postTestScore.\n",
    "### This time the size should be 4.5 times the postTestScore and the color determined by sex"
   ]
  },
  {
   "cell_type": "code",
   "execution_count": null,
   "id": "1e9fc46d",
   "metadata": {
    "collapsed": false,
    "jupyter": {
     "outputs_hidden": false
    },
    "papermill": {
     "duration": 0.003574,
     "end_time": "2024-05-19T09:03:56.494784",
     "exception": false,
     "start_time": "2024-05-19T09:03:56.491210",
     "status": "completed"
    },
    "tags": []
   },
   "outputs": [],
   "source": []
  },
  {
   "cell_type": "markdown",
   "id": "da4b0dc8",
   "metadata": {
    "papermill": {
     "duration": 0.003584,
     "end_time": "2024-05-19T09:03:56.502648",
     "exception": false,
     "start_time": "2024-05-19T09:03:56.499064",
     "status": "completed"
    },
    "tags": []
   },
   "source": [
    "### BONUS: Create your own question and answer it."
   ]
  },
  {
   "cell_type": "code",
   "execution_count": null,
   "id": "59be5f1c",
   "metadata": {
    "collapsed": true,
    "jupyter": {
     "outputs_hidden": true
    },
    "papermill": {
     "duration": 0.003582,
     "end_time": "2024-05-19T09:03:56.510130",
     "exception": false,
     "start_time": "2024-05-19T09:03:56.506548",
     "status": "completed"
    },
    "tags": []
   },
   "outputs": [],
   "source": []
  }
 ],
 "metadata": {
  "kaggle": {
   "accelerator": "none",
   "dataSources": [
    {
     "datasetId": 5011184,
     "sourceId": 8418200,
     "sourceType": "datasetVersion"
    }
   ],
   "isGpuEnabled": false,
   "isInternetEnabled": true,
   "language": "python",
   "sourceType": "notebook"
  },
  "kernelspec": {
   "display_name": "Python 3",
   "language": "python",
   "name": "python3"
  },
  "language_info": {
   "codemirror_mode": {
    "name": "ipython",
    "version": 3
   },
   "file_extension": ".py",
   "mimetype": "text/x-python",
   "name": "python",
   "nbconvert_exporter": "python",
   "pygments_lexer": "ipython3",
   "version": "3.10.13"
  },
  "papermill": {
   "default_parameters": {},
   "duration": 3.770053,
   "end_time": "2024-05-19T09:03:56.934227",
   "environment_variables": {},
   "exception": null,
   "input_path": "__notebook__.ipynb",
   "output_path": "__notebook__.ipynb",
   "parameters": {},
   "start_time": "2024-05-19T09:03:53.164174",
   "version": "2.5.0"
  }
 },
 "nbformat": 4,
 "nbformat_minor": 5
}
