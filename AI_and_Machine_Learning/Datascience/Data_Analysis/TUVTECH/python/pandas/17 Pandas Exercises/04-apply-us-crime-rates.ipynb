{
 "cells": [
  {
   "cell_type": "markdown",
   "id": "521ecd41",
   "metadata": {
    "papermill": {
     "duration": 0.006154,
     "end_time": "2024-05-19T08:07:08.586352",
     "exception": false,
     "start_time": "2024-05-19T08:07:08.580198",
     "status": "completed"
    },
    "tags": []
   },
   "source": [
    "# United States - Crime Rates - 1960 - 2014"
   ]
  },
  {
   "cell_type": "markdown",
   "id": "1368ff13",
   "metadata": {
    "papermill": {
     "duration": 0.006091,
     "end_time": "2024-05-19T08:07:08.598642",
     "exception": false,
     "start_time": "2024-05-19T08:07:08.592551",
     "status": "completed"
    },
    "tags": []
   },
   "source": [
    "### Introduction:\n",
    "\n",
    "This time you will create a data \n",
    "\n",
    "Special thanks to: https://github.com/justmarkham for sharing the dataset and materials.\n",
    "\n",
    "### Step 1. Import the necessary libraries"
   ]
  },
  {
   "cell_type": "code",
   "execution_count": null,
   "id": "ded2aea4",
   "metadata": {
    "collapsed": false,
    "jupyter": {
     "outputs_hidden": false
    },
    "papermill": {
     "duration": 0.005362,
     "end_time": "2024-05-19T08:07:08.609813",
     "exception": false,
     "start_time": "2024-05-19T08:07:08.604451",
     "status": "completed"
    },
    "tags": []
   },
   "outputs": [],
   "source": []
  },
  {
   "cell_type": "markdown",
   "id": "fcbecb6e",
   "metadata": {
    "papermill": {
     "duration": 0.005384,
     "end_time": "2024-05-19T08:07:08.620960",
     "exception": false,
     "start_time": "2024-05-19T08:07:08.615576",
     "status": "completed"
    },
    "tags": []
   },
   "source": [
    "### Step 2. Import the dataset from this [address](https://raw.githubusercontent.com/guipsamora/pandas_exercises/master/04_Apply/US_Crime_Rates/US_Crime_Rates_1960_2014.csv). "
   ]
  },
  {
   "cell_type": "code",
   "execution_count": null,
   "id": "2af59bea",
   "metadata": {
    "papermill": {
     "duration": 0.0054,
     "end_time": "2024-05-19T08:07:08.632075",
     "exception": false,
     "start_time": "2024-05-19T08:07:08.626675",
     "status": "completed"
    },
    "tags": []
   },
   "outputs": [],
   "source": []
  },
  {
   "cell_type": "markdown",
   "id": "3657a8c5",
   "metadata": {
    "papermill": {
     "duration": 0.005304,
     "end_time": "2024-05-19T08:07:08.643122",
     "exception": false,
     "start_time": "2024-05-19T08:07:08.637818",
     "status": "completed"
    },
    "tags": []
   },
   "source": [
    "### Step 3. Assign it to a variable called crime."
   ]
  },
  {
   "cell_type": "code",
   "execution_count": null,
   "id": "eeabd1ab",
   "metadata": {
    "collapsed": false,
    "jupyter": {
     "outputs_hidden": false
    },
    "papermill": {
     "duration": 0.005326,
     "end_time": "2024-05-19T08:07:08.654042",
     "exception": false,
     "start_time": "2024-05-19T08:07:08.648716",
     "status": "completed"
    },
    "tags": []
   },
   "outputs": [],
   "source": []
  },
  {
   "cell_type": "markdown",
   "id": "897f468e",
   "metadata": {
    "papermill": {
     "duration": 0.005246,
     "end_time": "2024-05-19T08:07:08.664940",
     "exception": false,
     "start_time": "2024-05-19T08:07:08.659694",
     "status": "completed"
    },
    "tags": []
   },
   "source": [
    "### Step 4. What is the type of the columns?"
   ]
  },
  {
   "cell_type": "code",
   "execution_count": null,
   "id": "15bd08c3",
   "metadata": {
    "collapsed": false,
    "jupyter": {
     "outputs_hidden": false
    },
    "papermill": {
     "duration": 0.005193,
     "end_time": "2024-05-19T08:07:08.675665",
     "exception": false,
     "start_time": "2024-05-19T08:07:08.670472",
     "status": "completed"
    },
    "tags": []
   },
   "outputs": [],
   "source": []
  },
  {
   "cell_type": "markdown",
   "id": "e2c3ac26",
   "metadata": {
    "papermill": {
     "duration": 0.005242,
     "end_time": "2024-05-19T08:07:08.686592",
     "exception": false,
     "start_time": "2024-05-19T08:07:08.681350",
     "status": "completed"
    },
    "tags": []
   },
   "source": [
    "##### Have you noticed that the type of Year is int64. But pandas has a different type to work with Time Series. Let's see it now.\n",
    "\n",
    "### Step 5. Convert the type of the column Year to datetime64"
   ]
  },
  {
   "cell_type": "code",
   "execution_count": null,
   "id": "e96fdb33",
   "metadata": {
    "collapsed": false,
    "jupyter": {
     "outputs_hidden": false
    },
    "papermill": {
     "duration": 0.005217,
     "end_time": "2024-05-19T08:07:08.697365",
     "exception": false,
     "start_time": "2024-05-19T08:07:08.692148",
     "status": "completed"
    },
    "tags": []
   },
   "outputs": [],
   "source": []
  },
  {
   "cell_type": "markdown",
   "id": "4a25c297",
   "metadata": {
    "papermill": {
     "duration": 0.005267,
     "end_time": "2024-05-19T08:07:08.708247",
     "exception": false,
     "start_time": "2024-05-19T08:07:08.702980",
     "status": "completed"
    },
    "tags": []
   },
   "source": [
    "### Step 6. Set the Year column as the index of the dataframe"
   ]
  },
  {
   "cell_type": "code",
   "execution_count": null,
   "id": "6c65f6e3",
   "metadata": {
    "collapsed": false,
    "jupyter": {
     "outputs_hidden": false
    },
    "papermill": {
     "duration": 0.005292,
     "end_time": "2024-05-19T08:07:08.719088",
     "exception": false,
     "start_time": "2024-05-19T08:07:08.713796",
     "status": "completed"
    },
    "tags": []
   },
   "outputs": [],
   "source": []
  },
  {
   "cell_type": "markdown",
   "id": "e06bd2d1",
   "metadata": {
    "papermill": {
     "duration": 0.00536,
     "end_time": "2024-05-19T08:07:08.731127",
     "exception": false,
     "start_time": "2024-05-19T08:07:08.725767",
     "status": "completed"
    },
    "tags": []
   },
   "source": [
    "### Step 7. Delete the Total column"
   ]
  },
  {
   "cell_type": "code",
   "execution_count": null,
   "id": "d703c859",
   "metadata": {
    "collapsed": false,
    "jupyter": {
     "outputs_hidden": false
    },
    "papermill": {
     "duration": 0.005282,
     "end_time": "2024-05-19T08:07:08.742025",
     "exception": false,
     "start_time": "2024-05-19T08:07:08.736743",
     "status": "completed"
    },
    "tags": []
   },
   "outputs": [],
   "source": []
  },
  {
   "cell_type": "markdown",
   "id": "7e174715",
   "metadata": {
    "papermill": {
     "duration": 0.005327,
     "end_time": "2024-05-19T08:07:08.753047",
     "exception": false,
     "start_time": "2024-05-19T08:07:08.747720",
     "status": "completed"
    },
    "tags": []
   },
   "source": [
    "### Step 8. Group the year by decades and sum the values\n",
    "\n",
    "#### Pay attention to the Population column number, summing this column is a mistake"
   ]
  },
  {
   "cell_type": "code",
   "execution_count": null,
   "id": "1c3e8c39",
   "metadata": {
    "collapsed": false,
    "jupyter": {
     "outputs_hidden": false
    },
    "papermill": {
     "duration": 0.005373,
     "end_time": "2024-05-19T08:07:08.764267",
     "exception": false,
     "start_time": "2024-05-19T08:07:08.758894",
     "status": "completed"
    },
    "scrolled": true,
    "tags": []
   },
   "outputs": [],
   "source": []
  },
  {
   "cell_type": "markdown",
   "id": "8bc88541",
   "metadata": {
    "papermill": {
     "duration": 0.005347,
     "end_time": "2024-05-19T08:07:08.775245",
     "exception": false,
     "start_time": "2024-05-19T08:07:08.769898",
     "status": "completed"
    },
    "tags": []
   },
   "source": [
    "### Step 9. What is the most dangerous decade to live in the US?"
   ]
  },
  {
   "cell_type": "code",
   "execution_count": null,
   "id": "e8669014",
   "metadata": {
    "collapsed": false,
    "jupyter": {
     "outputs_hidden": false
    },
    "papermill": {
     "duration": 0.005413,
     "end_time": "2024-05-19T08:07:08.786364",
     "exception": false,
     "start_time": "2024-05-19T08:07:08.780951",
     "status": "completed"
    },
    "tags": []
   },
   "outputs": [],
   "source": []
  }
 ],
 "metadata": {
  "kaggle": {
   "accelerator": "none",
   "dataSources": [
    {
     "datasetId": 5011184,
     "sourceId": 8418200,
     "sourceType": "datasetVersion"
    }
   ],
   "isGpuEnabled": false,
   "isInternetEnabled": true,
   "language": "python",
   "sourceType": "notebook"
  },
  "kernelspec": {
   "display_name": "Python 3",
   "language": "python",
   "name": "python3"
  },
  "language_info": {
   "codemirror_mode": {
    "name": "ipython",
    "version": 3
   },
   "file_extension": ".py",
   "mimetype": "text/x-python",
   "name": "python",
   "nbconvert_exporter": "python",
   "pygments_lexer": "ipython3",
   "version": "3.10.13"
  },
  "papermill": {
   "default_parameters": {},
   "duration": 3.872896,
   "end_time": "2024-05-19T08:07:09.213329",
   "environment_variables": {},
   "exception": null,
   "input_path": "__notebook__.ipynb",
   "output_path": "__notebook__.ipynb",
   "parameters": {},
   "start_time": "2024-05-19T08:07:05.340433",
   "version": "2.5.0"
  }
 },
 "nbformat": 4,
 "nbformat_minor": 5
}
