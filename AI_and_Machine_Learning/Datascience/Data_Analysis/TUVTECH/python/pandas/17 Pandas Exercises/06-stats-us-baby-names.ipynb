{
 "cells": [
  {
   "cell_type": "markdown",
   "id": "0e19dd2b",
   "metadata": {
    "papermill": {
     "duration": 0.008575,
     "end_time": "2024-05-19T08:42:15.024724",
     "exception": false,
     "start_time": "2024-05-19T08:42:15.016149",
     "status": "completed"
    },
    "tags": []
   },
   "source": [
    "# US - Baby Names"
   ]
  },
  {
   "cell_type": "markdown",
   "id": "4291a265",
   "metadata": {
    "papermill": {
     "duration": 0.007437,
     "end_time": "2024-05-19T08:42:15.040163",
     "exception": false,
     "start_time": "2024-05-19T08:42:15.032726",
     "status": "completed"
    },
    "tags": []
   },
   "source": [
    "### Introduction:\n",
    "\n",
    "We are going to use a subset of [US Baby Names](https://www.kaggle.com/kaggle/us-baby-names) from Kaggle.  \n",
    "In the file it will be names from 2004 until 2014\n",
    "\n",
    "\n",
    "### Step 1. Import the necessary libraries"
   ]
  },
  {
   "cell_type": "code",
   "execution_count": null,
   "id": "66729702",
   "metadata": {
    "collapsed": false,
    "jupyter": {
     "outputs_hidden": false
    },
    "papermill": {
     "duration": 0.007409,
     "end_time": "2024-05-19T08:42:15.055427",
     "exception": false,
     "start_time": "2024-05-19T08:42:15.048018",
     "status": "completed"
    },
    "tags": []
   },
   "outputs": [],
   "source": []
  },
  {
   "cell_type": "markdown",
   "id": "fa19979d",
   "metadata": {
    "papermill": {
     "duration": 0.007394,
     "end_time": "2024-05-19T08:42:15.070666",
     "exception": false,
     "start_time": "2024-05-19T08:42:15.063272",
     "status": "completed"
    },
    "tags": []
   },
   "source": [
    "### Step 2. Import the dataset from this [address](https://raw.githubusercontent.com/guipsamora/pandas_exercises/master/06_Stats/US_Baby_Names/US_Baby_Names_right.csv). "
   ]
  },
  {
   "cell_type": "code",
   "execution_count": null,
   "id": "88ef59a1",
   "metadata": {
    "papermill": {
     "duration": 0.007416,
     "end_time": "2024-05-19T08:42:15.085720",
     "exception": false,
     "start_time": "2024-05-19T08:42:15.078304",
     "status": "completed"
    },
    "tags": []
   },
   "outputs": [],
   "source": []
  },
  {
   "cell_type": "markdown",
   "id": "373475aa",
   "metadata": {
    "papermill": {
     "duration": 0.007199,
     "end_time": "2024-05-19T08:42:15.100598",
     "exception": false,
     "start_time": "2024-05-19T08:42:15.093399",
     "status": "completed"
    },
    "tags": []
   },
   "source": [
    "### Step 3. Assign it to a variable called baby_names."
   ]
  },
  {
   "cell_type": "code",
   "execution_count": null,
   "id": "81e99210",
   "metadata": {
    "collapsed": false,
    "jupyter": {
     "outputs_hidden": false
    },
    "papermill": {
     "duration": 0.00723,
     "end_time": "2024-05-19T08:42:15.115567",
     "exception": false,
     "start_time": "2024-05-19T08:42:15.108337",
     "status": "completed"
    },
    "tags": []
   },
   "outputs": [],
   "source": []
  },
  {
   "cell_type": "markdown",
   "id": "28ed61bc",
   "metadata": {
    "papermill": {
     "duration": 0.0075,
     "end_time": "2024-05-19T08:42:15.131186",
     "exception": false,
     "start_time": "2024-05-19T08:42:15.123686",
     "status": "completed"
    },
    "tags": []
   },
   "source": [
    "### Step 4. See the first 10 entries"
   ]
  },
  {
   "cell_type": "code",
   "execution_count": null,
   "id": "39c9adaf",
   "metadata": {
    "collapsed": false,
    "jupyter": {
     "outputs_hidden": false
    },
    "papermill": {
     "duration": 0.007399,
     "end_time": "2024-05-19T08:42:15.146287",
     "exception": false,
     "start_time": "2024-05-19T08:42:15.138888",
     "status": "completed"
    },
    "tags": []
   },
   "outputs": [],
   "source": []
  },
  {
   "cell_type": "markdown",
   "id": "7aca48fc",
   "metadata": {
    "papermill": {
     "duration": 0.007295,
     "end_time": "2024-05-19T08:42:15.162604",
     "exception": false,
     "start_time": "2024-05-19T08:42:15.155309",
     "status": "completed"
    },
    "tags": []
   },
   "source": [
    "### Step 5. Delete the column 'Unnamed: 0' and 'Id'"
   ]
  },
  {
   "cell_type": "code",
   "execution_count": null,
   "id": "3af109a4",
   "metadata": {
    "collapsed": false,
    "jupyter": {
     "outputs_hidden": false
    },
    "papermill": {
     "duration": 0.007408,
     "end_time": "2024-05-19T08:42:15.178058",
     "exception": false,
     "start_time": "2024-05-19T08:42:15.170650",
     "status": "completed"
    },
    "tags": []
   },
   "outputs": [],
   "source": []
  },
  {
   "cell_type": "markdown",
   "id": "1b23c3e6",
   "metadata": {
    "papermill": {
     "duration": 0.00722,
     "end_time": "2024-05-19T08:42:15.193133",
     "exception": false,
     "start_time": "2024-05-19T08:42:15.185913",
     "status": "completed"
    },
    "tags": []
   },
   "source": [
    "### Step 6. Is there more male or female names in the dataset?"
   ]
  },
  {
   "cell_type": "code",
   "execution_count": null,
   "id": "0253d7dd",
   "metadata": {
    "collapsed": false,
    "jupyter": {
     "outputs_hidden": false
    },
    "papermill": {
     "duration": 0.007251,
     "end_time": "2024-05-19T08:42:15.207979",
     "exception": false,
     "start_time": "2024-05-19T08:42:15.200728",
     "status": "completed"
    },
    "tags": []
   },
   "outputs": [],
   "source": []
  },
  {
   "cell_type": "markdown",
   "id": "dd5a2f77",
   "metadata": {
    "papermill": {
     "duration": 0.007396,
     "end_time": "2024-05-19T08:42:15.223059",
     "exception": false,
     "start_time": "2024-05-19T08:42:15.215663",
     "status": "completed"
    },
    "tags": []
   },
   "source": [
    "### Step 7. Group the dataset by name and assign to names"
   ]
  },
  {
   "cell_type": "code",
   "execution_count": null,
   "id": "bc03a64a",
   "metadata": {
    "collapsed": false,
    "jupyter": {
     "outputs_hidden": false
    },
    "papermill": {
     "duration": 0.007318,
     "end_time": "2024-05-19T08:42:15.238111",
     "exception": false,
     "start_time": "2024-05-19T08:42:15.230793",
     "status": "completed"
    },
    "tags": []
   },
   "outputs": [],
   "source": []
  },
  {
   "cell_type": "markdown",
   "id": "66e292f0",
   "metadata": {
    "papermill": {
     "duration": 0.007288,
     "end_time": "2024-05-19T08:42:15.253104",
     "exception": false,
     "start_time": "2024-05-19T08:42:15.245816",
     "status": "completed"
    },
    "tags": []
   },
   "source": [
    "### Step 8. How many different names exist in the dataset?"
   ]
  },
  {
   "cell_type": "code",
   "execution_count": null,
   "id": "a3f30850",
   "metadata": {
    "collapsed": false,
    "jupyter": {
     "outputs_hidden": false
    },
    "papermill": {
     "duration": 0.00783,
     "end_time": "2024-05-19T08:42:15.268718",
     "exception": false,
     "start_time": "2024-05-19T08:42:15.260888",
     "status": "completed"
    },
    "tags": []
   },
   "outputs": [],
   "source": []
  },
  {
   "cell_type": "markdown",
   "id": "f134102d",
   "metadata": {
    "papermill": {
     "duration": 0.007301,
     "end_time": "2024-05-19T08:42:15.283660",
     "exception": false,
     "start_time": "2024-05-19T08:42:15.276359",
     "status": "completed"
    },
    "tags": []
   },
   "source": [
    "### Step 9. What is the name with most occurrences?"
   ]
  },
  {
   "cell_type": "code",
   "execution_count": null,
   "id": "c2c7e5f0",
   "metadata": {
    "collapsed": false,
    "jupyter": {
     "outputs_hidden": false
    },
    "papermill": {
     "duration": 0.008045,
     "end_time": "2024-05-19T08:42:15.299807",
     "exception": false,
     "start_time": "2024-05-19T08:42:15.291762",
     "status": "completed"
    },
    "tags": []
   },
   "outputs": [],
   "source": []
  },
  {
   "cell_type": "markdown",
   "id": "7d3ba3b0",
   "metadata": {
    "papermill": {
     "duration": 0.007294,
     "end_time": "2024-05-19T08:42:15.314858",
     "exception": false,
     "start_time": "2024-05-19T08:42:15.307564",
     "status": "completed"
    },
    "tags": []
   },
   "source": [
    "### Step 10. How many different names have the least occurrences?"
   ]
  },
  {
   "cell_type": "code",
   "execution_count": null,
   "id": "59dddc7f",
   "metadata": {
    "collapsed": false,
    "jupyter": {
     "outputs_hidden": false
    },
    "papermill": {
     "duration": 0.00724,
     "end_time": "2024-05-19T08:42:15.329792",
     "exception": false,
     "start_time": "2024-05-19T08:42:15.322552",
     "status": "completed"
    },
    "tags": []
   },
   "outputs": [],
   "source": []
  },
  {
   "cell_type": "markdown",
   "id": "8f824d4e",
   "metadata": {
    "papermill": {
     "duration": 0.007238,
     "end_time": "2024-05-19T08:42:15.344840",
     "exception": false,
     "start_time": "2024-05-19T08:42:15.337602",
     "status": "completed"
    },
    "tags": []
   },
   "source": [
    "### Step 11. What is the median name occurrence?"
   ]
  },
  {
   "cell_type": "code",
   "execution_count": null,
   "id": "83ea91f4",
   "metadata": {
    "collapsed": false,
    "jupyter": {
     "outputs_hidden": false
    },
    "papermill": {
     "duration": 0.007275,
     "end_time": "2024-05-19T08:42:15.359949",
     "exception": false,
     "start_time": "2024-05-19T08:42:15.352674",
     "status": "completed"
    },
    "tags": []
   },
   "outputs": [],
   "source": []
  },
  {
   "cell_type": "markdown",
   "id": "845897f3",
   "metadata": {
    "papermill": {
     "duration": 0.007486,
     "end_time": "2024-05-19T08:42:15.375189",
     "exception": false,
     "start_time": "2024-05-19T08:42:15.367703",
     "status": "completed"
    },
    "tags": []
   },
   "source": [
    "### Step 12. What is the standard deviation of names?"
   ]
  },
  {
   "cell_type": "code",
   "execution_count": null,
   "id": "b90ec165",
   "metadata": {
    "collapsed": false,
    "jupyter": {
     "outputs_hidden": false
    },
    "papermill": {
     "duration": 0.007237,
     "end_time": "2024-05-19T08:42:15.390164",
     "exception": false,
     "start_time": "2024-05-19T08:42:15.382927",
     "status": "completed"
    },
    "tags": []
   },
   "outputs": [],
   "source": []
  },
  {
   "cell_type": "markdown",
   "id": "39449aec",
   "metadata": {
    "papermill": {
     "duration": 0.007362,
     "end_time": "2024-05-19T08:42:15.405241",
     "exception": false,
     "start_time": "2024-05-19T08:42:15.397879",
     "status": "completed"
    },
    "tags": []
   },
   "source": [
    "### Step 13. Get a summary with the mean, min, max, std and quartiles."
   ]
  },
  {
   "cell_type": "code",
   "execution_count": null,
   "id": "954f6772",
   "metadata": {
    "collapsed": false,
    "jupyter": {
     "outputs_hidden": false
    },
    "papermill": {
     "duration": 0.007452,
     "end_time": "2024-05-19T08:42:15.420575",
     "exception": false,
     "start_time": "2024-05-19T08:42:15.413123",
     "status": "completed"
    },
    "tags": []
   },
   "outputs": [],
   "source": []
  }
 ],
 "metadata": {
  "kaggle": {
   "accelerator": "none",
   "dataSources": [
    {
     "datasetId": 5011184,
     "sourceId": 8418200,
     "sourceType": "datasetVersion"
    },
    {
     "datasetId": 13,
     "sourceId": 7651,
     "sourceType": "datasetVersion"
    }
   ],
   "isGpuEnabled": false,
   "isInternetEnabled": true,
   "language": "python",
   "sourceType": "notebook"
  },
  "kernelspec": {
   "display_name": "Python 3",
   "language": "python",
   "name": "python3"
  },
  "language_info": {
   "codemirror_mode": {
    "name": "ipython",
    "version": 3
   },
   "file_extension": ".py",
   "mimetype": "text/x-python",
   "name": "python",
   "nbconvert_exporter": "python",
   "pygments_lexer": "ipython3",
   "version": "3.10.13"
  },
  "papermill": {
   "default_parameters": {},
   "duration": 4.43641,
   "end_time": "2024-05-19T08:42:16.052953",
   "environment_variables": {},
   "exception": null,
   "input_path": "__notebook__.ipynb",
   "output_path": "__notebook__.ipynb",
   "parameters": {},
   "start_time": "2024-05-19T08:42:11.616543",
   "version": "2.5.0"
  }
 },
 "nbformat": 4,
 "nbformat_minor": 5
}
