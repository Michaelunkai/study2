{
 "cells": [
  {
   "cell_type": "markdown",
   "id": "ca69df6d",
   "metadata": {
    "papermill": {
     "duration": 0.005811,
     "end_time": "2024-05-19T09:24:20.235413",
     "exception": false,
     "start_time": "2024-05-19T09:24:20.229602",
     "status": "completed"
    },
    "tags": []
   },
   "source": [
    "# Occupation"
   ]
  },
  {
   "cell_type": "markdown",
   "id": "0d273d62",
   "metadata": {
    "papermill": {
     "duration": 0.004877,
     "end_time": "2024-05-19T09:24:20.245856",
     "exception": false,
     "start_time": "2024-05-19T09:24:20.240979",
     "status": "completed"
    },
    "tags": []
   },
   "source": [
    "### Introduction:\n",
    "\n",
    "Special thanks to: https://github.com/justmarkham for sharing the dataset and materials.\n",
    "\n",
    "### Step 1. Import the necessary libraries"
   ]
  },
  {
   "cell_type": "code",
   "execution_count": null,
   "id": "41c9c869",
   "metadata": {
    "collapsed": false,
    "jupyter": {
     "outputs_hidden": false
    },
    "papermill": {
     "duration": 0.004804,
     "end_time": "2024-05-19T09:24:20.255764",
     "exception": false,
     "start_time": "2024-05-19T09:24:20.250960",
     "status": "completed"
    },
    "tags": []
   },
   "outputs": [],
   "source": []
  },
  {
   "cell_type": "markdown",
   "id": "549a5c66",
   "metadata": {
    "papermill": {
     "duration": 0.00485,
     "end_time": "2024-05-19T09:24:20.265682",
     "exception": false,
     "start_time": "2024-05-19T09:24:20.260832",
     "status": "completed"
    },
    "tags": []
   },
   "source": [
    "### Step 2. Import the dataset from this [address](https://raw.githubusercontent.com/justmarkham/DAT8/master/data/u.user). "
   ]
  },
  {
   "cell_type": "code",
   "execution_count": null,
   "id": "43941cd7",
   "metadata": {
    "papermill": {
     "duration": 0.005184,
     "end_time": "2024-05-19T09:24:20.275954",
     "exception": false,
     "start_time": "2024-05-19T09:24:20.270770",
     "status": "completed"
    },
    "tags": []
   },
   "outputs": [],
   "source": []
  },
  {
   "cell_type": "markdown",
   "id": "bc3feb68",
   "metadata": {
    "papermill": {
     "duration": 0.004886,
     "end_time": "2024-05-19T09:24:20.286030",
     "exception": false,
     "start_time": "2024-05-19T09:24:20.281144",
     "status": "completed"
    },
    "tags": []
   },
   "source": [
    "### Step 3. Assign it to a variable called users."
   ]
  },
  {
   "cell_type": "code",
   "execution_count": null,
   "id": "1bb4405b",
   "metadata": {
    "collapsed": false,
    "jupyter": {
     "outputs_hidden": false
    },
    "papermill": {
     "duration": 0.004807,
     "end_time": "2024-05-19T09:24:20.296058",
     "exception": false,
     "start_time": "2024-05-19T09:24:20.291251",
     "status": "completed"
    },
    "tags": []
   },
   "outputs": [],
   "source": []
  },
  {
   "cell_type": "markdown",
   "id": "10da2d00",
   "metadata": {
    "papermill": {
     "duration": 0.004901,
     "end_time": "2024-05-19T09:24:20.306153",
     "exception": false,
     "start_time": "2024-05-19T09:24:20.301252",
     "status": "completed"
    },
    "tags": []
   },
   "source": [
    "### Step 4. Discover what is the mean age per occupation"
   ]
  },
  {
   "cell_type": "code",
   "execution_count": null,
   "id": "4ad571fc",
   "metadata": {
    "collapsed": false,
    "jupyter": {
     "outputs_hidden": false
    },
    "papermill": {
     "duration": 0.004911,
     "end_time": "2024-05-19T09:24:20.316133",
     "exception": false,
     "start_time": "2024-05-19T09:24:20.311222",
     "status": "completed"
    },
    "tags": []
   },
   "outputs": [],
   "source": []
  },
  {
   "cell_type": "markdown",
   "id": "58d198df",
   "metadata": {
    "papermill": {
     "duration": 0.004833,
     "end_time": "2024-05-19T09:24:20.326056",
     "exception": false,
     "start_time": "2024-05-19T09:24:20.321223",
     "status": "completed"
    },
    "tags": []
   },
   "source": [
    "### Step 5. Discover the Male ratio per occupation and sort it from the most to the least"
   ]
  },
  {
   "cell_type": "code",
   "execution_count": null,
   "id": "922228db",
   "metadata": {
    "collapsed": false,
    "jupyter": {
     "outputs_hidden": false
    },
    "papermill": {
     "duration": 0.004831,
     "end_time": "2024-05-19T09:24:20.335970",
     "exception": false,
     "start_time": "2024-05-19T09:24:20.331139",
     "status": "completed"
    },
    "tags": []
   },
   "outputs": [],
   "source": []
  },
  {
   "cell_type": "markdown",
   "id": "5da298df",
   "metadata": {
    "papermill": {
     "duration": 0.004819,
     "end_time": "2024-05-19T09:24:20.346125",
     "exception": false,
     "start_time": "2024-05-19T09:24:20.341306",
     "status": "completed"
    },
    "tags": []
   },
   "source": [
    "### Step 6. For each occupation, calculate the minimum and maximum ages"
   ]
  },
  {
   "cell_type": "code",
   "execution_count": null,
   "id": "4270a5fb",
   "metadata": {
    "collapsed": false,
    "jupyter": {
     "outputs_hidden": false
    },
    "papermill": {
     "duration": 0.004804,
     "end_time": "2024-05-19T09:24:20.356068",
     "exception": false,
     "start_time": "2024-05-19T09:24:20.351264",
     "status": "completed"
    },
    "tags": []
   },
   "outputs": [],
   "source": []
  },
  {
   "cell_type": "markdown",
   "id": "b8eac153",
   "metadata": {
    "papermill": {
     "duration": 0.006788,
     "end_time": "2024-05-19T09:24:20.367908",
     "exception": false,
     "start_time": "2024-05-19T09:24:20.361120",
     "status": "completed"
    },
    "tags": []
   },
   "source": [
    "### Step 7. For each combination of occupation and gender, calculate the mean age"
   ]
  },
  {
   "cell_type": "code",
   "execution_count": null,
   "id": "7436d052",
   "metadata": {
    "collapsed": false,
    "jupyter": {
     "outputs_hidden": false
    },
    "papermill": {
     "duration": 0.004928,
     "end_time": "2024-05-19T09:24:20.378121",
     "exception": false,
     "start_time": "2024-05-19T09:24:20.373193",
     "status": "completed"
    },
    "tags": []
   },
   "outputs": [],
   "source": []
  },
  {
   "cell_type": "markdown",
   "id": "3908679f",
   "metadata": {
    "papermill": {
     "duration": 0.004822,
     "end_time": "2024-05-19T09:24:20.388129",
     "exception": false,
     "start_time": "2024-05-19T09:24:20.383307",
     "status": "completed"
    },
    "tags": []
   },
   "source": [
    "### Step 8.  For each occupation present the percentage of women and men"
   ]
  },
  {
   "cell_type": "code",
   "execution_count": null,
   "id": "642b3c55",
   "metadata": {
    "collapsed": false,
    "jupyter": {
     "outputs_hidden": false
    },
    "papermill": {
     "duration": 0.006035,
     "end_time": "2024-05-19T09:24:20.399239",
     "exception": false,
     "start_time": "2024-05-19T09:24:20.393204",
     "status": "completed"
    },
    "tags": []
   },
   "outputs": [],
   "source": []
  }
 ],
 "metadata": {
  "kaggle": {
   "accelerator": "none",
   "dataSources": [
    {
     "datasetId": 5011184,
     "sourceId": 8418200,
     "sourceType": "datasetVersion"
    }
   ],
   "dockerImageVersionId": 30698,
   "isGpuEnabled": false,
   "isInternetEnabled": true,
   "language": "python",
   "sourceType": "notebook"
  },
  "kernelspec": {
   "display_name": "Python 3",
   "language": "python",
   "name": "python3"
  },
  "language_info": {
   "codemirror_mode": {
    "name": "ipython",
    "version": 3
   },
   "file_extension": ".py",
   "mimetype": "text/x-python",
   "name": "python",
   "nbconvert_exporter": "python",
   "pygments_lexer": "ipython3",
   "version": "3.10.13"
  },
  "papermill": {
   "default_parameters": {},
   "duration": 3.675092,
   "end_time": "2024-05-19T09:24:20.825549",
   "environment_variables": {},
   "exception": null,
   "input_path": "__notebook__.ipynb",
   "output_path": "__notebook__.ipynb",
   "parameters": {},
   "start_time": "2024-05-19T09:24:17.150457",
   "version": "2.5.0"
  }
 },
 "nbformat": 4,
 "nbformat_minor": 5
}
