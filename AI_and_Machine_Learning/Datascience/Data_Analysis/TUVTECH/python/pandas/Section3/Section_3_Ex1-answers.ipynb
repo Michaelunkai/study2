{
    "cells": [
        {
            "cell_type": "code",
            "execution_count": null,
            "metadata": {},
            "outputs": [],
            "source": [
                "!pip install pandas kagglehub\n",
                "# Ensure Kaggle credentials are set up before running the code\n",
                "import os\n",
                "os.environ['KAGGLE_USERNAME'] = 'your_kaggle_username'\n",
                "os.environ['KAGGLE_KEY'] = 'your_kaggle_api_key'\n",
                "from kaggle.api.kaggle_api_extended import KaggleApi\n",
                "api = KaggleApi()\n",
                "api.authenticate()\n",
                "api.dataset_download_files('openfoodfacts/world-food-facts', path='datasets', unzip=True)\n"
            ]
        },
        {
            "cell_type": "code",
            "execution_count": null,
            "metadata": {},
            "outputs": [],
            "source": [
                "import pandas as pd\n"
            ]
        },
        {
            "cell_type": "code",
            "execution_count": null,
            "metadata": {},
            "outputs": [],
            "source": [
                "file_path = './datasets/en.openfoodfacts.org.products.tsv'\n",
                "food = pd.read_csv(file_path, sep='\\t', low_memory=False)\n"
            ]
        },
        {
            "cell_type": "code",
            "execution_count": null,
            "metadata": {},
            "outputs": [],
            "source": [
                "# Step 2: See the first 5 entries\n",
                "food.head()\n"
            ]
        },
        {
            "cell_type": "code",
            "execution_count": null,
            "metadata": {},
            "outputs": [],
            "source": [
                "# Step 3: What is the number of observations in the dataset?\n",
                "len(food)\n"
            ]
        },
        {
            "cell_type": "code",
            "execution_count": null,
            "metadata": {},
            "outputs": [],
            "source": [
                "# Step 4: What is the number of columns in the dataset?\n",
                "food.shape[1]\n"
            ]
        },
        {
            "cell_type": "code",
            "execution_count": null,
            "metadata": {},
            "outputs": [],
            "source": [
                "# Step 5: Print the name of all the columns\n",
                "food.columns.tolist()\n"
            ]
        },
        {
            "cell_type": "code",
            "execution_count": null,
            "metadata": {},
            "outputs": [],
            "source": [
                "# Step 6: What is the name of the 105th column?\n",
                "food.columns[104]\n"
            ]
        },
        {
            "cell_type": "code",
            "execution_count": null,
            "metadata": {},
            "outputs": [],
            "source": [
                "# Step 7: What is the type of the observations of the 105th column?\n",
                "food.dtypes[104]\n"
            ]
        },
        {
            "cell_type": "code",
            "execution_count": null,
            "metadata": {},
            "outputs": [],
            "source": [
                "# Step 8: How is the dataset indexed?\n",
                "food.index\n"
            ]
        },
        {
            "cell_type": "code",
            "execution_count": null,
            "metadata": {},
            "outputs": [],
            "source": [
                "# Step 9: What is the product name of the 19th observation?\n",
                "food.iloc[18]['product_name']\n"
            ]
        }
    ],
    "metadata": {
        "kaggle": {
            "accelerator": "none",
            "dataSources": [
                {
                    "datasetId": 5011184,
                    "sourceId": 8418200,
                    "sourceType": "datasetVersion"
                }
            ],
            "isGpuEnabled": false,
            "isInternetEnabled": true,
            "language": "python",
            "sourceType": "notebook"
        },
        "kernelspec": {
            "display_name": "Python 3",
            "language": "python",
            "name": "python3"
        },
        "language_info": {
            "codemirror_mode": {
                "name": "ipython",
                "version": 3
            },
            "file_extension": ".py",
            "mimetype": "text/x-python",
            "name": "python",
            "nbconvert_exporter": "python",
            "pygments_lexer": "ipython3",
            "version": "3.10.13"
        },
        "papermill": {
            "default_parameters": {},
            "duration": 6.022428,
            "end_time": "2024-08-12T07:33:02.208192",
            "environment_variables": {},
            "exception": null,
            "input_path": "__notebook__.ipynb",
            "output_path": "__notebook__.ipynb",
            "parameters": {},
            "start_time": "2024-08-12T07:32:56.185764",
            "version": "2.5.0"
        }
    },
    "nbformat": 4,
    "nbformat_minor": 5
}