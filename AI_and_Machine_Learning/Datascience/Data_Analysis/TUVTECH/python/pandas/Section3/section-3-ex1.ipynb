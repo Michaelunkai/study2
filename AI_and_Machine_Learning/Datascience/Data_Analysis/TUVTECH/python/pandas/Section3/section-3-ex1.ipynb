{
 "cells": [
  {
   "cell_type": "markdown",
   "id": "f583ea0a",
   "metadata": {
    "papermill": {
     "duration": 0.004046,
     "end_time": "2024-08-12T07:32:58.877781",
     "exception": false,
     "start_time": "2024-08-12T07:32:58.873735",
     "status": "completed"
    },
    "tags": []
   },
   "source": [
    "# Ex - GroupBy"
   ]
  },
  {
   "cell_type": "markdown",
   "id": "674f2b67",
   "metadata": {
    "papermill": {
     "duration": 0.003347,
     "end_time": "2024-08-12T07:32:58.885001",
     "exception": false,
     "start_time": "2024-08-12T07:32:58.881654",
     "status": "completed"
    },
    "tags": []
   },
   "source": [
    "### Introduction:\n",
    "\n",
    "GroupBy can be summarized as Split-Apply-Combine.\n",
    "\n",
    "Special thanks to: https://github.com/justmarkham for sharing the dataset and materials.\n",
    "\n",
    "Check out this [Diagram](http://i.imgur.com/yjNkiwL.png)  \n",
    "### Step 1. Import the necessary libraries"
   ]
  },
  {
   "cell_type": "code",
   "execution_count": null,
   "id": "04325e3b",
   "metadata": {
    "papermill": {
     "duration": 0.003237,
     "end_time": "2024-08-12T07:32:58.891890",
     "exception": false,
     "start_time": "2024-08-12T07:32:58.888653",
     "status": "completed"
    },
    "tags": []
   },
   "outputs": [],
   "source": []
  },
  {
   "cell_type": "markdown",
   "id": "6350f0ff",
   "metadata": {
    "papermill": {
     "duration": 0.003244,
     "end_time": "2024-08-12T07:32:58.898628",
     "exception": false,
     "start_time": "2024-08-12T07:32:58.895384",
     "status": "completed"
    },
    "tags": []
   },
   "source": [
    "### Step 2. Import the dataset from this [address](https://raw.githubusercontent.com/justmarkham/DAT8/master/data/drinks.csv). "
   ]
  },
  {
   "cell_type": "code",
   "execution_count": null,
   "id": "e1c0beaa",
   "metadata": {
    "papermill": {
     "duration": 0.003148,
     "end_time": "2024-08-12T07:32:58.905187",
     "exception": false,
     "start_time": "2024-08-12T07:32:58.902039",
     "status": "completed"
    },
    "tags": []
   },
   "outputs": [],
   "source": []
  },
  {
   "cell_type": "markdown",
   "id": "e2ba5e80",
   "metadata": {
    "papermill": {
     "duration": 0.003134,
     "end_time": "2024-08-12T07:32:58.911782",
     "exception": false,
     "start_time": "2024-08-12T07:32:58.908648",
     "status": "completed"
    },
    "tags": []
   },
   "source": [
    "### Step 3. Assign it to a variable called drinks."
   ]
  },
  {
   "cell_type": "code",
   "execution_count": null,
   "id": "47ea37cb",
   "metadata": {
    "papermill": {
     "duration": 0.003133,
     "end_time": "2024-08-12T07:32:58.918352",
     "exception": false,
     "start_time": "2024-08-12T07:32:58.915219",
     "status": "completed"
    },
    "tags": []
   },
   "outputs": [],
   "source": []
  },
  {
   "cell_type": "markdown",
   "id": "b0a4c6df",
   "metadata": {
    "papermill": {
     "duration": 0.003139,
     "end_time": "2024-08-12T07:32:58.924854",
     "exception": false,
     "start_time": "2024-08-12T07:32:58.921715",
     "status": "completed"
    },
    "tags": []
   },
   "source": [
    "### Step 4. Which continent drinks more beer on average?"
   ]
  },
  {
   "cell_type": "code",
   "execution_count": null,
   "id": "22e74389",
   "metadata": {
    "papermill": {
     "duration": 0.003206,
     "end_time": "2024-08-12T07:32:58.931411",
     "exception": false,
     "start_time": "2024-08-12T07:32:58.928205",
     "status": "completed"
    },
    "tags": []
   },
   "outputs": [],
   "source": []
  },
  {
   "cell_type": "markdown",
   "id": "236fb3a1",
   "metadata": {
    "papermill": {
     "duration": 0.003171,
     "end_time": "2024-08-12T07:32:58.937960",
     "exception": false,
     "start_time": "2024-08-12T07:32:58.934789",
     "status": "completed"
    },
    "tags": []
   },
   "source": [
    "### Step 5. For each continent print the statistics for wine consumption."
   ]
  },
  {
   "cell_type": "code",
   "execution_count": null,
   "id": "95b73339",
   "metadata": {
    "papermill": {
     "duration": 0.003135,
     "end_time": "2024-08-12T07:32:58.944520",
     "exception": false,
     "start_time": "2024-08-12T07:32:58.941385",
     "status": "completed"
    },
    "tags": []
   },
   "outputs": [],
   "source": []
  },
  {
   "cell_type": "markdown",
   "id": "37aaabe1",
   "metadata": {
    "papermill": {
     "duration": 0.003105,
     "end_time": "2024-08-12T07:32:58.951121",
     "exception": false,
     "start_time": "2024-08-12T07:32:58.948016",
     "status": "completed"
    },
    "tags": []
   },
   "source": [
    "### Step 6. Print the mean alcohol consumption per continent for every column"
   ]
  },
  {
   "cell_type": "code",
   "execution_count": null,
   "id": "4774a480",
   "metadata": {
    "papermill": {
     "duration": 0.003155,
     "end_time": "2024-08-12T07:32:58.957677",
     "exception": false,
     "start_time": "2024-08-12T07:32:58.954522",
     "status": "completed"
    },
    "tags": []
   },
   "outputs": [],
   "source": []
  },
  {
   "cell_type": "markdown",
   "id": "1b8b25b9",
   "metadata": {
    "papermill": {
     "duration": 0.003235,
     "end_time": "2024-08-12T07:32:58.964287",
     "exception": false,
     "start_time": "2024-08-12T07:32:58.961052",
     "status": "completed"
    },
    "tags": []
   },
   "source": [
    "### Step 7. Print the median alcohol consumption per continent for every column"
   ]
  },
  {
   "cell_type": "code",
   "execution_count": null,
   "id": "10216f9c",
   "metadata": {
    "papermill": {
     "duration": 0.003111,
     "end_time": "2024-08-12T07:32:58.970760",
     "exception": false,
     "start_time": "2024-08-12T07:32:58.967649",
     "status": "completed"
    },
    "tags": []
   },
   "outputs": [],
   "source": []
  },
  {
   "cell_type": "markdown",
   "id": "9de77819",
   "metadata": {
    "papermill": {
     "duration": 0.003169,
     "end_time": "2024-08-12T07:32:58.977244",
     "exception": false,
     "start_time": "2024-08-12T07:32:58.974075",
     "status": "completed"
    },
    "tags": []
   },
   "source": [
    "### Step 8. Print the mean, min and max values for spirit consumption.\n",
    "#### This time output a DataFrame"
   ]
  },
  {
   "cell_type": "code",
   "execution_count": null,
   "id": "09b6a979",
   "metadata": {
    "papermill": {
     "duration": 0.003121,
     "end_time": "2024-08-12T07:32:58.984608",
     "exception": false,
     "start_time": "2024-08-12T07:32:58.981487",
     "status": "completed"
    },
    "tags": []
   },
   "outputs": [],
   "source": []
  }
 ],
 "metadata": {
  "kaggle": {
   "accelerator": "none",
   "dataSources": [
    {
     "datasetId": 5011184,
     "sourceId": 8418200,
     "sourceType": "datasetVersion"
    }
   ],
   "isGpuEnabled": false,
   "isInternetEnabled": true,
   "language": "python",
   "sourceType": "notebook"
  },
  "kernelspec": {
   "display_name": "Python 3",
   "language": "python",
   "name": "python3"
  },
  "language_info": {
   "codemirror_mode": {
    "name": "ipython",
    "version": 3
   },
   "file_extension": ".py",
   "mimetype": "text/x-python",
   "name": "python",
   "nbconvert_exporter": "python",
   "pygments_lexer": "ipython3",
   "version": "3.10.13"
  },
  "papermill": {
   "default_parameters": {},
   "duration": 6.022428,
   "end_time": "2024-08-12T07:33:02.208192",
   "environment_variables": {},
   "exception": null,
   "input_path": "__notebook__.ipynb",
   "output_path": "__notebook__.ipynb",
   "parameters": {},
   "start_time": "2024-08-12T07:32:56.185764",
   "version": "2.5.0"
  }
 },
 "nbformat": 4,
 "nbformat_minor": 5
}
