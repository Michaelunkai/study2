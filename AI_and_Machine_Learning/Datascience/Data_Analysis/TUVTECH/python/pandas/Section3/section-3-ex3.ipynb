{
 "cells": [
  {
   "cell_type": "markdown",
   "id": "01d06327",
   "metadata": {
    "papermill": {
     "duration": 0.007273,
     "end_time": "2024-05-19T09:26:40.192094",
     "exception": false,
     "start_time": "2024-05-19T09:26:40.184821",
     "status": "completed"
    },
    "tags": []
   },
   "source": [
    "# Regiment"
   ]
  },
  {
   "cell_type": "markdown",
   "id": "cbb2fc96",
   "metadata": {
    "papermill": {
     "duration": 0.006325,
     "end_time": "2024-05-19T09:26:40.205192",
     "exception": false,
     "start_time": "2024-05-19T09:26:40.198867",
     "status": "completed"
    },
    "tags": []
   },
   "source": [
    "### Introduction:\n",
    "\n",
    "Special thanks to: http://chrisalbon.com/ for sharing the dataset and materials.\n",
    "\n",
    "### Step 1. Import the necessary libraries"
   ]
  },
  {
   "cell_type": "code",
   "execution_count": null,
   "id": "a9ff8a58",
   "metadata": {
    "collapsed": false,
    "jupyter": {
     "outputs_hidden": false
    },
    "papermill": {
     "duration": 0.006426,
     "end_time": "2024-05-19T09:26:40.218233",
     "exception": false,
     "start_time": "2024-05-19T09:26:40.211807",
     "status": "completed"
    },
    "tags": []
   },
   "outputs": [],
   "source": []
  },
  {
   "cell_type": "markdown",
   "id": "ea16bd6e",
   "metadata": {
    "papermill": {
     "duration": 0.006364,
     "end_time": "2024-05-19T09:26:40.231635",
     "exception": false,
     "start_time": "2024-05-19T09:26:40.225271",
     "status": "completed"
    },
    "tags": []
   },
   "source": [
    "### Step 2. Create the DataFrame with the following values:"
   ]
  },
  {
   "cell_type": "code",
   "execution_count": 1,
   "id": "6470f088",
   "metadata": {
    "collapsed": true,
    "execution": {
     "iopub.execute_input": "2024-05-19T09:26:40.247017Z",
     "iopub.status.busy": "2024-05-19T09:26:40.246508Z",
     "iopub.status.idle": "2024-05-19T09:26:40.263642Z",
     "shell.execute_reply": "2024-05-19T09:26:40.262472Z"
    },
    "jupyter": {
     "outputs_hidden": true
    },
    "papermill": {
     "duration": 0.028283,
     "end_time": "2024-05-19T09:26:40.266535",
     "exception": false,
     "start_time": "2024-05-19T09:26:40.238252",
     "status": "completed"
    },
    "tags": []
   },
   "outputs": [],
   "source": [
    "raw_data = {'regiment': ['Nighthawks', 'Nighthawks', 'Nighthawks', 'Nighthawks', 'Dragoons', 'Dragoons', 'Dragoons', 'Dragoons', 'Scouts', 'Scouts', 'Scouts', 'Scouts'], \n",
    "        'company': ['1st', '1st', '2nd', '2nd', '1st', '1st', '2nd', '2nd','1st', '1st', '2nd', '2nd'], \n",
    "        'name': ['Miller', 'Jacobson', 'Ali', 'Milner', 'Cooze', 'Jacon', 'Ryaner', 'Sone', 'Sloan', 'Piger', 'Riani', 'Ali'], \n",
    "        'preTestScore': [4, 24, 31, 2, 3, 4, 24, 31, 2, 3, 2, 3],\n",
    "        'postTestScore': [25, 94, 57, 62, 70, 25, 94, 57, 62, 70, 62, 70]}"
   ]
  },
  {
   "cell_type": "markdown",
   "id": "7ae4dc09",
   "metadata": {
    "papermill": {
     "duration": 0.00634,
     "end_time": "2024-05-19T09:26:40.279839",
     "exception": false,
     "start_time": "2024-05-19T09:26:40.273499",
     "status": "completed"
    },
    "tags": []
   },
   "source": [
    "### Step 3. Assign it to a variable called regiment.\n",
    "#### Don't forget to name each column"
   ]
  },
  {
   "cell_type": "code",
   "execution_count": null,
   "id": "b3ee140c",
   "metadata": {
    "collapsed": false,
    "jupyter": {
     "outputs_hidden": false
    },
    "papermill": {
     "duration": 0.006379,
     "end_time": "2024-05-19T09:26:40.293048",
     "exception": false,
     "start_time": "2024-05-19T09:26:40.286669",
     "status": "completed"
    },
    "tags": []
   },
   "outputs": [],
   "source": []
  },
  {
   "cell_type": "markdown",
   "id": "35d430da",
   "metadata": {
    "papermill": {
     "duration": 0.006376,
     "end_time": "2024-05-19T09:26:40.306105",
     "exception": false,
     "start_time": "2024-05-19T09:26:40.299729",
     "status": "completed"
    },
    "tags": []
   },
   "source": [
    "### Step 4. What is the mean preTestScore from the regiment Nighthawks?  "
   ]
  },
  {
   "cell_type": "code",
   "execution_count": null,
   "id": "863edcb0",
   "metadata": {
    "collapsed": false,
    "jupyter": {
     "outputs_hidden": false
    },
    "papermill": {
     "duration": 0.006561,
     "end_time": "2024-05-19T09:26:40.319451",
     "exception": false,
     "start_time": "2024-05-19T09:26:40.312890",
     "status": "completed"
    },
    "tags": []
   },
   "outputs": [],
   "source": []
  },
  {
   "cell_type": "markdown",
   "id": "1a4a6fe1",
   "metadata": {
    "papermill": {
     "duration": 0.007495,
     "end_time": "2024-05-19T09:26:40.333770",
     "exception": false,
     "start_time": "2024-05-19T09:26:40.326275",
     "status": "completed"
    },
    "tags": []
   },
   "source": [
    "### Step 5. Present general statistics by company"
   ]
  },
  {
   "cell_type": "code",
   "execution_count": null,
   "id": "f1644808",
   "metadata": {
    "collapsed": false,
    "jupyter": {
     "outputs_hidden": false
    },
    "papermill": {
     "duration": 0.006391,
     "end_time": "2024-05-19T09:26:40.346828",
     "exception": false,
     "start_time": "2024-05-19T09:26:40.340437",
     "status": "completed"
    },
    "tags": []
   },
   "outputs": [],
   "source": []
  },
  {
   "cell_type": "markdown",
   "id": "84dadab8",
   "metadata": {
    "papermill": {
     "duration": 0.006346,
     "end_time": "2024-05-19T09:26:40.359868",
     "exception": false,
     "start_time": "2024-05-19T09:26:40.353522",
     "status": "completed"
    },
    "tags": []
   },
   "source": [
    "### Step 6. What is the mean of each company's preTestScore?"
   ]
  },
  {
   "cell_type": "code",
   "execution_count": null,
   "id": "29c5da2c",
   "metadata": {
    "collapsed": false,
    "jupyter": {
     "outputs_hidden": false
    },
    "papermill": {
     "duration": 0.006312,
     "end_time": "2024-05-19T09:26:40.372821",
     "exception": false,
     "start_time": "2024-05-19T09:26:40.366509",
     "status": "completed"
    },
    "tags": []
   },
   "outputs": [],
   "source": []
  },
  {
   "cell_type": "markdown",
   "id": "8a926133",
   "metadata": {
    "papermill": {
     "duration": 0.006541,
     "end_time": "2024-05-19T09:26:40.386031",
     "exception": false,
     "start_time": "2024-05-19T09:26:40.379490",
     "status": "completed"
    },
    "tags": []
   },
   "source": [
    "### Step 7. Present the mean preTestScores grouped by regiment and company"
   ]
  },
  {
   "cell_type": "code",
   "execution_count": null,
   "id": "6458ff2e",
   "metadata": {
    "collapsed": false,
    "jupyter": {
     "outputs_hidden": false
    },
    "papermill": {
     "duration": 0.006428,
     "end_time": "2024-05-19T09:26:40.399367",
     "exception": false,
     "start_time": "2024-05-19T09:26:40.392939",
     "status": "completed"
    },
    "tags": []
   },
   "outputs": [],
   "source": []
  },
  {
   "cell_type": "markdown",
   "id": "80dae909",
   "metadata": {
    "papermill": {
     "duration": 0.006363,
     "end_time": "2024-05-19T09:26:40.412500",
     "exception": false,
     "start_time": "2024-05-19T09:26:40.406137",
     "status": "completed"
    },
    "tags": []
   },
   "source": [
    "### Step 8. Present the mean preTestScores grouped by regiment and company without heirarchical indexing"
   ]
  },
  {
   "cell_type": "code",
   "execution_count": null,
   "id": "f47a4238",
   "metadata": {
    "collapsed": false,
    "jupyter": {
     "outputs_hidden": false
    },
    "papermill": {
     "duration": 0.006474,
     "end_time": "2024-05-19T09:26:40.425754",
     "exception": false,
     "start_time": "2024-05-19T09:26:40.419280",
     "status": "completed"
    },
    "tags": []
   },
   "outputs": [],
   "source": []
  },
  {
   "cell_type": "markdown",
   "id": "7a21af4e",
   "metadata": {
    "papermill": {
     "duration": 0.006973,
     "end_time": "2024-05-19T09:26:40.439472",
     "exception": false,
     "start_time": "2024-05-19T09:26:40.432499",
     "status": "completed"
    },
    "tags": []
   },
   "source": [
    "### Step 9. Group the entire dataframe by regiment and company"
   ]
  },
  {
   "cell_type": "code",
   "execution_count": null,
   "id": "c5af94b5",
   "metadata": {
    "collapsed": false,
    "jupyter": {
     "outputs_hidden": false
    },
    "papermill": {
     "duration": 0.006667,
     "end_time": "2024-05-19T09:26:40.453656",
     "exception": false,
     "start_time": "2024-05-19T09:26:40.446989",
     "status": "completed"
    },
    "tags": []
   },
   "outputs": [],
   "source": []
  },
  {
   "cell_type": "markdown",
   "id": "088013e8",
   "metadata": {
    "papermill": {
     "duration": 0.006995,
     "end_time": "2024-05-19T09:26:40.467487",
     "exception": false,
     "start_time": "2024-05-19T09:26:40.460492",
     "status": "completed"
    },
    "tags": []
   },
   "source": [
    "### Step 10. What is the number of observations in each regiment and company"
   ]
  },
  {
   "cell_type": "code",
   "execution_count": null,
   "id": "d77e9e87",
   "metadata": {
    "collapsed": false,
    "jupyter": {
     "outputs_hidden": false
    },
    "papermill": {
     "duration": 0.006395,
     "end_time": "2024-05-19T09:26:40.480745",
     "exception": false,
     "start_time": "2024-05-19T09:26:40.474350",
     "status": "completed"
    },
    "tags": []
   },
   "outputs": [],
   "source": []
  },
  {
   "cell_type": "markdown",
   "id": "e6209804",
   "metadata": {
    "papermill": {
     "duration": 0.006541,
     "end_time": "2024-05-19T09:26:40.494184",
     "exception": false,
     "start_time": "2024-05-19T09:26:40.487643",
     "status": "completed"
    },
    "tags": []
   },
   "source": [
    "### Step 11. Iterate over a group and print the name and the whole data from the regiment"
   ]
  },
  {
   "cell_type": "code",
   "execution_count": null,
   "id": "1cab4d30",
   "metadata": {
    "collapsed": false,
    "jupyter": {
     "outputs_hidden": false
    },
    "papermill": {
     "duration": 0.006455,
     "end_time": "2024-05-19T09:26:40.507404",
     "exception": false,
     "start_time": "2024-05-19T09:26:40.500949",
     "status": "completed"
    },
    "tags": []
   },
   "outputs": [],
   "source": []
  }
 ],
 "metadata": {
  "kaggle": {
   "accelerator": "none",
   "dataSources": [
    {
     "datasetId": 5011184,
     "sourceId": 8418200,
     "sourceType": "datasetVersion"
    }
   ],
   "isGpuEnabled": false,
   "isInternetEnabled": true,
   "language": "python",
   "sourceType": "notebook"
  },
  "kernelspec": {
   "display_name": "Python 3",
   "language": "python",
   "name": "python3"
  },
  "language_info": {
   "codemirror_mode": {
    "name": "ipython",
    "version": 3
   },
   "file_extension": ".py",
   "mimetype": "text/x-python",
   "name": "python",
   "nbconvert_exporter": "python",
   "pygments_lexer": "ipython3",
   "version": "3.10.13"
  },
  "papermill": {
   "default_parameters": {},
   "duration": 4.265764,
   "end_time": "2024-05-19T09:26:40.939252",
   "environment_variables": {},
   "exception": null,
   "input_path": "__notebook__.ipynb",
   "output_path": "__notebook__.ipynb",
   "parameters": {},
   "start_time": "2024-05-19T09:26:36.673488",
   "version": "2.5.0"
  }
 },
 "nbformat": 4,
 "nbformat_minor": 5
}
