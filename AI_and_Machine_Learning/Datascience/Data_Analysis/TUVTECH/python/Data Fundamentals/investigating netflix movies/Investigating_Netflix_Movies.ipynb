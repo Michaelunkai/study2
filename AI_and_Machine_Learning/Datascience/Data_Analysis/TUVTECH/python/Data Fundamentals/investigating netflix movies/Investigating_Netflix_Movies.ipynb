{
 "cells": [
  {
   "cell_type": "code",
   "execution_count": null,
   "id": "4f947ae1",
   "metadata": {},
   "outputs": [],
   "source": [
    "\n",
    "# Import necessary libraries\n",
    "import pandas as pd\n",
    "\n",
    "# Load the dataset\n",
    "netflix_df = pd.read_csv(\"netflix_data.csv\")\n",
    "\n",
    "# Filter for movies released in the 1990s\n",
    "movies_90s = netflix_df[\n",
    "    (netflix_df['type'] == 'Movie') & \n",
    "    (netflix_df['release_year'] >= 1990) & \n",
    "    (netflix_df['release_year'] <= 1999)\n",
    "]\n",
    "\n",
    "# Calculate the most frequent duration\n",
    "duration = movies_90s['duration'].mode()[0]\n",
    "\n",
    "# Filter for short action movies\n",
    "short_action_movies = movies_90s[\n",
    "    (movies_90s['genre'] == 'Action') & \n",
    "    (movies_90s['duration'] < 90)\n",
    "]\n",
    "\n",
    "# Count the number of short action movies\n",
    "short_movie_count = len(short_action_movies)\n",
    "\n",
    "# Output the results\n",
    "print(f\"The most frequent movie duration in the 1990s: {duration} minutes\")\n",
    "print(f\"Number of short action movies in the 1990s: {short_movie_count}\")\n"
   ]
  }
 ],
 "metadata": {},
 "nbformat": 4,
 "nbformat_minor": 5
}
