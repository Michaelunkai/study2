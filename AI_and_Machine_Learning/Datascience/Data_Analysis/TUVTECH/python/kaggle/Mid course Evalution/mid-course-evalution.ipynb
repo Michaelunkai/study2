{
 "cells": [
  {
   "cell_type": "markdown",
   "id": "883ba370",
   "metadata": {
    "papermill": {
     "duration": 0.010695,
     "end_time": "2024-04-15T03:57:10.910325",
     "exception": false,
     "start_time": "2024-04-15T03:57:10.899630",
     "status": "completed"
    },
    "tags": []
   },
   "source": [
    "## Mid course Evalution\n",
    "### After you finish this, make your notebook public and sent the link to Raz in Slack"
   ]
  },
  {
   "cell_type": "markdown",
   "id": "b53755c2",
   "metadata": {
    "papermill": {
     "duration": 0.009844,
     "end_time": "2024-04-15T03:57:10.930885",
     "exception": false,
     "start_time": "2024-04-15T03:57:10.921041",
     "status": "completed"
    },
    "tags": []
   },
   "source": [
    "**Iris Dataset Explanation:\n",
    "The Iris dataset is a famous dataset in the field of machine learning and data analysis. It contains measurements of four attributes (sepal length, sepal width, petal length, and petal width) for three different species of Iris flowers: Setosa, Versicolor, and Virginica. The dataset consists of 150 samples, with 50 samples for each species.**\n"
   ]
  },
  {
   "cell_type": "markdown",
   "id": "d155464d",
   "metadata": {
    "papermill": {
     "duration": 0.01024,
     "end_time": "2024-04-15T03:57:10.951161",
     "exception": false,
     "start_time": "2024-04-15T03:57:10.940921",
     "status": "completed"
    },
    "tags": []
   },
   "source": [
    "**Data import**"
   ]
  },
  {
   "cell_type": "code",
   "execution_count": 1,
   "id": "eef2e481",
   "metadata": {
    "execution": {
     "iopub.execute_input": "2024-04-15T03:57:10.973859Z",
     "iopub.status.busy": "2024-04-15T03:57:10.973039Z",
     "iopub.status.idle": "2024-04-15T03:57:13.904131Z",
     "shell.execute_reply": "2024-04-15T03:57:13.902855Z"
    },
    "papermill": {
     "duration": 2.946036,
     "end_time": "2024-04-15T03:57:13.907255",
     "exception": false,
     "start_time": "2024-04-15T03:57:10.961219",
     "status": "completed"
    },
    "tags": []
   },
   "outputs": [],
   "source": [
    "import pandas as pd\n",
    "import seaborn as sns\n",
    "import matplotlib.pyplot as plt\n",
    "\n",
    "# Load the Iris dataset\n",
    "iris = sns.load_dataset('iris')"
   ]
  },
  {
   "cell_type": "markdown",
   "id": "bebb2035",
   "metadata": {
    "papermill": {
     "duration": 0.00999,
     "end_time": "2024-04-15T03:57:13.927662",
     "exception": false,
     "start_time": "2024-04-15T03:57:13.917672",
     "status": "completed"
    },
    "tags": []
   },
   "source": [
    "# 1. Data Preparation (25 points)\n",
    "# a. Examine the first and last 5 rows of the dataset."
   ]
  },
  {
   "cell_type": "code",
   "execution_count": null,
   "id": "a89a63df",
   "metadata": {
    "papermill": {
     "duration": 0.010045,
     "end_time": "2024-04-15T03:57:13.947877",
     "exception": false,
     "start_time": "2024-04-15T03:57:13.937832",
     "status": "completed"
    },
    "tags": []
   },
   "outputs": [],
   "source": []
  },
  {
   "cell_type": "markdown",
   "id": "4d784bce",
   "metadata": {
    "papermill": {
     "duration": 0.010951,
     "end_time": "2024-04-15T03:57:13.969678",
     "exception": false,
     "start_time": "2024-04-15T03:57:13.958727",
     "status": "completed"
    },
    "tags": []
   },
   "source": [
    "# b. Check the data types of each column.\n"
   ]
  },
  {
   "cell_type": "code",
   "execution_count": null,
   "id": "557e93c2",
   "metadata": {
    "papermill": {
     "duration": 0.009892,
     "end_time": "2024-04-15T03:57:13.989704",
     "exception": false,
     "start_time": "2024-04-15T03:57:13.979812",
     "status": "completed"
    },
    "tags": []
   },
   "outputs": [],
   "source": []
  },
  {
   "cell_type": "markdown",
   "id": "471d0949",
   "metadata": {
    "papermill": {
     "duration": 0.012092,
     "end_time": "2024-04-15T03:57:14.012022",
     "exception": false,
     "start_time": "2024-04-15T03:57:13.999930",
     "status": "completed"
    },
    "tags": []
   },
   "source": [
    "# c. Rename the columns to more descriptive names.\n"
   ]
  },
  {
   "cell_type": "code",
   "execution_count": null,
   "id": "a7da4876",
   "metadata": {
    "papermill": {
     "duration": 0.009841,
     "end_time": "2024-04-15T03:57:14.032268",
     "exception": false,
     "start_time": "2024-04-15T03:57:14.022427",
     "status": "completed"
    },
    "tags": []
   },
   "outputs": [],
   "source": []
  },
  {
   "cell_type": "markdown",
   "id": "ca341fdf",
   "metadata": {
    "papermill": {
     "duration": 0.010003,
     "end_time": "2024-04-15T03:57:14.052511",
     "exception": false,
     "start_time": "2024-04-15T03:57:14.042508",
     "status": "completed"
    },
    "tags": []
   },
   "source": [
    "# d. Create a new column \"sepal_area\" which is the product of sepal length and sepal width."
   ]
  },
  {
   "cell_type": "code",
   "execution_count": null,
   "id": "1cc00a45",
   "metadata": {
    "papermill": {
     "duration": 0.009812,
     "end_time": "2024-04-15T03:57:14.072805",
     "exception": false,
     "start_time": "2024-04-15T03:57:14.062993",
     "status": "completed"
    },
    "tags": []
   },
   "outputs": [],
   "source": []
  },
  {
   "cell_type": "markdown",
   "id": "40b82961",
   "metadata": {
    "papermill": {
     "duration": 0.009743,
     "end_time": "2024-04-15T03:57:14.092834",
     "exception": false,
     "start_time": "2024-04-15T03:57:14.083091",
     "status": "completed"
    },
    "tags": []
   },
   "source": [
    "# e. Create a new column \"petal_area\" which is the product of petal length and petal width."
   ]
  },
  {
   "cell_type": "code",
   "execution_count": null,
   "id": "be0ef12d",
   "metadata": {
    "papermill": {
     "duration": 0.00985,
     "end_time": "2024-04-15T03:57:14.112774",
     "exception": false,
     "start_time": "2024-04-15T03:57:14.102924",
     "status": "completed"
    },
    "tags": []
   },
   "outputs": [],
   "source": []
  },
  {
   "cell_type": "markdown",
   "id": "22f34e22",
   "metadata": {
    "papermill": {
     "duration": 0.009776,
     "end_time": "2024-04-15T03:57:14.132910",
     "exception": false,
     "start_time": "2024-04-15T03:57:14.123134",
     "status": "completed"
    },
    "tags": []
   },
   "source": [
    "# 2. Data Manipulation (25 points)\n",
    "# a. Sort the dataset by sepal length in descending order."
   ]
  },
  {
   "cell_type": "code",
   "execution_count": null,
   "id": "a7b5f911",
   "metadata": {
    "papermill": {
     "duration": 0.009828,
     "end_time": "2024-04-15T03:57:14.152923",
     "exception": false,
     "start_time": "2024-04-15T03:57:14.143095",
     "status": "completed"
    },
    "tags": []
   },
   "outputs": [],
   "source": []
  },
  {
   "cell_type": "markdown",
   "id": "20dea9b1",
   "metadata": {
    "papermill": {
     "duration": 0.009935,
     "end_time": "2024-04-15T03:57:14.173550",
     "exception": false,
     "start_time": "2024-04-15T03:57:14.163615",
     "status": "completed"
    },
    "tags": []
   },
   "source": [
    "# b. Filter the dataset to include only the rows where sepal width is greater than 3.0."
   ]
  },
  {
   "cell_type": "code",
   "execution_count": null,
   "id": "9bc33794",
   "metadata": {
    "papermill": {
     "duration": 0.009899,
     "end_time": "2024-04-15T03:57:14.193640",
     "exception": false,
     "start_time": "2024-04-15T03:57:14.183741",
     "status": "completed"
    },
    "tags": []
   },
   "outputs": [],
   "source": []
  },
  {
   "cell_type": "markdown",
   "id": "bc3a649f",
   "metadata": {
    "papermill": {
     "duration": 0.009752,
     "end_time": "2024-04-15T03:57:14.213737",
     "exception": false,
     "start_time": "2024-04-15T03:57:14.203985",
     "status": "completed"
    },
    "tags": []
   },
   "source": [
    "# c. Group the dataset by species and calculate the mean values for each numeric column."
   ]
  },
  {
   "cell_type": "code",
   "execution_count": null,
   "id": "ebc1dfe6",
   "metadata": {
    "papermill": {
     "duration": 0.009871,
     "end_time": "2024-04-15T03:57:14.233747",
     "exception": false,
     "start_time": "2024-04-15T03:57:14.223876",
     "status": "completed"
    },
    "tags": []
   },
   "outputs": [],
   "source": []
  },
  {
   "cell_type": "markdown",
   "id": "2b66de30",
   "metadata": {
    "papermill": {
     "duration": 0.010162,
     "end_time": "2024-04-15T03:57:14.255523",
     "exception": false,
     "start_time": "2024-04-15T03:57:14.245361",
     "status": "completed"
    },
    "tags": []
   },
   "source": [
    "# d. Pivot the dataset to create a new DataFrame with species as columns and sepal length and sepal width as rows."
   ]
  },
  {
   "cell_type": "code",
   "execution_count": null,
   "id": "3d23aaa7",
   "metadata": {
    "papermill": {
     "duration": 0.00987,
     "end_time": "2024-04-15T03:57:14.275747",
     "exception": false,
     "start_time": "2024-04-15T03:57:14.265877",
     "status": "completed"
    },
    "tags": []
   },
   "outputs": [],
   "source": []
  },
  {
   "cell_type": "markdown",
   "id": "67fca8fd",
   "metadata": {
    "papermill": {
     "duration": 0.010035,
     "end_time": "2024-04-15T03:57:14.296127",
     "exception": false,
     "start_time": "2024-04-15T03:57:14.286092",
     "status": "completed"
    },
    "tags": []
   },
   "source": [
    "# e. Melt the pivoted DataFrame to create a long format DataFrame."
   ]
  },
  {
   "cell_type": "code",
   "execution_count": null,
   "id": "7215ee2d",
   "metadata": {
    "papermill": {
     "duration": 0.01016,
     "end_time": "2024-04-15T03:57:14.316686",
     "exception": false,
     "start_time": "2024-04-15T03:57:14.306526",
     "status": "completed"
    },
    "tags": []
   },
   "outputs": [],
   "source": []
  },
  {
   "cell_type": "markdown",
   "id": "99aadbea",
   "metadata": {
    "papermill": {
     "duration": 0.009907,
     "end_time": "2024-04-15T03:57:14.336961",
     "exception": false,
     "start_time": "2024-04-15T03:57:14.327054",
     "status": "completed"
    },
    "tags": []
   },
   "source": [
    "# 3. Data Visualization (25 points)\n",
    "# a. Create a histogram of sepal length."
   ]
  },
  {
   "cell_type": "code",
   "execution_count": null,
   "id": "1809e901",
   "metadata": {
    "papermill": {
     "duration": 0.010441,
     "end_time": "2024-04-15T03:57:14.357740",
     "exception": false,
     "start_time": "2024-04-15T03:57:14.347299",
     "status": "completed"
    },
    "tags": []
   },
   "outputs": [],
   "source": []
  },
  {
   "cell_type": "markdown",
   "id": "e4e18a9e",
   "metadata": {
    "papermill": {
     "duration": 0.009989,
     "end_time": "2024-04-15T03:57:14.378139",
     "exception": false,
     "start_time": "2024-04-15T03:57:14.368150",
     "status": "completed"
    },
    "tags": []
   },
   "source": [
    "# b. Create a scatterplot of sepal length vs. sepal width, colored by species."
   ]
  },
  {
   "cell_type": "code",
   "execution_count": null,
   "id": "2b76680f",
   "metadata": {
    "papermill": {
     "duration": 0.009835,
     "end_time": "2024-04-15T03:57:14.398329",
     "exception": false,
     "start_time": "2024-04-15T03:57:14.388494",
     "status": "completed"
    },
    "tags": []
   },
   "outputs": [],
   "source": []
  },
  {
   "cell_type": "markdown",
   "id": "2f3e1055",
   "metadata": {
    "papermill": {
     "duration": 0.010278,
     "end_time": "2024-04-15T03:57:14.418904",
     "exception": false,
     "start_time": "2024-04-15T03:57:14.408626",
     "status": "completed"
    },
    "tags": []
   },
   "source": [
    "# c. Create a boxplot of petal length by species."
   ]
  },
  {
   "cell_type": "code",
   "execution_count": null,
   "id": "b11f49b6",
   "metadata": {
    "papermill": {
     "duration": 0.009773,
     "end_time": "2024-04-15T03:57:14.438825",
     "exception": false,
     "start_time": "2024-04-15T03:57:14.429052",
     "status": "completed"
    },
    "tags": []
   },
   "outputs": [],
   "source": []
  },
  {
   "cell_type": "markdown",
   "id": "4d938c8e",
   "metadata": {
    "papermill": {
     "duration": 0.009762,
     "end_time": "2024-04-15T03:57:14.458801",
     "exception": false,
     "start_time": "2024-04-15T03:57:14.449039",
     "status": "completed"
    },
    "tags": []
   },
   "source": [
    "# d. Create a pairplot of the dataset, colored by species."
   ]
  },
  {
   "cell_type": "code",
   "execution_count": null,
   "id": "dab79973",
   "metadata": {
    "papermill": {
     "duration": 0.010425,
     "end_time": "2024-04-15T03:57:14.479299",
     "exception": false,
     "start_time": "2024-04-15T03:57:14.468874",
     "status": "completed"
    },
    "tags": []
   },
   "outputs": [],
   "source": []
  },
  {
   "cell_type": "markdown",
   "id": "f3e8f9e1",
   "metadata": {
    "papermill": {
     "duration": 0.010558,
     "end_time": "2024-04-15T03:57:14.500352",
     "exception": false,
     "start_time": "2024-04-15T03:57:14.489794",
     "status": "completed"
    },
    "tags": []
   },
   "source": [
    "# e. Create a heatmap of the correlation matrix."
   ]
  },
  {
   "cell_type": "code",
   "execution_count": null,
   "id": "20d5f10f",
   "metadata": {
    "papermill": {
     "duration": 0.01025,
     "end_time": "2024-04-15T03:57:14.520826",
     "exception": false,
     "start_time": "2024-04-15T03:57:14.510576",
     "status": "completed"
    },
    "tags": []
   },
   "outputs": [],
   "source": []
  },
  {
   "cell_type": "markdown",
   "id": "fdcfa188",
   "metadata": {
    "papermill": {
     "duration": 0.009964,
     "end_time": "2024-04-15T03:57:14.540978",
     "exception": false,
     "start_time": "2024-04-15T03:57:14.531014",
     "status": "completed"
    },
    "tags": []
   },
   "source": [
    "# 4. Data Aggregation (25 points)\n",
    "# a. Calculate the total sepal area and petal area for each species."
   ]
  },
  {
   "cell_type": "code",
   "execution_count": null,
   "id": "2cbeb825",
   "metadata": {
    "papermill": {
     "duration": 0.009848,
     "end_time": "2024-04-15T03:57:14.560978",
     "exception": false,
     "start_time": "2024-04-15T03:57:14.551130",
     "status": "completed"
    },
    "tags": []
   },
   "outputs": [],
   "source": []
  },
  {
   "cell_type": "markdown",
   "id": "51086390",
   "metadata": {
    "papermill": {
     "duration": 0.009846,
     "end_time": "2024-04-15T03:57:14.581075",
     "exception": false,
     "start_time": "2024-04-15T03:57:14.571229",
     "status": "completed"
    },
    "tags": []
   },
   "source": [
    "# b. Find the maximum and minimum values for each numeric column by species."
   ]
  },
  {
   "cell_type": "code",
   "execution_count": null,
   "id": "64634c59",
   "metadata": {
    "papermill": {
     "duration": 0.010006,
     "end_time": "2024-04-15T03:57:14.601254",
     "exception": false,
     "start_time": "2024-04-15T03:57:14.591248",
     "status": "completed"
    },
    "tags": []
   },
   "outputs": [],
   "source": []
  },
  {
   "cell_type": "markdown",
   "id": "d71146c7",
   "metadata": {
    "papermill": {
     "duration": 0.010198,
     "end_time": "2024-04-15T03:57:14.621522",
     "exception": false,
     "start_time": "2024-04-15T03:57:14.611324",
     "status": "completed"
    },
    "tags": []
   },
   "source": [
    "# c. Calculate the mean and median values for each numeric column by species."
   ]
  },
  {
   "cell_type": "code",
   "execution_count": null,
   "id": "c4eb5d6a",
   "metadata": {
    "papermill": {
     "duration": 0.009791,
     "end_time": "2024-04-15T03:57:14.641534",
     "exception": false,
     "start_time": "2024-04-15T03:57:14.631743",
     "status": "completed"
    },
    "tags": []
   },
   "outputs": [],
   "source": []
  },
  {
   "cell_type": "markdown",
   "id": "ba295576",
   "metadata": {
    "papermill": {
     "duration": 0.009815,
     "end_time": "2024-04-15T03:57:14.661369",
     "exception": false,
     "start_time": "2024-04-15T03:57:14.651554",
     "status": "completed"
    },
    "tags": []
   },
   "source": [
    "# d. Count the number of observations for each species."
   ]
  },
  {
   "cell_type": "code",
   "execution_count": null,
   "id": "3bd2cd94",
   "metadata": {
    "papermill": {
     "duration": 0.009942,
     "end_time": "2024-04-15T03:57:14.681405",
     "exception": false,
     "start_time": "2024-04-15T03:57:14.671463",
     "status": "completed"
    },
    "tags": []
   },
   "outputs": [],
   "source": []
  },
  {
   "cell_type": "markdown",
   "id": "588add2d",
   "metadata": {
    "papermill": {
     "duration": 0.009808,
     "end_time": "2024-04-15T03:57:14.701376",
     "exception": false,
     "start_time": "2024-04-15T03:57:14.691568",
     "status": "completed"
    },
    "tags": []
   },
   "source": [
    "# e. Calculate the 25th, 50th, and 75th percentiles for each numeric column by species.\n"
   ]
  },
  {
   "cell_type": "code",
   "execution_count": null,
   "id": "946e97a6",
   "metadata": {
    "papermill": {
     "duration": 0.009904,
     "end_time": "2024-04-15T03:57:14.721268",
     "exception": false,
     "start_time": "2024-04-15T03:57:14.711364",
     "status": "completed"
    },
    "tags": []
   },
   "outputs": [],
   "source": []
  }
 ],
 "metadata": {
  "kaggle": {
   "accelerator": "none",
   "dataSources": [],
   "dockerImageVersionId": 30684,
   "isGpuEnabled": false,
   "isInternetEnabled": true,
   "language": "python",
   "sourceType": "notebook"
  },
  "kernelspec": {
   "display_name": "Python 3",
   "language": "python",
   "name": "python3"
  },
  "language_info": {
   "codemirror_mode": {
    "name": "ipython",
    "version": 3
   },
   "file_extension": ".py",
   "mimetype": "text/x-python",
   "name": "python",
   "nbconvert_exporter": "python",
   "pygments_lexer": "ipython3",
   "version": "3.10.13"
  },
  "papermill": {
   "default_parameters": {},
   "duration": 7.515025,
   "end_time": "2024-04-15T03:57:15.352012",
   "environment_variables": {},
   "exception": null,
   "input_path": "__notebook__.ipynb",
   "output_path": "__notebook__.ipynb",
   "parameters": {},
   "start_time": "2024-04-15T03:57:07.836987",
   "version": "2.5.0"
  }
 },
 "nbformat": 4,
 "nbformat_minor": 5
}
