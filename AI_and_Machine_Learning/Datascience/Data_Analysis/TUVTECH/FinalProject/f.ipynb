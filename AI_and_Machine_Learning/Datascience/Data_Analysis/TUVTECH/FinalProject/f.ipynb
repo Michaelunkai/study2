{
 "cells": [
  {
   "cell_type": "markdown",
   "id": "intro-markdown",
   "metadata": {},
   "source": [
    "# Video Games Sales Analysis\n",
    "\n",
    "This notebook analyzes the video games sales dataset available on Kaggle. We address three main questions:\n",
    "\n",
    "1. **What is the distribution of Global Sales?**\n",
    "2. **Which Genre has the highest average Global Sales?**\n",
    "3. **How do Sales vary across different Platforms?**\n",
    "\n",
    "For each question, there are 19 distinct code blocks showing diverse ways of visualizing or analyzing the data.\n",
    "\n",
    "All file paths have been updated to use Kaggle’s input system."
   ]
  },
  {
   "cell_type": "code",
   "execution_count": null,
   "id": "imports-load",
   "metadata": {},
   "outputs": [],
   "source": [
    "# Import necessary libraries\n",
    "import pandas as pd\n",
    "import numpy as np\n",
    "import matplotlib.pyplot as plt\n",
    "%matplotlib inline\n",
    "\n",
    "# Suppress warnings\n",
    "import warnings\n",
    "warnings.filterwarnings('ignore')\n",
    "\n",
    "# Define the file path for the attached dataset on Kaggle\n",
    "data_path = \"/kaggle/input/video-games-sales-as-at-22-dec-2016csv/Video_Games_Sales_as_at_22_Dec_2016.csv\"\n",
    "\n",
    "# Load the dataset\n",
    "df = pd.read_csv(data_path, encoding='ISO-8859-1')\n",
    "\n",
    "# Display the first few rows\n",
    "df.head()"
   ]
  },
  {
   "cell_type": "markdown",
   "id": "q1-title",
   "metadata": {},
   "source": [
    "## Question 1: What is the distribution of Global Sales?\n",
    "\n",
    "In this section, we explore the distribution of Global Sales using multiple approaches."
   ]
  },
  {
   "cell_type": "code",
   "execution_count": null,
   "id": "q1-code1",
   "metadata": {},
   "outputs": [],
   "source": [
    "# Q1 Block 1: Histogram of Global Sales\n",
    "if 'Global_Sales' in df.columns:\n",
    "    plt.figure(figsize=(10, 6))\n",
    "    plt.hist(df['Global_Sales'].dropna(), bins=30, edgecolor='k')\n",
    "    plt.title('Histogram of Global Sales')\n",
    "    plt.xlabel('Global Sales (in millions)')\n",
    "    plt.ylabel('Frequency')\n",
    "    plt.show()\n",
    "else:\n",
    "    print(\"Column 'Global_Sales' not found.\")"
   ]
  },
  {
   "cell_type": "code",
   "execution_count": null,
   "id": "q1-code2",
   "metadata": {},
   "outputs": [],
   "source": [
    "# Q1 Block 2: Summary Statistics for Global Sales\n",
    "if 'Global_Sales' in df.columns:\n",
    "    sales_stats = df['Global_Sales'].describe()\n",
    "    print(sales_stats)\n",
    "else:\n",
    "    print(\"Column 'Global_Sales' not found.\")"
   ]
  },
  {
   "cell_type": "code",
   "execution_count": null,
   "id": "q1-code3",
   "metadata": {},
   "outputs": [],
   "source": [
    "# Q1 Block 3: Additional Statistics (Median & Variance) for Global Sales\n",
    "if 'Global_Sales' in df.columns:\n",
    "    median_sales = df['Global_Sales'].median()\n",
    "    var_sales = df['Global_Sales'].var()\n",
    "    print(f\"Median Global Sales: {median_sales}\")\n",
    "    print(f\"Variance of Global Sales: {var_sales}\")\n",
    "else:\n",
    "    print(\"Column 'Global_Sales' not found.\")"
   ]
  },
  {
   "cell_type": "code",
   "execution_count": null,
   "id": "q1-code4",
   "metadata": {},
   "outputs": [],
   "source": [
    "# Q1 Block 4: Density Plot for Global Sales\n",
    "if 'Global_Sales' in df.columns:\n",
    "    plt.figure(figsize=(10, 6))\n",
    "    df['Global_Sales'].dropna().plot(kind='density')\n",
    "    plt.title('Density Plot of Global Sales')\n",
    "    plt.xlabel('Global Sales (in millions)')\n",
    "    plt.show()\n",
    "else:\n",
    "    print(\"Column 'Global_Sales' not found.\")"
   ]
  },
  {
   "cell_type": "code",
   "execution_count": null,
   "id": "q1-code5",
   "metadata": {},
   "outputs": [],
   "source": [
    "# Q1 Block 5: Box Plot for Global Sales\n",
    "if 'Global_Sales' in df.columns:\n",
    "    plt.figure(figsize=(6, 8))\n",
    "    plt.boxplot(df['Global_Sales'].dropna(), vert=True, patch_artist=True)\n",
    "    plt.title('Box Plot of Global Sales')\n",
    "    plt.ylabel('Global Sales (in millions)')\n",
    "    plt.show()\n",
    "else:\n",
    "    print(\"Column 'Global_Sales' not found.\")"
   ]
  },
  {
   "cell_type": "code",
   "execution_count": null,
   "id": "q1-code6",
   "metadata": {},
   "outputs": [],
   "source": [
    "# Q1 Block 6: Cumulative Distribution Function (CDF) for Global Sales\n",
    "if 'Global_Sales' in df.columns:\n",
    "    sales_sorted = np.sort(df['Global_Sales'].dropna())\n",
    "    cdf = np.arange(len(sales_sorted)) / float(len(sales_sorted))\n",
    "    plt.figure(figsize=(10, 6))\n",
    "    plt.step(sales_sorted, cdf, where='post')\n",
    "    plt.title('CDF of Global Sales')\n",
    "    plt.xlabel('Global Sales (in millions)')\n",
    "    plt.ylabel('Cumulative Probability')\n",
    "    plt.show()\n",
    "else:\n",
    "    print(\"Column 'Global_Sales' not found.\")"
   ]
  },
  {
   "cell_type": "code",
   "execution_count": null,
   "id": "q1-code7",
   "metadata": {},
   "outputs": [],
   "source": [
    "# Q1 Block 7: Stem Plot of Sorted Global Sales\n",
    "if 'Global_Sales' in df.columns:\n",
    "    sales_sorted = np.sort(df['Global_Sales'].dropna())\n",
    "    markerline, stemlines, baseline = plt.stem(sales_sorted, use_line_collection=True)\n",
    "    plt.setp(markerline, 'markerfacecolor', 'b')\n",
    "    plt.title('Stem Plot of Global Sales')\n",
    "    plt.xlabel('Index')\n",
    "    plt.ylabel('Global Sales (in millions)')\n",
    "    plt.show()\n",
    "else:\n",
    "    print(\"Column 'Global_Sales' not found.\")"
   ]
  },
  {
   "cell_type": "code",
   "execution_count": null,
   "id": "q1-code8",
   "metadata": {},
   "outputs": [],
   "source": [
    "# Q1 Block 8: Cumulative Histogram of Global Sales\n",
    "if 'Global_Sales' in df.columns:\n",
    "    plt.figure(figsize=(10, 6))\n",
    "    plt.hist(df['Global_Sales'].dropna(), bins=30, cumulative=True, edgecolor='k')\n",
    "    plt.title('Cumulative Histogram of Global Sales')\n",
    "    plt.xlabel('Global Sales (in millions)')\n",
    "    plt.ylabel('Cumulative Frequency')\n",
    "    plt.show()\n",
    "else:\n",
    "    print(\"Column 'Global_Sales' not found.\")"
   ]
  },
  {
   "cell_type": "code",
   "execution_count": null,
   "id": "q1-code9",
   "metadata": {},
   "outputs": [],
   "source": [
    "# Q1 Block 9: Frequency Distribution by Binning Global Sales\n",
    "if 'Global_Sales' in df.columns:\n",
    "    bins = np.linspace(df['Global_Sales'].min(), df['Global_Sales'].max(), 20)\n",
    "    bin_counts = pd.cut(df['Global_Sales'].dropna(), bins=bins).value_counts().sort_index()\n",
    "    bin_counts.plot(kind='bar', figsize=(10, 6))\n",
    "    plt.title('Frequency Distribution of Global Sales by Bins')\n",
    "    plt.xlabel('Sales Bins (in millions)')\n",
    "    plt.ylabel('Count')\n",
    "    plt.show()\n",
    "else:\n",
    "    print(\"Column 'Global_Sales' not found.\")"
   ]
  },
  {
   "cell_type": "code",
   "execution_count": null,
   "id": "q1-code10",
   "metadata": {},
   "outputs": [],
   "source": [
    "# Q1 Block 10: Scatter Plot of Global Sales vs. Index\n",
    "if 'Global_Sales' in df.columns:\n",
    "    plt.figure(figsize=(10,6))\n",
    "    plt.scatter(range(len(df['Global_Sales'].dropna())), df['Global_Sales'].dropna(), alpha=0.6)\n",
    "    plt.title('Scatter Plot of Global Sales vs Index')\n",
    "    plt.xlabel('Index')\n",
    "    plt.ylabel('Global Sales (in millions)')\n",
    "    plt.show()\n",
    "else:\n",
    "    print(\"Column 'Global_Sales' not found.\")"
   ]
  },
  {
   "cell_type": "code",
   "execution_count": null,
   "id": "q1-code11",
   "metadata": {},
   "outputs": [],
   "source": [
    "# Q1 Block 11: Violin Plot of Global Sales\n",
    "if 'Global_Sales' in df.columns:\n",
    "    plt.figure(figsize=(8,6))\n",
    "    plt.violinplot(df['Global_Sales'].dropna(), showmeans=True)\n",
    "    plt.title('Violin Plot of Global Sales')\n",
    "    plt.ylabel('Global Sales (in millions)')\n",
    "    plt.xticks([1], ['Global Sales'])\n",
    "    plt.show()\n",
    "else:\n",
    "    print(\"Column 'Global_Sales' not found.\")"
   ]
  },
  {
   "cell_type": "code",
   "execution_count": null,
   "id": "q1-code12",
   "metadata": {},
   "outputs": [],
   "source": [
    "# Q1 Block 12: Log Scale Plot of Sorted Global Sales\n",
    "if 'Global_Sales' in df.columns:\n",
    "    sales_sorted = np.sort(df['Global_Sales'].dropna())\n",
    "    plt.figure(figsize=(10,6))\n",
    "    plt.plot(sales_sorted, marker='.', linestyle='none')\n",
    "    plt.yscale('log')\n",
    "    plt.title('Log Scale Plot of Sorted Global Sales')\n",
    "    plt.xlabel('Index')\n",
    "    plt.ylabel('Global Sales (log scale)')\n",
    "    plt.show()\n",
    "else:\n",
    "    print(\"Column 'Global_Sales' not found.\")"
   ]
  },
  {
   "cell_type": "code",
   "execution_count": null,
   "id": "q1-code13",
   "metadata": {},
   "outputs": [],
   "source": [
    "# Q1 Block 13: Bar Plot of Count by Rounded Global Sales\n",
    "if 'Global_Sales' in df.columns:\n",
    "    rounded_sales = df['Global_Sales'].dropna().round()\n",
    "    counts = rounded_sales.value_counts().sort_index()\n",
    "    plt.figure(figsize=(10,6))\n",
    "    counts.plot(kind='bar')\n",
    "    plt.title('Bar Plot of Count by Rounded Global Sales')\n",
    "    plt.xlabel('Rounded Global Sales')\n",
    "    plt.ylabel('Count')\n",
    "    plt.show()\n",
    "else:\n",
    "    print(\"Column 'Global_Sales' not found.\")"
   ]
  },
  {
   "cell_type": "code",
   "execution_count": null,
   "id": "q1-code14",
   "metadata": {},
   "outputs": [],
   "source": [
    "# Q1 Block 14: Histogram with KDE Overlay for Global Sales\n",
    "if 'Global_Sales' in df.columns:\n",
    "    plt.figure(figsize=(10,6))\n",
    "    n, bins, patches = plt.hist(df['Global_Sales'].dropna(), bins=30, density=True, alpha=0.5, label='Histogram', edgecolor='k')\n",
    "    from scipy.stats import gaussian_kde\n",
    "    kde = gaussian_kde(df['Global_Sales'].dropna())\n",
    "    x_vals = np.linspace(df['Global_Sales'].min(), df['Global_Sales'].max(), 100)\n",
    "    plt.plot(x_vals, kde(x_vals), label='KDE', color='red')\n",
    "    plt.title('Histogram with KDE Overlay of Global Sales')\n",
    "    plt.xlabel('Global Sales (in millions)')\n",
    "    plt.ylabel('Density')\n",
    "    plt.legend()\n",
    "    plt.show()\n",
    "else:\n",
    "    print(\"Column 'Global_Sales' not found.\")"
   ]
  },
  {
   "cell_type": "code",
   "execution_count": null,
   "id": "q1-code15",
   "metadata": {},
   "outputs": [],
   "source": [
    "# Q1 Block 15: QQ Plot of Global Sales\n",
    "from scipy import stats\n",
    "if 'Global_Sales' in df.columns:\n",
    "    plt.figure(figsize=(8,6))\n",
    "    stats.probplot(df['Global_Sales'].dropna(), dist=\"norm\", plot=plt)\n",
    "    plt.title('QQ Plot of Global Sales')\n",
    "    plt.show()\n",
    "else:\n",
    "    print(\"Column 'Global_Sales' not found.\")"
   ]
  },
  {
   "cell_type": "code",
   "execution_count": null,
   "id": "q1-code16",
   "metadata": {},
   "outputs": [],
   "source": [
    "# Q1 Block 16: Rug Plot of Global Sales\n",
    "if 'Global_Sales' in df.columns:\n",
    "    plt.figure(figsize=(10,2))\n",
    "    plt.plot(df['Global_Sales'].dropna(), np.zeros_like(df['Global_Sales'].dropna()), 'o', alpha=0.5)\n",
    "    plt.title('Rug Plot of Global Sales')\n",
    "    plt.xlabel('Global Sales (in millions)')\n",
    "    plt.yticks([])\n",
    "    plt.show()\n",
    "else:\n",
    "    print(\"Column 'Global_Sales' not found.\")"
   ]
  },
  {
   "cell_type": "code",
   "execution_count": null,
   "id": "q1-code17",
   "metadata": {},
   "outputs": [],
   "source": [
    "# Q1 Block 17: Sorted Global Sales with Moving Average\n",
    "if 'Global_Sales' in df.columns:\n",
    "    sales_sorted = np.sort(df['Global_Sales'].dropna())\n",
    "    moving_avg = np.convolve(sales_sorted, np.ones(10)/10, mode='valid')\n",
    "    plt.figure(figsize=(10,6))\n",
    "    plt.plot(sales_sorted, label='Sorted Global Sales')\n",
    "    plt.plot(np.arange(9, len(sales_sorted)), moving_avg, label='Moving Average (window=10)', color='red')\n",
    "    plt.title('Sorted Global Sales with Moving Average')\n",
    "    plt.xlabel('Index')\n",
    "    plt.ylabel('Global Sales (in millions)')\n",
    "    plt.legend()\n",
    "    plt.show()\n",
    "else:\n",
    "    print(\"Column 'Global_Sales' not found.\")"
   ]
  },
  {
   "cell_type": "code",
   "execution_count": null,
   "id": "q1-code18",
   "metadata": {},
   "outputs": [],
   "source": [
    "# Q1 Block 18: Histogram of Log-Transformed Global Sales\n",
    "if 'Global_Sales' in df.columns:\n",
    "    log_sales = np.log10(df['Global_Sales'].dropna() + 1)  # add 1 to avoid log(0)\n",
    "    plt.figure(figsize=(10,6))\n",
    "    plt.hist(log_sales, bins=30, edgecolor='k')\n",
    "    plt.title('Histogram of Log-Transformed Global Sales')\n",
    "    plt.xlabel('log10(Global Sales + 1)')\n",
    "    plt.ylabel('Frequency')\n",
    "    plt.show()\n",
    "else:\n",
    "    print(\"Column 'Global_Sales' not found.\")"
   ]
  },
  {
   "cell_type": "code",
   "execution_count": null,
   "id": "q1-code19",
   "metadata": {},
   "outputs": [],
   "source": [
    "# Q1 Block 19: Pareto Chart of Global Sales Frequency\n",
    "if 'Global_Sales' in df.columns:\n",
    "    counts = df['Global_Sales'].dropna().value_counts().sort_index()\n",
    "    cumulative = counts.cumsum()/counts.sum()*100\n",
    "    fig, ax1 = plt.subplots(figsize=(10,6))\n",
    "    ax1.bar(counts.index, counts.values, color='blue', alpha=0.7)\n",
    "    ax1.set_xlabel('Global Sales (in millions)')\n",
    "    ax1.set_ylabel('Frequency', color='blue')\n",
    "    ax2 = ax1.twinx()\n",
    "    ax2.plot(counts.index, cumulative, color='red', marker='D', ms=7)\n",
    "    ax2.set_ylabel('Cumulative Percentage', color='red')\n",
    "    plt.title('Pareto Chart of Global Sales Frequency')\n",
    "    plt.show()\n",
    "else:\n",
    "    print(\"Column 'Global_Sales' not found.\")"
   ]
  },
  {
   "cell_type": "markdown",
   "id": "q2-title",
   "metadata": {},
   "source": [
    "## Question 2: Which Genre has the highest average Global Sales?\n",
    "\n",
    "Here, we group the dataset by Genre and analyze the average Global Sales using various methods."
   ]
  },
  {
   "cell_type": "code",
   "execution_count": null,
   "id": "q2-code1",
   "metadata": {},
   "outputs": [],
   "source": [
    "# Q2 Block 1: Group data by Genre and calculate the average Global Sales\n",
    "if 'Genre' in df.columns and 'Global_Sales' in df.columns:\n",
    "    genre_avg_sales = df.groupby('Genre')['Global_Sales'].mean()\n",
    "    print(genre_avg_sales.sort_values(ascending=False))\n",
    "else:\n",
    "    print(\"Required columns 'Genre' or 'Global_Sales' not found.\")"
   ]
  },
  {
   "cell_type": "code",
   "execution_count": null,
   "id": "q2-code2",
   "metadata": {},
   "outputs": [],
   "source": [
    "# Q2 Block 2: Display the top 5 genres with highest average Global Sales\n",
    "if 'Genre' in df.columns and 'Global_Sales' in df.columns:\n",
    "    top_genres = genre_avg_sales.sort_values(ascending=False).head(5)\n",
    "    print(top_genres)\n",
    "else:\n",
    "    print(\"Required columns 'Genre' or 'Global_Sales' not found.\")"
   ]
  },
  {
   "cell_type": "code",
   "execution_count": null,
   "id": "q2-code3",
   "metadata": {},
   "outputs": [],
   "source": [
    "# Q2 Block 3: Bar Chart for the Top 5 Genres by Average Global Sales\n",
    "if 'Genre' in df.columns and 'Global_Sales' in df.columns:\n",
    "    plt.figure(figsize=(10, 6))\n",
    "    top_genres.sort_values().plot(kind='barh')\n",
    "    plt.title('Top 5 Genres by Average Global Sales')\n",
    "    plt.xlabel('Average Global Sales (in millions)')\n",
    "    plt.ylabel('Genre')\n",
    "    plt.show()\n",
    "else:\n",
    "    print(\"Required columns 'Genre' or 'Global_Sales' not found.\")"
   ]
  },
  {
   "cell_type": "code",
   "execution_count": null,
   "id": "q2-code4",
   "metadata": {},
   "outputs": [],
   "source": [
    "# Q2 Block 4: Pie Chart of Average Global Sales by Genre (Top 5)\n",
    "if 'Genre' in df.columns and 'Global_Sales' in df.columns:\n",
    "    top_genres_pie = genre_avg_sales.sort_values(ascending=False).head(5)\n",
    "    plt.figure(figsize=(8, 8))\n",
    "    top_genres_pie.plot(kind='pie', autopct='%1.1f%%', startangle=140)\n",
    "    plt.title('Pie Chart of Top 5 Genres by Average Global Sales')\n",
    "    plt.ylabel('')\n",
    "    plt.show()\n",
    "else:\n",
    "    print(\"Required columns 'Genre' or 'Global_Sales' not found.\")"
   ]
  },
  {
   "cell_type": "code",
   "execution_count": null,
   "id": "q2-code5",
   "metadata": {},
   "outputs": [],
   "source": [
    "# Q2 Block 5: Calculate and Display the Median Global Sales by Genre\n",
    "if 'Genre' in df.columns and 'Global_Sales' in df.columns:\n",
    "    genre_median_sales = df.groupby('Genre')['Global_Sales'].median()\n",
    "    print(genre_median_sales.sort_values(ascending=False))\n",
    "else:\n",
    "    print(\"Required columns 'Genre' or 'Global_Sales' not found.\")"
   ]
  },
  {
   "cell_type": "code",
   "execution_count": null,
   "id": "q2-code6",
   "metadata": {},
   "outputs": [],
   "source": [
    "# Q2 Block 6: Bar Chart Comparing Mean and Median Global Sales by Genre (Top 5)\n",
    "if 'Genre' in df.columns and 'Global_Sales' in df.columns:\n",
    "    stats_df = pd.DataFrame({\n",
    "        'Mean': df.groupby('Genre')['Global_Sales'].mean(),\n",
    "        'Median': df.groupby('Genre')['Global_Sales'].median()\n",
    "    }).sort_values('Mean', ascending=False).head(5)\n",
    "    stats_df.plot(kind='bar', figsize=(10, 6))\n",
    "    plt.title('Comparison of Mean and Median Global Sales by Genre (Top 5)')\n",
    "    plt.xlabel('Genre')\n",
    "    plt.ylabel('Global Sales (in millions)')\n",
    "    plt.xticks(rotation=0)\n",
    "    plt.show()\n",
    "else:\n",
    "    print(\"Required columns 'Genre' or 'Global_Sales' not found.\")"
   ]
  },
  {
   "cell_type": "code",
   "execution_count": null,
   "id": "q2-code7",
   "metadata": {},
   "outputs": [],
   "source": [
    "# Q2 Block 7: Line Plot of Average Global Sales by Genre\n",
    "if 'Genre' in df.columns and 'Global_Sales' in df.columns:\n",
    "    genre_avg = df.groupby('Genre')['Global_Sales'].mean().sort_values(ascending=False)\n",
    "    plt.figure(figsize=(10, 6))\n",
    "    plt.plot(genre_avg.index, genre_avg.values, marker='o')\n",
    "    plt.title('Line Plot of Average Global Sales by Genre')\n",
    "    plt.xlabel('Genre')\n",
    "    plt.ylabel('Average Global Sales (in millions)')\n",
    "    plt.xticks(rotation=45)\n",
    "    plt.grid(True)\n",
    "    plt.show()\n",
    "else:\n",
    "    print(\"Required columns 'Genre' or 'Global_Sales' not found.\")"
   ]
  },
  {
   "cell_type": "code",
   "execution_count": null,
   "id": "q2-code8",
   "metadata": {},
   "outputs": [],
   "source": [
    "# Q2 Block 8: Scatter Plot Comparing Mean vs Median Global Sales by Genre\n",
    "if 'Genre' in df.columns and 'Global_Sales' in df.columns:\n",
    "    mean_sales = df.groupby('Genre')['Global_Sales'].mean()\n",
    "    median_sales = df.groupby('Genre')['Global_Sales'].median()\n",
    "    plt.figure(figsize=(10, 6))\n",
    "    plt.scatter(mean_sales.index, mean_sales.values, label='Mean', s=100, alpha=0.7)\n",
    "    plt.scatter(median_sales.index, median_sales.values, label='Median', s=100, alpha=0.7, marker='x')\n",
    "    plt.title('Mean vs Median Global Sales by Genre')\n",
    "    plt.xlabel('Genre')\n",
    "    plt.ylabel('Global Sales (in millions)')\n",
    "    plt.xticks(rotation=45)\n",
    "    plt.legend()\n",
    "    plt.grid(True)\n",
    "    plt.show()\n",
    "else:\n",
    "    print(\"Required columns 'Genre' or 'Global_Sales' not found.\")"
   ]
  },
  {
   "cell_type": "code",
   "execution_count": null,
   "id": "q2-code9",
   "metadata": {},
   "outputs": [],
   "source": [
    "# Q2 Block 9: Table of Genres Sorted by Average Global Sales with Count\n",
    "if 'Genre' in df.columns and 'Global_Sales' in df.columns:\n",
    "    genre_stats = df.groupby('Genre').agg({'Global_Sales': ['mean', 'count']})\n",
    "    genre_stats.columns = ['Average_Sales', 'Count']\n",
    "    genre_stats = genre_stats.sort_values('Average_Sales', ascending=False)\n",
    "    print(genre_stats.head(10))\n",
    "else:\n",
    "    print(\"Required columns 'Genre' or 'Global_Sales' not found.\")"
   ]
  },
  {
   "cell_type": "code",
   "execution_count": null,
   "id": "q2-code10",
   "metadata": {},
   "outputs": [],
   "source": [
    "# Q2 Block 10: Violin Plot of Global Sales by Genre\n",
    "if 'Genre' in df.columns and 'Global_Sales' in df.columns:\n",
    "    genres = df['Genre'].dropna().unique()\n",
    "    data = [df[df['Genre'] == genre]['Global_Sales'].dropna() for genre in genres]\n",
    "    plt.figure(figsize=(12,6))\n",
    "    plt.violinplot(data, showmeans=True)\n",
    "    plt.xticks(range(1, len(genres)+1), genres, rotation=45)\n",
    "    plt.title('Violin Plot of Global Sales by Genre')\n",
    "    plt.ylabel('Global Sales (in millions)')\n",
    "    plt.show()\n",
    "else:\n",
    "    print(\"Required columns not found.\")"
   ]
  },
  {
   "cell_type": "code",
   "execution_count": null,
   "id": "q2-code11",
   "metadata": {},
   "outputs": [],
   "source": [
    "# Q2 Block 11: Strip Plot of Global Sales by Genre\n",
    "if 'Genre' in df.columns and 'Global_Sales' in df.columns:\n",
    "    plt.figure(figsize=(12,6))\n",
    "    genres = df['Genre'].dropna().unique()\n",
    "    for i, genre in enumerate(genres):\n",
    "        sales = df[df['Genre'] == genre]['Global_Sales'].dropna()\n",
    "        jitter = np.random.uniform(-0.1, 0.1, size=len(sales))\n",
    "        plt.scatter(np.full_like(sales, i) + jitter, sales, alpha=0.6)\n",
    "    plt.xticks(range(len(genres)), genres, rotation=45)\n",
    "    plt.title('Strip Plot of Global Sales by Genre')\n",
    "    plt.xlabel('Genre')\n",
    "    plt.ylabel('Global Sales (in millions)')\n",
    "    plt.show()\n",
    "else:\n",
    "    print(\"Required columns not found.\")"
   ]
  },
  {
   "cell_type": "code",
   "execution_count": null,
   "id": "q2-code12",
   "metadata": {},
   "outputs": [],
   "source": [
    "# Q2 Block 12: Stacked Bar Chart of Count of Games and Average Sales by Genre\n",
    "if 'Genre' in df.columns and 'Global_Sales' in df.columns:\n",
    "    genre_counts = df['Genre'].value_counts()\n",
    "    genre_avg = df.groupby('Genre')['Global_Sales'].mean()\n",
    "    genres = genre_counts.index\n",
    "    x = np.arange(len(genres))\n",
    "    plt.figure(figsize=(12,6))\n",
    "    plt.bar(x, genre_counts.loc[genres], label='Count')\n",
    "    plt.bar(x, genre_avg.loc[genres]*10, alpha=0.7, label='Avg Sales (scaled)')\n",
    "    plt.xticks(x, genres, rotation=45)\n",
    "    plt.title('Stacked Bar Chart of Game Count and Average Sales by Genre')\n",
    "    plt.ylabel('Count / Scaled Average Sales')\n",
    "    plt.legend()\n",
    "    plt.show()\n",
    "else:\n",
    "    print(\"Required columns not found.\")"
   ]
  },
  {
   "cell_type": "code",
   "execution_count": null,
   "id": "q2-code13",
   "metadata": {},
   "outputs": [],
   "source": [
    "# Q2 Block 13: Cumulative Sum Plot of Global Sales by Genre\n",
    "if 'Genre' in df.columns and 'Global_Sales' in df.columns:\n",
    "    plt.figure(figsize=(12,6))\n",
    "    genres = df['Genre'].dropna().unique()\n",
    "    for genre in genres:\n",
    "        sales_sorted = np.sort(df[df['Genre'] == genre]['Global_Sales'].dropna())\n",
    "        cumulative = np.cumsum(sales_sorted)\n",
    "        plt.plot(cumulative, label=genre)\n",
    "    plt.title('Cumulative Sum Plot of Global Sales by Genre')\n",
    "    plt.xlabel('Index')\n",
    "    plt.ylabel('Cumulative Global Sales (in millions)')\n",
    "    plt.legend()\n",
    "    plt.show()\n",
    "else:\n",
    "    print(\"Required columns not found.\")"
   ]
  },
  {
   "cell_type": "code",
   "execution_count": null,
   "id": "q2-code14",
   "metadata": {},
   "outputs": [],
   "source": [
    "# Q2 Block 14: Pie Chart of Median Global Sales by Genre (Top 5)\n",
    "if 'Genre' in df.columns and 'Global_Sales' in df.columns:\n",
    "    median_sales = df.groupby('Genre')['Global_Sales'].median().sort_values(ascending=False).head(5)\n",
    "    plt.figure(figsize=(8,8))\n",
    "    median_sales.plot(kind='pie', autopct='%1.1f%%', startangle=140)\n",
    "    plt.title('Pie Chart of Top 5 Genres by Median Global Sales')\n",
    "    plt.ylabel('')\n",
    "    plt.show()\n",
    "else:\n",
    "    print(\"Required columns not found.\")"
   ]
  },
  {
   "cell_type": "code",
   "execution_count": null,
   "id": "q2-code15",
   "metadata": {},
   "outputs": [],
   "source": [
    "# Q2 Block 15: Scatter Plot of Genre vs Average Global Sales with Jitter\n",
    "if 'Genre' in df.columns and 'Global_Sales' in df.columns:\n",
    "    genre_avg = df.groupby('Genre')['Global_Sales'].mean()\n",
    "    genres = genre_avg.index\n",
    "    jitter = np.random.uniform(-0.1, 0.1, size=len(genres))\n",
    "    plt.figure(figsize=(10,6))\n",
    "    plt.scatter(np.arange(len(genres)) + jitter, genre_avg.values, s=100, alpha=0.7)\n",
    "    plt.xticks(np.arange(len(genres)), genres, rotation=45)\n",
    "    plt.title('Scatter Plot of Genre vs Average Global Sales')\n",
    "    plt.xlabel('Genre')\n",
    "    plt.ylabel('Average Global Sales (in millions)')\n",
    "    plt.show()\n",
    "else:\n",
    "    print(\"Required columns not found.\")"
   ]
  },
  {
   "cell_type": "code",
   "execution_count": null,
   "id": "q2-code16",
   "metadata": {},
   "outputs": [],
   "source": [
    "# Q2 Block 16: Line Plot of Cumulative Average Global Sales by Genre\n",
    "if 'Genre' in df.columns and 'Global_Sales' in df.columns:\n",
    "    genre_avg = df.groupby('Genre')['Global_Sales'].mean().sort_values(ascending=False)\n",
    "    cumulative_avg = np.cumsum(genre_avg)\n",
    "    plt.figure(figsize=(10,6))\n",
    "    plt.plot(cumulative_avg, marker='o')\n",
    "    plt.title('Cumulative Sum of Average Global Sales by Genre')\n",
    "    plt.xlabel('Genre (sorted by average sales)')\n",
    "    plt.ylabel('Cumulative Average Global Sales (in millions)')\n",
    "    plt.xticks(ticks=np.arange(len(genre_avg)), labels=genre_avg.index, rotation=45)\n",
    "    plt.show()\n",
    "else:\n",
    "    print(\"Required columns not found.\")"
   ]
  },
  {
   "cell_type": "code",
   "execution_count": null,
   "id": "q2-code17",
   "metadata": {},
   "outputs": [],
   "source": [
    "# Q2 Block 17: Histogram of Genre Average Global Sales\n",
    "if 'Genre' in df.columns and 'Global_Sales' in df.columns:\n",
    "    genre_avg = df.groupby('Genre')['Global_Sales'].mean()\n",
    "    plt.figure(figsize=(10,6))\n",
    "    plt.hist(genre_avg, bins=10, edgecolor='k')\n",
    "    plt.title('Histogram of Genre Average Global Sales')\n",
    "    plt.xlabel('Average Global Sales (in millions)')\n",
    "    plt.ylabel('Frequency')\n",
    "    plt.show()\n",
    "else:\n",
    "    print(\"Required columns not found.\")"
   ]
  },
  {
   "cell_type": "code",
   "execution_count": null,
   "id": "q2-code18",
   "metadata": {},
   "outputs": [],
   "source": [
    "# Q2 Block 18: Scatter Plot of Genre Count vs Average Global Sales\n",
    "if 'Genre' in df.columns and 'Global_Sales' in df.columns:\n",
    "    genre_count = df['Genre'].value_counts()\n",
    "    genre_avg = df.groupby('Genre')['Global_Sales'].mean()\n",
    "    plt.figure(figsize=(10,6))\n",
    "    plt.scatter(genre_count.index, genre_count.values, s=100, label='Count', alpha=0.7)\n",
    "    plt.scatter(genre_avg.index, genre_avg.values, s=100, label='Average Sales', alpha=0.7, marker='x')\n",
    "    plt.title('Genre Count vs Average Global Sales')\n",
    "    plt.xlabel('Genre')\n",
    "    plt.ylabel('Value')\n",
    "    plt.legend()\n",
    "    plt.xticks(rotation=45)\n",
    "    plt.show()\n",
    "else:\n",
    "    print(\"Required columns not found.\")"
   ]
  },
  {
   "cell_type": "code",
   "execution_count": null,
   "id": "q2-code19",
   "metadata": {},
   "outputs": [],
   "source": [
    "# Q2 Block 19: Pie Chart of Genre Share of Total Global Sales\n",
    "if 'Genre' in df.columns and 'Global_Sales' in df.columns:\n",
    "    genre_total = df.groupby('Genre')['Global_Sales'].sum()\n",
    "    plt.figure(figsize=(8,8))\n",
    "    genre_total.plot(kind='pie', autopct='%1.1f%%', startangle=140)\n",
    "    plt.title('Pie Chart of Genre Share of Total Global Sales')\n",
    "    plt.ylabel('')\n",
    "    plt.show()\n",
    "else:\n",
    "    print(\"Required columns not found.\")"
   ]
  },
  {
   "cell_type": "markdown",
   "id": "q3-title",
   "metadata": {},
   "source": [
    "## Question 3: How do Sales vary across different Platforms?\n",
    "\n",
    "In this section, we analyze how Global Sales vary by Platform using multiple visualizations."
   ]
  },
  {
   "cell_type": "code",
   "execution_count": null,
   "id": "q3-code1",
   "metadata": {},
   "outputs": [],
   "source": [
    "# Q3 Block 1: Group the data by Platform and Sum the Global Sales\n",
    "if 'Platform' in df.columns and 'Global_Sales' in df.columns:\n",
    "    platform_sales = df.groupby('Platform')['Global_Sales'].sum()\n",
    "    print(platform_sales.sort_values(ascending=False))\n",
    "else:\n",
    "    print(\"Required columns 'Platform' or 'Global_Sales' not found.\")"
   ]
  },
  {
   "cell_type": "code",
   "execution_count": null,
   "id": "q3-code2",
   "metadata": {},
   "outputs": [],
   "source": [
    "# Q3 Block 2: Display the Top 5 Platforms with Highest Total Global Sales\n",
    "if 'Platform' in df.columns and 'Global_Sales' in df.columns:\n",
    "    top_platforms = platform_sales.sort_values(ascending=False).head(5)\n",
    "    print(top_platforms)\n",
    "else:\n",
    "    print(\"Required columns 'Platform' or 'Global_Sales' not found.\")"
   ]
  },
  {
   "cell_type": "code",
   "execution_count": null,
   "id": "q3-code3",
   "metadata": {},
   "outputs": [],
   "source": [
    "# Q3 Block 3: Horizontal Bar Chart of Global Sales by Platform\n",
    "if 'Platform' in df.columns and 'Global_Sales' in df.columns:\n",
    "    plt.figure(figsize=(10, 6))\n",
    "    platform_sales.sort_values().plot(kind='barh')\n",
    "    plt.title('Global Sales by Platform')\n",
    "    plt.xlabel('Total Global Sales (in millions)')\n",
    "    plt.ylabel('Platform')\n",
    "    plt.show()\n",
    "else:\n",
    "    print(\"Required columns 'Platform' or 'Global_Sales' not found.\")"
   ]
  },
  {
   "cell_type": "code",
   "execution_count": null,
   "id": "q3-code4",
   "metadata": {},
   "outputs": [],
   "source": [
    "# Q3 Block 4: Pie Chart of Global Sales by Platform\n",
    "if 'Platform' in df.columns and 'Global_Sales' in df.columns:\n",
    "    plt.figure(figsize=(8, 8))\n",
    "    platform_sales.plot(kind='pie', autopct='%1.1f%%', startangle=140)\n",
    "    plt.title('Pie Chart of Global Sales by Platform')\n",
    "    plt.ylabel('')\n",
    "    plt.show()\n",
    "else:\n",
    "    print(\"Required columns 'Platform' or 'Global_Sales' not found.\")"
   ]
  },
  {
   "cell_type": "code",
   "execution_count": null,
   "id": "q3-code5",
   "metadata": {},
   "outputs": [],
   "source": [
    "# Q3 Block 5: Box Plot of Global Sales for Each Platform\n",
    "if 'Platform' in df.columns and 'Global_Sales' in df.columns:\n",
    "    platforms = df['Platform'].unique()\n",
    "    data_to_plot = [df[df['Platform'] == platform]['Global_Sales'].dropna() for platform in platforms]\n",
    "    plt.figure(figsize=(12, 8))\n",
    "    plt.boxplot(data_to_plot, labels=platforms, patch_artist=True)\n",
    "    plt.title('Box Plot of Global Sales by Platform')\n",
    "    plt.xlabel('Platform')\n",
    "    plt.ylabel('Global Sales (in millions)')\n",
    "    plt.xticks(rotation=45)\n",
    "    plt.show()\n",
    "else:\n",
    "    print(\"Required columns 'Platform' or 'Global_Sales' not found.\")"
   ]
  },
  {
   "cell_type": "code",
   "execution_count": null,
   "id": "q3-code6",
   "metadata": {},
   "outputs": [],
   "source": [
    "# Q3 Block 6: Scatter Plot of Average Global Sales by Platform\n",
    "if 'Platform' in df.columns and 'Global_Sales' in df.columns:\n",
    "    platform_avg_sales = df.groupby('Platform')['Global_Sales'].mean()\n",
    "    plt.figure(figsize=(10, 6))\n",
    "    plt.scatter(platform_avg_sales.index, platform_avg_sales.values, s=100, alpha=0.7)\n",
    "    plt.title('Scatter Plot of Average Global Sales by Platform')\n",
    "    plt.xlabel('Platform')\n",
    "    plt.ylabel('Average Global Sales (in millions)')\n",
    "    plt.xticks(rotation=45)\n",
    "    plt.grid(True)\n",
    "    plt.show()\n",
    "else:\n",
    "    print(\"Required columns 'Platform' or 'Global_Sales' not found.\")"
   ]
  },
  {
   "cell_type": "code",
   "execution_count": null,
   "id": "q3-code7",
   "metadata": {},
   "outputs": [],
   "source": [
    "# Q3 Block 7: Line Plot of Total Global Sales by Platform (Sorted)\n",
    "if 'Platform' in df.columns and 'Global_Sales' in df.columns:\n",
    "    sorted_platform_sales = platform_sales.sort_values(ascending=False)\n",
    "    plt.figure(figsize=(10, 6))\n",
    "    plt.plot(sorted_platform_sales.index, sorted_platform_sales.values, marker='o')\n",
    "    plt.title('Line Plot of Total Global Sales by Platform')\n",
    "    plt.xlabel('Platform')\n",
    "    plt.ylabel('Total Global Sales (in millions)')\n",
    "    plt.xticks(rotation=45)\n",
    "    plt.grid(True)\n",
    "    plt.show()\n",
    "else:\n",
    "    print(\"Required columns 'Platform' or 'Global_Sales' not found.\")"
   ]
  },
  {
   "cell_type": "code",
   "execution_count": null,
   "id": "q3-code8",
   "metadata": {},
   "outputs": [],
   "source": [
    "# Q3 Block 8: Grouped Bar Chart Comparing Total and Average Global Sales by Platform\n",
    "if 'Platform' in df.columns and 'Global_Sales' in df.columns:\n",
    "    total_sales = df.groupby('Platform')['Global_Sales'].sum()\n",
    "    avg_sales = df.groupby('Platform')['Global_Sales'].mean()\n",
    "    platforms = total_sales.index\n",
    "    x = np.arange(len(platforms))\n",
    "    width = 0.35\n",
    "    plt.figure(figsize=(12, 6))\n",
    "    plt.bar(x - width/2, total_sales.loc[platforms], width, label='Total Sales')\n",
    "    plt.bar(x + width/2, avg_sales.loc[platforms], width, label='Average Sales')\n",
    "    plt.xlabel('Platform')\n",
    "    plt.ylabel('Global Sales (in millions)')\n",
    "    plt.title('Total vs Average Global Sales by Platform')\n",
    "    plt.xticks(x, platforms, rotation=45)\n",
    "    plt.legend()\n",
    "    plt.show()\n",
    "else:\n",
    "    print(\"Required columns 'Platform' or 'Global_Sales' not found.\")"
   ]
  },
  {
   "cell_type": "code",
   "execution_count": null,
   "id": "q3-code9",
   "metadata": {},
   "outputs": [],
   "source": [
    "# Q3 Block 9: Donut Chart of Global Sales Percentage by Platform\n",
    "if 'Platform' in df.columns and 'Global_Sales' in df.columns:\n",
    "    total_sales = df.groupby('Platform')['Global_Sales'].sum()\n",
    "    plt.figure(figsize=(8,8))\n",
    "    wedges, texts, autotexts = plt.pie(total_sales, labels=total_sales.index, autopct='%1.1f%%', startangle=140)\n",
    "    centre_circle = plt.Circle((0,0),0.70,fc='white')\n",
    "    fig = plt.gcf()\n",
    "    fig.gca().add_artist(centre_circle)\n",
    "    plt.title('Donut Chart of Global Sales Percentage by Platform')\n",
    "    plt.show()\n",
    "else:\n",
    "    print(\"Required columns not found.\")"
   ]
  },
  {
   "cell_type": "code",
   "execution_count": null,
   "id": "q3-code10",
   "metadata": {},
   "outputs": [],
   "source": [
    "# Q3 Block 10: Violin Plot of Global Sales by Platform\n",
    "if 'Platform' in df.columns and 'Global_Sales' in df.columns:\n",
    "    platforms = df['Platform'].dropna().unique()\n",
    "    data = [df[df['Platform'] == platform]['Global_Sales'].dropna() for platform in platforms]\n",
    "    plt.figure(figsize=(12,6))\n",
    "    plt.violinplot(data, showmeans=True)\n",
    "    plt.xticks(range(1, len(platforms)+1), platforms, rotation=45)\n",
    "    plt.title('Violin Plot of Global Sales by Platform')\n",
    "    plt.ylabel('Global Sales (in millions)')\n",
    "    plt.show()\n",
    "else:\n",
    "    print(\"Required columns not found.\")"
   ]
  },
  {
   "cell_type": "code",
   "execution_count": null,
   "id": "q3-code11",
   "metadata": {},
   "outputs": [],
   "source": [
    "# Q3 Block 11: Strip Plot of Global Sales by Platform\n",
    "if 'Platform' in df.columns and 'Global_Sales' in df.columns:\n",
    "    plt.figure(figsize=(12,6))\n",
    "    platforms = df['Platform'].dropna().unique()\n",
    "    for i, platform in enumerate(platforms):\n",
    "        sales = df[df['Platform'] == platform]['Global_Sales'].dropna()\n",
    "        jitter = np.random.uniform(-0.1, 0.1, size=len(sales))\n",
    "        plt.scatter(np.full_like(sales, i) + jitter, sales, alpha=0.6)\n",
    "    plt.xticks(range(len(platforms)), platforms, rotation=45)\n",
    "    plt.title('Strip Plot of Global Sales by Platform')\n",
    "    plt.xlabel('Platform')\n",
    "    plt.ylabel('Global Sales (in millions)')\n",
    "    plt.show()\n",
    "else:\n",
    "    print(\"Required columns not found.\")"
   ]
  },
  {
   "cell_type": "code",
   "execution_count": null,
   "id": "q3-code12",
   "metadata": {},
   "outputs": [],
   "source": [
    "# Q3 Block 12: Stacked Bar Chart of Count of Games and Average Sales by Platform\n",
    "if 'Platform' in df.columns and 'Global_Sales' in df.columns:\n",
    "    platform_counts = df['Platform'].value_counts()\n",
    "    platform_avg = df.groupby('Platform')['Global_Sales'].mean()\n",
    "    platforms = platform_counts.index\n",
    "    x = np.arange(len(platforms))\n",
    "    plt.figure(figsize=(12,6))\n",
    "    plt.bar(x, platform_counts.loc[platforms], label='Count')\n",
    "    plt.bar(x, platform_avg.loc[platforms]*10, alpha=0.7, label='Avg Sales (scaled)')\n",
    "    plt.xticks(x, platforms, rotation=45)\n",
    "    plt.title('Stacked Bar Chart of Game Count and Average Sales by Platform')\n",
    "    plt.ylabel('Count / Scaled Average Sales')\n",
    "    plt.legend()\n",
    "    plt.show()\n",
    "else:\n",
    "    print(\"Required columns not found.\")"
   ]
  },
  {
   "cell_type": "code",
   "execution_count": null,
   "id": "q3-code13",
   "metadata": {},
   "outputs": [],
   "source": [
    "# Q3 Block 13: Error Bar Plot of Mean Global Sales with Standard Deviation by Platform\n",
    "if 'Platform' in df.columns and 'Global_Sales' in df.columns:\n",
    "    platform_group = df.groupby('Platform')['Global_Sales']\n",
    "    means = platform_group.mean()\n",
    "    stds = platform_group.std()\n",
    "    platforms = means.index\n",
    "    x = np.arange(len(platforms))\n",
    "    plt.figure(figsize=(12,6))\n",
    "    plt.errorbar(x, means, yerr=stds, fmt='o', capsize=5)\n",
    "    plt.xticks(x, platforms, rotation=45)\n",
    "    plt.title('Error Bar Plot of Mean Global Sales by Platform')\n",
    "    plt.xlabel('Platform')\n",
    "    plt.ylabel('Global Sales (in millions)')\n",
    "    plt.show()\n",
    "else:\n",
    "    print(\"Required columns not found.\")"
   ]
  },
  {
   "cell_type": "code",
   "execution_count": null,
   "id": "q3-code14",
   "metadata": {},
   "outputs": [],
   "source": [
    "# Q3 Block 14: Horizontal Bar Chart of Average Global Sales by Platform with Color Gradient\n",
    "if 'Platform' in df.columns and 'Global_Sales' in df.columns:\n",
    "    avg_sales = df.groupby('Platform')['Global_Sales'].mean().sort_values()\n",
    "    plt.figure(figsize=(10,6))\n",
    "    bars = plt.barh(avg_sales.index, avg_sales.values, color=plt.cm.viridis(np.linspace(0,1,len(avg_sales))))\n",
    "    plt.title('Horizontal Bar Chart of Average Global Sales by Platform with Color Gradient')\n",
    "    plt.xlabel('Average Global Sales (in millions)')\n",
    "    plt.ylabel('Platform')\n",
    "    plt.show()\n",
    "else:\n",
    "    print(\"Required columns not found.\")"
   ]
  },
  {
   "cell_type": "code",
   "execution_count": null,
   "id": "q3-code15",
   "metadata": {},
   "outputs": [],
   "source": [
    "# Q3 Block 15: Polar Bar Chart of Total Global Sales by Platform\n",
    "if 'Platform' in df.columns and 'Global_Sales' in df.columns:\n",
    "    total_sales = df.groupby('Platform')['Global_Sales'].sum()\n",
    "    platforms = total_sales.index\n",
    "    sales = total_sales.values\n",
    "    theta = np.linspace(0.0, 2 * np.pi, len(platforms), endpoint=False)\n",
    "    width = 2 * np.pi / len(platforms)\n",
    "    ax = plt.subplot(111, polar=True)\n",
    "    bars = ax.bar(theta, sales, width=width, bottom=0.0, alpha=0.7)\n",
    "    ax.set_xticks(theta)\n",
    "    ax.set_xticklabels(platforms)\n",
    "    plt.title('Polar Bar Chart of Total Global Sales by Platform', y=1.08)\n",
    "    plt.show()\n",
    "else:\n",
    "    print(\"Required columns not found.\")"
   ]
  },
  {
   "cell_type": "code",
   "execution_count": null,
   "id": "q3-code16",
   "metadata": {},
   "outputs": [],
   "source": [
    "# Q3 Block 16: Scatter Plot of Platform Count vs Total Global Sales\n",
    "if 'Platform' in df.columns and 'Global_Sales' in df.columns:\n",
    "    platform_count = df['Platform'].value_counts()\n",
    "    total_sales = df.groupby('Platform')['Global_Sales'].sum()\n",
    "    plt.figure(figsize=(10,6))\n",
    "    plt.scatter(platform_count.index, platform_count.values, s=100, label='Count', alpha=0.7)\n",
    "    plt.scatter(total_sales.index, total_sales.values, s=100, label='Total Sales', alpha=0.7, marker='x')\n",
    "    plt.title('Platform Count vs Total Global Sales')\n",
    "    plt.xlabel('Platform')\n",
    "    plt.ylabel('Value')\n",
    "    plt.legend()\n",
    "    plt.xticks(rotation=45)\n",
    "    plt.show()\n",
    "else:\n",
    "    print(\"Required columns not found.\")"
   ]
  },
  {
   "cell_type": "code",
   "execution_count": null,
   "id": "q3-code17",
   "metadata": {},
   "outputs": [],
   "source": [
    "# Q3 Block 17: Line Plot of Cumulative Global Sales by Platform (Top 5)\n",
    "if 'Platform' in df.columns and 'Global_Sales' in df.columns:\n",
    "    total_sales = df.groupby('Platform')['Global_Sales'].sum().sort_values(ascending=False).head(5)\n",
    "    plt.figure(figsize=(10,6))\n",
    "    for platform in total_sales.index:\n",
    "        sales = df[df['Platform'] == platform]['Global_Sales'].dropna().values\n",
    "        sales_sorted = np.sort(sales)\n",
    "        cumulative = np.cumsum(sales_sorted)\n",
    "        plt.plot(cumulative, label=platform)\n",
    "    plt.title('Cumulative Global Sales by Platform (Top 5)')\n",
    "    plt.xlabel('Index')\n",
    "    plt.ylabel('Cumulative Global Sales (in millions)')\n",
    "    plt.legend()\n",
    "    plt.show()\n",
    "else:\n",
    "    print(\"Required columns not found.\")"
   ]
  },
  {
   "cell_type": "code",
   "execution_count": null,
   "id": "q3-code18",
   "metadata": {},
   "outputs": [],
   "source": [
    "# Q3 Block 18: Stacked Area Chart of Global Sales Distribution among Top 5 Platforms\n",
    "if 'Platform' in df.columns and 'Global_Sales' in df.columns:\n",
    "    top5 = df['Platform'].value_counts().head(5).index\n",
    "    subset = df[df['Platform'].isin(top5)]\n",
    "    subset_sorted = subset.sort_values('Platform')\n",
    "    pivot = subset_sorted.pivot_table(index=subset_sorted.index, columns='Platform', values='Global_Sales', fill_value=0)\n",
    "    plt.figure(figsize=(12,6))\n",
    "    plt.stackplot(pivot.index, pivot.T, labels=pivot.columns)\n",
    "    plt.title('Stacked Area Chart of Global Sales among Top 5 Platforms')\n",
    "    plt.xlabel('Index')\n",
    "    plt.ylabel('Global Sales (in millions)')\n",
    "    plt.legend(loc='upper left')\n",
    "    plt.show()\n",
    "else:\n",
    "    print(\"Required columns not found.\")"
   ]
  },
  {
   "cell_type": "code",
   "execution_count": null,
   "id": "q3-code19",
   "metadata": {},
   "outputs": [],
   "source": [
    "# Q3 Block 19: Horizontal Bar Chart of Average Global Sales by Platform with Color Gradient\n",
    "if 'Platform' in df.columns and 'Global_Sales' in df.columns:\n",
    "    avg_sales = df.groupby('Platform')['Global_Sales'].mean().sort_values()\n",
    "    plt.figure(figsize=(10,6))\n",
    "    bars = plt.barh(avg_sales.index, avg_sales.values, color=plt.cm.viridis(np.linspace(0,1,len(avg_sales))))\n",
    "    plt.title('Horizontal Bar Chart of Average Global Sales by Platform with Color Gradient')\n",
    "    plt.xlabel('Average Global Sales (in millions)')\n",
    "    plt.ylabel('Platform')\n",
    "    plt.show()\n",
    "else:\n",
    "    print(\"Required columns not found.\")"
   ]
  },
  {
   "cell_type": "markdown",
   "id": "conclusion-markdown",
   "metadata": {},
   "source": [
    "## Conclusion\n",
    "\n",
    "This notebook provided a comprehensive analysis of the Video Games Sales dataset by exploring three questions:\n",
    "\n",
    "- The distribution of Global Sales (19 diverse blocks)\n",
    "- The average Global Sales by Genre (19 diverse blocks)\n",
    "- The variation of Global Sales across Platforms (19 diverse blocks)\n",
    "\n",
    "Feel free to extend or modify the analysis further!"
   ]
  }
 ],
 "metadata": {
  "kernelspec": {
   "display_name": "Python 3",
   "language": "python",
   "name": "python3"
  },
  "language_info": {
   "file_extension": ".py",
   "mimetype": "text/x-python",
   "name": "python",
   "version": "3.x"
  }
 },
 "nbformat": 4,
 "nbformat_minor": 5
}
