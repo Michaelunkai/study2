{
 "cells": [
  {
   "cell_type": "markdown",
   "id": "intro-markdown",
   "metadata": {},
   "source": [
    "# Advanced Video Game Sales Analysis for Three Questions\n",
    "\n",
    "This notebook answers three advanced questions with multi-step analysis. Each question includes three blocks (cells) containing tables, graphs, and detailed insights.\n",
    "\n",
    "Questions:\n",
    "1. **Which factors most significantly predict global sales?**\n",
    "2. **How does the popularity of a game evolve with age, and what is the longevity effect on sales?**\n",
    "3. **Can we cluster games into distinct groups based on their regional sales patterns?**"
   ]
  },
  {
   "cell_type": "code",
   "id": "setup-cell",
   "metadata": {},
   "source": [
    "import pandas as pd\n",
    "import numpy as np\n",
    "import matplotlib.pyplot as plt\n",
    "import seaborn as sns\n",
    "from sklearn.linear_model import LinearRegression\n",
    "from sklearn.model_selection import train_test_split\n",
    "from sklearn.preprocessing import StandardScaler\n",
    "from sklearn.cluster import KMeans\n",
    "from sklearn.decomposition import PCA\n",
    "\n",
    "# Load the dataset\n",
    "df = pd.read_csv('Video_Games_Sales_as_at_22_Dec_2016.csv')\n",
    "\n",
    "# Convert Year_of_Release to numeric and drop rows with missing years\n",
    "df['Year_of_Release'] = pd.to_numeric(df['Year_of_Release'], errors='coerce')\n",
    "df = df.dropna(subset=['Year_of_Release'])\n",
    "df['Year_of_Release'] = df['Year_of_Release'].astype(int)\n",
    "\n",
    "# For demonstration, if Critic_Score does not exist, create a synthetic column\n",
    "if 'Critic_Score' not in df.columns:\n",
    "    np.random.seed(42)\n",
    "    df['Critic_Score'] = np.random.randint(50, 100, size=len(df))\n",
    "\n",
    "print('Setup complete. Data loaded and preprocessed.')"
   ],
   "execution_count": null,
   "outputs": []
  },
  {
   "cell_type": "markdown",
   "id": "q1-markdown",
   "metadata": {},
   "source": [
    "## Question 1: Which factors most significantly predict global sales?\n",
    "\n",
    "In this analysis we will first perform a correlation study and then build a regression model to determine which factors (e.g., Year of Release, Critic Score, etc.) predict Global Sales. Tables and graphs are used for insights."
   ]
  },
  {
   "cell_type": "code",
   "id": "q1-code-1",
   "metadata": {},
   "source": [
    "# Q1 Block 1: Correlation Analysis\n",
    "numeric_cols = ['Year_of_Release', 'Critic_Score', 'NA_Sales', 'EU_Sales', 'JP_Sales', 'Other_Sales', 'Global_Sales']\n",
    "corr_matrix = df[numeric_cols].corr()\n",
    "corr_table = pd.DataFrame(corr_matrix['Global_Sales'].sort_values(ascending=False))\n",
    "print('Correlation of numeric factors with Global Sales:')\n",
    "display(corr_table)\n",
    "\n",
    "plt.figure(figsize=(8,6))\n",
    "sns.heatmap(corr_matrix, annot=True, fmt='.2f', cmap='coolwarm')\n",
    "plt.title('Correlation Matrix of Numeric Features')\n",
    "plt.tight_layout()\n",
    "plt.show()"
   ],
   "execution_count": null,
   "outputs": []
  },
  {
   "cell_type": "code",
   "id": "q1-code-2",
   "metadata": {},
   "source": [
    "# Q1 Block 2: Regression Model for Predicting Global Sales\n",
    "# Select features and target (we include Year_of_Release, Critic_Score, and Genre)\n",
    "features = df[['Year_of_Release', 'Critic_Score', 'Genre']].dropna()\n",
    "target = df.loc[features.index, 'Global_Sales']\n",
    "\n",
    "# One-hot encode 'Genre'\n",
    "features_encoded = pd.get_dummies(features, columns=['Genre'], drop_first=True)\n",
    "\n",
    "# Split data into training and testing sets\n",
    "X_train, X_test, y_train, y_test = train_test_split(features_encoded, target, test_size=0.2, random_state=42)\n",
    "\n",
    "# Fit a linear regression model\n",
    "model = LinearRegression()\n",
    "model.fit(X_train, y_train)\n",
    "\n",
    "print('Regression model trained.')\n",
    "\n",
    "# Evaluate model performance\n",
    "r2_score = model.score(X_test, y_test)\n",
    "print('R^2 Score on Test Set:', r2_score)"
   ],
   "execution_count": null,
   "outputs": []
  },
  {
   "cell_type": "code",
   "id": "q1-code-3",
   "metadata": {},
   "source": [
    "# Q1 Block 3: Display Regression Coefficients and Plot Predictions vs Actual\n",
    "coefficients = pd.Series(model.coef_, index=X_train.columns)\n",
    "print('Regression Coefficients:')\n",
    "display(coefficients.sort_values(ascending=False))\n",
    "\n",
    "# Generate predictions for test set\n",
    "predictions = model.predict(X_test)\n",
    "results = pd.DataFrame({'Actual': y_test, 'Predicted': predictions})\n",
    "print('Sample Predictions:')\n",
    "display(results.head(10))\n",
    "\n",
    "# Scatter plot of actual vs predicted values\n",
    "plt.figure(figsize=(8,6))\n",
    "plt.scatter(y_test, predictions, alpha=0.6, edgecolor='k')\n",
    "plt.xlabel('Actual Global Sales')\n",
    "plt.ylabel('Predicted Global Sales')\n",
    "plt.title('Actual vs Predicted Global Sales')\n",
    "plt.plot([y_test.min(), y_test.max()], [y_test.min(), y_test.max()], 'r--')\n",
    "plt.tight_layout()\n",
    "plt.show()"
   ],
   "execution_count": null,
   "outputs": []
  },
  {
   "cell_type": "markdown",
   "id": "q2-markdown",
   "metadata": {},
   "source": [
    "## Question 2: How does the popularity of a game evolve with age, and what is the longevity effect on sales?\n",
    "\n",
    "In this analysis we create a new column for game age, group games by age intervals, and study the average global sales per age group. Tables and graphs are used to reveal trends."
   ]
  },
  {
   "cell_type": "code",
   "id": "q2-code-1",
   "metadata": {},
   "source": [
    "# Q2 Block 1: Calculate Game Age and Create Age Groups\n",
    "current_year = 2025\n",
    "df['Game_Age'] = current_year - df['Year_of_Release']\n",
    "\n",
    "# Define age bins (e.g., 0-5, 6-10, 11-15, 16-20, 21+)\n",
    "bins = [0, 5, 10, 15, 20, df['Game_Age'].max()]\n",
    "labels = ['0-5', '6-10', '11-15', '16-20', '21+']\n",
    "df['Age_Group'] = pd.cut(df['Game_Age'], bins=bins, labels=labels, right=False)\n",
    "\n",
    "print('Sample of Game Age and Age Groups:')\n",
    "display(df[['Name', 'Year_of_Release', 'Game_Age', 'Age_Group']].head(10))"
   ],
   "execution_count": null,
   "outputs": []
  },
  {
   "cell_type": "code",
   "id": "q2-code-2",
   "metadata": {},
   "source": [
    "# Q2 Block 2: Create Table of Average Global Sales by Age Group\n",
    "age_group_sales = df.groupby('Age_Group')['Global_Sales'].mean().reset_index()\n",
    "age_group_sales.rename(columns={'Global_Sales': 'Avg_Global_Sales'}, inplace=True)\n",
    "print('Average Global Sales by Game Age Group:')\n",
    "display(age_group_sales)"
   ],
   "execution_count": null,
   "outputs": []
  },
  {
   "cell_type": "code",
   "id": "q2-code-3",
   "metadata": {},
   "source": [
    "# Q2 Block 3: Visualize the Effect of Game Age on Global Sales\n",
    "plt.figure(figsize=(10,6))\n",
    "sns.barplot(x='Age_Group', y='Global_Sales', data=df, palette='viridis', ci=None)\n",
    "plt.xlabel('Game Age Group (years)')\n",
    "plt.ylabel('Average Global Sales (millions)')\n",
    "plt.title('Longevity Effect on Global Sales by Age Group')\n",
    "plt.tight_layout()\n",
    "plt.show()\n",
    "\n",
    "# Optionally, also display a boxplot to show distribution within each group\n",
    "plt.figure(figsize=(10,6))\n",
    "sns.boxplot(x='Age_Group', y='Global_Sales', data=df, palette='Set2')\n",
    "plt.xlabel('Game Age Group (years)')\n",
    "plt.ylabel('Global Sales (millions)')\n",
    "plt.title('Sales Distribution by Game Age Group')\n",
    "plt.tight_layout()\n",
    "plt.show()"
   ],
   "execution_count": null,
   "outputs": []
  },
  {
   "cell_type": "markdown",
   "id": "q3-markdown",
   "metadata": {},
   "source": [
    "## Question 3: Can we cluster games into distinct groups based on their regional sales patterns?\n",
    "\n",
    "For this analysis, we use regional sales columns to cluster games. We first prepare the data, then apply K-Means clustering, and finally use PCA for visualization. Tables and graphs help illustrate the clusters."
   ]
  },
  {
   "cell_type": "code",
   "id": "q3-code-1",
   "metadata": {},
   "source": [
    "# Q3 Block 1: Data Preparation for Clustering\n",
    "regional_cols = ['NA_Sales', 'EU_Sales', 'JP_Sales', 'Other_Sales']\n",
    "regional_data = df[regional_cols].dropna()\n",
    "\n",
    "# Scale the regional sales data\n",
    "scaler = StandardScaler()\n",
    "regional_scaled = scaler.fit_transform(regional_data)\n",
    "\n",
    "print('First 5 rows of scaled regional sales data:')\n",
    "display(pd.DataFrame(regional_scaled, columns=regional_cols).head())"
   ],
   "execution_count": null,
   "outputs": []
  },
  {
   "cell_type": "code",
   "id": "q3-code-2",
   "metadata": {},
   "source": [
    "# Q3 Block 2: Apply K-Means Clustering\n",
    "kmeans = KMeans(n_clusters=3, random_state=42)\n",
    "clusters = kmeans.fit_predict(regional_scaled)\n",
    "\n",
    "# Add the cluster labels back to the original dataframe (for the rows used)\n",
    "df_cluster = df.loc[regional_data.index].copy()\n",
    "df_cluster['Cluster'] = clusters\n",
    "\n",
    "print('Cluster distribution:')\n",
    "display(df_cluster['Cluster'].value_counts().reset_index().rename(columns={'index': 'Cluster', 'Cluster': 'Count'}))"
   ],
   "execution_count": null,
   "outputs": []
  },
  {
   "cell_type": "code",
   "id": "q3-code-3",
   "metadata": {},
   "source": [
    "# Q3 Block 3: Visualize Clusters Using PCA\n",
    "pca = PCA(n_components=2)\n",
    "pca_components = pca.fit_transform(regional_scaled)\n",
    "\n",
    "plt.figure(figsize=(10,6))\n",
    "scatter = plt.scatter(pca_components[:, 0], pca_components[:, 1], c=clusters, cmap='Set1', edgecolor='k', s=50)\n",
    "plt.xlabel('Principal Component 1')\n",
    "plt.ylabel('Principal Component 2')\n",
    "plt.title('PCA Projection of Regional Sales Clusters')\n",
    "plt.legend(*scatter.legend_elements(), title='Cluster')\n",
    "plt.tight_layout()\n",
    "plt.show()\n",
    "\n",
    "# Create a table summarizing the mean regional sales per cluster\n",
    "cluster_summary = df_cluster.groupby('Cluster')[regional_cols].mean().reset_index()\n",
    "print('Mean Regional Sales by Cluster:')\n",
    "display(cluster_summary)"
   ],
   "execution_count": null,
   "outputs": []
  }
 ],
 "metadata": {
  "kernelspec": {
   "display_name": "Python 3",
   "language": "python",
   "name": "python3"
  },
  "language_info": {
   "name": "python",
   "version": "3.x"
  }
 },
 "nbformat": 4,
 "nbformat_minor": 5
}

