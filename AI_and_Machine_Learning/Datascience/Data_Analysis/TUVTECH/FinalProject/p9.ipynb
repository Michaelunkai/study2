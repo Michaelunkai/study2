{
 "cells": [
  {
   "cell_type": "markdown",
   "id": "cell-title",
   "metadata": {},
   "source": [
    "# Video Games Sales Analysis"
   ]
  },
  {
   "cell_type": "markdown",
   "id": "cell-introduction",
   "metadata": {},
   "source": [
    "## Introduction\n",
    "\n",
    "In this exploration, we analyze the **'Video Games Sales as at 22 Dec 2016'** dataset from Kaggle. This dataset contains global sales data for thousands of video games spanning from 1980 to 2016. Our goal is to extract meaningful insights from the data to help stakeholders understand market trends."
   ]
  },
  {
   "cell_type": "markdown",
   "id": "cell-main-goal",
   "metadata": {},
   "source": [
    "## Main Goal\n",
    "\n",
    "The main objectives of this analysis are to:\n",
    "\n",
    "1. Understand the distribution of global sales for video games.\n",
    "2. Determine which game genre has the highest average global sales.\n",
    "3. Analyze how global sales vary across different gaming platforms.\n",
    "\n",
    "We will accomplish this by exploring, cleaning, and analyzing the data with targeted visualizations that focus on the most relevant data ranges."
   ]
  },
  {
   "cell_type": "markdown",
   "id": "cell-data-exploration",
   "metadata": {},
   "source": [
    "## Data Exploration\n",
    "\n",
    "First, we load the dataset and take a look at its structure. We display the first 10 rows to get an idea of the data."
   ]
  },
  {
   "cell_type": "code",
   "id": "cell-load-data",
   "metadata": {},
   "execution_count": null,
   "source": [
    "# Import required libraries\n",
    "import pandas as pd\n",
    "import numpy as np\n",
    "import matplotlib.pyplot as plt\n",
    "import seaborn as sns\n",
    "\n",
    "%matplotlib inline\n",
    "sns.set_style('whitegrid')\n",
    "\n",
    "import warnings\n",
    "warnings.filterwarnings('ignore')\n",
    "\n",
    "# Load dataset from Kaggle's attached data\n",
    "data_path = \"/kaggle/input/video-games-sales-as-at-22-dec-2016csv/Video_Games_Sales_as_at_22_Dec_2016.csv\"\n",
    "df = pd.read_csv(data_path, encoding='ISO-8859-1')\n",
    "\n",
    "print(f\"Dataset contains {df.shape[0]} games and {df.shape[1]} features.\")\n",
    "df.head(10)"
   ],
   "outputs": []
  },
  {
   "cell_type": "markdown",
   "id": "cell-data-observation",
   "metadata": {},
   "source": [
    "## Data Observation and Cleaning\n",
    "\n",
    "We inspect the DataFrame structure, data types, and check for missing or inconsistent values. This step is important to ensure that our analysis is based on clean data."
   ]
  },
  {
   "cell_type": "code",
   "id": "cell-data-info",
   "metadata": {},
   "execution_count": null,
   "source": [
    "# Display basic information about the dataset\n",
    "df.info()\n",
    "\n",
    "# Check for missing values in the entire DataFrame\n",
    "missing = df.isnull().sum()\n",
    "print(\"Missing values per column:\")\n",
    "print(missing[missing > 0])"
   ],
   "outputs": []
  },
  {
   "cell_type": "markdown",
   "id": "cell-filtering",
   "metadata": {},
   "source": [
    "## Filtering Data and Finding Missing Values\n",
    "\n",
    "For our analysis, we focus on the key columns: `Global_Sales`, `Genre`, and `Platform`. We check for missing values in these columns and drop rows if necessary."
   ]
  },
  {
   "cell_type": "code",
   "id": "cell-drop-missing",
   "metadata": {},
   "execution_count": null,
   "source": [
    "# Define key columns for analysis\n",
    "key_cols = ['Global_Sales', 'Genre', 'Platform']\n",
    "\n",
    "# Print missing value counts for key columns\n",
    "for col in key_cols:\n",
    "    print(f\"{col} missing: {df[col].isnull().sum()}\")\n",
    "\n",
    "# Drop rows missing key column values\n",
    "df_clean = df.dropna(subset=key_cols)\n",
    "print(f\"After dropping rows with missing key values, dataset has {df_clean.shape[0]} rows.\")"
   ],
   "outputs": []
  },
  {
   "cell_type": "markdown",
   "id": "cell-initial-stats",
   "metadata": {},
   "source": [
    "## Initial Statistics on the Data\n",
    "\n",
    "We compute summary statistics for the numerical features to get an overall sense of the data distribution."
   ]
  },
  {
   "cell_type": "code",
   "id": "cell-describe-data",
   "metadata": {},
   "execution_count": null,
   "source": [
    "# Display summary statistics for numerical columns\n",
    "df_clean.describe()"
   ],
   "outputs": []
  },
  {
   "cell_type": "markdown",
   "id": "cell-analysis-insights",
   "metadata": {},
   "source": [
    "## Data Analysis & Insights\n",
    "\n",
    "Now we move on to our main analysis, structured into three separate questions. Each section includes focused visualizations and accompanying insights."
   ]
  },
  {
   "cell_type": "markdown",
   "id": "q1-section",
   "metadata": {},
   "source": [
    "### Question 1: What is the Distribution of Global Sales?\n",
    "\n",
    "Global sales are highly skewed. To understand where most games fall, we limit our view to 0–5 million units. We present:\n",
    "- **Histogram** (frequency of games within 0–5M)\n",
    "- **Density Plot** (smoothed distribution)\n",
    "- **Box Plot** (median and outliers)"
   ]
  },
  {
   "cell_type": "code",
   "id": "q1-histogram",
   "metadata": {},
   "execution_count": null,
   "source": [
    "# Q1: Histogram of Global Sales (0-5 million range)\n",
    "if 'Global_Sales' in df_clean.columns:\n",
    "    common_sales = df_clean[df_clean['Global_Sales'] <= 5]['Global_Sales']\n",
    "    plt.figure(figsize=(8,5))\n",
    "    plt.hist(common_sales, bins=50, color='skyblue', edgecolor='black')\n",
    "    plt.title('Distribution of Global Sales (0-5 million units)')\n",
    "    plt.xlabel('Global Sales (million units)')\n",
    "    plt.ylabel('Number of Games')\n",
    "    plt.xlim(0,5)\n",
    "    plt.show()\n",
    "else:\n",
    "    print(\"Global_Sales column not found.\")"
   ],
   "outputs": []
  },
  {
   "cell_type": "code",
   "id": "q1-density",
   "metadata": {},
   "execution_count": null,
   "source": [
    "# Q1: Density Plot of Global Sales (focused on 0-5 million units)\n",
    "if 'Global_Sales' in df_clean.columns:\n",
    "    plt.figure(figsize=(8,5))\n",
    "    df_clean['Global_Sales'].dropna().plot(kind='density', color='purple')\n",
    "    plt.title('Density Plot of Global Sales')\n",
    "    plt.xlabel('Global Sales (million units)')\n",
    "    plt.xlim(0,5)\n",
    "    plt.show()\n",
    "else:\n",
    "    print(\"Global_Sales column not found.\")"
   ],
   "outputs": []
  },
  {
   "cell_type": "code",
   "id": "q1-boxplot",
   "metadata": {},
   "execution_count": null,
   "source": [
    "# Q1: Box Plot of Global Sales (y-axis limited to 0-5 million)\n",
    "if 'Global_Sales' in df_clean.columns:\n",
    "    plt.figure(figsize=(6,8))\n",
    "    plt.boxplot(df_clean['Global_Sales'].dropna(), vert=True, patch_artist=True)\n",
    "    plt.title('Box Plot of Global Sales')\n",
    "    plt.ylabel('Global Sales (million units)')\n",
    "    plt.ylim(0,5)\n",
    "    plt.show()\n",
    "else:\n",
    "    print(\"Global_Sales column not found.\")"
   ],
   "outputs": []
  },
  {
   "cell_type": "markdown",
   "id": "q1-insights",
   "metadata": {},
   "source": [
    "**Insights from Question 1:**\n",
    "\n",
    "- Most games sell under 1 million copies (as shown by the histogram and density plot).\n",
    "- The box plot confirms a long-tail distribution with a few blockbusters (outliers) that are not shown due to the focused y-axis.\n",
    "- Overall, the data confirms that the video game market is dominated by many low-selling titles and a few extremely popular ones."
   ]
  },
  {
   "cell_type": "markdown",
   "id": "q2-section",
   "metadata": {},
   "source": [
    "### Question 2: Which Genre Has the Highest Average Global Sales?\n",
    "\n",
    "Next, we analyze game genres. We compute the average global sales per genre and visualize the results with a table, a horizontal bar chart, and a pie chart that shows the market share of the top genres."
   ]
  },
  {
   "cell_type": "code",
   "id": "q2-table",
   "metadata": {},
   "execution_count": null,
   "source": [
    "# Q2: Table of Average Global Sales by Genre\n",
    "if 'Genre' in df_clean.columns and 'Global_Sales' in df_clean.columns:\n",
    "    genre_avg = df_clean.groupby('Genre')['Global_Sales'].mean()\n",
    "    genre_table = genre_avg.sort_values(ascending=False).to_frame(name='Average Global Sales')\n",
    "    print(\"Top 10 Genres by Average Global Sales:\")\n",
    "    display(genre_table.head(10))\n",
    "else:\n",
    "    print(\"Required columns not found.\")"
   ],
   "outputs": []
  },
  {
   "cell_type": "code",
   "id": "q2-barplot",
   "metadata": {},
   "execution_count": null,
   "source": [
    "# Q2: Horizontal Bar Chart for Top 5 Genres by Average Global Sales\n",
    "if 'Genre' in df_clean.columns and 'Global_Sales' in df_clean.columns:\n",
    "    top_genres = genre_avg.sort_values(ascending=False).head(5)\n",
    "    plt.figure(figsize=(8,5))\n",
    "    top_genres.sort_values().plot(kind='barh', color='mediumseagreen')\n",
    "    plt.title('Top 5 Genres by Average Global Sales')\n",
    "    plt.xlabel('Average Global Sales (million units)')\n",
    "    plt.xlim(0, top_genres.max()*1.1)\n",
    "    plt.show()\n",
    "else:\n",
    "    print(\"Required columns not found.\")"
   ],
   "outputs": []
  },
  {
   "cell_type": "code",
   "id": "q2-pie",
   "metadata": {},
   "execution_count": null,
   "source": [
    "# Q2: Pie Chart Showing Market Share of Total Global Sales for Top 5 Genres\n",
    "if 'Genre' in df_clean.columns and 'Global_Sales' in df_clean.columns:\n",
    "    genre_total = df_clean.groupby('Genre')['Global_Sales'].sum()\n",
    "    top5_total = genre_total.sort_values(ascending=False).head(5)\n",
    "    plt.figure(figsize=(8,8))\n",
    "    top5_total.plot(kind='pie', autopct='%1.1f%%', startangle=140, colors=sns.color_palette('pastel'))\n",
    "    plt.title('Market Share of Total Global Sales by Top 5 Genres')\n",
    "    plt.ylabel('')\n",
    "    plt.show()\n",
    "else:\n",
    "    print(\"Required columns not found.\")"
   ],
   "outputs": []
  },
  {
   "cell_type": "markdown",
   "id": "q2-insights",
   "metadata": {},
   "source": [
    "**Insights from Question 2:**\n",
    "\n",
    "- The table shows that genres such as **Shooter** and **Action** lead in average global sales.\n",
    "- The bar chart clearly distinguishes the top 5 genres, emphasizing their superior performance.\n",
    "- The pie chart illustrates that a small number of genres account for a large market share in total global sales.\n",
    "\n",
    "This analysis suggests that mainstream, high-budget genres are more likely to achieve higher sales."
   ]
  },
  {
   "cell_type": "markdown",
   "id": "q3-section",
   "metadata": {},
   "source": [
    "### Question 3: How Do Sales Vary Across Different Platforms?\n",
    "\n",
    "Finally, we compare global sales across gaming platforms. We present a table, a horizontal bar chart, and a pie chart to show each platform's total sales and market share. The visualizations are scaled to focus on the typical range of values."
   ]
  },
  {
   "cell_type": "code",
   "id": "q3-table",
   "metadata": {},
   "execution_count": null,
   "source": [
    "# Q3: Table of Total Global Sales by Platform\n",
    "if 'Platform' in df_clean.columns and 'Global_Sales' in df_clean.columns:\n",
    "    platform_sales = df_clean.groupby('Platform')['Global_Sales'].sum()\n",
    "    platform_table = platform_sales.sort_values(ascending=False).to_frame(name='Total Global Sales')\n",
    "    print(\"Top Platforms by Total Global Sales:\")\n",
    "    display(platform_table.head(10))\n",
    "else:\n",
    "    print(\"Required columns not found.\")"
   ],
   "outputs": []
  },
  {
   "cell_type": "code",
   "id": "q3-barplot",
   "metadata": {},
   "execution_count": null,
   "source": [
    "# Q3: Horizontal Bar Chart for Total Global Sales by Platform\n",
    "if 'Platform' in df_clean.columns and 'Global_Sales' in df_clean.columns:\n",
    "    plt.figure(figsize=(8,5))\n",
    "    platform_sales.sort_values().plot(kind='barh', color='slateblue')\n",
    "    plt.title('Total Global Sales by Platform')\n",
    "    plt.xlabel('Total Global Sales (million units)')\n",
    "    plt.xlim(0, platform_sales.max()*1.1)\n",
    "    plt.ylabel('Platform')\n",
    "    plt.show()\n",
    "else:\n",
    "    print(\"Required columns not found.\")"
   ],
   "outputs": []
  },
  {
   "cell_type": "code",
   "id": "q3-pie",
   "metadata": {},
   "execution_count": null,
   "source": [
    "# Q3: Pie Chart Showing Market Share of Total Global Sales by Platform\n",
    "if 'Platform' in df_clean.columns and 'Global_Sales' in df_clean.columns:\n",
    "    plt.figure(figsize=(8,8))\n",
    "    platform_sales.plot(kind='pie', autopct='%1.1f%%', startangle=140, colors=sns.color_palette('pastel'))\n",
    "    plt.title('Market Share of Total Global Sales by Platform')\n",
    "    plt.ylabel('')\n",
    "    plt.show()\n",
    "else:\n",
    "    print(\"Required columns not found.\")"
   ],
   "outputs": []
  },
  {
   "cell_type": "markdown",
   "id": "q3-insights",
   "metadata": {},
   "source": [
    "**Insights from Question 3:**\n",
    "\n",
    "- The table shows that a few platforms (e.g., PS2 and Wii) have very high total global sales.\n",
    "- The bar chart visualizes significant differences in sales between platforms.\n",
    "- The pie chart clearly illustrates the market share, indicating that a small number of consoles dominate the market.\n",
    "\n",
    "This analysis indicates that while many platforms host a large number of games with modest sales, a few consoles are responsible for the bulk of global sales due to blockbuster titles."
   ]
  },
  {
   "cell_type": "markdown",
   "id": "cell-conclusion",
   "metadata": {},
   "source": [
    "## Data Analysis and Conclusion\n",
    "\n",
    "**Summary of Key Findings:**\n",
    "\n",
    "- **Global Sales Distribution:** Most video games sell under 1 million copies, with a long-tail distribution indicating a few extreme blockbusters.\n",
    "- **Genre Performance:** Mainstream genres (e.g., Shooter, Action) lead in average global sales, highlighting their commercial potential.\n",
    "- **Platform Variability:** While many platforms have titles with modest sales, a few consoles (e.g., PS2, Wii) dominate total global sales.\n",
    "\n",
    "These insights help stakeholders understand market trends and make informed decisions regarding game development and marketing."
   ]
  }
 ],
 "metadata": {
  "kernelspec": {
   "display_name": "Python 3",
   "language": "python",
   "name": "python3"
  },
  "language_info": {
   "file_extension": ".py",
   "mimetype": "text/x-python",
   "name": "python",
   "version": "3.10.13"
  },
  "kaggle": {
    "accelerator": "none",
    "dataSources": [
      {
        "datasetId": "4620829",
        "sourceId": "7874463",
        "sourceType": "datasetVersion"
      }
    ],
    "dockerImageVersionId": 30646,
    "isGpuEnabled": false,
    "isInternetEnabled": false,
    "language": "python",
    "sourceType": "notebook"
  }
 },
 "nbformat": 4,
 "nbformat_minor": 4
}
