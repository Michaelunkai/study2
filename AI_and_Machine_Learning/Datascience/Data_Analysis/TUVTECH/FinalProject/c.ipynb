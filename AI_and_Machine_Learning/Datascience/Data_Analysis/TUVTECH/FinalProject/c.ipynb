{
 "cells": [
  {
   "cell_type": "markdown",
   "id": "intro-markdown",
   "metadata": {},
   "source": [
    "# Video Games Sales Analysis\n",
    "\n",
    "This notebook analyzes the video games sales dataset available on Kaggle. We address three main questions:\n",
    "\n",
    "1. **What is the distribution of Global Sales?**\n",
    "2. **Which Genre has the highest average Global Sales?**\n",
    "3. **How do Sales vary across different Platforms?**\n",
    "\n",
    "For each question, there are six different code blocks showing diverse ways of visualizing or analyzing the data.\n",
    "\n",
    "All file paths have been updated to use Kaggle’s input system."
   ]
  },
  {
   "cell_type": "code",
   "execution_count": null,
   "id": "imports-load",
   "metadata": {},
   "outputs": [],
   "source": [
    "# Import necessary libraries\n",
    "import pandas as pd\n",
    "import numpy as np\n",
    "import matplotlib.pyplot as plt\n",
    "%matplotlib inline\n",
    "\n",
    "# Suppress warnings\n",
    "import warnings\n",
    "warnings.filterwarnings('ignore')\n",
    "\n",
    "# Define the file path for the attached dataset on Kaggle\n",
    "data_path = \"/kaggle/input/video-games-sales-as-at-22-dec-2016csv/Video_Games_Sales_as_at_22_Dec_2016.csv\"\n",
    "\n",
    "# Load the dataset\n",
    "df = pd.read_csv(data_path, encoding='ISO-8859-1')\n",
    "\n",
    "# Display the first few rows of the dataset\n",
    "df.head()"
   ]
  },
  {
   "cell_type": "markdown",
   "id": "q1-title",
   "metadata": {},
   "source": [
    "## Question 1: What is the distribution of Global Sales?\n",
    "\n",
    "In this section, we explore the distribution of the Global Sales figures from the dataset using multiple approaches."
   ]
  },
  {
   "cell_type": "code",
   "execution_count": null,
   "id": "q1-code1",
   "metadata": {},
   "outputs": [],
   "source": [
    "# Block 1: Histogram of Global Sales\n",
    "if 'Global_Sales' in df.columns:\n",
    "    plt.figure(figsize=(10, 6))\n",
    "    plt.hist(df['Global_Sales'].dropna(), bins=30, edgecolor='k')\n",
    "    plt.title('Histogram of Global Sales')\n",
    "    plt.xlabel('Global Sales (in millions)')\n",
    "    plt.ylabel('Frequency')\n",
    "    plt.show()\n",
    "else:\n",
    "    print(\"Column 'Global_Sales' not found.\")"
   ]
  },
  {
   "cell_type": "code",
   "execution_count": null,
   "id": "q1-code2",
   "metadata": {},
   "outputs": [],
   "source": [
    "# Block 2: Summary Statistics for Global Sales\n",
    "if 'Global_Sales' in df.columns:\n",
    "    sales_stats = df['Global_Sales'].describe()\n",
    "    print(sales_stats)\n",
    "else:\n",
    "    print(\"Column 'Global_Sales' not found.\")"
   ]
  },
  {
   "cell_type": "code",
   "execution_count": null,
   "id": "q1-code3",
   "metadata": {},
   "outputs": [],
   "source": [
    "# Block 3: Additional Statistics (Median & Variance) for Global Sales\n",
    "if 'Global_Sales' in df.columns:\n",
    "    median_sales = df['Global_Sales'].median()\n",
    "    var_sales = df['Global_Sales'].var()\n",
    "    print(f\"Median Global Sales: {median_sales}\")\n",
    "    print(f\"Variance of Global Sales: {var_sales}\")\n",
    "else:\n",
    "    print(\"Column 'Global_Sales' not found.\")"
   ]
  },
  {
   "cell_type": "code",
   "execution_count": null,
   "id": "q1-code4",
   "metadata": {},
   "outputs": [],
   "source": [
    "# Block 4: Density Plot for Global Sales\n",
    "if 'Global_Sales' in df.columns:\n",
    "    plt.figure(figsize=(10, 6))\n",
    "    df['Global_Sales'].dropna().plot(kind='density')\n",
    "    plt.title('Density Plot of Global Sales')\n",
    "    plt.xlabel('Global Sales (in millions)')\n",
    "    plt.show()\n",
    "else:\n",
    "    print(\"Column 'Global_Sales' not found.\")"
   ]
  },
  {
   "cell_type": "code",
   "execution_count": null,
   "id": "q1-code5",
   "metadata": {},
   "outputs": [],
   "source": [
    "# Block 5: Box Plot for Global Sales\n",
    "if 'Global_Sales' in df.columns:\n",
    "    plt.figure(figsize=(6, 8))\n",
    "    plt.boxplot(df['Global_Sales'].dropna(), vert=True, patch_artist=True)\n",
    "    plt.title('Box Plot of Global Sales')\n",
    "    plt.ylabel('Global Sales (in millions)')\n",
    "    plt.show()\n",
    "else:\n",
    "    print(\"Column 'Global_Sales' not found.\")"
   ]
  },
  {
   "cell_type": "code",
   "execution_count": null,
   "id": "q1-code6",
   "metadata": {},
   "outputs": [],
   "source": [
    "# Block 6: Cumulative Distribution Function (CDF) for Global Sales\n",
    "if 'Global_Sales' in df.columns:\n",
    "    sales_sorted = np.sort(df['Global_Sales'].dropna())\n",
    "    cdf = np.arange(len(sales_sorted)) / float(len(sales_sorted))\n",
    "    plt.figure(figsize=(10, 6))\n",
    "    plt.step(sales_sorted, cdf, where='post')\n",
    "    plt.title('CDF of Global Sales')\n",
    "    plt.xlabel('Global Sales (in millions)')\n",
    "    plt.ylabel('Cumulative Probability')\n",
    "    plt.show()\n",
    "else:\n",
    "    print(\"Column 'Global_Sales' not found.\")"
   ]
  },
  {
   "cell_type": "markdown",
   "id": "q2-title",
   "metadata": {},
   "source": [
    "## Question 2: Which Genre has the highest average Global Sales?\n",
    "\n",
    "Here, we group the dataset by Genre and analyze the average Global Sales using various methods."
   ]
  },
  {
   "cell_type": "code",
   "execution_count": null,
   "id": "q2-code1",
   "metadata": {},
   "outputs": [],
   "source": [
    "# Block 1: Group data by Genre and calculate the average Global Sales\n",
    "if 'Genre' in df.columns and 'Global_Sales' in df.columns:\n",
    "    genre_avg_sales = df.groupby('Genre')['Global_Sales'].mean()\n",
    "    print(genre_avg_sales.sort_values(ascending=False))\n",
    "else:\n",
    "    print(\"Required columns 'Genre' or 'Global_Sales' not found.\")"
   ]
  },
  {
   "cell_type": "code",
   "execution_count": null,
   "id": "q2-code2",
   "metadata": {},
   "outputs": [],
   "source": [
    "# Block 2: Display the top 5 genres with highest average Global Sales\n",
    "if 'Genre' in df.columns and 'Global_Sales' in df.columns:\n",
    "    top_genres = genre_avg_sales.sort_values(ascending=False).head(5)\n",
    "    print(top_genres)\n",
    "else:\n",
    "    print(\"Required columns 'Genre' or 'Global_Sales' not found.\")"
   ]
  },
  {
   "cell_type": "code",
   "execution_count": null,
   "id": "q2-code3",
   "metadata": {},
   "outputs": [],
   "source": [
    "# Block 3: Bar Chart for the Top 5 Genres by Average Global Sales\n",
    "if 'Genre' in df.columns and 'Global_Sales' in df.columns:\n",
    "    plt.figure(figsize=(10, 6))\n",
    "    top_genres.sort_values().plot(kind='barh')\n",
    "    plt.title('Top 5 Genres by Average Global Sales')\n",
    "    plt.xlabel('Average Global Sales (in millions)')\n",
    "    plt.ylabel('Genre')\n",
    "    plt.show()\n",
    "else:\n",
    "    print(\"Required columns 'Genre' or 'Global_Sales' not found.\")"
   ]
  },
  {
   "cell_type": "code",
   "execution_count": null,
   "id": "q2-code4",
   "metadata": {},
   "outputs": [],
   "source": [
    "# Block 4: Pie Chart of Average Global Sales by Genre (Top 5)\n",
    "if 'Genre' in df.columns and 'Global_Sales' in df.columns:\n",
    "    top_genres_pie = genre_avg_sales.sort_values(ascending=False).head(5)\n",
    "    plt.figure(figsize=(8, 8))\n",
    "    top_genres_pie.plot(kind='pie', autopct='%1.1f%%', startangle=140)\n",
    "    plt.title('Pie Chart of Top 5 Genres by Average Global Sales')\n",
    "    plt.ylabel('')\n",
    "    plt.show()\n",
    "else:\n",
    "    print(\"Required columns 'Genre' or 'Global_Sales' not found.\")"
   ]
  },
  {
   "cell_type": "code",
   "execution_count": null,
   "id": "q2-code5",
   "metadata": {},
   "outputs": [],
   "source": [
    "# Block 5: Calculate and Display the Median Global Sales by Genre\n",
    "if 'Genre' in df.columns and 'Global_Sales' in df.columns:\n",
    "    genre_median_sales = df.groupby('Genre')['Global_Sales'].median()\n",
    "    print(genre_median_sales.sort_values(ascending=False))\n",
    "else:\n",
    "    print(\"Required columns 'Genre' or 'Global_Sales' not found.\")"
   ]
  },
  {
   "cell_type": "code",
   "execution_count": null,
   "id": "q2-code6",
   "metadata": {},
   "outputs": [],
   "source": [
    "# Block 6: Bar Chart Comparing Mean and Median Global Sales by Genre (Top 5)\n",
    "if 'Genre' in df.columns and 'Global_Sales' in df.columns:\n",
    "    stats_df = pd.DataFrame({\n",
    "        'Mean': df.groupby('Genre')['Global_Sales'].mean(),\n",
    "        'Median': df.groupby('Genre')['Global_Sales'].median()\n",
    "    }).sort_values('Mean', ascending=False).head(5)\n",
    "    stats_df.plot(kind='bar', figsize=(10, 6))\n",
    "    plt.title('Comparison of Mean and Median Global Sales by Genre (Top 5)')\n",
    "    plt.xlabel('Genre')\n",
    "    plt.ylabel('Global Sales (in millions)')\n",
    "    plt.xticks(rotation=0)\n",
    "    plt.show()\n",
    "else:\n",
    "    print(\"Required columns 'Genre' or 'Global_Sales' not found.\")"
   ]
  },
  {
   "cell_type": "markdown",
   "id": "q3-title",
   "metadata": {},
   "source": [
    "## Question 3: How do Sales vary across different Platforms?\n",
    "\n",
    "In this section, we analyze how Global Sales vary by Platform using multiple visualizations."
   ]
  },
  {
   "cell_type": "code",
   "execution_count": null,
   "id": "q3-code1",
   "metadata": {},
   "outputs": [],
   "source": [
    "# Block 1: Group the data by Platform and Sum the Global Sales\n",
    "if 'Platform' in df.columns and 'Global_Sales' in df.columns:\n",
    "    platform_sales = df.groupby('Platform')['Global_Sales'].sum()\n",
    "    print(platform_sales.sort_values(ascending=False))\n",
    "else:\n",
    "    print(\"Required columns 'Platform' or 'Global_Sales' not found.\")"
   ]
  },
  {
   "cell_type": "code",
   "execution_count": null,
   "id": "q3-code2",
   "metadata": {},
   "outputs": [],
   "source": [
    "# Block 2: Display the Top 5 Platforms with Highest Total Global Sales\n",
    "if 'Platform' in df.columns and 'Global_Sales' in df.columns:\n",
    "    top_platforms = platform_sales.sort_values(ascending=False).head(5)\n",
    "    print(top_platforms)\n",
    "else:\n",
    "    print(\"Required columns 'Platform' or 'Global_Sales' not found.\")"
   ]
  },
  {
   "cell_type": "code",
   "execution_count": null,
   "id": "q3-code3",
   "metadata": {},
   "outputs": [],
   "source": [
    "# Block 3: Horizontal Bar Chart of Global Sales by Platform\n",
    "if 'Platform' in df.columns and 'Global_Sales' in df.columns:\n",
    "    plt.figure(figsize=(10, 6))\n",
    "    platform_sales.sort_values().plot(kind='barh')\n",
    "    plt.title('Global Sales by Platform')\n",
    "    plt.xlabel('Total Global Sales (in millions)')\n",
    "    plt.ylabel('Platform')\n",
    "    plt.show()\n",
    "else:\n",
    "    print(\"Required columns 'Platform' or 'Global_Sales' not found.\")"
   ]
  },
  {
   "cell_type": "code",
   "execution_count": null,
   "id": "q3-code4",
   "metadata": {},
   "outputs": [],
   "source": [
    "# Block 4: Pie Chart of Global Sales by Platform\n",
    "if 'Platform' in df.columns and 'Global_Sales' in df.columns:\n",
    "    plt.figure(figsize=(8, 8))\n",
    "    platform_sales.plot(kind='pie', autopct='%1.1f%%', startangle=140)\n",
    "    plt.title('Pie Chart of Global Sales by Platform')\n",
    "    plt.ylabel('')\n",
    "    plt.show()\n",
    "else:\n",
    "    print(\"Required columns 'Platform' or 'Global_Sales' not found.\")"
   ]
  },
  {
   "cell_type": "code",
   "execution_count": null,
   "id": "q3-code5",
   "metadata": {},
   "outputs": [],
   "source": [
    "# Block 5: Box Plot of Global Sales for Each Platform\n",
    "if 'Platform' in df.columns and 'Global_Sales' in df.columns:\n",
    "    platforms = df['Platform'].unique()\n",
    "    data_to_plot = [df[df['Platform'] == platform]['Global_Sales'].dropna() for platform in platforms]\n",
    "    plt.figure(figsize=(12, 8))\n",
    "    plt.boxplot(data_to_plot, labels=platforms, patch_artist=True)\n",
    "    plt.title('Box Plot of Global Sales by Platform')\n",
    "    plt.xlabel('Platform')\n",
    "    plt.ylabel('Global Sales (in millions)')\n",
    "    plt.xticks(rotation=45)\n",
    "    plt.show()\n",
    "else:\n",
    "    print(\"Required columns 'Platform' or 'Global_Sales' not found.\")"
   ]
  },
  {
   "cell_type": "code",
   "execution_count": null,
   "id": "q3-code6",
   "metadata": {},
   "outputs": [],
   "source": [
    "# Block 6: Scatter Plot of Average Global Sales by Platform\n",
    "if 'Platform' in df.columns and 'Global_Sales' in df.columns:\n",
    "    platform_avg_sales = df.groupby('Platform')['Global_Sales'].mean()\n",
    "    plt.figure(figsize=(10, 6))\n",
    "    plt.scatter(platform_avg_sales.index, platform_avg_sales.values, s=100, alpha=0.7)\n",
    "    plt.title('Scatter Plot of Average Global Sales by Platform')\n",
    "    plt.xlabel('Platform')\n",
    "    plt.ylabel('Average Global Sales (in millions)')\n",
    "    plt.xticks(rotation=45)\n",
    "    plt.grid(True)\n",
    "    plt.show()\n",
    "else:\n",
    "    print(\"Required columns 'Platform' or 'Global_Sales' not found.\")"
   ]
  },
  {
   "cell_type": "markdown",
   "id": "conclusion-markdown",
   "metadata": {},
   "source": [
    "## Conclusion\n",
    "\n",
    "This notebook provided a comprehensive analysis of the Video Games Sales dataset by exploring three questions:\n",
    "\n",
    "- The distribution of Global Sales\n",
    "- The average Global Sales by Genre\n",
    "- The variation of Global Sales across Platforms\n",
    "\n",
    "Each question was explored using six different methods of visualization and analysis. Feel free to extend or modify the analysis further!"
   ]
  }
 ],
 "metadata": {
  "kernelspec": {
   "display_name": "Python 3",
   "language": "python",
   "name": "python3"
  },
  "language_info": {
   "file_extension": ".py",
   "mimetype": "text/x-python",
   "name": "python",
   "version": "3.x"
  }
 },
 "nbformat": 4,
 "nbformat_minor": 5
}
