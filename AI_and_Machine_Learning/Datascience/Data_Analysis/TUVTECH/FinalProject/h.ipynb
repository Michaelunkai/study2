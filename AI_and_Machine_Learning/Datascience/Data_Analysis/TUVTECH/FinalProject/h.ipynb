{
 "cells": [
  {
   "cell_type": "markdown",
   "id": "intro-markdown",
   "metadata": {},
   "source": [
    "# Video Games Sales Analysis\n",
    "\n",
    "This notebook analyzes the **'Video Games Sales as at 22 Dec 2016'** dataset from Kaggle. Our goal is to derive insights on three key questions:\n",
    "\n",
    "1. **What is the distribution of Global Sales?**\n",
    "2. **Which Genre has the highest average Global Sales?**\n",
    "3. **How do Sales vary across different Platforms?**\n",
    "\n",
    "All visualizations have been adjusted to focus on the most meaningful range of data. Outlying values are discussed separately, and we present only the most relevant charts along with detailed analysis.\n",
    "\n",
    "The first code cell below displays the first 10 rows of the dataset along with summary information."
   ]
  },
  {
   "cell_type": "code",
   "id": "imports-load",
   "metadata": {},
   "execution_count": null,
   "source": [
    "# Import required libraries\n",
    "import pandas as pd\n",
    "import numpy as np\n",
    "import matplotlib.pyplot as plt\n",
    "import seaborn as sns\n",
    "\n",
    "%matplotlib inline\n",
    "sns.set_style('whitegrid')\n",
    "\n",
    "import warnings\n",
    "warnings.filterwarnings('ignore')\n",
    "\n",
    "# Load the dataset from Kaggle's attached data\n",
    "data_path = \"/kaggle/input/video-games-sales-as-at-22-dec-2016csv/Video_Games_Sales_as_at_22_Dec_2016.csv\"\n",
    "df = pd.read_csv(data_path, encoding='ISO-8859-1')\n",
    "\n",
    "# Display 10 rows of the dataset and basic info\n",
    "print(f\"Dataset contains {df.shape[0]} games and {df.shape[1]} features.\")\n",
    "df.head(10)"
   ],
   "outputs": []
  },
  {
   "cell_type": "markdown",
   "id": "q1-markdown",
   "metadata": {},
   "source": [
    "## Question 1: What is the Distribution of Global Sales?\n",
    "\n",
    "The global sales of video games show a highly right-skewed distribution. To better understand where most games lie, we restrict the analysis to a relevant range (0 to 5 million units). We will also point out key outliers separately.\n",
    "\n",
    "Below, we provide three visualizations:\n",
    "- A histogram (focused on 0–5 million units).\n",
    "- A density plot (zoomed to show the common range).\n",
    "- A box plot (with a focused y-axis to highlight the typical range)."
   ]
  },
  {
   "cell_type": "code",
   "id": "q1-histogram",
   "metadata": {},
   "execution_count": null,
   "source": [
    "# Histogram of Global Sales (0-5 million range)\n",
    "if 'Global_Sales' in df.columns:\n",
    "    common_sales = df[df['Global_Sales'] <= 5]['Global_Sales']\n",
    "    plt.figure(figsize=(8,5))\n",
    "    plt.hist(common_sales, bins=50, color='skyblue', edgecolor='black')\n",
    "    plt.title('Distribution of Global Sales (0-5 million units)')\n",
    "    plt.xlabel('Global Sales (million units)')\n",
    "    plt.ylabel('Number of Games')\n",
    "    plt.xlim(0,5)\n",
    "    plt.show()\n",
    "else:\n",
    "    print(\"Column 'Global_Sales' not found.\")"
   ],
   "outputs": []
  },
  {
   "cell_type": "code",
   "id": "q1-density",
   "metadata": {},
   "execution_count": null,
   "source": [
    "# Density Plot of Global Sales (focused on 0-5 million units)\n",
    "if 'Global_Sales' in df.columns:\n",
    "    plt.figure(figsize=(8,5))\n",
    "    df['Global_Sales'].dropna().plot(kind='density', color='purple')\n",
    "    plt.title('Density Plot of Global Sales')\n",
    "    plt.xlabel('Global Sales (million units)')\n",
    "    plt.xlim(0,5)\n",
    "    plt.show()\n",
    "else:\n",
    "    print(\"Column 'Global_Sales' not found.\")"
   ],
   "outputs": []
  },
  {
   "cell_type": "code",
   "id": "q1-boxplot",
   "metadata": {},
   "execution_count": null,
   "source": [
    "# Box Plot of Global Sales (y-axis focused on 0-5 million units)\n",
    "if 'Global_Sales' in df.columns:\n",
    "    plt.figure(figsize=(6,8))\n",
    "    plt.boxplot(df['Global_Sales'].dropna(), vert=True, patch_artist=True)\n",
    "    plt.title('Box Plot of Global Sales')\n",
    "    plt.ylabel('Global Sales (million units)')\n",
    "    plt.ylim(0,5)\n",
    "    plt.show()\n",
    "else:\n",
    "    print(\"Column 'Global_Sales' not found.\")"
   ],
   "outputs": []
  },
  {
   "cell_type": "markdown",
   "id": "q1-analysis-md",
   "metadata": {},
   "source": [
    "**Analysis of Global Sales Distribution:**\n",
    "\n",
    "- The histogram shows that most video games sell under 1 million copies, with a heavy concentration in the lower bins.\n",
    "- The density plot confirms a strong right-skew in the distribution.\n",
    "- The box plot highlights that while the majority of games sell modestly, a few outliers (blockbusters) exist above 5 million units (not shown in this focused plot).\n",
    "\n",
    "This confirms that the video game market is dominated by a long tail of low-selling titles with a handful of extreme successes."
   ]
  },
  {
   "cell_type": "markdown",
   "id": "q2-markdown",
   "metadata": {},
   "source": [
    "## Question 2: Which Genre Has the Highest Average Global Sales?\n",
    "\n",
    "We now examine average global sales by genre to determine which game types typically perform best in the market. In addition to a table, we present two visualizations:\n",
    "- A horizontal bar chart for the top 5 genres.\n",
    "- A pie chart showing the market share (in terms of total sales) of these top genres.\n",
    "\n",
    "The results are analyzed below."
   ]
  },
  {
   "cell_type": "code",
   "id": "q2-table",
   "metadata": {},
   "execution_count": null,
   "source": [
    "# Table: Average Global Sales by Genre\n",
    "if 'Genre' in df.columns and 'Global_Sales' in df.columns:\n",
    "    genre_avg = df.groupby('Genre')['Global_Sales'].mean()\n",
    "    genre_table = genre_avg.sort_values(ascending=False).to_frame(name='Average Global Sales')\n",
    "    print(\"Top 10 Genres by Average Global Sales:\")\n",
    "    display(genre_table.head(10))\n",
    "else:\n",
    "    print(\"Required columns not found.\")"
   ],
   "outputs": []
  },
  {
   "cell_type": "code",
   "id": "q2-barplot",
   "metadata": {},
   "execution_count": null,
   "source": [
    "# Horizontal Bar Chart for Top 5 Genres by Average Global Sales\n",
    "if 'Genre' in df.columns and 'Global_Sales' in df.columns:\n",
    "    top_genres = genre_avg.sort_values(ascending=False).head(5)\n",
    "    plt.figure(figsize=(8,5))\n",
    "    top_genres.sort_values().plot(kind='barh', color='mediumseagreen')\n",
    "    plt.title('Top 5 Genres by Average Global Sales')\n",
    "    plt.xlabel('Average Global Sales (million units)')\n",
    "    plt.xlim(0, top_genres.max()*1.1)\n",
    "    plt.show()\n",
    "else:\n",
    "    print(\"Required columns not found.\")"
   ],
   "outputs": []
  },
  {
   "cell_type": "code",
   "id": "q2-pie",
   "metadata": {},
   "execution_count": null,
   "source": [
    "# Pie Chart: Market Share of Total Global Sales for Top 5 Genres\n",
    "if 'Genre' in df.columns and 'Global_Sales' in df.columns:\n",
    "    genre_total = df.groupby('Genre')['Global_Sales'].sum()\n",
    "    top5_total = genre_total.sort_values(ascending=False).head(5)\n",
    "    plt.figure(figsize=(8,8))\n",
    "    top5_total.plot(kind='pie', autopct='%1.1f%%', startangle=140, colors=sns.color_palette('pastel'))\n",
    "    plt.title('Market Share of Total Global Sales by Top 5 Genres')\n",
    "    plt.ylabel('')\n",
    "    plt.show()\n",
    "else:\n",
    "    print(\"Required columns not found.\")"
   ],
   "outputs": []
  },
  {
   "cell_type": "markdown",
   "id": "q2-analysis-md",
   "metadata": {},
   "source": [
    "**Analysis of Genre Performance:**\n",
    "\n",
    "- The table ranks genres by average global sales, revealing that certain genres (e.g., Shooter, Action) lead the market.\n",
    "- The bar chart visually emphasizes the top performers, making it easy to compare average sales.\n",
    "- The pie chart shows that a small number of genres contribute a large share of total sales.\n",
    "\n",
    "These insights indicate that mainstream genres with broad appeal and high-budget releases (e.g., Shooter games) tend to achieve higher sales on average."
   ]
  },
  {
   "cell_type": "markdown",
   "id": "q3-markdown",
   "metadata": {},
   "source": [
    "## Question 3: How Do Sales Vary Across Different Platforms?\n",
    "\n",
    "We compare global sales across major platforms to understand where sales are most concentrated. We focus on the top platforms (by title count) and use the following outputs:\n",
    "- A table showing total global sales by platform.\n",
    "- A horizontal bar chart illustrating total sales by platform.\n",
    "- A pie chart that presents the percentage market share of each platform.\n",
    "\n",
    "The y-axis of the bar chart is adjusted to focus on the most relevant sales range."
   ]
  },
  {
   "cell_type": "code",
   "id": "q3-table",
   "metadata": {},
   "execution_count": null,
   "source": [
    "# Table: Total Global Sales by Platform\n",
    "if 'Platform' in df.columns and 'Global_Sales' in df.columns:\n",
    "    platform_sales = df.groupby('Platform')['Global_Sales'].sum()\n",
    "    platform_table = platform_sales.sort_values(ascending=False).to_frame(name='Total Global Sales')\n",
    "    print(\"Top Platforms by Total Global Sales:\")\n",
    "    display(platform_table.head(10))\n",
    "else:\n",
    "    print(\"Required columns not found.\")"
   ],
   "outputs": []
  },
  {
   "cell_type": "code",
   "id": "q3-barplot",
   "metadata": {},
   "execution_count": null,
   "source": [
    "# Horizontal Bar Chart for Total Global Sales by Platform\n",
    "if 'Platform' in df.columns and 'Global_Sales' in df.columns:\n",
    "    plt.figure(figsize=(8,5))\n",
    "    platform_sales.sort_values().plot(kind='barh', color='slateblue')\n",
    "    plt.title('Total Global Sales by Platform')\n",
    "    plt.xlabel('Total Global Sales (million units)')\n",
    "    plt.xlim(0, platform_sales.max()*1.1)\n",
    "    plt.ylabel('Platform')\n",
    "    plt.show()\n",
    "else:\n",
    "    print(\"Required columns not found.\")"
   ],
   "outputs": []
  },
  {
   "cell_type": "code",
   "id": "q3-pie",
   "metadata": {},
   "execution_count": null,
   "source": [
    "# Pie Chart: Market Share of Total Global Sales by Platform\n",
    "if 'Platform' in df.columns and 'Global_Sales' in df.columns:\n",
    "    plt.figure(figsize=(8,8))\n",
    "    platform_sales.plot(kind='pie', autopct='%1.1f%%', startangle=140, colors=sns.color_palette('pastel'))\n",
    "    plt.title('Market Share of Total Global Sales by Platform')\n",
    "    plt.ylabel('')\n",
    "    plt.show()\n",
    "else:\n",
    "    print(\"Required columns not found.\")"
   ],
   "outputs": []
  },
  {
   "cell_type": "markdown",
   "id": "q3-analysis-md",
   "metadata": {},
   "source": [
    "**Analysis of Sales by Platform:**\n",
    "\n",
    "- The table shows the total global sales for each platform, highlighting that certain consoles (such as PS2, Wii) have extremely high cumulative sales.\n",
    "- The bar chart visualizes these differences, with the x-axis scaled to focus on the most typical range while still displaying the top performers.\n",
    "- The pie chart illustrates the market share, confirming that a few key platforms dominate the global sales.\n",
    "\n",
    "This analysis suggests that while every platform has many games with modest sales, the overall market is driven by a few platforms that have produced multiple blockbuster titles."
   ]
  },
  {
   "cell_type": "markdown",
   "id": "conclusion-markdown",
   "metadata": {},
   "source": [
    "## Conclusion\n",
    "\n",
    "**Key Insights:**\n",
    "\n",
    "- **Global Sales Distribution:** Most video games sell under 1 million copies; a long tail of blockbuster hits drives the skewed distribution.\n",
    "- **Genre Performance:** Mainstream genres (e.g., Shooter and Action) exhibit higher average sales, suggesting these genres are more likely to produce commercially successful titles.\n",
    "- **Platform Variation:** Although each platform has many games with modest sales, a few consoles (such as the Wii and PS2) account for a large share of total sales due to several high-selling titles.\n",
    "\n",
    "These focused visualizations and analyses provide clear, actionable insights into the video game market."
   ]
  }
 ],
 "metadata": {
  "kernelspec": {
   "display_name": "Python 3",
   "language": "python",
   "name": "python3"
  },
  "language_info": {
   "file_extension": ".py",
   "mimetype": "text/x-python",
   "name": "python",
   "version": "3.x"
  }
 },
 "nbformat": 4,
 "nbformat_minor": 5
}
