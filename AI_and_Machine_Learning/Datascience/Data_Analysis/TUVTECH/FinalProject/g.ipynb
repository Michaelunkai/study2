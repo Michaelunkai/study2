{
 "cells": [
  {
   "cell_type": "markdown",
   "id": "intro-markdown",
   "metadata": {},
   "source": [
    "# Video Games Sales Analysis\n",
    "\n",
    "This notebook analyzes the video games sales dataset available on Kaggle. We address three main questions:\n",
    "\n",
    "1. **What is the distribution of Global Sales?**\n",
    "2. **Which Genre has the highest average Global Sales?**\n",
    "3. **How do Sales vary across different Platforms?**\n",
    "\n",
    "Below, we present key tables and graphs along with analysis text that explains the insights from the data."
   ]
  },
  {
   "cell_type": "code",
   "execution_count": null,
   "id": "imports-load",
   "metadata": {},
   "outputs": [],
   "source": [
    "# Import necessary libraries\n",
    "import pandas as pd\n",
    "import numpy as np\n",
    "import matplotlib.pyplot as plt\n",
    "%matplotlib inline\n",
    "\n",
    "import warnings\n",
    "warnings.filterwarnings('ignore')\n",
    "\n",
    "# Define the file path for the attached dataset on Kaggle\n",
    "data_path = \"/kaggle/input/video-games-sales-as-at-22-dec-2016csv/Video_Games_Sales_as_at_22_Dec_2016.csv\"\n",
    "\n",
    "# Load the dataset\n",
    "df = pd.read_csv(data_path, encoding='ISO-8859-1')\n",
    "\n",
    "# Display the first few rows\n",
    "df.head()"
   ]
  },
  {
   "cell_type": "markdown",
   "id": "q1-markdown",
   "metadata": {},
   "source": [
    "## Question 1: What is the Distribution of Global Sales?\n",
    "\n",
    "Understanding the distribution of global sales can reveal whether most games achieve low sales, while a few hit very high sales. The following graphs show:\n",
    "- A histogram of Global Sales to view the frequency distribution.\n",
    "- A density plot to observe the smoothed distribution curve.\n",
    "- A box plot that highlights outliers and the median.\n",
    "\n",
    "### Analysis:\n",
    "- **Histogram:** The histogram typically shows that most games have relatively low global sales, with a long tail indicating a small number of games achieving very high sales.\n",
    "- **Density Plot:** The density plot confirms the skewness in the distribution.\n",
    "- **Box Plot:** Outliers visible in the box plot suggest that there are exceptional games with very high sales, which might be worth further investigation."
   ]
  },
  {
   "cell_type": "code",
   "execution_count": null,
   "id": "q1-histogram",
   "metadata": {},
   "outputs": [],
   "source": [
    "# Histogram of Global Sales\n",
    "if 'Global_Sales' in df.columns:\n",
    "    plt.figure(figsize=(10, 6))\n",
    "    plt.hist(df['Global_Sales'].dropna(), bins=30, edgecolor='k')\n",
    "    plt.title('Histogram of Global Sales')\n",
    "    plt.xlabel('Global Sales (in millions)')\n",
    "    plt.ylabel('Frequency')\n",
    "    plt.show()\n",
    "else:\n",
    "    print(\"Column 'Global_Sales' not found.\")"
   ]
  },
  {
   "cell_type": "code",
   "execution_count": null,
   "id": "q1-density",
   "metadata": {},
   "outputs": [],
   "source": [
    "# Density Plot of Global Sales\n",
    "if 'Global_Sales' in df.columns:\n",
    "    plt.figure(figsize=(10, 6))\n",
    "    df['Global_Sales'].dropna().plot(kind='density')\n",
    "    plt.title('Density Plot of Global Sales')\n",
    "    plt.xlabel('Global Sales (in millions)')\n",
    "    plt.show()\n",
    "else:\n",
    "    print(\"Column 'Global_Sales' not found.\")"
   ]
  },
  {
   "cell_type": "code",
   "execution_count": null,
   "id": "q1-boxplot",
   "metadata": {},
   "outputs": [],
   "source": [
    "# Box Plot of Global Sales\n",
    "if 'Global_Sales' in df.columns:\n",
    "    plt.figure(figsize=(6, 8))\n",
    "    plt.boxplot(df['Global_Sales'].dropna(), vert=True, patch_artist=True)\n",
    "    plt.title('Box Plot of Global Sales')\n",
    "    plt.ylabel('Global Sales (in millions)')\n",
    "    plt.show()\n",
    "else:\n",
    "    print(\"Column 'Global_Sales' not found.\")"
   ]
  },
  {
   "cell_type": "markdown",
   "id": "q2-markdown",
   "metadata": {},
   "source": [
    "## Question 2: Which Genre Has the Highest Average Global Sales?\n",
    "\n",
    "We analyze the average global sales for each genre to identify which types of games tend to sell more on average. The following outputs are provided:\n",
    "- A table listing the average global sales per genre.\n",
    "- A horizontal bar chart visualizing the top 5 genres by average global sales.\n",
    "- A pie chart showing the share of total global sales for the top 5 genres.\n",
    "\n",
    "### Analysis:\n",
    "- **Table:** The table ranks genres by average global sales, indicating which genres perform best on average.\n",
    "- **Bar Chart:** The bar chart visually emphasizes the leading genres, making it easy to compare them.\n",
    "- **Pie Chart:** The pie chart shows the proportion of total sales contributed by the top genres, highlighting market dominance."
   ]
  },
  {
   "cell_type": "code",
   "execution_count": null,
   "id": "q2-table",
   "metadata": {},
   "outputs": [],
   "source": [
    "# Table of Average Global Sales by Genre\n",
    "if 'Genre' in df.columns and 'Global_Sales' in df.columns:\n",
    "    genre_avg_sales = df.groupby('Genre')['Global_Sales'].mean()\n",
    "    genre_table = genre_avg_sales.sort_values(ascending=False).to_frame(name='Average Global Sales')\n",
    "    print(genre_table.head(10))\n",
    "else:\n",
    "    print(\"Required columns not found.\")"
   ]
  },
  {
   "cell_type": "code",
   "execution_count": null,
   "id": "q2-barplot",
   "metadata": {},
   "outputs": [],
   "source": [
    "# Horizontal Bar Chart for Top 5 Genres by Average Global Sales\n",
    "if 'Genre' in df.columns and 'Global_Sales' in df.columns:\n",
    "    top_genres = genre_avg_sales.sort_values(ascending=False).head(5)\n",
    "    plt.figure(figsize=(10, 6))\n",
    "    top_genres.sort_values().plot(kind='barh')\n",
    "    plt.title('Top 5 Genres by Average Global Sales')\n",
    "    plt.xlabel('Average Global Sales (in millions)')\n",
    "    plt.ylabel('Genre')\n",
    "    plt.show()\n",
    "else:\n",
    "    print(\"Required columns not found.\")"
   ]
  },
  {
   "cell_type": "code",
   "execution_count": null,
   "id": "q2-pie",
   "metadata": {},
   "outputs": [],
   "source": [
    "# Pie Chart Showing Share of Total Global Sales for Top 5 Genres\n",
    "if 'Genre' in df.columns and 'Global_Sales' in df.columns:\n",
    "    genre_total = df.groupby('Genre')['Global_Sales'].sum()\n",
    "    top5_total = genre_total.sort_values(ascending=False).head(5)\n",
    "    plt.figure(figsize=(8,8))\n",
    "    top5_total.plot(kind='pie', autopct='%1.1f%%', startangle=140)\n",
    "    plt.title('Share of Total Global Sales by Top 5 Genres')\n",
    "    plt.ylabel('')\n",
    "    plt.show()\n",
    "else:\n",
    "    print(\"Required columns not found.\")"
   ]
  },
  {
   "cell_type": "markdown",
   "id": "q3-markdown",
   "metadata": {},
   "source": [
    "## Question 3: How Do Sales Vary Across Different Platforms?\n",
    "\n",
    "We compare global sales across different platforms to identify where sales are most concentrated. The following outputs are provided:\n",
    "- A table listing the total global sales per platform.\n",
    "- A horizontal bar chart showing total sales by platform.\n",
    "- A pie chart that illustrates the percentage share of total global sales by platform.\n",
    "\n",
    "### Analysis:\n",
    "- **Table:** The table ranks platforms by total global sales, highlighting the most lucrative platforms.\n",
    "- **Bar Chart:** The bar chart visually displays the differences in sales among platforms.\n",
    "- **Pie Chart:** The pie chart provides a clear view of the distribution of sales percentages across platforms."
   ]
  },
  {
   "cell_type": "code",
   "execution_count": null,
   "id": "q3-table",
   "metadata": {},
   "outputs": [],
   "source": [
    "# Table of Total Global Sales by Platform\n",
    "if 'Platform' in df.columns and 'Global_Sales' in df.columns:\n",
    "    platform_sales = df.groupby('Platform')['Global_Sales'].sum()\n",
    "    platform_table = platform_sales.sort_values(ascending=False).to_frame(name='Total Global Sales')\n",
    "    print(platform_table.head(10))\n",
    "else:\n",
    "    print(\"Required columns not found.\")"
   ]
  },
  {
   "cell_type": "code",
   "execution_count": null,
   "id": "q3-barplot",
   "metadata": {},
   "outputs": [],
   "source": [
    "# Horizontal Bar Chart for Total Global Sales by Platform\n",
    "if 'Platform' in df.columns and 'Global_Sales' in df.columns:\n",
    "    plt.figure(figsize=(10, 6))\n",
    "    platform_sales.sort_values().plot(kind='barh')\n",
    "    plt.title('Total Global Sales by Platform')\n",
    "    plt.xlabel('Total Global Sales (in millions)')\n",
    "    plt.ylabel('Platform')\n",
    "    plt.show()\n",
    "else:\n",
    "    print(\"Required columns not found.\")"
   ]
  },
  {
   "cell_type": "code",
   "execution_count": null,
   "id": "q3-pie",
   "metadata": {},
   "outputs": [],
   "source": [
    "# Pie Chart Showing Share of Total Global Sales by Platform\n",
    "if 'Platform' in df.columns and 'Global_Sales' in df.columns:\n",
    "    total_sales = df.groupby('Platform')['Global_Sales'].sum()\n",
    "    plt.figure(figsize=(8,8))\n",
    "    total_sales.plot(kind='pie', autopct='%1.1f%%', startangle=140)\n",
    "    plt.title('Share of Total Global Sales by Platform')\n",
    "    plt.ylabel('')\n",
    "    plt.show()\n",
    "else:\n",
    "    print(\"Required columns not found.\")"
   ]
  },
  {
   "cell_type": "markdown",
   "id": "conclusion-markdown",
   "metadata": {},
   "source": [
    "## Conclusion\n",
    "\n",
    "### Question 1 - Distribution of Global Sales:\n",
    "- The histogram and density plot show that the majority of games have low sales, while a few games achieve very high global sales.\n",
    "- The box plot highlights outliers that indicate exceptional success in the market.\n",
    "\n",
    "### Question 2 - Top Genre by Average Global Sales:\n",
    "- The analysis indicates that certain genres (for example, Action or Shooter) tend to have higher average sales.\n",
    "- This insight may help developers and investors identify profitable game genres.\n",
    "\n",
    "### Question 3 - Sales by Platform:\n",
    "- The total sales table and bar chart reveal which platforms dominate in terms of sales volume.\n",
    "- The pie chart clearly shows the percentage contribution of each platform, illustrating market preferences.\n",
    "\n",
    "Overall, these findings provide valuable insights into the video game market, helping stakeholders identify trends and potential opportunities."
   ]
  }
 ],
 "metadata": {
  "kernelspec": {
   "display_name": "Python 3",
   "language": "python",
   "name": "python3"
  },
  "language_info": {
   "file_extension": ".py",
   "mimetype": "text/x-python",
   "name": "python",
   "version": "3.x"
  }
 },
 "nbformat": 4,
 "nbformat_minor": 5
}

