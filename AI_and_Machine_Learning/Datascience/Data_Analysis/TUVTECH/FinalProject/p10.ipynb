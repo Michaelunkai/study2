{
 "cells": [
  {
   "cell_type": "markdown",
   "id": "title",
   "metadata": {},
   "source": [
    "# Video Games Sales Analysis"
   ]
  },
  {
   "cell_type": "markdown",
   "id": "main-goal",
   "metadata": {},
   "source": [
    "## Main Goal: Understanding Video Game Sales Trends\n",
    "\n",
    "### Target Audience: Real Estate Investor (Adapted for our Analysis)\n",
    "\n",
    "Although this analysis is tailored for a different domain, our main objective here is to determine key trends in video game sales. Our goals are:\n",
    "\n",
    "1. **Distribution Analysis:** Determine the typical sales range for video games.\n",
    "2. **Genre Analysis:** Identify which game genres achieve the highest average global sales.\n",
    "3. **Platform Analysis:** Understand how global sales vary across different gaming platforms.\n",
    "\n",
    "By carefully cleaning the data and focusing on relevant ranges, we aim to provide insights that help stakeholders (e.g., developers and publishers) make data-driven decisions."
   ]
  },
  {
   "cell_type": "markdown",
   "id": "data-exploration",
   "metadata": {},
   "source": [
    "## Data Exploration\n",
    "\n",
    "We start by loading the dataset and exploring its structure. This includes viewing the first 10 rows and basic dataset information."
   ]
  },
  {
   "cell_type": "code",
   "id": "load-data",
   "metadata": {},
   "execution_count": null,
   "source": [
    "# Import necessary libraries\n",
    "import pandas as pd\n",
    "import numpy as np\n",
    "import matplotlib.pyplot as plt\n",
    "import seaborn as sns\n",
    "\n",
    "%matplotlib inline\n",
    "sns.set_style('whitegrid')\n",
    "\n",
    "import warnings\n",
    "warnings.filterwarnings('ignore')\n",
    "\n",
    "# Load the dataset from Kaggle attached data\n",
    "data_path = \"/kaggle/input/video-games-sales-as-at-22-dec-2016csv/Video_Games_Sales_as_at_22_Dec_2016.csv\"\n",
    "df = pd.read_csv(data_path, encoding='ISO-8859-1')\n",
    "\n",
    "print(f\"Dataset contains {df.shape[0]} games and {df.shape[1]} features.\")\n",
    "df.head(10)"
   ],
   "outputs": []
  },
  {
   "cell_type": "markdown",
   "id": "data-cleaning",
   "metadata": {},
   "source": [
    "## Data Observation and Cleaning\n",
    "\n",
    "Let's inspect the DataFrame’s structure, data types, and missing values. We focus on key columns required for our analysis: `Global_Sales`, `Genre`, and `Platform`."
   ]
  },
  {
   "cell_type": "code",
   "id": "data-info",
   "metadata": {},
   "execution_count": null,
   "source": [
    "# Check data info and missing values\n",
    "df.info()\n",
    "\n",
    "missing = df.isnull().sum()\n",
    "print(\"Missing values per column:\")\n",
    "print(missing[missing > 0])"
   ],
   "outputs": []
  },
  {
   "cell_type": "code",
   "id": "filter-data",
   "metadata": {},
   "execution_count": null,
   "source": [
    "# Focus on key columns and drop rows with missing values in those columns\n",
    "key_cols = ['Global_Sales', 'Genre', 'Platform']\n",
    "for col in key_cols:\n",
    "    print(f\"{col} missing: {df[col].isnull().sum()}\")\n",
    "\n",
    "df_clean = df.dropna(subset=key_cols)\n",
    "print(f\"After dropping rows with missing key values, dataset has {df_clean.shape[0]} rows.\")"
   ],
   "outputs": []
  },
  {
   "cell_type": "markdown",
   "id": "initial-stats",
   "metadata": {},
   "source": [
    "## Initial Statistics on the Data\n",
    "\n",
    "We now compute summary statistics to understand the numerical distribution of the data."
   ]
  },
  {
   "cell_type": "code",
   "id": "describe-data",
   "metadata": {},
   "execution_count": null,
   "source": [
    "df_clean.describe()"
   ],
   "outputs": []
  },
  {
   "cell_type": "markdown",
   "id": "analysis-insights",
   "metadata": {},
   "source": [
    "## Data Analysis & Insights\n",
    "\n",
    "We now delve into our main questions with focused analyses and visualizations."
   ]
  },
  {
   "cell_type": "markdown",
   "id": "q1-section",
   "metadata": {},
   "source": [
    "### Question 1: What is the Distribution of Global Sales?\n",
    "\n",
    "Global sales are highly right-skewed. In order to see where most games lie, we zoom in on the range of 0–5 million units. We then visualize the distribution using three plots:\n",
    "\n",
    "- **Histogram:** Frequency of games within the specified range.\n",
    "- **Density Plot:** Smoothed estimation of the distribution.\n",
    "- **Box Plot:** Highlights the median and identifies outliers (blockbusters)."
   ]
  },
  {
   "cell_type": "code",
   "id": "q1-histogram",
   "metadata": {},
   "execution_count": null,
   "source": [
    "# Histogram of Global Sales (0-5 million units)\n",
    "if 'Global_Sales' in df_clean.columns:\n",
    "    common_sales = df_clean[df_clean['Global_Sales'] <= 5]['Global_Sales']\n",
    "    plt.figure(figsize=(8,5))\n",
    "    plt.hist(common_sales, bins=50, color='skyblue', edgecolor='black')\n",
    "    plt.title('Distribution of Global Sales (0-5 million units)')\n",
    "    plt.xlabel('Global Sales (million units)')\n",
    "    plt.ylabel('Number of Games')\n",
    "    plt.xlim(0,5)\n",
    "    plt.show()\n",
    "else:\n",
    "    print(\"Global_Sales column not found.\")"
   ],
   "outputs": []
  },
  {
   "cell_type": "code",
   "id": "q1-density",
   "metadata": {},
   "execution_count": null,
   "source": [
    "# Density Plot of Global Sales (0-5 million units)\n",
    "if 'Global_Sales' in df_clean.columns:\n",
    "    plt.figure(figsize=(8,5))\n",
    "    df_clean['Global_Sales'].dropna().plot(kind='density', color='purple')\n",
    "    plt.title('Density Plot of Global Sales')\n",
    "    plt.xlabel('Global Sales (million units)')\n",
    "    plt.xlim(0,5)\n",
    "    plt.show()\n",
    "else:\n",
    "    print(\"Global_Sales column not found.\")"
   ],
   "outputs": []
  },
  {
   "cell_type": "code",
   "id": "q1-boxplot",
   "metadata": {},
   "execution_count": null,
   "source": [
    "# Box Plot of Global Sales (y-axis limited to 0-5 million)\n",
    "if 'Global_Sales' in df_clean.columns:\n",
    "    plt.figure(figsize=(6,8))\n",
    "    plt.boxplot(df_clean['Global_Sales'].dropna(), vert=True, patch_artist=True)\n",
    "    plt.title('Box Plot of Global Sales')\n",
    "    plt.ylabel('Global Sales (million units)')\n",
    "    plt.ylim(0,5)\n",
    "    plt.show()\n",
    "else:\n",
    "    print(\"Global_Sales column not found.\")"
   ],
   "outputs": []
  },
  {
   "cell_type": "markdown",
   "id": "q1-insights",
   "metadata": {},
   "source": [
    "**Insights from Question 1:**\n",
    "\n",
    "- The histogram shows that most games sell under 1 million copies.\n",
    "- The density plot confirms a heavy right-skew in the data.\n",
    "- The box plot reveals a long-tail distribution with a few outliers (blockbusters) that are not displayed in this focused view.\n",
    "\n",
    "Thus, the video game market is characterized by a multitude of low-selling titles with a few exceptionally high-selling blockbusters."
   ]
  },
  {
   "cell_type": "markdown",
   "id": "q2-section",
   "metadata": {},
   "source": [
    "### Question 2: Which Genre Has the Highest Average Global Sales?\n",
    "\n",
    "Next, we analyze game genres to determine which types of games, on average, sell the most copies globally. We use a table, a horizontal bar chart, and a pie chart to visualize the findings."
   ]
  },
  {
   "cell_type": "code",
   "id": "q2-table",
   "metadata": {},
   "execution_count": null,
   "source": [
    "# Table of Average Global Sales by Genre\n",
    "if 'Genre' in df_clean.columns and 'Global_Sales' in df_clean.columns:\n",
    "    genre_avg = df_clean.groupby('Genre')['Global_Sales'].mean()\n",
    "    genre_table = genre_avg.sort_values(ascending=False).to_frame(name='Average Global Sales')\n",
    "    print(\"Top 10 Genres by Average Global Sales:\")\n",
    "    display(genre_table.head(10))\n",
    "else:\n",
    "    print(\"Required columns not found.\")"
   ],
   "outputs": []
  },
  {
   "cell_type": "code",
   "id": "q2-barplot",
   "metadata": {},
   "execution_count": null,
   "source": [
    "# Horizontal Bar Chart for Top 5 Genres by Average Global Sales\n",
    "if 'Genre' in df_clean.columns and 'Global_Sales' in df_clean.columns:\n",
    "    top_genres = genre_avg.sort_values(ascending=False).head(5)\n",
    "    plt.figure(figsize=(8,5))\n",
    "    top_genres.sort_values().plot(kind='barh', color='mediumseagreen')\n",
    "    plt.title('Top 5 Genres by Average Global Sales')\n",
    "    plt.xlabel('Average Global Sales (million units)')\n",
    "    plt.xlim(0, top_genres.max()*1.1)\n",
    "    plt.show()\n",
    "else:\n",
    "    print(\"Required columns not found.\")"
   ],
   "outputs": []
  },
  {
   "cell_type": "code",
   "id": "q2-pie",
   "metadata": {},
   "execution_count": null,
   "source": [
    "# Pie Chart Showing Market Share of Total Global Sales by Top 5 Genres\n",
    "if 'Genre' in df_clean.columns and 'Global_Sales' in df_clean.columns:\n",
    "    genre_total = df_clean.groupby('Genre')['Global_Sales'].sum()\n",
    "    top5_total = genre_total.sort_values(ascending=False).head(5)\n",
    "    plt.figure(figsize=(8,8))\n",
    "    top5_total.plot(kind='pie', autopct='%1.1f%%', startangle=140, colors=sns.color_palette('pastel'))\n",
    "    plt.title('Market Share of Total Global Sales by Top 5 Genres')\n",
    "    plt.ylabel('')\n",
    "    plt.show()\n",
    "else:\n",
    "    print(\"Required columns not found.\")"
   ],
   "outputs": []
  },
  {
   "cell_type": "markdown",
   "id": "q2-insights",
   "metadata": {},
   "source": [
    "**Insights from Question 2:**\n",
    "\n",
    "- The table shows that genres such as **Shooter** and **Action** have the highest average sales.\n",
    "- The bar chart clearly distinguishes the top 5 genres, emphasizing their superior performance.\n",
    "- The pie chart demonstrates that a small number of genres hold a large share of total sales.\n",
    "\n",
    "This analysis suggests that mainstream, high-budget genres dominate global sales."
   ]
  },
  {
   "cell_type": "markdown",
   "id": "q3-section",
   "metadata": {},
   "source": [
    "### Question 3: How Do Sales Vary Across Different Platforms?\n",
    "\n",
    "Finally, we examine how global sales differ by gaming platform. We use a table, a horizontal bar chart, and a pie chart to show the distribution and market share of total sales by platform."
   ]
  },
  {
   "cell_type": "code",
   "id": "q3-table",
   "metadata": {},
   "execution_count": null,
   "source": [
    "# Table of Total Global Sales by Platform\n",
    "if 'Platform' in df_clean.columns and 'Global_Sales' in df_clean.columns:\n",
    "    platform_sales = df_clean.groupby('Platform')['Global_Sales'].sum()\n",
    "    platform_table = platform_sales.sort_values(ascending=False).to_frame(name='Total Global Sales')\n",
    "    print(\"Top Platforms by Total Global Sales:\")\n",
    "    display(platform_table.head(10))\n",
    "else:\n",
    "    print(\"Required columns not found.\")"
   ],
   "outputs": []
  },
  {
   "cell_type": "code",
   "id": "q3-barplot",
   "metadata": {},
   "execution_count": null,
   "source": [
    "# Horizontal Bar Chart for Total Global Sales by Platform\n",
    "if 'Platform' in df_clean.columns and 'Global_Sales' in df_clean.columns:\n",
    "    plt.figure(figsize=(8,5))\n",
    "    platform_sales.sort_values().plot(kind='barh', color='slateblue')\n",
    "    plt.title('Total Global Sales by Platform')\n",
    "    plt.xlabel('Total Global Sales (million units)')\n",
    "    plt.xlim(0, platform_sales.max()*1.1)\n",
    "    plt.ylabel('Platform')\n",
    "    plt.show()\n",
    "else:\n",
    "    print(\"Required columns not found.\")"
   ],
   "outputs": []
  },
  {
   "cell_type": "code",
   "id": "q3-pie",
   "metadata": {},
   "execution_count": null,
   "source": [
    "# Pie Chart Showing Market Share of Total Global Sales by Platform\n",
    "if 'Platform' in df_clean.columns and 'Global_Sales' in df_clean.columns:\n",
    "    plt.figure(figsize=(8,8))\n",
    "    platform_sales.plot(kind='pie', autopct='%1.1f%%', startangle=140, colors=sns.color_palette('pastel'))\n",
    "    plt.title('Market Share of Total Global Sales by Platform')\n",
    "    plt.ylabel('')\n",
    "    plt.show()\n",
    "else:\n",
    "    print(\"Required columns not found.\")"
   ],
   "outputs": []
  },
  {
   "cell_type": "markdown",
   "id": "q3-insights",
   "metadata": {},
   "source": [
    "**Insights from Question 3:**\n",
    "\n",
    "- A few platforms (e.g., PS2, Wii) dominate in total global sales.\n",
    "- The bar chart shows substantial differences between platforms.\n",
    "- The pie chart clearly depicts the market share, indicating that only a handful of consoles account for most of the sales.\n",
    "\n",
    "This suggests that while many platforms host many games with modest sales, a few key consoles are responsible for the bulk of global sales due to blockbuster titles."
   ]
  },
  {
   "cell_type": "markdown",
   "id": "conclusion",
   "metadata": {},
   "source": [
    "## Data Analysis and Conclusion\n",
    "\n",
    "**Summary of Key Findings:**\n",
    "\n",
    "- **Global Sales Distribution:** Most video games sell under 1 million copies; a few blockbusters skew the distribution.\n",
    "- **Genre Performance:** Mainstream genres (especially Shooter and Action) achieve the highest average global sales.\n",
    "- **Platform Variability:** A few platforms (e.g., PS2, Wii) dominate total global sales despite many games selling modestly on every platform.\n",
    "\n",
    "These insights provide a clear picture of the video game market, highlighting the long-tail nature of sales and the dominance of certain genres and platforms. Such findings can assist developers, publishers, and investors in making informed, data-driven decisions."
   ]
  }
 ],
 "metadata": {
  "kernelspec": {
   "display_name": "Python 3",
   "language": "python",
   "name": "python3"
  },
  "language_info": {
   "file_extension": ".py",
   "mimetype": "text/x-python",
   "name": "python",
   "version": "3.10.12"
  },
  "kaggle": {
    "accelerator": "gpu",
    "dataSources": [
      {
        "datasetId": "4269029",
        "sourceId": "7351086",
        "sourceType": "datasetVersion"
      }
    ],
    "dockerImageVersionId": 30636,
    "isGpuEnabled": true,
    "isInternetEnabled": true,
    "language": "python",
    "sourceType": "notebook"
  }
 },
 "nbformat": 4,
 "nbformat_minor": 4
}
