{
 "cells": [
  {
   "cell_type": "markdown",
   "id": "title",
   "metadata": {},
   "source": [
    "# Video Games Sales Analysis"
   ]
  },
  {
   "cell_type": "markdown",
   "id": "introduction",
   "metadata": {},
   "source": [
    "## Introduction\n",
    "\n",
    "This notebook analyzes the **'Video Games Sales as at 22 Dec 2016'** dataset from Kaggle. Our goal is to extract insights on three key aspects:\n",
    "\n",
    "1. **Distribution of Global Sales** – How many copies do most games sell?\n",
    "2. **Genre Analysis** – Which game genres typically achieve the highest average sales?\n",
    "3. **Platform Analysis** – How do sales vary across different gaming platforms?\n",
    "\n",
    "The notebook is organized into clear sections so that anyone can follow the complete workflow—from data inspection and cleaning to detailed analysis and final conclusions."
   ]
  },
  {
   "cell_type": "markdown",
   "id": "main-goal",
   "metadata": {},
   "source": [
    "## Main Goal and Analysis Steps\n",
    "\n",
    "### Main Goal\n",
    "\n",
    "- **Understand the distribution of video game sales.**\n",
    "- **Identify which game genres achieve higher average sales.**\n",
    "- **Examine how sales vary across gaming platforms.**\n",
    "\n",
    "### Analysis Steps\n",
    "\n",
    "1. **Data Exploration:** Load and preview the dataset to understand its structure.\n",
    "2. **Data Inspection and Cleaning:** Check data types, missing values, and duplicates; then filter out rows with missing values in key columns.\n",
    "3. **Initial Statistics:** Compute descriptive statistics to summarize numerical features.\n",
    "4. **Question 1 – Global Sales Distribution:** Visualize sales distribution using a standard histogram, a log-scale histogram, a density plot, and a box plot.\n",
    "5. **Question 2 – Genre Analysis:** Analyze average and median global sales by genre and visualize using tables, horizontal bar charts, and pie charts.\n",
    "6. **Question 3 – Platform Analysis:** Compare total global sales by platform using tables, horizontal bar charts, and pie charts.\n",
    "7. **Conclusion:** Summarize the key findings and insights.\n",
    "\n",
    "This notebook clearly documents every step—from data inspection and cleaning to the final analysis—ensuring full transparency and ease of review."
   ]
  },
  {
   "cell_type": "markdown",
   "id": "data-exploration",
   "metadata": {},
   "source": [
    "## Data Exploration\n",
    "\n",
    "We begin by loading the dataset and taking an initial look at its structure. The first 10 rows are displayed for a quick overview."
   ]
  },
  {
   "cell_type": "code",
   "id": "load-data",
   "metadata": {},
   "execution_count": null,
   "source": [
    "# Import necessary libraries\n",
    "import pandas as pd\n",
    "import numpy as np\n",
    "import matplotlib.pyplot as plt\n",
    "import seaborn as sns\n",
    "\n",
    "%matplotlib inline\n",
    "sns.set_style('whitegrid')\n",
    "\n",
    "import warnings\n",
    "warnings.filterwarnings('ignore')\n",
    "\n",
    "# Load dataset from Kaggle attached data\n",
    "data_path = \"/kaggle/input/video-games-sales-as-at-22-dec-2016csv/Video_Games_Sales_as_at_22_Dec_2016.csv\"\n",
    "df = pd.read_csv(data_path, encoding='ISO-8859-1')\n",
    "\n",
    "print(f\"Dataset contains {df.shape[0]} games and {df.shape[1]} features.\")\n",
    "df.head(10)"
   ],
   "outputs": []
  },
  {
   "cell_type": "markdown",
   "id": "data-inspection-cleaning",
   "metadata": {},
   "source": [
    "## Data Inspection and Cleaning\n",
    "\n",
    "This section provides a detailed inspection of the dataset and cleans the data for analysis.\n",
    "\n",
    "### Steps in this Section:\n",
    "\n",
    "1. **Data Structure:** Check data types and overall structure with `df.info()`.\n",
    "2. **Missing Values:** Identify missing values across columns and print counts.\n",
    "3. **Duplicates:** Check for any duplicate rows.\n",
    "4. **Filtering:** Drop rows with missing values in the key columns: `Global_Sales`, `Genre`, and `Platform`.\n",
    "\n",
    "This section ensures that our analysis is based on a clean and reliable dataset."
   ]
  },
  {
   "cell_type": "code",
   "id": "inspect-data",
   "metadata": {},
   "execution_count": null,
   "source": [
    "# Check data structure\n",
    "df.info()\n",
    "\n",
    "# Check for missing values\n",
    "missing = df.isnull().sum()\n",
    "print(\"Missing values per column:\")\n",
    "print(missing[missing > 0])"
   ],
   "outputs": []
  },
  {
   "cell_type": "code",
   "id": "check-duplicates",
   "metadata": {},
   "execution_count": null,
   "source": [
    "# Check for duplicate rows\n",
    "duplicates = df.duplicated().sum()\n",
    "print(f\"Number of duplicate rows: {duplicates}\")"
   ],
   "outputs": []
  },
  {
   "cell_type": "code",
   "id": "filter-missing",
   "metadata": {},
   "execution_count": null,
   "source": [
    "# Focus on key columns and drop rows with missing values\n",
    "key_cols = ['Global_Sales', 'Genre', 'Platform']\n",
    "for col in key_cols:\n",
    "    print(f\"{col} missing: {df[col].isnull().sum()}\")\n",
    "\n",
    "df_clean = df.dropna(subset=key_cols)\n",
    "print(f\"After dropping rows with missing key values, dataset has {df_clean.shape[0]} rows.\")"
   ],
   "outputs": []
  },
  {
   "cell_type": "markdown",
   "id": "initial-stats-section",
   "metadata": {},
   "source": [
    "## Initial Statistics on the Data\n",
    "\n",
    "We compute descriptive statistics to summarize the numerical columns in the dataset."
   ]
  },
  {
   "cell_type": "code",
   "id": "describe-data",
   "metadata": {},
   "execution_count": null,
   "source": [
    "df_clean.describe()"
   ],
   "outputs": []
  },
  {
   "cell_type": "markdown",
   "id": "analysis-steps",
   "metadata": {},
   "source": [
    "## Analysis Steps and Insights\n",
    "\n",
    "Below, we detail the analysis steps taken to answer our three main questions. Each question is addressed in its own section with targeted visualizations and detailed insights.\n",
    "\n",
    "1. **Question 1:** Analyze the distribution of global sales using histograms (with standard and log scales), density plots, and box plots.\n",
    "2. **Question 2:** Compare average (and median) global sales by game genre using tables, bar charts, and pie charts.\n",
    "3. **Question 3:** Examine global sales across gaming platforms with tables, horizontal bar charts, and pie charts.\n",
    "\n",
    "These steps ensure a clear and thorough analysis of the data."
   ]
  },
  {
   "cell_type": "markdown",
   "id": "q1-analysis-section",
   "metadata": {},
   "source": [
    "### Question 1: Distribution of Global Sales\n",
    "\n",
    "Global sales data is highly right-skewed. We first focus on the most common range (0–5 million units) and then present a secondary view using a log scale to capture the full spectrum, including outliers."
   ]
  },
  {
   "cell_type": "code",
   "id": "q1-histogram-plot",
   "metadata": {},
   "execution_count": null,
   "source": [
    "# Histogram for Global Sales in the 0-5 million range\n",
    "if 'Global_Sales' in df_clean.columns:\n",
    "    common_sales = df_clean[df_clean['Global_Sales'] <= 5]['Global_Sales']\n",
    "    plt.figure(figsize=(8,5))\n",
    "    plt.hist(common_sales, bins=50, color='skyblue', edgecolor='black')\n",
    "    plt.title('Distribution of Global Sales (0-5 million units)')\n",
    "    plt.xlabel('Global Sales (million units)')\n",
    "    plt.ylabel('Number of Games')\n",
    "    plt.xlim(0,5)\n",
    "    plt.show()\n",
    "else:\n",
    "    print(\"Global_Sales column not found.\")"
   ],
   "outputs": []
  },
  {
   "cell_type": "code",
   "id": "q1-log-histogram-plot",
   "metadata": {},
   "execution_count": null,
   "source": [
    "# Log-scale histogram to capture full sales range\n",
    "if 'Global_Sales' in df_clean.columns:\n",
    "    plt.figure(figsize=(8,5))\n",
    "    plt.hist(df_clean['Global_Sales'].dropna(), bins=50, color='lightcoral', edgecolor='black')\n",
    "    plt.yscale('log')\n",
    "    plt.title('Global Sales Distribution (Log Scale)')\n",
    "    plt.xlabel('Global Sales (million units)')\n",
    "    plt.ylabel('Frequency (log scale)')\n",
    "    plt.show()\n",
    "else:\n",
    "    print(\"Global_Sales column not found.\")"
   ],
   "outputs": []
  },
  {
   "cell_type": "code",
   "id": "q1-density-box-plot",
   "metadata": {},
   "execution_count": null,
   "source": [
    "# Density Plot and Box Plot for Global Sales (0-5M)\n",
    "if 'Global_Sales' in df_clean.columns:\n",
    "    plt.figure(figsize=(8,5))\n",
    "    df_clean['Global_Sales'].dropna().plot(kind='density', color='purple')\n",
    "    plt.title('Density Plot of Global Sales')\n",
    "    plt.xlabel('Global Sales (million units)')\n",
    "    plt.xlim(0,5)\n",
    "    plt.show()\n",
    "\n",
    "    plt.figure(figsize=(6,8))\n",
    "    plt.boxplot(df_clean['Global_Sales'].dropna(), vert=True, patch_artist=True)\n",
    "    plt.title('Box Plot of Global Sales')\n",
    "    plt.ylabel('Global Sales (million units)')\n",
    "    plt.ylim(0,5)\n",
    "    plt.show()\n",
    "else:\n",
    "    print(\"Global_Sales column not found.\")"
   ],
   "outputs": []
  },
  {
   "cell_type": "markdown",
   "id": "q1-additional-insights",
   "metadata": {},
   "source": [
    "**Insights for Question 1:**\n",
    "\n",
    "- The standard histogram and density plot reveal that most games sell below 1 million copies.\n",
    "- The log-scale histogram highlights a few outliers, confirming the long-tail distribution.\n",
    "- The box plot (focused on 0–5 million) clearly shows that the bulk of games have modest sales while blockbusters exist as extreme outliers."
   ]
  },
  {
   "cell_type": "markdown",
   "id": "q2-analysis-section",
   "metadata": {},
   "source": [
    "### Question 2: Genre Analysis\n",
    "\n",
    "Next, we compare game genres by average global sales. We provide a table of average sales, a horizontal bar chart for the top 5 genres, and a pie chart showing their market share. An additional bar chart for median sales is included for further insight."
   ]
  },
  {
   "cell_type": "code",
   "id": "q2-table-plot",
   "metadata": {},
   "execution_count": null,
   "source": [
    "# Table of Average Global Sales by Genre\n",
    "if 'Genre' in df_clean.columns and 'Global_Sales' in df_clean.columns:\n",
    "    genre_avg = df_clean.groupby('Genre')['Global_Sales'].mean()\n",
    "    genre_table = genre_avg.sort_values(ascending=False).to_frame(name='Average Global Sales')\n",
    "    print(\"Top 10 Genres by Average Global Sales:\")\n",
    "    display(genre_table.head(10))\n",
    "else:\n",
    "    print(\"Required columns not found.\")"
   ],
   "outputs": []
  },
  {
   "cell_type": "code",
   "id": "q2-bar-chart",
   "metadata": {},
   "execution_count": null,
   "source": [
    "# Horizontal Bar Chart for Top 5 Genres by Average Global Sales\n",
    "if 'Genre' in df_clean.columns and 'Global_Sales' in df_clean.columns:\n",
    "    top_genres = genre_avg.sort_values(ascending=False).head(5)\n",
    "    plt.figure(figsize=(8,5))\n",
    "    top_genres.sort_values().plot(kind='barh', color='mediumseagreen')\n",
    "    plt.title('Top 5 Genres by Average Global Sales')\n",
    "    plt.xlabel('Average Global Sales (million units)')\n",
    "    plt.xlim(0, top_genres.max()*1.1)\n",
    "    plt.show()\n",
    "else:\n",
    "    print(\"Required columns not found.\")"
   ],
   "outputs": []
  },
  {
   "cell_type": "code",
   "id": "q2-median-chart",
   "metadata": {},
   "execution_count": null,
   "source": [
    "# Additional: Bar Chart for Median Global Sales by Genre\n",
    "if 'Genre' in df_clean.columns and 'Global_Sales' in df_clean.columns:\n",
    "    genre_median = df_clean.groupby('Genre')['Global_Sales'].median()\n",
    "    plt.figure(figsize=(8,5))\n",
    "    genre_median.sort_values().plot(kind='barh', color='teal')\n",
    "    plt.title('Median Global Sales by Genre')\n",
    "    plt.xlabel('Median Global Sales (million units)')\n",
    "    plt.xlim(0, genre_median.max()*1.1)\n",
    "    plt.show()\n",
    "else:\n",
    "    print(\"Required columns not found.\")"
   ],
   "outputs": []
  },
  {
   "cell_type": "code",
   "id": "q2-pie-chart",
   "metadata": {},
   "execution_count": null,
   "source": [
    "# Pie Chart for Market Share of Total Global Sales by Top 5 Genres\n",
    "if 'Genre' in df_clean.columns and 'Global_Sales' in df_clean.columns:\n",
    "    genre_total = df_clean.groupby('Genre')['Global_Sales'].sum()\n",
    "    top5_total = genre_total.sort_values(ascending=False).head(5)\n",
    "    plt.figure(figsize=(8,8))\n",
    "    top5_total.plot(kind='pie', autopct='%1.1f%%', startangle=140, colors=sns.color_palette('pastel'))\n",
    "    plt.title('Market Share of Total Global Sales by Top 5 Genres')\n",
    "    plt.ylabel('')\n",
    "    plt.show()\n",
    "else:\n",
    "    print(\"Required columns not found.\")"
   ],
   "outputs": []
  },
  {
   "cell_type": "markdown",
   "id": "q2-insights",
   "metadata": {},
   "source": [
    "**Insights from Question 2:**\n",
    "\n",
    "- Average and median sales both indicate that genres like **Shooter** and **Action** outperform others.\n",
    "- The pie chart shows that these top genres capture a large market share.\n",
    "\n",
    "Thus, mainstream, high-budget genres tend to dominate global sales."
   ]
  },
  {
   "cell_type": "markdown",
   "id": "q3-analysis-section",
   "metadata": {},
   "source": [
    "### Question 3: Platform Analysis\n",
    "\n",
    "Finally, we analyze global sales by gaming platform. We provide a table, a horizontal bar chart, and a pie chart to show the total sales and market share per platform."
   ]
  },
  {
   "cell_type": "code",
   "id": "q3-table-plot",
   "metadata": {},
   "execution_count": null,
   "source": [
    "# Table: Total Global Sales by Platform\n",
    "if 'Platform' in df_clean.columns and 'Global_Sales' in df_clean.columns:\n",
    "    platform_sales = df_clean.groupby('Platform')['Global_Sales'].sum()\n",
    "    platform_table = platform_sales.sort_values(ascending=False).to_frame(name='Total Global Sales')\n",
    "    print(\"Top Platforms by Total Global Sales:\")\n",
    "    display(platform_table.head(10))\n",
    "else:\n",
    "    print(\"Required columns not found.\")"
   ],
   "outputs": []
  },
  {
   "cell_type": "code",
   "id": "q3-bar-chart",
   "metadata": {},
   "execution_count": null,
   "source": [
    "# Horizontal Bar Chart for Total Global Sales by Platform\n",
    "if 'Platform' in df_clean.columns and 'Global_Sales' in df_clean.columns:\n",
    "    plt.figure(figsize=(8,5))\n",
    "    platform_sales.sort_values().plot(kind='barh', color='slateblue')\n",
    "    plt.title('Total Global Sales by Platform')\n",
    "    plt.xlabel('Total Global Sales (million units)')\n",
    "    plt.xlim(0, platform_sales.max()*1.1)\n",
    "    plt.ylabel('Platform')\n",
    "    plt.show()\n",
    "else:\n",
    "    print(\"Required columns not found.\")"
   ],
   "outputs": []
  },
  {
   "cell_type": "code",
   "id": "q3-pie-chart",
   "metadata": {},
   "execution_count": null,
   "source": [
    "# Pie Chart: Market Share of Total Global Sales by Platform\n",
    "if 'Platform' in df_clean.columns and 'Global_Sales' in df_clean.columns:\n",
    "    plt.figure(figsize=(8,8))\n",
    "    platform_sales.plot(kind='pie', autopct='%1.1f%%', startangle=140, colors=sns.color_palette('pastel'))\n",
    "    plt.title('Market Share of Total Global Sales by Platform')\n",
    "    plt.ylabel('')\n",
    "    plt.show()\n",
    "else:\n",
    "    print(\"Required columns not found.\")"
   ],
   "outputs": []
  },
  {
   "cell_type": "markdown",
   "id": "q3-insights",
   "metadata": {},
   "source": [
    "**Insights from Question 3:**\n",
    "\n",
    "- The table reveals that a few platforms (e.g., PS2, Wii) dominate global sales.\n",
    "- The bar chart clearly shows differences among platforms in terms of sales volume.\n",
    "- The pie chart confirms that a small number of consoles hold a large market share.\n",
    "\n",
    "Thus, blockbuster titles on select platforms drive the bulk of global sales."
   ]
  },
  {
   "cell_type": "markdown",
   "id": "conclusion",
   "metadata": {},
   "source": [
    "## Data Analysis and Conclusion\n",
    "\n",
    "**Summary of Key Findings:**\n",
    "\n",
    "- **Global Sales Distribution:** The vast majority of video games sell under 1 million copies, with a few blockbusters driving the right-tail of the distribution.\n",
    "- **Genre Performance:** Mainstream genres (especially Shooter and Action) exhibit the highest average and median sales, dominating the market.\n",
    "- **Platform Variability:** Although many platforms host titles with modest sales, a small number (e.g., PS2, Wii) account for the majority of global sales.\n",
    "\n",
    "These insights provide a clear and professional view of the video game market and answer the key questions regarding data inspection and the analysis steps.\n",
    "\n",
    "**Data Inspection and Cleaning Section:** This is found under the **Data Observation and Cleaning** section (cells **data-info**, **check-duplicates**, and **drop-missing**). All steps from data exploration, missing value handling, and duplicate checks are clearly documented.\n",
    "\n",
    "**Analysis Steps Included:**\n",
    "1. Data Exploration (load and preview data, overview of key columns).\n",
    "2. Data Inspection and Cleaning (checking data types, missing values, duplicates, and filtering).\n",
    "3. Initial Statistics (descriptive statistics).\n",
    "4. Detailed analysis for each key question (Global Sales Distribution, Genre Analysis, Platform Analysis) with multiple focused visualizations and insights.\n",
    "5. Final conclusion summarizing the findings.\n",
    "\n",
    "These steps provide a comprehensive roadmap of the work performed in this project."
   ]
  }
 ],
 "metadata": {
  "kernelspec": {
   "display_name": "Python 3",
   "language": "python",
   "name": "python3"
  },
  "language_info": {
   "file_extension": ".py",
   "mimetype": "text/x-python",
   "name": "python",
   "version": "3.10.12"
  },
  "kaggle": {
    "accelerator": "gpu",
    "dataSources": [
      {
        "datasetId": "4269029",
        "sourceId": "7351086",
        "sourceType": "datasetVersion"
      }
    ],
    "dockerImageVersionId": 30636,
    "isGpuEnabled": true,
    "isInternetEnabled": true,
    "language": "python",
    "sourceType": "notebook"
  }
 },
 "nbformat": 4,
 "nbformat_minor": 4
}
