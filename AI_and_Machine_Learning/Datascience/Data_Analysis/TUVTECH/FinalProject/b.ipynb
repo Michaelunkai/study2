{
 "cells": [
  {
   "cell_type": "markdown",
   "id": "intro-markdown",
   "metadata": {},
   "source": [
    "# Video Games Sales Analysis\n",
    "\n",
    "This notebook analyzes the video games sales dataset available on Kaggle. We address three main questions:\n",
    "\n",
    "1. **What is the distribution of Global Sales?**\n",
    "2. **Which Genre has the highest average Global Sales?**\n",
    "3. **How do Sales vary across different Platforms?**\n",
    "\n",
    "All file paths have been updated to use Kaggle’s input system."
   ]
  },
  {
   "cell_type": "code",
   "execution_count": null,
   "id": "imports-load",
   "metadata": {},
   "outputs": [],
   "source": [
    "# Import necessary libraries\n",
    "import pandas as pd\n",
    "import numpy as np\n",
    "import matplotlib.pyplot as plt\n",
    "%matplotlib inline\n",
    "\n",
    "# Suppress warnings\n",
    "import warnings\n",
    "warnings.filterwarnings('ignore')\n",
    "\n",
    "# Define the file path for the attached dataset on Kaggle\n",
    "data_path = \"/kaggle/input/video-games-sales-as-at-22-dec-2016csv/Video_Games_Sales_as_at_22_Dec_2016.csv\"\n",
    "\n",
    "# Load the dataset\n",
    "df = pd.read_csv(data_path, encoding='ISO-8859-1')\n",
    "\n",
    "# Display the first few rows of the dataset\n",
    "df.head()"
   ]
  },
  {
   "cell_type": "markdown",
   "id": "q1-title",
   "metadata": {},
   "source": [
    "## Question 1: What is the distribution of Global Sales?\n",
    "\n",
    "In this section, we explore the distribution of the Global Sales figures from the dataset."
   ]
  },
  {
   "cell_type": "code",
   "execution_count": null,
   "id": "q1-code1",
   "metadata": {},
   "outputs": [],
   "source": [
    "# Block 1: Plotting a histogram of Global Sales\n",
    "if 'Global_Sales' in df.columns:\n",
    "    plt.figure(figsize=(10, 6))\n",
    "    plt.hist(df['Global_Sales'].dropna(), bins=30, edgecolor='k')\n",
    "    plt.title('Histogram of Global Sales')\n",
    "    plt.xlabel('Global Sales (in millions)')\n",
    "    plt.ylabel('Frequency')\n",
    "    plt.show()\n",
    "else:\n",
    "    print(\"Column 'Global_Sales' not found in the dataset.\")"
   ]
  },
  {
   "cell_type": "code",
   "execution_count": null,
   "id": "q1-code2",
   "metadata": {},
   "outputs": [],
   "source": [
    "# Block 2: Displaying summary statistics for Global Sales\n",
    "if 'Global_Sales' in df.columns:\n",
    "    sales_stats = df['Global_Sales'].describe()\n",
    "    print(sales_stats)\n",
    "else:\n",
    "    print(\"Column 'Global_Sales' not found in the dataset.\")"
   ]
  },
  {
   "cell_type": "code",
   "execution_count": null,
   "id": "q1-code3",
   "metadata": {},
   "outputs": [],
   "source": [
    "# Block 3: Calculating additional statistics (median and variance) for Global Sales\n",
    "if 'Global_Sales' in df.columns:\n",
    "    median_sales = df['Global_Sales'].median()\n",
    "    var_sales = df['Global_Sales'].var()\n",
    "    print(f\"Median Global Sales: {median_sales}\")\n",
    "    print(f\"Variance of Global Sales: {var_sales}\")\n",
    "else:\n",
    "    print(\"Column 'Global_Sales' not found in the dataset.\")"
   ]
  },
  {
   "cell_type": "markdown",
   "id": "q2-title",
   "metadata": {},
   "source": [
    "## Question 2: Which Genre has the highest average Global Sales?\n",
    "\n",
    "In this section, we analyze the dataset by grouping the data by Genre and calculating the average Global Sales for each Genre."
   ]
  },
  {
   "cell_type": "code",
   "execution_count": null,
   "id": "q2-code1",
   "metadata": {},
   "outputs": [],
   "source": [
    "# Block 1: Group the data by Genre and calculate the average Global Sales\n",
    "if 'Genre' in df.columns and 'Global_Sales' in df.columns:\n",
    "    genre_avg_sales = df.groupby('Genre')['Global_Sales'].mean()\n",
    "    print(genre_avg_sales.sort_values(ascending=False))\n",
    "else:\n",
    "    print(\"Required columns 'Genre' or 'Global_Sales' not found in the dataset.\")"
   ]
  },
  {
   "cell_type": "code",
   "execution_count": null,
   "id": "q2-code2",
   "metadata": {},
   "outputs": [],
   "source": [
    "# Block 2: Display the top 5 genres with the highest average Global Sales\n",
    "if 'Genre' in df.columns and 'Global_Sales' in df.columns:\n",
    "    top_genres = genre_avg_sales.sort_values(ascending=False).head(5)\n",
    "    print(top_genres)\n",
    "else:\n",
    "    print(\"Required columns 'Genre' or 'Global_Sales' not found in the dataset.\")"
   ]
  },
  {
   "cell_type": "code",
   "execution_count": null,
   "id": "q2-code3",
   "metadata": {},
   "outputs": [],
   "source": [
    "# Block 3: Plot a bar chart for the top 5 genres\n",
    "if 'Genre' in df.columns and 'Global_Sales' in df.columns:\n",
    "    plt.figure(figsize=(10, 6))\n",
    "    top_genres.sort_values().plot(kind='barh')\n",
    "    plt.title('Top 5 Genres by Average Global Sales')\n",
    "    plt.xlabel('Average Global Sales (in millions)')\n",
    "    plt.ylabel('Genre')\n",
    "    plt.show()\n",
    "else:\n",
    "    print(\"Required columns 'Genre' or 'Global_Sales' not found in the dataset.\")"
   ]
  },
  {
   "cell_type": "markdown",
   "id": "q3-title",
   "metadata": {},
   "source": [
    "## Question 3: How do Sales vary across different Platforms?\n",
    "\n",
    "In this section, we analyze how Global Sales vary across different gaming platforms."
   ]
  },
  {
   "cell_type": "code",
   "execution_count": null,
   "id": "q3-code1",
   "metadata": {},
   "outputs": [],
   "source": [
    "# Block 1: Group the data by Platform and sum the Global Sales\n",
    "if 'Platform' in df.columns and 'Global_Sales' in df.columns:\n",
    "    platform_sales = df.groupby('Platform')['Global_Sales'].sum()\n",
    "    print(platform_sales.sort_values(ascending=False))\n",
    "else:\n",
    "    print(\"Required columns 'Platform' or 'Global_Sales' not found in the dataset.\")"
   ]
  },
  {
   "cell_type": "code",
   "execution_count": null,
   "id": "q3-code2",
   "metadata": {},
   "outputs": [],
   "source": [
    "# Block 2: Display the top 5 platforms with the highest total Global Sales\n",
    "if 'Platform' in df.columns and 'Global_Sales' in df.columns:\n",
    "    top_platforms = platform_sales.sort_values(ascending=False).head(5)\n",
    "    print(top_platforms)\n",
    "else:\n",
    "    print(\"Required columns 'Platform' or 'Global_Sales' not found in the dataset.\")"
   ]
  },
  {
   "cell_type": "code",
   "execution_count": null,
   "id": "q3-code3",
   "metadata": {},
   "outputs": [],
   "source": [
    "# Block 3: Plot a bar chart of Global Sales by Platform\n",
    "if 'Platform' in df.columns and 'Global_Sales' in df.columns:\n",
    "    plt.figure(figsize=(10, 6))\n",
    "    platform_sales.sort_values().plot(kind='barh')\n",
    "    plt.title('Global Sales by Platform')\n",
    "    plt.xlabel('Total Global Sales (in millions)')\n",
    "    plt.ylabel('Platform')\n",
    "    plt.show()\n",
    "else:\n",
    "    print(\"Required columns 'Platform' or 'Global_Sales' not found in the dataset.\")"
   ]
  },
  {
   "cell_type": "markdown",
   "id": "conclusion-markdown",
   "metadata": {},
   "source": [
    "## Conclusion\n",
    "\n",
    "This notebook provided an overview of the Video Games Sales dataset by exploring three questions: the distribution of Global Sales, the average Global Sales by Genre, and the variation of Global Sales across Platforms. Feel free to extend the analysis further!"
   ]
  }
 ],
 "metadata": {
  "kernelspec": {
   "display_name": "Python 3",
   "language": "python",
   "name": "python3"
  },
  "language_info": {
   "file_extension": ".py",
   "mimetype": "text/x-python",
   "name": "python",
   "version": "3.x"
  }
 },
 "nbformat": 4,
 "nbformat_minor": 5
}
