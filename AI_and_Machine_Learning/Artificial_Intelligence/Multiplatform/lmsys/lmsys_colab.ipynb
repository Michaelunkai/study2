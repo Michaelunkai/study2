{
 "cells": [
  {
   "cell_type": "code",
   "metadata": {},
   "source": [
    "# Block 1: Install Dependencies\n",
    "\n",
    "# Install the transformers package from Hugging Face\n",
    "!pip install transformers\n",
    "\n",
    "# Install any other necessary dependencies if needed\n",
    "# For example, datasets library from Hugging Face\n",
    "!pip install datasets"
   ]
  },
  {
   "cell_type": "code",
   "metadata": {},
   "source": [
    "# Block 2: Load Pre-trained Model\n",
    "\n",
    "# Import necessary libraries\n",
    "from transformers import pipeline\n",
    "\n",
    "# Load a pre-trained model (For example, the BERT model for text classification)\n",
    "classifier = pipeline('sentiment-analysis')\n",
    "\n",
    "# Print the name of the model to confirm it's loaded\n",
    "print(\"Model loaded:\", classifier.model.config._name_or_path)"
   ]
  },
  {
   "cell_type": "code",
   "metadata": {},
   "source": [
    "# Block 3: Use the Model for Inference\n",
    "\n",
    "# Define some sample text\n",
    "sample_text = \"I love using Jupyter Notebooks!\"\n",
    "\n",
    "# Perform inference using the loaded model\n",
    "result = classifier(sample_text)\n",
    "\n",
    "# Display the result\n",
    "print(\"Sentiment analysis result:\", result)"
   ]
  }
 ],
 "metadata": {
  "kernelspec": {
   "display_name": "Python 3",
   "language": "python",
   "name": "python3"
  },
  "language_info": {
   "codemirror_mode": {
    "name": "ipython",
    "version": 3
   },
   "file_extension": ".py",
   "mimetype": "text/x-python",
   "name": "python",
   "nbconvert_exporter": "python",
   "pygments_lexer": "ipython3",
   "version": "3.8.3"
  }
 },
 "nbformat": 4,
 "nbformat_minor": 5
}
