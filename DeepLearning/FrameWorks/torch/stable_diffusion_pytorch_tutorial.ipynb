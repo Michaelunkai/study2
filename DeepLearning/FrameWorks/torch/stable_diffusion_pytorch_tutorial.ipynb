{
 "cells": [
  {
   "cell_type": " ",
   "id": "4526a41b",
   "metadata": {},
   "source": [
    "# Creating AI-Generated Art Using Stable Diffusion with PyTorch: A Step-by-Step Guide"
   ]
  },
  {
   "cell_type": " ",
   "id": "6922eb8c",
   "metadata": {},
   "source": [
    "\n",
    "This tutorial walks you through creating AI-generated art using the Stable Diffusion model in PyTorch. The provided code initializes by checking if a GPU is available using CUDA. If CUDA is available, the model leverages GPU acceleration for faster processing; otherwise, it defaults to CPU. The Stable Diffusion model `runwayml/stable-diffusion-v1-5` is loaded, and the image is generated based on a text prompt. The generated image is then saved to a specified location on your file system. The code also includes error handling to manage any issues that may arise during execution.\n",
    "        "
   ]
  },
  {
   "cell_type": "code",
   "execution_count": null,
   "id": "89c0bfd5",
   "metadata": {},
   "outputs": [],
   "source": [
    "\n",
    "import torch\n",
    "from diffusers import StableDiffusionPipeline\n",
    "import os\n",
    "\n",
    "def generate_image(prompt, output_path):\n",
    "    try:\n",
    "        # Check for CUDA availability\n",
    "        device = \"cuda\" if torch.cuda.is_available() else \"cpu\"\n",
    "        \n",
    "        # Load the model\n",
    "        model_id = \"runwayml/stable-diffusion-v1-5\"\n",
    "        pipe = StableDiffusionPipeline.from_pretrained(model_id, torch_dtype=torch.float16 if device == \"cuda\" else torch.float32)\n",
    "        pipe = pipe.to(device)\n",
    "\n",
    "        # Generate the image\n",
    "        image = pipe(prompt).images[0]\n",
    "\n",
    "        # Ensure the output directory exists\n",
    "        os.makedirs(os.path.dirname(output_path), exist_ok=True)\n",
    "\n",
    "        # Save the image\n",
    "        image.save(output_path)\n",
    "        print(f\"Image saved successfully to {output_path}\")\n",
    "    except Exception as e:\n",
    "        print(f\"An error occurred: {str(e)}\")\n",
    "\n",
    "if __name__ == \"__main__\":\n",
    "    prompt = \"a photo of an astronaut riding a horse on mars\"\n",
    "    output_path = \"astronaut_rides_horse.png\"\n",
    "    generate_image(prompt, output_path)\n",
    "        "
   ]
  },
  {
   "cell_type": " ",
   "id": "25a8f0ed",
   "metadata": {},
   "source": [
    "\n",
    "###   Explanation\n",
    "\n",
    "The script generates an image based on the prompt \"a photo of an astronaut riding a horse on Mars\" and saves it as `astronaut_rides_horse.png`. The image will be generated using GPU acceleration if CUDA is available; otherwise, the CPU will be used. The image is saved in the specified directory, and upon successful completion, a message confirming the save location is printed. If any errors occur during the process, they will be caught and displayed in the console.\n",
    "        "
   ]
  }
 ],
 "metadata": {},
 "nbformat": 4,
 "nbformat_minor": 5
}
