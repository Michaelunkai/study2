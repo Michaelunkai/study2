{
 "cells": [
  {
   "cell_type": "markdown",
   "id": "5b2ecfa5",
   "metadata": {
    "papermill": {
     "duration": 0.008115,
     "end_time": "2024-05-15T08:53:58.198147",
     "exception": false,
     "start_time": "2024-05-15T08:53:58.190032",
     "status": "completed"
    },
    "tags": []
   },
   "source": [
    "# Ex2 - Getting and Knowing your Data"
   ]
  },
  {
   "cell_type": "markdown",
   "id": "3557c703",
   "metadata": {
    "papermill": {
     "duration": 0.007832,
     "end_time": "2024-05-15T08:53:58.215008",
     "exception": false,
     "start_time": "2024-05-15T08:53:58.207176",
     "status": "completed"
    },
    "tags": []
   },
   "source": [
    "This time we are going to pull data directly from the internet.\n",
    "Special thanks to: https://github.com/justmarkham for sharing the dataset and materials.\n",
    "\n",
    "### Step 1. Import the necessary libraries"
   ]
  },
  {
   "cell_type": "code",
   "execution_count": null,
   "id": "e0d72727",
   "metadata": {
    "collapsed": false,
    "jupyter": {
     "outputs_hidden": false
    },
    "papermill": {
     "duration": 0.007028,
     "end_time": "2024-05-15T08:53:58.229553",
     "exception": false,
     "start_time": "2024-05-15T08:53:58.222525",
     "status": "completed"
    },
    "tags": []
   },
   "outputs": [],
   "source": []
  },
  {
   "cell_type": "markdown",
   "id": "a8e69b22",
   "metadata": {
    "papermill": {
     "duration": 0.007455,
     "end_time": "2024-05-15T08:53:58.244406",
     "exception": false,
     "start_time": "2024-05-15T08:53:58.236951",
     "status": "completed"
    },
    "tags": []
   },
   "source": [
    "### Step 2. Import the dataset from this [address](https://raw.githubusercontent.com/justmarkham/DAT8/master/data/chipotle.tsv). "
   ]
  },
  {
   "cell_type": "code",
   "execution_count": null,
   "id": "33bdacfb",
   "metadata": {
    "papermill": {
     "duration": 0.006963,
     "end_time": "2024-05-15T08:53:58.258705",
     "exception": false,
     "start_time": "2024-05-15T08:53:58.251742",
     "status": "completed"
    },
    "tags": []
   },
   "outputs": [],
   "source": []
  },
  {
   "cell_type": "markdown",
   "id": "83001c30",
   "metadata": {
    "papermill": {
     "duration": 0.006868,
     "end_time": "2024-05-15T08:53:58.272796",
     "exception": false,
     "start_time": "2024-05-15T08:53:58.265928",
     "status": "completed"
    },
    "tags": []
   },
   "source": [
    "### Step 3. Assign it to a variable called chipo."
   ]
  },
  {
   "cell_type": "code",
   "execution_count": null,
   "id": "f74b54b7",
   "metadata": {
    "collapsed": false,
    "jupyter": {
     "outputs_hidden": false
    },
    "papermill": {
     "duration": 0.007323,
     "end_time": "2024-05-15T08:53:58.288398",
     "exception": false,
     "start_time": "2024-05-15T08:53:58.281075",
     "status": "completed"
    },
    "tags": []
   },
   "outputs": [],
   "source": []
  },
  {
   "cell_type": "markdown",
   "id": "35c82b14",
   "metadata": {
    "papermill": {
     "duration": 0.006989,
     "end_time": "2024-05-15T08:53:58.302870",
     "exception": false,
     "start_time": "2024-05-15T08:53:58.295881",
     "status": "completed"
    },
    "tags": []
   },
   "source": [
    "### Step 4. See the first 10 entries"
   ]
  },
  {
   "cell_type": "code",
   "execution_count": null,
   "id": "0c8cf8db",
   "metadata": {
    "collapsed": false,
    "jupyter": {
     "outputs_hidden": false
    },
    "papermill": {
     "duration": 0.007001,
     "end_time": "2024-05-15T08:53:58.317279",
     "exception": false,
     "start_time": "2024-05-15T08:53:58.310278",
     "status": "completed"
    },
    "tags": []
   },
   "outputs": [],
   "source": []
  },
  {
   "cell_type": "markdown",
   "id": "1d1c4209",
   "metadata": {
    "papermill": {
     "duration": 0.006879,
     "end_time": "2024-05-15T08:53:58.331338",
     "exception": false,
     "start_time": "2024-05-15T08:53:58.324459",
     "status": "completed"
    },
    "tags": []
   },
   "source": [
    "### Step 5. What is the number of observations in the dataset?"
   ]
  },
  {
   "cell_type": "code",
   "execution_count": null,
   "id": "fdbb403a",
   "metadata": {
    "collapsed": false,
    "jupyter": {
     "outputs_hidden": false
    },
    "papermill": {
     "duration": 0.007365,
     "end_time": "2024-05-15T08:53:58.345958",
     "exception": false,
     "start_time": "2024-05-15T08:53:58.338593",
     "status": "completed"
    },
    "tags": []
   },
   "outputs": [],
   "source": [
    "\n",
    "\n"
   ]
  },
  {
   "cell_type": "markdown",
   "id": "2ffb2ae9",
   "metadata": {
    "papermill": {
     "duration": 0.007062,
     "end_time": "2024-05-15T08:53:58.360289",
     "exception": false,
     "start_time": "2024-05-15T08:53:58.353227",
     "status": "completed"
    },
    "tags": []
   },
   "source": [
    "### Step 6. What is the number of columns in the dataset?"
   ]
  },
  {
   "cell_type": "code",
   "execution_count": null,
   "id": "dc67cc24",
   "metadata": {
    "collapsed": false,
    "jupyter": {
     "outputs_hidden": false
    },
    "papermill": {
     "duration": 0.007012,
     "end_time": "2024-05-15T08:53:58.374535",
     "exception": false,
     "start_time": "2024-05-15T08:53:58.367523",
     "status": "completed"
    },
    "tags": []
   },
   "outputs": [],
   "source": []
  },
  {
   "cell_type": "markdown",
   "id": "3c8741ef",
   "metadata": {
    "papermill": {
     "duration": 0.007419,
     "end_time": "2024-05-15T08:53:58.389662",
     "exception": false,
     "start_time": "2024-05-15T08:53:58.382243",
     "status": "completed"
    },
    "tags": []
   },
   "source": [
    "### Step 7. Print the name of all the columns."
   ]
  },
  {
   "cell_type": "code",
   "execution_count": null,
   "id": "5b3e4de3",
   "metadata": {
    "collapsed": false,
    "jupyter": {
     "outputs_hidden": false
    },
    "papermill": {
     "duration": 0.008268,
     "end_time": "2024-05-15T08:53:58.405551",
     "exception": false,
     "start_time": "2024-05-15T08:53:58.397283",
     "status": "completed"
    },
    "tags": []
   },
   "outputs": [],
   "source": []
  },
  {
   "cell_type": "markdown",
   "id": "9c45cb3b",
   "metadata": {
    "papermill": {
     "duration": 0.007238,
     "end_time": "2024-05-15T08:53:58.420709",
     "exception": false,
     "start_time": "2024-05-15T08:53:58.413471",
     "status": "completed"
    },
    "tags": []
   },
   "source": [
    "### Step 8. How is the dataset indexed?"
   ]
  },
  {
   "cell_type": "code",
   "execution_count": null,
   "id": "5de67e1c",
   "metadata": {
    "collapsed": false,
    "jupyter": {
     "outputs_hidden": false
    },
    "papermill": {
     "duration": 0.007229,
     "end_time": "2024-05-15T08:53:58.435416",
     "exception": false,
     "start_time": "2024-05-15T08:53:58.428187",
     "status": "completed"
    },
    "tags": []
   },
   "outputs": [],
   "source": []
  },
  {
   "cell_type": "markdown",
   "id": "582e4c32",
   "metadata": {
    "papermill": {
     "duration": 0.007101,
     "end_time": "2024-05-15T08:53:58.450512",
     "exception": false,
     "start_time": "2024-05-15T08:53:58.443411",
     "status": "completed"
    },
    "tags": []
   },
   "source": [
    "### Step 9. Which was the most-ordered item? "
   ]
  },
  {
   "cell_type": "code",
   "execution_count": null,
   "id": "9b033dd4",
   "metadata": {
    "collapsed": false,
    "jupyter": {
     "outputs_hidden": false
    },
    "papermill": {
     "duration": 0.008218,
     "end_time": "2024-05-15T08:53:58.466894",
     "exception": false,
     "start_time": "2024-05-15T08:53:58.458676",
     "status": "completed"
    },
    "tags": []
   },
   "outputs": [],
   "source": []
  },
  {
   "cell_type": "markdown",
   "id": "ea06aaf0",
   "metadata": {
    "papermill": {
     "duration": 0.007054,
     "end_time": "2024-05-15T08:53:58.482268",
     "exception": false,
     "start_time": "2024-05-15T08:53:58.475214",
     "status": "completed"
    },
    "tags": []
   },
   "source": [
    "### Step 10. For the most-ordered item, how many items were ordered?"
   ]
  },
  {
   "cell_type": "code",
   "execution_count": null,
   "id": "5a441236",
   "metadata": {
    "collapsed": false,
    "jupyter": {
     "outputs_hidden": false
    },
    "papermill": {
     "duration": 0.007352,
     "end_time": "2024-05-15T08:53:58.497469",
     "exception": false,
     "start_time": "2024-05-15T08:53:58.490117",
     "status": "completed"
    },
    "tags": []
   },
   "outputs": [],
   "source": []
  },
  {
   "cell_type": "markdown",
   "id": "49e5b3f7",
   "metadata": {
    "papermill": {
     "duration": 0.007523,
     "end_time": "2024-05-15T08:53:58.512496",
     "exception": false,
     "start_time": "2024-05-15T08:53:58.504973",
     "status": "completed"
    },
    "tags": []
   },
   "source": [
    "### Step 11. What was the most ordered item in the choice_description column?"
   ]
  },
  {
   "cell_type": "code",
   "execution_count": null,
   "id": "3a29fdb3",
   "metadata": {
    "collapsed": false,
    "jupyter": {
     "outputs_hidden": false
    },
    "papermill": {
     "duration": 0.006993,
     "end_time": "2024-05-15T08:53:58.527350",
     "exception": false,
     "start_time": "2024-05-15T08:53:58.520357",
     "status": "completed"
    },
    "tags": []
   },
   "outputs": [],
   "source": []
  },
  {
   "cell_type": "markdown",
   "id": "78173d3a",
   "metadata": {
    "papermill": {
     "duration": 0.007609,
     "end_time": "2024-05-15T08:53:58.542394",
     "exception": false,
     "start_time": "2024-05-15T08:53:58.534785",
     "status": "completed"
    },
    "tags": []
   },
   "source": [
    "### Step 12. How many items were orderd in total?"
   ]
  },
  {
   "cell_type": "code",
   "execution_count": null,
   "id": "a80a82d0",
   "metadata": {
    "collapsed": false,
    "jupyter": {
     "outputs_hidden": false
    },
    "papermill": {
     "duration": 0.008715,
     "end_time": "2024-05-15T08:53:58.560397",
     "exception": false,
     "start_time": "2024-05-15T08:53:58.551682",
     "status": "completed"
    },
    "tags": []
   },
   "outputs": [],
   "source": []
  },
  {
   "cell_type": "markdown",
   "id": "54560a89",
   "metadata": {
    "papermill": {
     "duration": 0.007066,
     "end_time": "2024-05-15T08:53:58.574900",
     "exception": false,
     "start_time": "2024-05-15T08:53:58.567834",
     "status": "completed"
    },
    "tags": []
   },
   "source": [
    "### Step 13. Turn the item price into a float"
   ]
  },
  {
   "cell_type": "code",
   "execution_count": null,
   "id": "8471f43a",
   "metadata": {
    "papermill": {
     "duration": 0.006958,
     "end_time": "2024-05-15T08:53:58.589291",
     "exception": false,
     "start_time": "2024-05-15T08:53:58.582333",
     "status": "completed"
    },
    "tags": []
   },
   "outputs": [],
   "source": []
  },
  {
   "cell_type": "markdown",
   "id": "e53ac0be",
   "metadata": {
    "papermill": {
     "duration": 0.00705,
     "end_time": "2024-05-15T08:53:58.603542",
     "exception": false,
     "start_time": "2024-05-15T08:53:58.596492",
     "status": "completed"
    },
    "tags": []
   },
   "source": [
    "#### Step 13.a. Check the item price type"
   ]
  },
  {
   "cell_type": "code",
   "execution_count": null,
   "id": "e6be586c",
   "metadata": {
    "collapsed": false,
    "jupyter": {
     "outputs_hidden": false
    },
    "papermill": {
     "duration": 0.007255,
     "end_time": "2024-05-15T08:53:58.618535",
     "exception": false,
     "start_time": "2024-05-15T08:53:58.611280",
     "status": "completed"
    },
    "tags": []
   },
   "outputs": [],
   "source": []
  },
  {
   "cell_type": "markdown",
   "id": "4cc317e1",
   "metadata": {
    "papermill": {
     "duration": 0.007294,
     "end_time": "2024-05-15T08:53:58.633527",
     "exception": false,
     "start_time": "2024-05-15T08:53:58.626233",
     "status": "completed"
    },
    "tags": []
   },
   "source": [
    "#### Step 13.b. Create a lambda function and change the type of item price"
   ]
  },
  {
   "cell_type": "code",
   "execution_count": null,
   "id": "8783b1f4",
   "metadata": {
    "papermill": {
     "duration": 0.007558,
     "end_time": "2024-05-15T08:53:58.648656",
     "exception": false,
     "start_time": "2024-05-15T08:53:58.641098",
     "status": "completed"
    },
    "tags": []
   },
   "outputs": [],
   "source": []
  },
  {
   "cell_type": "markdown",
   "id": "ae4f0c4e",
   "metadata": {
    "papermill": {
     "duration": 0.007192,
     "end_time": "2024-05-15T08:53:58.663931",
     "exception": false,
     "start_time": "2024-05-15T08:53:58.656739",
     "status": "completed"
    },
    "tags": []
   },
   "source": [
    "#### Step 13.c. Check the item price type"
   ]
  },
  {
   "cell_type": "code",
   "execution_count": null,
   "id": "32ea70e9",
   "metadata": {
    "collapsed": false,
    "jupyter": {
     "outputs_hidden": false
    },
    "papermill": {
     "duration": 0.007108,
     "end_time": "2024-05-15T08:53:58.680380",
     "exception": false,
     "start_time": "2024-05-15T08:53:58.673272",
     "status": "completed"
    },
    "tags": []
   },
   "outputs": [],
   "source": []
  },
  {
   "cell_type": "markdown",
   "id": "43659826",
   "metadata": {
    "papermill": {
     "duration": 0.008261,
     "end_time": "2024-05-15T08:53:58.696021",
     "exception": false,
     "start_time": "2024-05-15T08:53:58.687760",
     "status": "completed"
    },
    "tags": []
   },
   "source": [
    "### Step 14. How much was the revenue for the period in the dataset?"
   ]
  },
  {
   "cell_type": "code",
   "execution_count": null,
   "id": "7418db2a",
   "metadata": {
    "collapsed": false,
    "jupyter": {
     "outputs_hidden": false
    },
    "papermill": {
     "duration": 0.007207,
     "end_time": "2024-05-15T08:53:58.711003",
     "exception": false,
     "start_time": "2024-05-15T08:53:58.703796",
     "status": "completed"
    },
    "tags": []
   },
   "outputs": [],
   "source": []
  },
  {
   "cell_type": "markdown",
   "id": "7533a613",
   "metadata": {
    "papermill": {
     "duration": 0.007027,
     "end_time": "2024-05-15T08:53:58.725589",
     "exception": false,
     "start_time": "2024-05-15T08:53:58.718562",
     "status": "completed"
    },
    "tags": []
   },
   "source": [
    "### Step 15. How many orders were made in the period?"
   ]
  },
  {
   "cell_type": "code",
   "execution_count": null,
   "id": "0f8a413d",
   "metadata": {
    "collapsed": false,
    "jupyter": {
     "outputs_hidden": false
    },
    "papermill": {
     "duration": 0.007973,
     "end_time": "2024-05-15T08:53:58.741678",
     "exception": false,
     "start_time": "2024-05-15T08:53:58.733705",
     "status": "completed"
    },
    "tags": []
   },
   "outputs": [],
   "source": []
  },
  {
   "cell_type": "markdown",
   "id": "3b77da4f",
   "metadata": {
    "papermill": {
     "duration": 0.00698,
     "end_time": "2024-05-15T08:53:58.756086",
     "exception": false,
     "start_time": "2024-05-15T08:53:58.749106",
     "status": "completed"
    },
    "tags": []
   },
   "source": [
    "### Step 16. What is the average revenue amount per order?"
   ]
  },
  {
   "cell_type": "code",
   "execution_count": null,
   "id": "b9bf05d9",
   "metadata": {
    "collapsed": false,
    "jupyter": {
     "outputs_hidden": false
    },
    "papermill": {
     "duration": 0.007459,
     "end_time": "2024-05-15T08:53:58.771430",
     "exception": false,
     "start_time": "2024-05-15T08:53:58.763971",
     "status": "completed"
    },
    "tags": []
   },
   "outputs": [],
   "source": [
    "\n",
    "\n"
   ]
  },
  {
   "cell_type": "markdown",
   "id": "fe18a8dd",
   "metadata": {
    "papermill": {
     "duration": 0.007111,
     "end_time": "2024-05-15T08:53:58.785862",
     "exception": false,
     "start_time": "2024-05-15T08:53:58.778751",
     "status": "completed"
    },
    "tags": []
   },
   "source": [
    "### Step 17. How many different items are sold?"
   ]
  },
  {
   "cell_type": "code",
   "execution_count": null,
   "id": "2b0df5b5",
   "metadata": {
    "collapsed": false,
    "jupyter": {
     "outputs_hidden": false
    },
    "papermill": {
     "duration": 0.007055,
     "end_time": "2024-05-15T08:53:58.800154",
     "exception": false,
     "start_time": "2024-05-15T08:53:58.793099",
     "status": "completed"
    },
    "tags": []
   },
   "outputs": [],
   "source": []
  }
 ],
 "metadata": {
  "kaggle": {
   "accelerator": "none",
   "dataSources": [
    {
     "datasetId": 5011184,
     "sourceId": 8418200,
     "sourceType": "datasetVersion"
    }
   ],
   "dockerImageVersionId": 30698,
   "isGpuEnabled": false,
   "isInternetEnabled": true,
   "language": "python",
   "sourceType": "notebook"
  },
  "kernelspec": {
   "display_name": "Python 3",
   "language": "python",
   "name": "python3"
  },
  "language_info": {
   "codemirror_mode": {
    "name": "ipython",
    "version": 3
   },
   "file_extension": ".py",
   "mimetype": "text/x-python",
   "name": "python",
   "nbconvert_exporter": "python",
   "pygments_lexer": "ipython3",
   "version": "3.10.13"
  },
  "papermill": {
   "default_parameters": {},
   "duration": 3.873537,
   "end_time": "2024-05-15T08:53:59.229433",
   "environment_variables": {},
   "exception": null,
   "input_path": "__notebook__.ipynb",
   "output_path": "__notebook__.ipynb",
   "parameters": {},
   "start_time": "2024-05-15T08:53:55.355896",
   "version": "2.5.0"
  }
 },
 "nbformat": 4,
 "nbformat_minor": 5
}
