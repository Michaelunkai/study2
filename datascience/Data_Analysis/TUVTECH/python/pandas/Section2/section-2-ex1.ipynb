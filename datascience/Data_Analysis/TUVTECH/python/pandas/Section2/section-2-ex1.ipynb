{
 "cells": [
  {
   "cell_type": "markdown",
   "id": "76ae6401",
   "metadata": {
    "papermill": {
     "duration": 0.006623,
     "end_time": "2024-05-15T09:12:40.887440",
     "exception": false,
     "start_time": "2024-05-15T09:12:40.880817",
     "status": "completed"
    },
    "tags": []
   },
   "source": [
    "# Ex1 - Filtering and Sorting Data"
   ]
  },
  {
   "cell_type": "markdown",
   "id": "1e36a662",
   "metadata": {
    "papermill": {
     "duration": 0.00558,
     "end_time": "2024-05-15T09:12:40.899593",
     "exception": false,
     "start_time": "2024-05-15T09:12:40.894013",
     "status": "completed"
    },
    "tags": []
   },
   "source": [
    "This time we are going to pull data directly from the internet.\n",
    "Special thanks to: https://github.com/justmarkham for sharing the dataset and materials.\n",
    "\n",
    "### Step 1. Import the necessary libraries"
   ]
  },
  {
   "cell_type": "code",
   "execution_count": null,
   "id": "d17342e9",
   "metadata": {
    "collapsed": false,
    "jupyter": {
     "outputs_hidden": false
    },
    "papermill": {
     "duration": 0.005634,
     "end_time": "2024-05-15T09:12:40.912288",
     "exception": false,
     "start_time": "2024-05-15T09:12:40.906654",
     "status": "completed"
    },
    "tags": []
   },
   "outputs": [],
   "source": []
  },
  {
   "cell_type": "markdown",
   "id": "ffb21a96",
   "metadata": {
    "papermill": {
     "duration": 0.005539,
     "end_time": "2024-05-15T09:12:40.924073",
     "exception": false,
     "start_time": "2024-05-15T09:12:40.918534",
     "status": "completed"
    },
    "tags": []
   },
   "source": [
    "### Step 2. Import the dataset from this [address](https://raw.githubusercontent.com/justmarkham/DAT8/master/data/chipotle.tsv). "
   ]
  },
  {
   "cell_type": "markdown",
   "id": "dc6795ea",
   "metadata": {
    "papermill": {
     "duration": 0.005766,
     "end_time": "2024-05-15T09:12:40.935908",
     "exception": false,
     "start_time": "2024-05-15T09:12:40.930142",
     "status": "completed"
    },
    "tags": []
   },
   "source": [
    "### Step 3. Assign it to a variable called chipo."
   ]
  },
  {
   "cell_type": "code",
   "execution_count": null,
   "id": "2586daac",
   "metadata": {
    "collapsed": false,
    "jupyter": {
     "outputs_hidden": false
    },
    "papermill": {
     "duration": 0.005611,
     "end_time": "2024-05-15T09:12:40.948052",
     "exception": false,
     "start_time": "2024-05-15T09:12:40.942441",
     "status": "completed"
    },
    "tags": []
   },
   "outputs": [],
   "source": []
  },
  {
   "cell_type": "markdown",
   "id": "41161e05",
   "metadata": {
    "papermill": {
     "duration": 0.005424,
     "end_time": "2024-05-15T09:12:40.959453",
     "exception": false,
     "start_time": "2024-05-15T09:12:40.954029",
     "status": "completed"
    },
    "tags": []
   },
   "source": [
    "### Step 4. How many products cost more than $10.00?"
   ]
  },
  {
   "cell_type": "code",
   "execution_count": null,
   "id": "702fe5a5",
   "metadata": {
    "collapsed": false,
    "jupyter": {
     "outputs_hidden": false
    },
    "papermill": {
     "duration": 0.005544,
     "end_time": "2024-05-15T09:12:40.970944",
     "exception": false,
     "start_time": "2024-05-15T09:12:40.965400",
     "status": "completed"
    },
    "tags": []
   },
   "outputs": [],
   "source": []
  },
  {
   "cell_type": "markdown",
   "id": "443982e4",
   "metadata": {
    "papermill": {
     "duration": 0.005386,
     "end_time": "2024-05-15T09:12:40.982308",
     "exception": false,
     "start_time": "2024-05-15T09:12:40.976922",
     "status": "completed"
    },
    "tags": []
   },
   "source": [
    "### Step 5. What is the price of each item? \n",
    "###### print a data frame with only two columns item_name and item_price"
   ]
  },
  {
   "cell_type": "code",
   "execution_count": null,
   "id": "7b94af1f",
   "metadata": {
    "collapsed": false,
    "jupyter": {
     "outputs_hidden": false
    },
    "papermill": {
     "duration": 0.005444,
     "end_time": "2024-05-15T09:12:40.993649",
     "exception": false,
     "start_time": "2024-05-15T09:12:40.988205",
     "status": "completed"
    },
    "tags": []
   },
   "outputs": [],
   "source": []
  },
  {
   "cell_type": "markdown",
   "id": "64fc58a7",
   "metadata": {
    "papermill": {
     "duration": 0.007416,
     "end_time": "2024-05-15T09:12:41.006944",
     "exception": false,
     "start_time": "2024-05-15T09:12:40.999528",
     "status": "completed"
    },
    "tags": []
   },
   "source": [
    "### Step 6. Sort by the name of the item"
   ]
  },
  {
   "cell_type": "code",
   "execution_count": null,
   "id": "0ef9a645",
   "metadata": {
    "collapsed": false,
    "jupyter": {
     "outputs_hidden": false
    },
    "papermill": {
     "duration": 0.005828,
     "end_time": "2024-05-15T09:12:41.019966",
     "exception": false,
     "start_time": "2024-05-15T09:12:41.014138",
     "status": "completed"
    },
    "tags": []
   },
   "outputs": [],
   "source": []
  },
  {
   "cell_type": "markdown",
   "id": "d5d31df7",
   "metadata": {
    "papermill": {
     "duration": 0.005486,
     "end_time": "2024-05-15T09:12:41.031483",
     "exception": false,
     "start_time": "2024-05-15T09:12:41.025997",
     "status": "completed"
    },
    "tags": []
   },
   "source": [
    "### Step 7. What was the quantity of the most expensive item ordered?"
   ]
  },
  {
   "cell_type": "code",
   "execution_count": null,
   "id": "60dd1358",
   "metadata": {
    "collapsed": false,
    "jupyter": {
     "outputs_hidden": false
    },
    "papermill": {
     "duration": 0.005424,
     "end_time": "2024-05-15T09:12:41.044265",
     "exception": false,
     "start_time": "2024-05-15T09:12:41.038841",
     "status": "completed"
    },
    "tags": []
   },
   "outputs": [],
   "source": []
  },
  {
   "cell_type": "markdown",
   "id": "ecd03800",
   "metadata": {
    "papermill": {
     "duration": 0.005485,
     "end_time": "2024-05-15T09:12:41.055618",
     "exception": false,
     "start_time": "2024-05-15T09:12:41.050133",
     "status": "completed"
    },
    "tags": []
   },
   "source": [
    "### Step 8. How many times was a Veggie Salad Bowl ordered?"
   ]
  },
  {
   "cell_type": "code",
   "execution_count": null,
   "id": "35583a10",
   "metadata": {
    "collapsed": false,
    "jupyter": {
     "outputs_hidden": false
    },
    "papermill": {
     "duration": 0.005463,
     "end_time": "2024-05-15T09:12:41.066843",
     "exception": false,
     "start_time": "2024-05-15T09:12:41.061380",
     "status": "completed"
    },
    "tags": []
   },
   "outputs": [],
   "source": []
  },
  {
   "cell_type": "markdown",
   "id": "601884d9",
   "metadata": {
    "papermill": {
     "duration": 0.005423,
     "end_time": "2024-05-15T09:12:41.078246",
     "exception": false,
     "start_time": "2024-05-15T09:12:41.072823",
     "status": "completed"
    },
    "tags": []
   },
   "source": [
    "### Step 9. How many times did someone order more than one Canned Soda?"
   ]
  },
  {
   "cell_type": "code",
   "execution_count": null,
   "id": "07431d32",
   "metadata": {
    "collapsed": false,
    "jupyter": {
     "outputs_hidden": false
    },
    "papermill": {
     "duration": 0.005517,
     "end_time": "2024-05-15T09:12:41.089579",
     "exception": false,
     "start_time": "2024-05-15T09:12:41.084062",
     "status": "completed"
    },
    "tags": []
   },
   "outputs": [],
   "source": []
  }
 ],
 "metadata": {
  "kaggle": {
   "accelerator": "none",
   "dataSources": [
    {
     "datasetId": 5011184,
     "sourceId": 8418200,
     "sourceType": "datasetVersion"
    }
   ],
   "isGpuEnabled": false,
   "isInternetEnabled": true,
   "language": "python",
   "sourceType": "notebook"
  },
  "kernelspec": {
   "display_name": "Python 3",
   "language": "python",
   "name": "python3"
  },
  "language_info": {
   "codemirror_mode": {
    "name": "ipython",
    "version": 3
   },
   "file_extension": ".py",
   "mimetype": "text/x-python",
   "name": "python",
   "nbconvert_exporter": "python",
   "pygments_lexer": "ipython3",
   "version": "3.10.13"
  },
  "papermill": {
   "default_parameters": {},
   "duration": 4.045509,
   "end_time": "2024-05-15T09:12:41.618629",
   "environment_variables": {},
   "exception": null,
   "input_path": "__notebook__.ipynb",
   "output_path": "__notebook__.ipynb",
   "parameters": {},
   "start_time": "2024-05-15T09:12:37.573120",
   "version": "2.5.0"
  }
 },
 "nbformat": 4,
 "nbformat_minor": 5
}
