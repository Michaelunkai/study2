{
 "cells": [
  {
   "cell_type": "markdown",
   "id": "cc5ef868",
   "metadata": {
    "papermill": {
     "duration": 0.009821,
     "end_time": "2024-05-15T09:15:07.111768",
     "exception": false,
     "start_time": "2024-05-15T09:15:07.101947",
     "status": "completed"
    },
    "tags": []
   },
   "source": [
    "# Ex2 - Filtering and Sorting Data"
   ]
  },
  {
   "cell_type": "markdown",
   "id": "9951ad31",
   "metadata": {
    "papermill": {
     "duration": 0.00796,
     "end_time": "2024-05-15T09:15:07.128276",
     "exception": false,
     "start_time": "2024-05-15T09:15:07.120316",
     "status": "completed"
    },
    "tags": []
   },
   "source": [
    "This time we are going to pull data directly from the internet.\n",
    "\n",
    "### Step 1. Import the necessary libraries"
   ]
  },
  {
   "cell_type": "code",
   "execution_count": null,
   "id": "3ea21caf",
   "metadata": {
    "collapsed": false,
    "jupyter": {
     "outputs_hidden": false
    },
    "papermill": {
     "duration": 0.008174,
     "end_time": "2024-05-15T09:15:07.144927",
     "exception": false,
     "start_time": "2024-05-15T09:15:07.136753",
     "status": "completed"
    },
    "tags": []
   },
   "outputs": [],
   "source": []
  },
  {
   "cell_type": "markdown",
   "id": "528d2f19",
   "metadata": {
    "papermill": {
     "duration": 0.007823,
     "end_time": "2024-05-15T09:15:07.161183",
     "exception": false,
     "start_time": "2024-05-15T09:15:07.153360",
     "status": "completed"
    },
    "tags": []
   },
   "source": [
    "### Step 2. Import the dataset from this [address](https://raw.githubusercontent.com/guipsamora/pandas_exercises/master/02_Filtering_%26_Sorting/Euro12/Euro_2012_stats_TEAM.csv). "
   ]
  },
  {
   "cell_type": "code",
   "execution_count": null,
   "id": "65bd8dc0",
   "metadata": {
    "papermill": {
     "duration": 0.007896,
     "end_time": "2024-05-15T09:15:07.177260",
     "exception": false,
     "start_time": "2024-05-15T09:15:07.169364",
     "status": "completed"
    },
    "tags": []
   },
   "outputs": [],
   "source": []
  },
  {
   "cell_type": "markdown",
   "id": "6ed7ae13",
   "metadata": {
    "papermill": {
     "duration": 0.007906,
     "end_time": "2024-05-15T09:15:07.193369",
     "exception": false,
     "start_time": "2024-05-15T09:15:07.185463",
     "status": "completed"
    },
    "tags": []
   },
   "source": [
    "### Step 3. Assign it to a variable called euro12."
   ]
  },
  {
   "cell_type": "code",
   "execution_count": null,
   "id": "1222eb93",
   "metadata": {
    "collapsed": false,
    "jupyter": {
     "outputs_hidden": false
    },
    "papermill": {
     "duration": 0.007978,
     "end_time": "2024-05-15T09:15:07.210414",
     "exception": false,
     "start_time": "2024-05-15T09:15:07.202436",
     "status": "completed"
    },
    "tags": []
   },
   "outputs": [],
   "source": []
  },
  {
   "cell_type": "markdown",
   "id": "d61562a9",
   "metadata": {
    "papermill": {
     "duration": 0.00963,
     "end_time": "2024-05-15T09:15:07.228662",
     "exception": false,
     "start_time": "2024-05-15T09:15:07.219032",
     "status": "completed"
    },
    "tags": []
   },
   "source": [
    "### Step 4. Select only the Goal column."
   ]
  },
  {
   "cell_type": "code",
   "execution_count": null,
   "id": "f96115ca",
   "metadata": {
    "collapsed": false,
    "jupyter": {
     "outputs_hidden": false
    },
    "papermill": {
     "duration": 0.007849,
     "end_time": "2024-05-15T09:15:07.245009",
     "exception": false,
     "start_time": "2024-05-15T09:15:07.237160",
     "status": "completed"
    },
    "tags": []
   },
   "outputs": [],
   "source": []
  },
  {
   "cell_type": "markdown",
   "id": "3dbc5d82",
   "metadata": {
    "papermill": {
     "duration": 0.007979,
     "end_time": "2024-05-15T09:15:07.262655",
     "exception": false,
     "start_time": "2024-05-15T09:15:07.254676",
     "status": "completed"
    },
    "tags": []
   },
   "source": [
    "### Step 5. How many team participated in the Euro2012?"
   ]
  },
  {
   "cell_type": "code",
   "execution_count": null,
   "id": "0a2738e1",
   "metadata": {
    "collapsed": false,
    "jupyter": {
     "outputs_hidden": false
    },
    "papermill": {
     "duration": 0.007758,
     "end_time": "2024-05-15T09:15:07.278666",
     "exception": false,
     "start_time": "2024-05-15T09:15:07.270908",
     "status": "completed"
    },
    "tags": []
   },
   "outputs": [],
   "source": []
  },
  {
   "cell_type": "markdown",
   "id": "0600f651",
   "metadata": {
    "papermill": {
     "duration": 0.007736,
     "end_time": "2024-05-15T09:15:07.294739",
     "exception": false,
     "start_time": "2024-05-15T09:15:07.287003",
     "status": "completed"
    },
    "tags": []
   },
   "source": [
    "### Step 6. What is the number of columns in the dataset?"
   ]
  },
  {
   "cell_type": "code",
   "execution_count": null,
   "id": "12e0a6bc",
   "metadata": {
    "collapsed": false,
    "jupyter": {
     "outputs_hidden": false
    },
    "papermill": {
     "duration": 0.007777,
     "end_time": "2024-05-15T09:15:07.310770",
     "exception": false,
     "start_time": "2024-05-15T09:15:07.302993",
     "status": "completed"
    },
    "tags": []
   },
   "outputs": [],
   "source": []
  },
  {
   "cell_type": "markdown",
   "id": "45797d8e",
   "metadata": {
    "papermill": {
     "duration": 0.008137,
     "end_time": "2024-05-15T09:15:07.327244",
     "exception": false,
     "start_time": "2024-05-15T09:15:07.319107",
     "status": "completed"
    },
    "tags": []
   },
   "source": [
    "### Step 7. View only the columns Team, Yellow Cards and Red Cards and assign them to a dataframe called discipline"
   ]
  },
  {
   "cell_type": "code",
   "execution_count": null,
   "id": "dfb9009b",
   "metadata": {
    "collapsed": false,
    "jupyter": {
     "outputs_hidden": false
    },
    "papermill": {
     "duration": 0.008207,
     "end_time": "2024-05-15T09:15:07.343594",
     "exception": false,
     "start_time": "2024-05-15T09:15:07.335387",
     "status": "completed"
    },
    "tags": []
   },
   "outputs": [],
   "source": []
  },
  {
   "cell_type": "markdown",
   "id": "8cc38177",
   "metadata": {
    "papermill": {
     "duration": 0.007818,
     "end_time": "2024-05-15T09:15:07.360848",
     "exception": false,
     "start_time": "2024-05-15T09:15:07.353030",
     "status": "completed"
    },
    "tags": []
   },
   "source": [
    "### Step 8. Sort the teams by Red Cards, then to Yellow Cards"
   ]
  },
  {
   "cell_type": "code",
   "execution_count": null,
   "id": "c7225ecb",
   "metadata": {
    "collapsed": false,
    "jupyter": {
     "outputs_hidden": false
    },
    "papermill": {
     "duration": 0.007806,
     "end_time": "2024-05-15T09:15:07.376940",
     "exception": false,
     "start_time": "2024-05-15T09:15:07.369134",
     "status": "completed"
    },
    "scrolled": true,
    "tags": []
   },
   "outputs": [],
   "source": []
  },
  {
   "cell_type": "markdown",
   "id": "74625b43",
   "metadata": {
    "papermill": {
     "duration": 0.007925,
     "end_time": "2024-05-15T09:15:07.393820",
     "exception": false,
     "start_time": "2024-05-15T09:15:07.385895",
     "status": "completed"
    },
    "tags": []
   },
   "source": [
    "### Step 9. Calculate the mean Yellow Cards given per Team"
   ]
  },
  {
   "cell_type": "code",
   "execution_count": null,
   "id": "b0d23d42",
   "metadata": {
    "collapsed": false,
    "jupyter": {
     "outputs_hidden": false
    },
    "papermill": {
     "duration": 0.007807,
     "end_time": "2024-05-15T09:15:07.409936",
     "exception": false,
     "start_time": "2024-05-15T09:15:07.402129",
     "status": "completed"
    },
    "tags": []
   },
   "outputs": [],
   "source": []
  },
  {
   "cell_type": "markdown",
   "id": "67791dc7",
   "metadata": {
    "papermill": {
     "duration": 0.007876,
     "end_time": "2024-05-15T09:15:07.426213",
     "exception": false,
     "start_time": "2024-05-15T09:15:07.418337",
     "status": "completed"
    },
    "tags": []
   },
   "source": [
    "### Step 10. Filter teams that scored more than 6 goals"
   ]
  },
  {
   "cell_type": "code",
   "execution_count": null,
   "id": "f9ea67a8",
   "metadata": {
    "collapsed": false,
    "jupyter": {
     "outputs_hidden": false
    },
    "papermill": {
     "duration": 0.008187,
     "end_time": "2024-05-15T09:15:07.442610",
     "exception": false,
     "start_time": "2024-05-15T09:15:07.434423",
     "status": "completed"
    },
    "tags": []
   },
   "outputs": [],
   "source": []
  },
  {
   "cell_type": "markdown",
   "id": "6c2cda8a",
   "metadata": {
    "papermill": {
     "duration": 0.008583,
     "end_time": "2024-05-15T09:15:07.459567",
     "exception": false,
     "start_time": "2024-05-15T09:15:07.450984",
     "status": "completed"
    },
    "tags": []
   },
   "source": [
    "### Step 11. Select the teams that start with G"
   ]
  },
  {
   "cell_type": "code",
   "execution_count": null,
   "id": "527d7f0e",
   "metadata": {
    "collapsed": false,
    "jupyter": {
     "outputs_hidden": false
    },
    "papermill": {
     "duration": 0.008338,
     "end_time": "2024-05-15T09:15:07.476231",
     "exception": false,
     "start_time": "2024-05-15T09:15:07.467893",
     "status": "completed"
    },
    "tags": []
   },
   "outputs": [],
   "source": []
  },
  {
   "cell_type": "markdown",
   "id": "8384ce3a",
   "metadata": {
    "papermill": {
     "duration": 0.007928,
     "end_time": "2024-05-15T09:15:07.492947",
     "exception": false,
     "start_time": "2024-05-15T09:15:07.485019",
     "status": "completed"
    },
    "tags": []
   },
   "source": [
    "### Step 12. Select the first 7 columns"
   ]
  },
  {
   "cell_type": "code",
   "execution_count": null,
   "id": "b9cfc765",
   "metadata": {
    "collapsed": false,
    "jupyter": {
     "outputs_hidden": false
    },
    "papermill": {
     "duration": 0.008017,
     "end_time": "2024-05-15T09:15:07.509348",
     "exception": false,
     "start_time": "2024-05-15T09:15:07.501331",
     "status": "completed"
    },
    "tags": []
   },
   "outputs": [],
   "source": []
  },
  {
   "cell_type": "markdown",
   "id": "ff29fac4",
   "metadata": {
    "papermill": {
     "duration": 0.008181,
     "end_time": "2024-05-15T09:15:07.525953",
     "exception": false,
     "start_time": "2024-05-15T09:15:07.517772",
     "status": "completed"
    },
    "tags": []
   },
   "source": [
    "### Step 13. Select all columns except the last 3."
   ]
  },
  {
   "cell_type": "code",
   "execution_count": null,
   "id": "3941da54",
   "metadata": {
    "collapsed": false,
    "jupyter": {
     "outputs_hidden": false
    },
    "papermill": {
     "duration": 0.007946,
     "end_time": "2024-05-15T09:15:07.542462",
     "exception": false,
     "start_time": "2024-05-15T09:15:07.534516",
     "status": "completed"
    },
    "tags": []
   },
   "outputs": [],
   "source": []
  },
  {
   "cell_type": "markdown",
   "id": "061f9a35",
   "metadata": {
    "papermill": {
     "duration": 0.007887,
     "end_time": "2024-05-15T09:15:07.558770",
     "exception": false,
     "start_time": "2024-05-15T09:15:07.550883",
     "status": "completed"
    },
    "tags": []
   },
   "source": [
    "### Step 14. Present only the Shooting Accuracy from England, Italy and Russia"
   ]
  },
  {
   "cell_type": "code",
   "execution_count": null,
   "id": "22eb31e1",
   "metadata": {
    "collapsed": false,
    "jupyter": {
     "outputs_hidden": false
    },
    "papermill": {
     "duration": 0.008528,
     "end_time": "2024-05-15T09:15:07.575585",
     "exception": false,
     "start_time": "2024-05-15T09:15:07.567057",
     "status": "completed"
    },
    "tags": []
   },
   "outputs": [],
   "source": []
  }
 ],
 "metadata": {
  "kaggle": {
   "accelerator": "none",
   "dataSources": [
    {
     "datasetId": 5011184,
     "sourceId": 8418200,
     "sourceType": "datasetVersion"
    }
   ],
   "isGpuEnabled": false,
   "isInternetEnabled": true,
   "language": "python",
   "sourceType": "notebook"
  },
  "kernelspec": {
   "display_name": "Python 3",
   "language": "python",
   "name": "python3"
  },
  "language_info": {
   "codemirror_mode": {
    "name": "ipython",
    "version": 3
   },
   "file_extension": ".py",
   "mimetype": "text/x-python",
   "name": "python",
   "nbconvert_exporter": "python",
   "pygments_lexer": "ipython3",
   "version": "3.10.13"
  },
  "papermill": {
   "default_parameters": {},
   "duration": 4.29839,
   "end_time": "2024-05-15T09:15:08.108497",
   "environment_variables": {},
   "exception": null,
   "input_path": "__notebook__.ipynb",
   "output_path": "__notebook__.ipynb",
   "parameters": {},
   "start_time": "2024-05-15T09:15:03.810107",
   "version": "2.5.0"
  }
 },
 "nbformat": 4,
 "nbformat_minor": 5
}
